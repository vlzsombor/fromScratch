{
 "cells": [
  {
   "cell_type": "markdown",
   "metadata": {},
   "source": [
    "breas-cancer.csv load\n",
    "\n",
    "histogram of diagnosis\n",
    "\n",
    "histogram of area mean, color diagnosis\n",
    "histogram of radius mean, color diagnosis\n",
    "histogram of perimeter mean, color diagnosis\n",
    "histogram of perimeter smoothness, color diagnosis\n",
    "….\n",
    "\n",
    "scatter plot of symmetry worst, color diagnosis\n",
    "\n",
    "\n",
    "\n",
    "drop id column\n",
    "\n",
    "set diagnosis as 0/1\n",
    "\n",
    "show correlation\n",
    "\n",
    "if correlation is greater than 0.2 then collect the feature, remove diagnosis\n",
    "\n",
    "X = correlatins >0.2\n",
    "Y = diagnosis\n",
    "\n",
    "\n",
    "trains test split,0.2, (random state 42)\n",
    "\n",
    "fit\n",
    "\n",
    "Evaulation.\n",
    "\n",
    "1. Accuracy\n",
    "2. Precision\n",
    "3. Recall\n",
    "4. F1\n",
    "\n",
    "\n",
    "\n",
    "Tip: search extra example data online, do one more"
   ]
  },
  {
   "cell_type": "code",
   "execution_count": 1,
   "metadata": {},
   "outputs": [
    {
     "name": "stdout",
     "output_type": "stream",
     "text": [
      "hello\n"
     ]
    }
   ],
   "source": [
    "print(\"hello\")"
   ]
  },
  {
   "cell_type": "code",
   "execution_count": null,
   "metadata": {},
   "outputs": [],
   "source": []
  }
 ],
 "metadata": {
  "kernelspec": {
   "display_name": "Python 3",
   "language": "python",
   "name": "python3"
  },
  "language_info": {
   "codemirror_mode": {
    "name": "ipython",
    "version": 3
   },
   "file_extension": ".py",
   "mimetype": "text/x-python",
   "name": "python",
   "nbconvert_exporter": "python",
   "pygments_lexer": "ipython3",
   "version": "3.11.11"
  }
 },
 "nbformat": 4,
 "nbformat_minor": 2
}
