{
 "cells": [
  {
   "cell_type": "markdown",
   "metadata": {},
   "source": [
    "### This is a Starter Notebook for Stock Price Prediction using Linear Regression\n",
    "\n"
   ]
  },
  {
   "cell_type": "markdown",
   "metadata": {},
   "source": [
    "### About the Dataset - \n",
    "The dataset has around 60 features which includes features extracted from OHLC, other index prices such as QQQ(Nasdaq-100 ETF) & S&P 500, technical Indicators such as Bollinger bands, EMA(Exponential Moving Averages, Stocastic %K oscillator, RSI etc)\n",
    "\n",
    "Furthermore, I have created lagged features from previous day price data as we know previous day prices affect the future stock price. \n",
    "\n",
    "Then, the data has date features which specifies, if its a leap year, if its month start or end, Quarter start or end, etc. \n",
    "\n",
    "\n",
    "All of these features have something to offer for forcasting. Some tells us about the trend, some gives us a signal if the stock is overbought or oversold, some portrays the strength of the price trend.\n"
   ]
  },
  {
   "cell_type": "markdown",
   "metadata": {},
   "source": [
    "\n",
    "In this notebook, I will analyse the data and create a basic Linear regression model to forecast Stock Prices. \n",
    "In future notebooks, I will use other algorithms like Random Forest, XGBoost and LSTM for this task. \n"
   ]
  },
  {
   "cell_type": "markdown",
   "metadata": {},
   "source": [
    "I will also create a Notebook explaining how I have extracted this data using only OHLC(Open High Low Close) data."
   ]
  },
  {
   "cell_type": "code",
   "execution_count": 3,
   "metadata": {
    "_cell_guid": "b1076dfc-b9ad-4769-8c92-a6c4dae69d19",
    "_uuid": "8f2839f25d086af736a60e9eeb907d3b93b6e0e5",
    "trusted": true
   },
   "outputs": [],
   "source": [
    "import pandas as pd\n",
    "import matplotlib.pyplot as plt\n",
    "from pylab import rcParams\n",
    "import numpy as np\n",
    "import seaborn as sns\n",
    "import os\n",
    "\n",
    "from sklearn.ensemble import RandomForestRegressor\n",
    "from sklearn.model_selection import cross_val_score, train_test_split, GridSearchCV\n",
    "from sklearn.feature_selection import RFECV, SelectFromModel, SelectKBest\n",
    "from sklearn.preprocessing import StandardScaler\n",
    "from sklearn import metrics\n",
    "%matplotlib inline\n"
   ]
  },
  {
   "cell_type": "markdown",
   "metadata": {},
   "source": [
    "### Load the data\n",
    "\n",
    "I will use the Apple Stock Data for this notebook"
   ]
  },
  {
   "cell_type": "code",
   "execution_count": 4,
   "metadata": {
    "trusted": true
   },
   "outputs": [
    {
     "data": {
      "application/vnd.microsoft.datawrangler.viewer.v0+json": {
       "columns": [
        {
         "name": "Date",
         "rawType": "object",
         "type": "string"
        },
        {
         "name": "Open",
         "rawType": "float64",
         "type": "float"
        },
        {
         "name": "High",
         "rawType": "float64",
         "type": "float"
        },
        {
         "name": "Low",
         "rawType": "float64",
         "type": "float"
        },
        {
         "name": "Close",
         "rawType": "float64",
         "type": "float"
        },
        {
         "name": "Volume",
         "rawType": "int64",
         "type": "integer"
        },
        {
         "name": "SD20",
         "rawType": "float64",
         "type": "float"
        },
        {
         "name": "Upper_Band",
         "rawType": "float64",
         "type": "float"
        },
        {
         "name": "Lower_Band",
         "rawType": "float64",
         "type": "float"
        },
        {
         "name": "S_Close(t-1)",
         "rawType": "float64",
         "type": "float"
        },
        {
         "name": "S_Close(t-2)",
         "rawType": "float64",
         "type": "float"
        },
        {
         "name": "S_Close(t-3)",
         "rawType": "float64",
         "type": "float"
        },
        {
         "name": "S_Close(t-5)",
         "rawType": "float64",
         "type": "float"
        },
        {
         "name": "S_Open(t-1)",
         "rawType": "float64",
         "type": "float"
        },
        {
         "name": "MA5",
         "rawType": "float64",
         "type": "float"
        },
        {
         "name": "MA10",
         "rawType": "float64",
         "type": "float"
        },
        {
         "name": "MA20",
         "rawType": "float64",
         "type": "float"
        },
        {
         "name": "MA50",
         "rawType": "float64",
         "type": "float"
        },
        {
         "name": "MA200",
         "rawType": "float64",
         "type": "float"
        },
        {
         "name": "EMA10",
         "rawType": "float64",
         "type": "float"
        },
        {
         "name": "EMA20",
         "rawType": "float64",
         "type": "float"
        },
        {
         "name": "EMA50",
         "rawType": "float64",
         "type": "float"
        },
        {
         "name": "EMA100",
         "rawType": "float64",
         "type": "float"
        },
        {
         "name": "EMA200",
         "rawType": "float64",
         "type": "float"
        },
        {
         "name": "MACD",
         "rawType": "float64",
         "type": "float"
        },
        {
         "name": "MACD_EMA",
         "rawType": "float64",
         "type": "float"
        },
        {
         "name": "ATR",
         "rawType": "float64",
         "type": "float"
        },
        {
         "name": "ADX",
         "rawType": "float64",
         "type": "float"
        },
        {
         "name": "CCI",
         "rawType": "float64",
         "type": "float"
        },
        {
         "name": "ROC",
         "rawType": "float64",
         "type": "float"
        },
        {
         "name": "RSI",
         "rawType": "float64",
         "type": "float"
        },
        {
         "name": "William%R",
         "rawType": "float64",
         "type": "float"
        },
        {
         "name": "SO%K",
         "rawType": "float64",
         "type": "float"
        },
        {
         "name": "STD5",
         "rawType": "float64",
         "type": "float"
        },
        {
         "name": "ForceIndex1",
         "rawType": "float64",
         "type": "float"
        },
        {
         "name": "ForceIndex20",
         "rawType": "float64",
         "type": "float"
        },
        {
         "name": "Date_col",
         "rawType": "object",
         "type": "string"
        },
        {
         "name": "Day",
         "rawType": "int64",
         "type": "integer"
        },
        {
         "name": "DayofWeek",
         "rawType": "int64",
         "type": "integer"
        },
        {
         "name": "DayofYear",
         "rawType": "int64",
         "type": "integer"
        },
        {
         "name": "Week",
         "rawType": "int64",
         "type": "integer"
        },
        {
         "name": "Is_month_end",
         "rawType": "int64",
         "type": "integer"
        },
        {
         "name": "Is_month_start",
         "rawType": "int64",
         "type": "integer"
        },
        {
         "name": "Is_quarter_end",
         "rawType": "int64",
         "type": "integer"
        },
        {
         "name": "Is_quarter_start",
         "rawType": "int64",
         "type": "integer"
        },
        {
         "name": "Is_year_end",
         "rawType": "int64",
         "type": "integer"
        },
        {
         "name": "Is_year_start",
         "rawType": "int64",
         "type": "integer"
        },
        {
         "name": "Is_leap_year",
         "rawType": "int64",
         "type": "integer"
        },
        {
         "name": "Year",
         "rawType": "int64",
         "type": "integer"
        },
        {
         "name": "Month",
         "rawType": "int64",
         "type": "integer"
        },
        {
         "name": "QQQ_Close",
         "rawType": "float64",
         "type": "float"
        },
        {
         "name": "QQQ(t-1)",
         "rawType": "float64",
         "type": "float"
        },
        {
         "name": "QQQ(t-2)",
         "rawType": "float64",
         "type": "float"
        },
        {
         "name": "QQQ(t-5)",
         "rawType": "float64",
         "type": "float"
        },
        {
         "name": "QQQ_MA10",
         "rawType": "float64",
         "type": "float"
        },
        {
         "name": "QQQ_MA20",
         "rawType": "float64",
         "type": "float"
        },
        {
         "name": "QQQ_MA50",
         "rawType": "float64",
         "type": "float"
        },
        {
         "name": "SnP_Close",
         "rawType": "float64",
         "type": "float"
        },
        {
         "name": "SnP(t-1))",
         "rawType": "float64",
         "type": "float"
        },
        {
         "name": "SnP(t-5)",
         "rawType": "float64",
         "type": "float"
        },
        {
         "name": "DJIA_Close",
         "rawType": "float64",
         "type": "float"
        },
        {
         "name": "DJIA(t-1))",
         "rawType": "float64",
         "type": "float"
        },
        {
         "name": "DJIA(t-5)",
         "rawType": "float64",
         "type": "float"
        },
        {
         "name": "Close_forcast",
         "rawType": "float64",
         "type": "float"
        }
       ],
       "conversionMethod": "pd.DataFrame",
       "ref": "88fb639d-ce5c-4646-bb55-43b5ee00830a",
       "rows": [
        [
         "2005-10-17",
         "6.66",
         "6.69",
         "6.5",
         "6.6",
         "154208600",
         "0.1692366763783311",
         "6.827473352756664",
         "6.150526647243339",
         "6.67",
         "6.63",
         "6.08",
         "6.22",
         "6.67",
         "6.4699999999999935",
         "6.444000000000001",
         "6.489000000000002",
         "6.097800000000001",
         "5.147099999999999",
         "6.52367482478695",
         "6.52367482478695",
         "6.52367482478695",
         "6.52367482478695",
         "6.52367482478695",
         "0.10802352583163",
         "0.126359744676072",
         "0.2268433485503184",
         "25.267369611069203",
         "1333.3333333333333",
         "-1.7857142857142874",
         "56.769237682369976",
         "-25.00000000000005",
         "74.99999999999996",
         "0.0503723152504512",
         "-10794602.000000045",
         "15420859.999999946",
         "2005-10-17",
         "17",
         "0",
         "290",
         "42",
         "0",
         "0",
         "0",
         "0",
         "0",
         "0",
         "0",
         "2005",
         "10",
         "33.65",
         "33.55",
         "33.3",
         "33.61",
         "33.69200000000002",
         "33.99699999999998",
         "34.269",
         "1190.1",
         "1186.57",
         "1187.33",
         "10348.1",
         "10287.34",
         "10238.76",
         "6.45"
        ],
        [
         "2005-10-18",
         "6.57",
         "6.66",
         "6.44",
         "6.45",
         "152397000",
         "0.1683386311481922",
         "6.819677262296386",
         "6.146322737703617",
         "6.6",
         "6.67",
         "6.63",
         "6.37",
         "6.66",
         "6.485999999999994",
         "6.425000000000002",
         "6.483000000000001",
         "6.121400000000001",
         "5.159799999999999",
         "6.499116549857966",
         "6.499116549857966",
         "6.499116549857966",
         "6.499116549857966",
         "6.499116549857966",
         "0.0984003470308634",
         "0.1207678651470303",
         "0.2263545379395814",
         "23.87300610927893",
         "1333.3333333333333",
         "-2.861445783132522",
         "52.46822000243356",
         "-41.304347826086946",
         "58.69565217391305",
         "0.0520955855549965",
         "-22859549.99999992",
         "-18287640.000000015",
         "2005-10-18",
         "18",
         "1",
         "291",
         "42",
         "0",
         "0",
         "0",
         "0",
         "0",
         "0",
         "0",
         "2005",
         "10",
         "33.42",
         "33.65",
         "33.55",
         "33.44",
         "33.57000000000002",
         "33.95249999999997",
         "34.2466",
         "1178.14",
         "1190.1",
         "1184.87",
         "10285.26",
         "10348.1",
         "10253.17",
         "6.78"
        ],
        [
         "2005-10-19",
         "6.43",
         "6.78",
         "6.32",
         "6.78",
         "252170800",
         "0.1803060264048317",
         "6.8611120528096645",
         "6.139887947190337",
         "6.45",
         "6.6",
         "6.67",
         "6.08",
         "6.57",
         "6.625999999999995",
         "6.451000000000002",
         "6.500500000000001",
         "6.1488",
         "5.173949999999999",
         "6.592744366571978",
         "6.592744366571978",
         "6.592744366571978",
         "6.592744366571978",
         "6.592744366571978",
         "0.1160642343290572",
         "0.1198271389834357",
         "0.2430434995153256",
         "22.57824000047367",
         "1333.3333333333333",
         "3.987730061349703",
         "59.70177018665224",
         "-5.434782608695633",
         "94.56521739130436",
         "0.0470232821247554",
         "83216364.00000001",
         "88259780.00000013",
         "2005-10-19",
         "19",
         "2",
         "292",
         "42",
         "0",
         "0",
         "0",
         "0",
         "0",
         "0",
         "0",
         "2005",
         "10",
         "34.09",
         "33.42",
         "33.65",
         "33.05",
         "33.56200000000002",
         "33.95999999999998",
         "34.233",
         "1195.76",
         "1178.14",
         "1177.68",
         "10414.13",
         "10285.26",
         "10216.91",
         "6.93"
        ],
        [
         "2005-10-20",
         "6.72",
         "6.97",
         "6.71",
         "6.93",
         "339440500",
         "0.2026735773290975",
         "6.931847154658197",
         "6.121152845341806",
         "6.78",
         "6.45",
         "6.6",
         "6.63",
         "6.43",
         "6.685999999999995",
         "6.506000000000003",
         "6.526500000000001",
         "6.1802",
         "5.188699999999999",
         "6.705162911047985",
         "6.705162911047985",
         "6.705162911047985",
         "6.705162911047985",
         "6.705162911047985",
         "0.1405466048979651",
         "0.1239710321663416",
         "0.2442546781213737",
         "22.19012955138239",
         "1333.3333333333337",
         "8.620689655172411",
         "62.4956700345024",
         "-3.773584905660382",
         "96.2264150943396",
         "0.0289186949800391",
         "50916074.99999982",
         "176509059.99999985",
         "2005-10-20",
         "20",
         "3",
         "293",
         "42",
         "0",
         "0",
         "0",
         "0",
         "0",
         "0",
         "0",
         "2005",
         "10",
         "33.77",
         "34.09",
         "33.42",
         "33.3",
         "33.56700000000002",
         "33.94549999999998",
         "34.218999999999994",
         "1177.8",
         "1195.76",
         "1176.84",
         "10281.1",
         "10414.13",
         "10216.59",
         "6.87"
        ],
        [
         "2005-10-21",
         "7.02",
         "7.03",
         "6.83",
         "6.87",
         "199181500",
         "0.2166800940508843",
         "6.97486018810177",
         "6.1081398118982335",
         "6.93",
         "6.78",
         "6.45",
         "6.67",
         "6.72",
         "6.725999999999994",
         "6.560000000000004",
         "6.541500000000002",
         "6.209",
         "5.203149999999998",
         "6.760108607365324",
         "6.760108607365324",
         "6.760108607365324",
         "6.760108607365324",
         "6.760108607365324",
         "0.1533399538633721",
         "0.1298448165057477",
         "0.2410936296841327",
         "22.06352634245456",
         "1333.3333333333333",
         "8.530805687203792",
         "60.68333299818895",
         "-14.285714285714295",
         "85.7142857142857",
         "0.0300476794536883",
         "-11950889.999999922",
         "59754449.99999996",
         "2005-10-21",
         "21",
         "4",
         "294",
         "42",
         "0",
         "0",
         "0",
         "0",
         "0",
         "0",
         "0",
         "2005",
         "10",
         "33.98",
         "33.77",
         "34.09",
         "33.55",
         "33.58600000000002",
         "33.93649999999998",
         "34.203399999999995",
         "1179.59",
         "1177.8",
         "1186.57",
         "10215.22",
         "10281.1",
         "10287.34",
         "7.01"
        ]
       ],
       "shape": {
        "columns": 63,
        "rows": 5
       }
      },
      "text/html": [
       "<div>\n",
       "<style scoped>\n",
       "    .dataframe tbody tr th:only-of-type {\n",
       "        vertical-align: middle;\n",
       "    }\n",
       "\n",
       "    .dataframe tbody tr th {\n",
       "        vertical-align: top;\n",
       "    }\n",
       "\n",
       "    .dataframe thead th {\n",
       "        text-align: right;\n",
       "    }\n",
       "</style>\n",
       "<table border=\"1\" class=\"dataframe\">\n",
       "  <thead>\n",
       "    <tr style=\"text-align: right;\">\n",
       "      <th></th>\n",
       "      <th>Open</th>\n",
       "      <th>High</th>\n",
       "      <th>Low</th>\n",
       "      <th>Close</th>\n",
       "      <th>Volume</th>\n",
       "      <th>SD20</th>\n",
       "      <th>Upper_Band</th>\n",
       "      <th>Lower_Band</th>\n",
       "      <th>S_Close(t-1)</th>\n",
       "      <th>S_Close(t-2)</th>\n",
       "      <th>...</th>\n",
       "      <th>QQQ_MA10</th>\n",
       "      <th>QQQ_MA20</th>\n",
       "      <th>QQQ_MA50</th>\n",
       "      <th>SnP_Close</th>\n",
       "      <th>SnP(t-1))</th>\n",
       "      <th>SnP(t-5)</th>\n",
       "      <th>DJIA_Close</th>\n",
       "      <th>DJIA(t-1))</th>\n",
       "      <th>DJIA(t-5)</th>\n",
       "      <th>Close_forcast</th>\n",
       "    </tr>\n",
       "    <tr>\n",
       "      <th>Date</th>\n",
       "      <th></th>\n",
       "      <th></th>\n",
       "      <th></th>\n",
       "      <th></th>\n",
       "      <th></th>\n",
       "      <th></th>\n",
       "      <th></th>\n",
       "      <th></th>\n",
       "      <th></th>\n",
       "      <th></th>\n",
       "      <th></th>\n",
       "      <th></th>\n",
       "      <th></th>\n",
       "      <th></th>\n",
       "      <th></th>\n",
       "      <th></th>\n",
       "      <th></th>\n",
       "      <th></th>\n",
       "      <th></th>\n",
       "      <th></th>\n",
       "      <th></th>\n",
       "    </tr>\n",
       "  </thead>\n",
       "  <tbody>\n",
       "    <tr>\n",
       "      <th>2005-10-17</th>\n",
       "      <td>6.66</td>\n",
       "      <td>6.69</td>\n",
       "      <td>6.50</td>\n",
       "      <td>6.60</td>\n",
       "      <td>154208600</td>\n",
       "      <td>0.169237</td>\n",
       "      <td>6.827473</td>\n",
       "      <td>6.150527</td>\n",
       "      <td>6.67</td>\n",
       "      <td>6.63</td>\n",
       "      <td>...</td>\n",
       "      <td>33.692</td>\n",
       "      <td>33.9970</td>\n",
       "      <td>34.2690</td>\n",
       "      <td>1190.10</td>\n",
       "      <td>1186.57</td>\n",
       "      <td>1187.33</td>\n",
       "      <td>10348.10</td>\n",
       "      <td>10287.34</td>\n",
       "      <td>10238.76</td>\n",
       "      <td>6.45</td>\n",
       "    </tr>\n",
       "    <tr>\n",
       "      <th>2005-10-18</th>\n",
       "      <td>6.57</td>\n",
       "      <td>6.66</td>\n",
       "      <td>6.44</td>\n",
       "      <td>6.45</td>\n",
       "      <td>152397000</td>\n",
       "      <td>0.168339</td>\n",
       "      <td>6.819677</td>\n",
       "      <td>6.146323</td>\n",
       "      <td>6.60</td>\n",
       "      <td>6.67</td>\n",
       "      <td>...</td>\n",
       "      <td>33.570</td>\n",
       "      <td>33.9525</td>\n",
       "      <td>34.2466</td>\n",
       "      <td>1178.14</td>\n",
       "      <td>1190.10</td>\n",
       "      <td>1184.87</td>\n",
       "      <td>10285.26</td>\n",
       "      <td>10348.10</td>\n",
       "      <td>10253.17</td>\n",
       "      <td>6.78</td>\n",
       "    </tr>\n",
       "    <tr>\n",
       "      <th>2005-10-19</th>\n",
       "      <td>6.43</td>\n",
       "      <td>6.78</td>\n",
       "      <td>6.32</td>\n",
       "      <td>6.78</td>\n",
       "      <td>252170800</td>\n",
       "      <td>0.180306</td>\n",
       "      <td>6.861112</td>\n",
       "      <td>6.139888</td>\n",
       "      <td>6.45</td>\n",
       "      <td>6.60</td>\n",
       "      <td>...</td>\n",
       "      <td>33.562</td>\n",
       "      <td>33.9600</td>\n",
       "      <td>34.2330</td>\n",
       "      <td>1195.76</td>\n",
       "      <td>1178.14</td>\n",
       "      <td>1177.68</td>\n",
       "      <td>10414.13</td>\n",
       "      <td>10285.26</td>\n",
       "      <td>10216.91</td>\n",
       "      <td>6.93</td>\n",
       "    </tr>\n",
       "    <tr>\n",
       "      <th>2005-10-20</th>\n",
       "      <td>6.72</td>\n",
       "      <td>6.97</td>\n",
       "      <td>6.71</td>\n",
       "      <td>6.93</td>\n",
       "      <td>339440500</td>\n",
       "      <td>0.202674</td>\n",
       "      <td>6.931847</td>\n",
       "      <td>6.121153</td>\n",
       "      <td>6.78</td>\n",
       "      <td>6.45</td>\n",
       "      <td>...</td>\n",
       "      <td>33.567</td>\n",
       "      <td>33.9455</td>\n",
       "      <td>34.2190</td>\n",
       "      <td>1177.80</td>\n",
       "      <td>1195.76</td>\n",
       "      <td>1176.84</td>\n",
       "      <td>10281.10</td>\n",
       "      <td>10414.13</td>\n",
       "      <td>10216.59</td>\n",
       "      <td>6.87</td>\n",
       "    </tr>\n",
       "    <tr>\n",
       "      <th>2005-10-21</th>\n",
       "      <td>7.02</td>\n",
       "      <td>7.03</td>\n",
       "      <td>6.83</td>\n",
       "      <td>6.87</td>\n",
       "      <td>199181500</td>\n",
       "      <td>0.216680</td>\n",
       "      <td>6.974860</td>\n",
       "      <td>6.108140</td>\n",
       "      <td>6.93</td>\n",
       "      <td>6.78</td>\n",
       "      <td>...</td>\n",
       "      <td>33.586</td>\n",
       "      <td>33.9365</td>\n",
       "      <td>34.2034</td>\n",
       "      <td>1179.59</td>\n",
       "      <td>1177.80</td>\n",
       "      <td>1186.57</td>\n",
       "      <td>10215.22</td>\n",
       "      <td>10281.10</td>\n",
       "      <td>10287.34</td>\n",
       "      <td>7.01</td>\n",
       "    </tr>\n",
       "  </tbody>\n",
       "</table>\n",
       "<p>5 rows × 63 columns</p>\n",
       "</div>"
      ],
      "text/plain": [
       "            Open  High   Low  Close     Volume      SD20  Upper_Band  \\\n",
       "Date                                                                   \n",
       "2005-10-17  6.66  6.69  6.50   6.60  154208600  0.169237    6.827473   \n",
       "2005-10-18  6.57  6.66  6.44   6.45  152397000  0.168339    6.819677   \n",
       "2005-10-19  6.43  6.78  6.32   6.78  252170800  0.180306    6.861112   \n",
       "2005-10-20  6.72  6.97  6.71   6.93  339440500  0.202674    6.931847   \n",
       "2005-10-21  7.02  7.03  6.83   6.87  199181500  0.216680    6.974860   \n",
       "\n",
       "            Lower_Band  S_Close(t-1)  S_Close(t-2)  ...  QQQ_MA10  QQQ_MA20  \\\n",
       "Date                                                ...                       \n",
       "2005-10-17    6.150527          6.67          6.63  ...    33.692   33.9970   \n",
       "2005-10-18    6.146323          6.60          6.67  ...    33.570   33.9525   \n",
       "2005-10-19    6.139888          6.45          6.60  ...    33.562   33.9600   \n",
       "2005-10-20    6.121153          6.78          6.45  ...    33.567   33.9455   \n",
       "2005-10-21    6.108140          6.93          6.78  ...    33.586   33.9365   \n",
       "\n",
       "            QQQ_MA50  SnP_Close  SnP(t-1))  SnP(t-5)  DJIA_Close  DJIA(t-1))  \\\n",
       "Date                                                                           \n",
       "2005-10-17   34.2690    1190.10    1186.57   1187.33    10348.10    10287.34   \n",
       "2005-10-18   34.2466    1178.14    1190.10   1184.87    10285.26    10348.10   \n",
       "2005-10-19   34.2330    1195.76    1178.14   1177.68    10414.13    10285.26   \n",
       "2005-10-20   34.2190    1177.80    1195.76   1176.84    10281.10    10414.13   \n",
       "2005-10-21   34.2034    1179.59    1177.80   1186.57    10215.22    10281.10   \n",
       "\n",
       "            DJIA(t-5)  Close_forcast  \n",
       "Date                                  \n",
       "2005-10-17   10238.76           6.45  \n",
       "2005-10-18   10253.17           6.78  \n",
       "2005-10-19   10216.91           6.93  \n",
       "2005-10-20   10216.59           6.87  \n",
       "2005-10-21   10287.34           7.01  \n",
       "\n",
       "[5 rows x 63 columns]"
      ]
     },
     "execution_count": 4,
     "metadata": {},
     "output_type": "execute_result"
    }
   ],
   "source": [
    "Stock = pd.read_csv('AAPL.csv',  index_col=0)\n",
    "\n",
    "df_Stock = Stock\n",
    "df_Stock = df_Stock.rename(columns={'Close(t)':'Close'})\n",
    "df_Stock.head()"
   ]
  },
  {
   "cell_type": "code",
   "execution_count": 5,
   "metadata": {
    "trusted": true
   },
   "outputs": [
    {
     "data": {
      "application/vnd.microsoft.datawrangler.viewer.v0+json": {
       "columns": [
        {
         "name": "Date",
         "rawType": "object",
         "type": "string"
        },
        {
         "name": "Open",
         "rawType": "float64",
         "type": "float"
        },
        {
         "name": "High",
         "rawType": "float64",
         "type": "float"
        },
        {
         "name": "Low",
         "rawType": "float64",
         "type": "float"
        },
        {
         "name": "Close",
         "rawType": "float64",
         "type": "float"
        },
        {
         "name": "Volume",
         "rawType": "int64",
         "type": "integer"
        },
        {
         "name": "SD20",
         "rawType": "float64",
         "type": "float"
        },
        {
         "name": "Upper_Band",
         "rawType": "float64",
         "type": "float"
        },
        {
         "name": "Lower_Band",
         "rawType": "float64",
         "type": "float"
        },
        {
         "name": "S_Close(t-1)",
         "rawType": "float64",
         "type": "float"
        },
        {
         "name": "S_Close(t-2)",
         "rawType": "float64",
         "type": "float"
        },
        {
         "name": "S_Close(t-3)",
         "rawType": "float64",
         "type": "float"
        },
        {
         "name": "S_Close(t-5)",
         "rawType": "float64",
         "type": "float"
        },
        {
         "name": "S_Open(t-1)",
         "rawType": "float64",
         "type": "float"
        },
        {
         "name": "MA5",
         "rawType": "float64",
         "type": "float"
        },
        {
         "name": "MA10",
         "rawType": "float64",
         "type": "float"
        },
        {
         "name": "MA20",
         "rawType": "float64",
         "type": "float"
        },
        {
         "name": "MA50",
         "rawType": "float64",
         "type": "float"
        },
        {
         "name": "MA200",
         "rawType": "float64",
         "type": "float"
        },
        {
         "name": "EMA10",
         "rawType": "float64",
         "type": "float"
        },
        {
         "name": "EMA20",
         "rawType": "float64",
         "type": "float"
        },
        {
         "name": "EMA50",
         "rawType": "float64",
         "type": "float"
        },
        {
         "name": "EMA100",
         "rawType": "float64",
         "type": "float"
        },
        {
         "name": "EMA200",
         "rawType": "float64",
         "type": "float"
        },
        {
         "name": "MACD",
         "rawType": "float64",
         "type": "float"
        },
        {
         "name": "MACD_EMA",
         "rawType": "float64",
         "type": "float"
        },
        {
         "name": "ATR",
         "rawType": "float64",
         "type": "float"
        },
        {
         "name": "ADX",
         "rawType": "float64",
         "type": "float"
        },
        {
         "name": "CCI",
         "rawType": "float64",
         "type": "float"
        },
        {
         "name": "ROC",
         "rawType": "float64",
         "type": "float"
        },
        {
         "name": "RSI",
         "rawType": "float64",
         "type": "float"
        },
        {
         "name": "William%R",
         "rawType": "float64",
         "type": "float"
        },
        {
         "name": "SO%K",
         "rawType": "float64",
         "type": "float"
        },
        {
         "name": "STD5",
         "rawType": "float64",
         "type": "float"
        },
        {
         "name": "ForceIndex1",
         "rawType": "float64",
         "type": "float"
        },
        {
         "name": "ForceIndex20",
         "rawType": "float64",
         "type": "float"
        },
        {
         "name": "Date_col",
         "rawType": "object",
         "type": "string"
        },
        {
         "name": "Day",
         "rawType": "int64",
         "type": "integer"
        },
        {
         "name": "DayofWeek",
         "rawType": "int64",
         "type": "integer"
        },
        {
         "name": "DayofYear",
         "rawType": "int64",
         "type": "integer"
        },
        {
         "name": "Week",
         "rawType": "int64",
         "type": "integer"
        },
        {
         "name": "Is_month_end",
         "rawType": "int64",
         "type": "integer"
        },
        {
         "name": "Is_month_start",
         "rawType": "int64",
         "type": "integer"
        },
        {
         "name": "Is_quarter_end",
         "rawType": "int64",
         "type": "integer"
        },
        {
         "name": "Is_quarter_start",
         "rawType": "int64",
         "type": "integer"
        },
        {
         "name": "Is_year_end",
         "rawType": "int64",
         "type": "integer"
        },
        {
         "name": "Is_year_start",
         "rawType": "int64",
         "type": "integer"
        },
        {
         "name": "Is_leap_year",
         "rawType": "int64",
         "type": "integer"
        },
        {
         "name": "Year",
         "rawType": "int64",
         "type": "integer"
        },
        {
         "name": "Month",
         "rawType": "int64",
         "type": "integer"
        },
        {
         "name": "QQQ_Close",
         "rawType": "float64",
         "type": "float"
        },
        {
         "name": "QQQ(t-1)",
         "rawType": "float64",
         "type": "float"
        },
        {
         "name": "QQQ(t-2)",
         "rawType": "float64",
         "type": "float"
        },
        {
         "name": "QQQ(t-5)",
         "rawType": "float64",
         "type": "float"
        },
        {
         "name": "QQQ_MA10",
         "rawType": "float64",
         "type": "float"
        },
        {
         "name": "QQQ_MA20",
         "rawType": "float64",
         "type": "float"
        },
        {
         "name": "QQQ_MA50",
         "rawType": "float64",
         "type": "float"
        },
        {
         "name": "SnP_Close",
         "rawType": "float64",
         "type": "float"
        },
        {
         "name": "SnP(t-1))",
         "rawType": "float64",
         "type": "float"
        },
        {
         "name": "SnP(t-5)",
         "rawType": "float64",
         "type": "float"
        },
        {
         "name": "DJIA_Close",
         "rawType": "float64",
         "type": "float"
        },
        {
         "name": "DJIA(t-1))",
         "rawType": "float64",
         "type": "float"
        },
        {
         "name": "DJIA(t-5)",
         "rawType": "float64",
         "type": "float"
        },
        {
         "name": "Close_forcast",
         "rawType": "float64",
         "type": "float"
        }
       ],
       "conversionMethod": "pd.DataFrame",
       "ref": "b0f6f873-b7fe-4f86-98ac-640e65bcff6b",
       "rows": [
        [
         "2020-08-07",
         "452.82",
         "454.7",
         "441.17",
         "444.45",
         "49453300",
         "27.954399121840744",
         "455.3162982436816",
         "343.49870175631867",
         "454.79",
         "439.46",
         "437.87",
         "424.28",
         "440.83",
         "442.3079999999991",
         "415.0269999999999",
         "399.40750000000014",
         "370.3528000000004",
         "304.48200000000014",
         "438.1525088782692",
         "438.1525088782692",
         "438.1525088782692",
         "438.1525088782692",
         "438.1525088782692",
         "20.908358025012944",
         "15.211137533587204",
         "12.47474219953118",
         "41.36407931446036",
         "1333.3333333333333",
         "20.18983747532382",
         "73.03892952482335",
         "-12.270789969273462",
         "87.72921003072653",
         "0.0222052611012669",
         "-511347122.00000155",
         "3039399817.999999",
         "2020-08-07",
         "7",
         "4",
         "220",
         "32",
         "0",
         "0",
         "0",
         "0",
         "0",
         "0",
         "1",
         "2020",
         "8",
         "271.47",
         "274.64",
         "271.05",
         "265.79",
         "266.0540000000002",
         "263.40850000000006",
         "252.20980000000017",
         "3351.28",
         "3349.16",
         "3271.12",
         "27433.48",
         "27386.98",
         "26428.32",
         "450.91"
        ],
        [
         "2020-08-10",
         "450.4",
         "455.1",
         "440.0",
         "450.91",
         "53100900",
         "29.847337640240863",
         "462.5866752804819",
         "343.1973247195184",
         "444.45",
         "454.79",
         "439.46",
         "434.97",
         "452.82",
         "445.495999999999",
         "422.26199999999983",
         "402.89200000000017",
         "373.0236000000005",
         "305.5326000000002",
         "442.4050059188462",
         "442.4050059188462",
         "442.4050059188462",
         "442.4050059188462",
         "442.4050059188462",
         "21.93646209735533",
         "16.556202446340833",
         "12.662260613850382",
         "42.73909307953745",
         "1333.3333333333333",
         "19.111897717666952",
         "74.6159454166159",
         "-5.867776786599227",
         "94.13222321340078",
         "0.020791619979701",
         "343031814.0000019",
         "3700601721.0",
         "2020-08-10",
         "10",
         "0",
         "223",
         "33",
         "0",
         "0",
         "0",
         "0",
         "0",
         "0",
         "1",
         "2020",
         "8",
         "270.31",
         "271.47",
         "274.64",
         "269.38",
         "267.0730000000002",
         "263.99700000000007",
         "252.9570000000001",
         "3360.47",
         "3351.28",
         "3294.61",
         "27791.44",
         "27433.48",
         "26664.4",
         "437.5"
        ],
        [
         "2020-08-11",
         "447.88",
         "449.93",
         "436.43",
         "437.5",
         "46975600",
         "30.57628965735605",
         "466.5430793147123",
         "344.2379206852881",
         "450.91",
         "444.45",
         "454.79",
         "437.87",
         "450.4",
         "445.421999999999",
         "428.7779999999998",
         "405.3905000000002",
         "375.3482000000004",
         "306.51415000000014",
         "440.7700039458975",
         "440.7700039458975",
         "440.7700039458975",
         "440.7700039458975",
         "440.7700039458975",
         "21.42222497913519",
         "17.529406952899706",
         "12.7920991414325",
         "43.58029474963059",
         "1333.3333333333337",
         "17.500134285867762",
         "65.98734186144945",
         "-19.15948062246009",
         "80.8405193775399",
         "0.0266581559574359",
         "-629942796.0000012",
         "2347370732.0000014",
         "2020-08-11",
         "11",
         "1",
         "224",
         "33",
         "0",
         "0",
         "0",
         "0",
         "0",
         "0",
         "1",
         "2020",
         "8",
         "265.19",
         "270.31",
         "271.47",
         "270.38",
         "267.91100000000023",
         "264.23800000000006",
         "253.58780000000013",
         "3333.69",
         "3360.47",
         "3306.51",
         "27686.91",
         "27791.44",
         "26828.47",
         "452.04"
        ],
        [
         "2020-08-12",
         "441.99",
         "453.1",
         "441.19",
         "452.04",
         "41486200",
         "32.050532120552035",
         "472.5835642411042",
         "344.38143575889615",
         "437.5",
         "450.91",
         "444.45",
         "439.46",
         "447.88",
         "447.937999999999",
         "436.0339999999998",
         "408.4825000000002",
         "377.9338000000005",
         "307.55355000000014",
         "444.526669297265",
         "444.526669297265",
         "444.526669297265",
         "444.526669297265",
         "444.526669297265",
         "21.93509076994127",
         "18.41054371630802",
         "12.992663488473038",
         "44.4752379897475",
         "1333.3333333333333",
         "19.12090228734057",
         "70.03368346429781",
         "-4.7477450688868705",
         "95.25225493111311",
         "0.0306263547381517",
         "603209348.0000008",
         "2565506608.0000014",
         "2020-08-12",
         "12",
         "2",
         "225",
         "33",
         "0",
         "0",
         "0",
         "0",
         "0",
         "0",
         "1",
         "2020",
         "8",
         "271.86",
         "265.19",
         "270.31",
         "271.05",
         "269.12000000000023",
         "264.78600000000006",
         "254.32060000000016",
         "3380.35",
         "3333.69",
         "3327.77",
         "27976.84",
         "27686.91",
         "27201.52",
         "460.04"
        ],
        [
         "2020-08-13",
         "457.72",
         "464.17",
         "455.71",
         "460.04",
         "52520500",
         "33.53263382610737",
         "479.27976765221496",
         "345.14923234778547",
         "452.04",
         "437.5",
         "450.91",
         "454.79",
         "441.99",
         "448.98799999999903",
         "443.63099999999986",
         "412.2145000000002",
         "380.6440000000005",
         "308.62075000000016",
         "449.6977795315101",
         "449.6977795315101",
         "449.6977795315101",
         "449.6977795315101",
         "449.6977795315101",
         "22.72511279100081",
         "19.273457531246574",
         "12.93104466786782",
         "45.671242575231226",
         "1333.3333333333337",
         "19.780248392220177",
         "72.00693600684906",
         "-4.496461622210119",
         "95.50353837778988",
         "0.0273706182319713",
         "420164000.0",
         "3920130120.0000024",
         "2020-08-13",
         "13",
         "3",
         "226",
         "33",
         "0",
         "0",
         "0",
         "0",
         "0",
         "0",
         "1",
         "2020",
         "8",
         "272.48",
         "271.86",
         "265.19",
         "274.64",
         "270.2550000000002",
         "265.45400000000006",
         "255.04460000000017",
         "3373.43",
         "3380.35",
         "3349.16",
         "27896.72",
         "27976.84",
         "27386.98",
         "459.63"
        ]
       ],
       "shape": {
        "columns": 63,
        "rows": 5
       }
      },
      "text/html": [
       "<div>\n",
       "<style scoped>\n",
       "    .dataframe tbody tr th:only-of-type {\n",
       "        vertical-align: middle;\n",
       "    }\n",
       "\n",
       "    .dataframe tbody tr th {\n",
       "        vertical-align: top;\n",
       "    }\n",
       "\n",
       "    .dataframe thead th {\n",
       "        text-align: right;\n",
       "    }\n",
       "</style>\n",
       "<table border=\"1\" class=\"dataframe\">\n",
       "  <thead>\n",
       "    <tr style=\"text-align: right;\">\n",
       "      <th></th>\n",
       "      <th>Open</th>\n",
       "      <th>High</th>\n",
       "      <th>Low</th>\n",
       "      <th>Close</th>\n",
       "      <th>Volume</th>\n",
       "      <th>SD20</th>\n",
       "      <th>Upper_Band</th>\n",
       "      <th>Lower_Band</th>\n",
       "      <th>S_Close(t-1)</th>\n",
       "      <th>S_Close(t-2)</th>\n",
       "      <th>...</th>\n",
       "      <th>QQQ_MA10</th>\n",
       "      <th>QQQ_MA20</th>\n",
       "      <th>QQQ_MA50</th>\n",
       "      <th>SnP_Close</th>\n",
       "      <th>SnP(t-1))</th>\n",
       "      <th>SnP(t-5)</th>\n",
       "      <th>DJIA_Close</th>\n",
       "      <th>DJIA(t-1))</th>\n",
       "      <th>DJIA(t-5)</th>\n",
       "      <th>Close_forcast</th>\n",
       "    </tr>\n",
       "    <tr>\n",
       "      <th>Date</th>\n",
       "      <th></th>\n",
       "      <th></th>\n",
       "      <th></th>\n",
       "      <th></th>\n",
       "      <th></th>\n",
       "      <th></th>\n",
       "      <th></th>\n",
       "      <th></th>\n",
       "      <th></th>\n",
       "      <th></th>\n",
       "      <th></th>\n",
       "      <th></th>\n",
       "      <th></th>\n",
       "      <th></th>\n",
       "      <th></th>\n",
       "      <th></th>\n",
       "      <th></th>\n",
       "      <th></th>\n",
       "      <th></th>\n",
       "      <th></th>\n",
       "      <th></th>\n",
       "    </tr>\n",
       "  </thead>\n",
       "  <tbody>\n",
       "    <tr>\n",
       "      <th>2020-08-07</th>\n",
       "      <td>452.82</td>\n",
       "      <td>454.70</td>\n",
       "      <td>441.17</td>\n",
       "      <td>444.45</td>\n",
       "      <td>49453300</td>\n",
       "      <td>27.954399</td>\n",
       "      <td>455.316298</td>\n",
       "      <td>343.498702</td>\n",
       "      <td>454.79</td>\n",
       "      <td>439.46</td>\n",
       "      <td>...</td>\n",
       "      <td>266.054</td>\n",
       "      <td>263.4085</td>\n",
       "      <td>252.2098</td>\n",
       "      <td>3351.28</td>\n",
       "      <td>3349.16</td>\n",
       "      <td>3271.12</td>\n",
       "      <td>27433.48</td>\n",
       "      <td>27386.98</td>\n",
       "      <td>26428.32</td>\n",
       "      <td>450.91</td>\n",
       "    </tr>\n",
       "    <tr>\n",
       "      <th>2020-08-10</th>\n",
       "      <td>450.40</td>\n",
       "      <td>455.10</td>\n",
       "      <td>440.00</td>\n",
       "      <td>450.91</td>\n",
       "      <td>53100900</td>\n",
       "      <td>29.847338</td>\n",
       "      <td>462.586675</td>\n",
       "      <td>343.197325</td>\n",
       "      <td>444.45</td>\n",
       "      <td>454.79</td>\n",
       "      <td>...</td>\n",
       "      <td>267.073</td>\n",
       "      <td>263.9970</td>\n",
       "      <td>252.9570</td>\n",
       "      <td>3360.47</td>\n",
       "      <td>3351.28</td>\n",
       "      <td>3294.61</td>\n",
       "      <td>27791.44</td>\n",
       "      <td>27433.48</td>\n",
       "      <td>26664.40</td>\n",
       "      <td>437.50</td>\n",
       "    </tr>\n",
       "    <tr>\n",
       "      <th>2020-08-11</th>\n",
       "      <td>447.88</td>\n",
       "      <td>449.93</td>\n",
       "      <td>436.43</td>\n",
       "      <td>437.50</td>\n",
       "      <td>46975600</td>\n",
       "      <td>30.576290</td>\n",
       "      <td>466.543079</td>\n",
       "      <td>344.237921</td>\n",
       "      <td>450.91</td>\n",
       "      <td>444.45</td>\n",
       "      <td>...</td>\n",
       "      <td>267.911</td>\n",
       "      <td>264.2380</td>\n",
       "      <td>253.5878</td>\n",
       "      <td>3333.69</td>\n",
       "      <td>3360.47</td>\n",
       "      <td>3306.51</td>\n",
       "      <td>27686.91</td>\n",
       "      <td>27791.44</td>\n",
       "      <td>26828.47</td>\n",
       "      <td>452.04</td>\n",
       "    </tr>\n",
       "    <tr>\n",
       "      <th>2020-08-12</th>\n",
       "      <td>441.99</td>\n",
       "      <td>453.10</td>\n",
       "      <td>441.19</td>\n",
       "      <td>452.04</td>\n",
       "      <td>41486200</td>\n",
       "      <td>32.050532</td>\n",
       "      <td>472.583564</td>\n",
       "      <td>344.381436</td>\n",
       "      <td>437.50</td>\n",
       "      <td>450.91</td>\n",
       "      <td>...</td>\n",
       "      <td>269.120</td>\n",
       "      <td>264.7860</td>\n",
       "      <td>254.3206</td>\n",
       "      <td>3380.35</td>\n",
       "      <td>3333.69</td>\n",
       "      <td>3327.77</td>\n",
       "      <td>27976.84</td>\n",
       "      <td>27686.91</td>\n",
       "      <td>27201.52</td>\n",
       "      <td>460.04</td>\n",
       "    </tr>\n",
       "    <tr>\n",
       "      <th>2020-08-13</th>\n",
       "      <td>457.72</td>\n",
       "      <td>464.17</td>\n",
       "      <td>455.71</td>\n",
       "      <td>460.04</td>\n",
       "      <td>52520500</td>\n",
       "      <td>33.532634</td>\n",
       "      <td>479.279768</td>\n",
       "      <td>345.149232</td>\n",
       "      <td>452.04</td>\n",
       "      <td>437.50</td>\n",
       "      <td>...</td>\n",
       "      <td>270.255</td>\n",
       "      <td>265.4540</td>\n",
       "      <td>255.0446</td>\n",
       "      <td>3373.43</td>\n",
       "      <td>3380.35</td>\n",
       "      <td>3349.16</td>\n",
       "      <td>27896.72</td>\n",
       "      <td>27976.84</td>\n",
       "      <td>27386.98</td>\n",
       "      <td>459.63</td>\n",
       "    </tr>\n",
       "  </tbody>\n",
       "</table>\n",
       "<p>5 rows × 63 columns</p>\n",
       "</div>"
      ],
      "text/plain": [
       "              Open    High     Low   Close    Volume       SD20  Upper_Band  \\\n",
       "Date                                                                          \n",
       "2020-08-07  452.82  454.70  441.17  444.45  49453300  27.954399  455.316298   \n",
       "2020-08-10  450.40  455.10  440.00  450.91  53100900  29.847338  462.586675   \n",
       "2020-08-11  447.88  449.93  436.43  437.50  46975600  30.576290  466.543079   \n",
       "2020-08-12  441.99  453.10  441.19  452.04  41486200  32.050532  472.583564   \n",
       "2020-08-13  457.72  464.17  455.71  460.04  52520500  33.532634  479.279768   \n",
       "\n",
       "            Lower_Band  S_Close(t-1)  S_Close(t-2)  ...  QQQ_MA10  QQQ_MA20  \\\n",
       "Date                                                ...                       \n",
       "2020-08-07  343.498702        454.79        439.46  ...   266.054  263.4085   \n",
       "2020-08-10  343.197325        444.45        454.79  ...   267.073  263.9970   \n",
       "2020-08-11  344.237921        450.91        444.45  ...   267.911  264.2380   \n",
       "2020-08-12  344.381436        437.50        450.91  ...   269.120  264.7860   \n",
       "2020-08-13  345.149232        452.04        437.50  ...   270.255  265.4540   \n",
       "\n",
       "            QQQ_MA50  SnP_Close  SnP(t-1))  SnP(t-5)  DJIA_Close  DJIA(t-1))  \\\n",
       "Date                                                                           \n",
       "2020-08-07  252.2098    3351.28    3349.16   3271.12    27433.48    27386.98   \n",
       "2020-08-10  252.9570    3360.47    3351.28   3294.61    27791.44    27433.48   \n",
       "2020-08-11  253.5878    3333.69    3360.47   3306.51    27686.91    27791.44   \n",
       "2020-08-12  254.3206    3380.35    3333.69   3327.77    27976.84    27686.91   \n",
       "2020-08-13  255.0446    3373.43    3380.35   3349.16    27896.72    27976.84   \n",
       "\n",
       "            DJIA(t-5)  Close_forcast  \n",
       "Date                                  \n",
       "2020-08-07   26428.32         450.91  \n",
       "2020-08-10   26664.40         437.50  \n",
       "2020-08-11   26828.47         452.04  \n",
       "2020-08-12   27201.52         460.04  \n",
       "2020-08-13   27386.98         459.63  \n",
       "\n",
       "[5 rows x 63 columns]"
      ]
     },
     "execution_count": 5,
     "metadata": {},
     "output_type": "execute_result"
    }
   ],
   "source": [
    "df_Stock.tail(5)"
   ]
  },
  {
   "cell_type": "code",
   "execution_count": 6,
   "metadata": {
    "trusted": true
   },
   "outputs": [
    {
     "data": {
      "text/plain": [
       "(3732, 63)"
      ]
     },
     "execution_count": 6,
     "metadata": {},
     "output_type": "execute_result"
    }
   ],
   "source": [
    "df_Stock.shape"
   ]
  },
  {
   "cell_type": "code",
   "execution_count": 7,
   "metadata": {
    "trusted": true
   },
   "outputs": [
    {
     "data": {
      "text/plain": [
       "Index(['Open', 'High', 'Low', 'Close', 'Volume', 'SD20', 'Upper_Band',\n",
       "       'Lower_Band', 'S_Close(t-1)', 'S_Close(t-2)', 'S_Close(t-3)',\n",
       "       'S_Close(t-5)', 'S_Open(t-1)', 'MA5', 'MA10', 'MA20', 'MA50', 'MA200',\n",
       "       'EMA10', 'EMA20', 'EMA50', 'EMA100', 'EMA200', 'MACD', 'MACD_EMA',\n",
       "       'ATR', 'ADX', 'CCI', 'ROC', 'RSI', 'William%R', 'SO%K', 'STD5',\n",
       "       'ForceIndex1', 'ForceIndex20', 'Date_col', 'Day', 'DayofWeek',\n",
       "       'DayofYear', 'Week', 'Is_month_end', 'Is_month_start', 'Is_quarter_end',\n",
       "       'Is_quarter_start', 'Is_year_end', 'Is_year_start', 'Is_leap_year',\n",
       "       'Year', 'Month', 'QQQ_Close', 'QQQ(t-1)', 'QQQ(t-2)', 'QQQ(t-5)',\n",
       "       'QQQ_MA10', 'QQQ_MA20', 'QQQ_MA50', 'SnP_Close', 'SnP(t-1))',\n",
       "       'SnP(t-5)', 'DJIA_Close', 'DJIA(t-1))', 'DJIA(t-5)', 'Close_forcast'],\n",
       "      dtype='object')"
      ]
     },
     "execution_count": 7,
     "metadata": {},
     "output_type": "execute_result"
    }
   ],
   "source": [
    "df_Stock.columns"
   ]
  },
  {
   "cell_type": "markdown",
   "metadata": {},
   "source": [
    "### Plot Time Series chart for AAPL"
   ]
  },
  {
   "cell_type": "code",
   "execution_count": 8,
   "metadata": {
    "trusted": true
   },
   "outputs": [
    {
     "data": {
      "image/png": "[encoded data removed]",
      "text/plain": [
       "<Figure size 1000x700 with 1 Axes>"
      ]
     },
     "metadata": {},
     "output_type": "display_data"
    }
   ],
   "source": [
    "df_Stock['Close'].plot(figsize=(10, 7))\n",
    "plt.title(\"Stock Price\", fontsize=17)\n",
    "plt.ylabel('Price', fontsize=14)\n",
    "plt.xlabel('Time', fontsize=14)\n",
    "plt.grid(which=\"major\", color='k', linestyle='-.', linewidth=0.5)\n",
    "plt.show()"
   ]
  },
  {
   "cell_type": "markdown",
   "metadata": {},
   "source": [
    "Remove some of the columns which are not required"
   ]
  },
  {
   "cell_type": "code",
   "execution_count": 9,
   "metadata": {
    "trusted": true
   },
   "outputs": [],
   "source": [
    "df_Stock = df_Stock.drop(columns='Date_col')"
   ]
  },
  {
   "cell_type": "markdown",
   "metadata": {},
   "source": [
    "### Test Train Set"
   ]
  },
  {
   "cell_type": "markdown",
   "metadata": {},
   "source": [
    "Close_forecast is the column that we are trying to predict here which is the price for the next day. "
   ]
  },
  {
   "cell_type": "code",
   "execution_count": 10,
   "metadata": {
    "trusted": true
   },
   "outputs": [],
   "source": [
    "def create_train_test_set(df_Stock):\n",
    "    \n",
    "    features = df_Stock.drop(columns=['Close_forcast'], axis=1)\n",
    "    target = df_Stock['Close_forcast']\n",
    "    \n",
    "\n",
    "    data_len = df_Stock.shape[0]\n",
    "    print('Historical Stock Data length is - ', str(data_len))\n",
    "\n",
    "    #create a chronological split for train and testing\n",
    "    train_split = int(data_len * 0.88)\n",
    "    print('Training Set length - ', str(train_split))\n",
    "\n",
    "    val_split = train_split + int(data_len * 0.1)\n",
    "    print('Validation Set length - ', str(int(data_len * 0.1)))\n",
    "\n",
    "    print('Test Set length - ', str(int(data_len * 0.02)))\n",
    "\n",
    "    # Splitting features and target into train, validation and test samples \n",
    "    X_train, X_val, X_test = features[:train_split], features[train_split:val_split], features[val_split:]\n",
    "    Y_train, Y_val, Y_test = target[:train_split], target[train_split:val_split], target[val_split:]\n",
    "\n",
    "    #print shape of samples\n",
    "    print(X_train.shape, X_val.shape, X_test.shape)\n",
    "    print(Y_train.shape, Y_val.shape, Y_test.shape)\n",
    "    \n",
    "    return X_train, X_val, X_test, Y_train, Y_val, Y_test"
   ]
  },
  {
   "cell_type": "code",
   "execution_count": 11,
   "metadata": {
    "trusted": true
   },
   "outputs": [
    {
     "name": "stdout",
     "output_type": "stream",
     "text": [
      "Historical Stock Data length is -  3732\n",
      "Training Set length -  3284\n",
      "Validation Set length -  373\n",
      "Test Set length -  74\n",
      "(3284, 61) (373, 61) (75, 61)\n",
      "(3284,) (373,) (75,)\n"
     ]
    }
   ],
   "source": [
    "X_train, X_val, X_test, Y_train, Y_val, Y_test = create_train_test_set(df_Stock)"
   ]
  },
  {
   "cell_type": "markdown",
   "metadata": {},
   "source": [
    "### Prediction using Linear Regression"
   ]
  },
  {
   "cell_type": "code",
   "execution_count": 12,
   "metadata": {
    "trusted": true
   },
   "outputs": [
    {
     "data": {
      "text/html": [
       "<style>#sk-container-id-1 {\n",
       "  /* Definition of color scheme common for light and dark mode */\n",
       "  --sklearn-color-text: #000;\n",
       "  --sklearn-color-text-muted: #666;\n",
       "  --sklearn-color-line: gray;\n",
       "  /* Definition of color scheme for unfitted estimators */\n",
       "  --sklearn-color-unfitted-level-0: #fff5e6;\n",
       "  --sklearn-color-unfitted-level-1: #f6e4d2;\n",
       "  --sklearn-color-unfitted-level-2: #ffe0b3;\n",
       "  --sklearn-color-unfitted-level-3: chocolate;\n",
       "  /* Definition of color scheme for fitted estimators */\n",
       "  --sklearn-color-fitted-level-0: #f0f8ff;\n",
       "  --sklearn-color-fitted-level-1: #d4ebff;\n",
       "  --sklearn-color-fitted-level-2: #b3dbfd;\n",
       "  --sklearn-color-fitted-level-3: cornflowerblue;\n",
       "\n",
       "  /* Specific color for light theme */\n",
       "  --sklearn-color-text-on-default-background: var(--sg-text-color, var(--theme-code-foreground, var(--jp-content-font-color1, black)));\n",
       "  --sklearn-color-background: var(--sg-background-color, var(--theme-background, var(--jp-layout-color0, white)));\n",
       "  --sklearn-color-border-box: var(--sg-text-color, var(--theme-code-foreground, var(--jp-content-font-color1, black)));\n",
       "  --sklearn-color-icon: #696969;\n",
       "\n",
       "  @media (prefers-color-scheme: dark) {\n",
       "    /* Redefinition of color scheme for dark theme */\n",
       "    --sklearn-color-text-on-default-background: var(--sg-text-color, var(--theme-code-foreground, var(--jp-content-font-color1, white)));\n",
       "    --sklearn-color-background: var(--sg-background-color, var(--theme-background, var(--jp-layout-color0, #111)));\n",
       "    --sklearn-color-border-box: var(--sg-text-color, var(--theme-code-foreground, var(--jp-content-font-color1, white)));\n",
       "    --sklearn-color-icon: #878787;\n",
       "  }\n",
       "}\n",
       "\n",
       "#sk-container-id-1 {\n",
       "  color: var(--sklearn-color-text);\n",
       "}\n",
       "\n",
       "#sk-container-id-1 pre {\n",
       "  padding: 0;\n",
       "}\n",
       "\n",
       "#sk-container-id-1 input.sk-hidden--visually {\n",
       "  border: 0;\n",
       "  clip: rect(1px 1px 1px 1px);\n",
       "  clip: rect(1px, 1px, 1px, 1px);\n",
       "  height: 1px;\n",
       "  margin: -1px;\n",
       "  overflow: hidden;\n",
       "  padding: 0;\n",
       "  position: absolute;\n",
       "  width: 1px;\n",
       "}\n",
       "\n",
       "#sk-container-id-1 div.sk-dashed-wrapped {\n",
       "  border: 1px dashed var(--sklearn-color-line);\n",
       "  margin: 0 0.4em 0.5em 0.4em;\n",
       "  box-sizing: border-box;\n",
       "  padding-bottom: 0.4em;\n",
       "  background-color: var(--sklearn-color-background);\n",
       "}\n",
       "\n",
       "#sk-container-id-1 div.sk-container {\n",
       "  /* jupyter's `normalize.less` sets `[hidden] { display: none; }`\n",
       "     but bootstrap.min.css set `[hidden] { display: none !important; }`\n",
       "     so we also need the `!important` here to be able to override the\n",
       "     default hidden behavior on the sphinx rendered scikit-learn.org.\n",
       "     See: https://github.com/scikit-learn/scikit-learn/issues/21755 */\n",
       "  display: inline-block !important;\n",
       "  position: relative;\n",
       "}\n",
       "\n",
       "#sk-container-id-1 div.sk-text-repr-fallback {\n",
       "  display: none;\n",
       "}\n",
       "\n",
       "div.sk-parallel-item,\n",
       "div.sk-serial,\n",
       "div.sk-item {\n",
       "  /* draw centered vertical line to link estimators */\n",
       "  background-image: linear-gradient(var(--sklearn-color-text-on-default-background), var(--sklearn-color-text-on-default-background));\n",
       "  background-size: 2px 100%;\n",
       "  background-repeat: no-repeat;\n",
       "  background-position: center center;\n",
       "}\n",
       "\n",
       "/* Parallel-specific style estimator block */\n",
       "\n",
       "#sk-container-id-1 div.sk-parallel-item::after {\n",
       "  content: \"\";\n",
       "  width: 100%;\n",
       "  border-bottom: 2px solid var(--sklearn-color-text-on-default-background);\n",
       "  flex-grow: 1;\n",
       "}\n",
       "\n",
       "#sk-container-id-1 div.sk-parallel {\n",
       "  display: flex;\n",
       "  align-items: stretch;\n",
       "  justify-content: center;\n",
       "  background-color: var(--sklearn-color-background);\n",
       "  position: relative;\n",
       "}\n",
       "\n",
       "#sk-container-id-1 div.sk-parallel-item {\n",
       "  display: flex;\n",
       "  flex-direction: column;\n",
       "}\n",
       "\n",
       "#sk-container-id-1 div.sk-parallel-item:first-child::after {\n",
       "  align-self: flex-end;\n",
       "  width: 50%;\n",
       "}\n",
       "\n",
       "#sk-container-id-1 div.sk-parallel-item:last-child::after {\n",
       "  align-self: flex-start;\n",
       "  width: 50%;\n",
       "}\n",
       "\n",
       "#sk-container-id-1 div.sk-parallel-item:only-child::after {\n",
       "  width: 0;\n",
       "}\n",
       "\n",
       "/* Serial-specific style estimator block */\n",
       "\n",
       "#sk-container-id-1 div.sk-serial {\n",
       "  display: flex;\n",
       "  flex-direction: column;\n",
       "  align-items: center;\n",
       "  background-color: var(--sklearn-color-background);\n",
       "  padding-right: 1em;\n",
       "  padding-left: 1em;\n",
       "}\n",
       "\n",
       "\n",
       "/* Toggleable style: style used for estimator/Pipeline/ColumnTransformer box that is\n",
       "clickable and can be expanded/collapsed.\n",
       "- Pipeline and ColumnTransformer use this feature and define the default style\n",
       "- Estimators will overwrite some part of the style using the `sk-estimator` class\n",
       "*/\n",
       "\n",
       "/* Pipeline and ColumnTransformer style (default) */\n",
       "\n",
       "#sk-container-id-1 div.sk-toggleable {\n",
       "  /* Default theme specific background. It is overwritten whether we have a\n",
       "  specific estimator or a Pipeline/ColumnTransformer */\n",
       "  background-color: var(--sklearn-color-background);\n",
       "}\n",
       "\n",
       "/* Toggleable label */\n",
       "#sk-container-id-1 label.sk-toggleable__label {\n",
       "  cursor: pointer;\n",
       "  display: flex;\n",
       "  width: 100%;\n",
       "  margin-bottom: 0;\n",
       "  padding: 0.5em;\n",
       "  box-sizing: border-box;\n",
       "  text-align: center;\n",
       "  align-items: start;\n",
       "  justify-content: space-between;\n",
       "  gap: 0.5em;\n",
       "}\n",
       "\n",
       "#sk-container-id-1 label.sk-toggleable__label .caption {\n",
       "  font-size: 0.6rem;\n",
       "  font-weight: lighter;\n",
       "  color: var(--sklearn-color-text-muted);\n",
       "}\n",
       "\n",
       "#sk-container-id-1 label.sk-toggleable__label-arrow:before {\n",
       "  /* Arrow on the left of the label */\n",
       "  content: \"▸\";\n",
       "  float: left;\n",
       "  margin-right: 0.25em;\n",
       "  color: var(--sklearn-color-icon);\n",
       "}\n",
       "\n",
       "#sk-container-id-1 label.sk-toggleable__label-arrow:hover:before {\n",
       "  color: var(--sklearn-color-text);\n",
       "}\n",
       "\n",
       "/* Toggleable content - dropdown */\n",
       "\n",
       "#sk-container-id-1 div.sk-toggleable__content {\n",
       "  max-height: 0;\n",
       "  max-width: 0;\n",
       "  overflow: hidden;\n",
       "  text-align: left;\n",
       "  /* unfitted */\n",
       "  background-color: var(--sklearn-color-unfitted-level-0);\n",
       "}\n",
       "\n",
       "#sk-container-id-1 div.sk-toggleable__content.fitted {\n",
       "  /* fitted */\n",
       "  background-color: var(--sklearn-color-fitted-level-0);\n",
       "}\n",
       "\n",
       "#sk-container-id-1 div.sk-toggleable__content pre {\n",
       "  margin: 0.2em;\n",
       "  border-radius: 0.25em;\n",
       "  color: var(--sklearn-color-text);\n",
       "  /* unfitted */\n",
       "  background-color: var(--sklearn-color-unfitted-level-0);\n",
       "}\n",
       "\n",
       "#sk-container-id-1 div.sk-toggleable__content.fitted pre {\n",
       "  /* unfitted */\n",
       "  background-color: var(--sklearn-color-fitted-level-0);\n",
       "}\n",
       "\n",
       "#sk-container-id-1 input.sk-toggleable__control:checked~div.sk-toggleable__content {\n",
       "  /* Expand drop-down */\n",
       "  max-height: 200px;\n",
       "  max-width: 100%;\n",
       "  overflow: auto;\n",
       "}\n",
       "\n",
       "#sk-container-id-1 input.sk-toggleable__control:checked~label.sk-toggleable__label-arrow:before {\n",
       "  content: \"▾\";\n",
       "}\n",
       "\n",
       "/* Pipeline/ColumnTransformer-specific style */\n",
       "\n",
       "#sk-container-id-1 div.sk-label input.sk-toggleable__control:checked~label.sk-toggleable__label {\n",
       "  color: var(--sklearn-color-text);\n",
       "  background-color: var(--sklearn-color-unfitted-level-2);\n",
       "}\n",
       "\n",
       "#sk-container-id-1 div.sk-label.fitted input.sk-toggleable__control:checked~label.sk-toggleable__label {\n",
       "  background-color: var(--sklearn-color-fitted-level-2);\n",
       "}\n",
       "\n",
       "/* Estimator-specific style */\n",
       "\n",
       "/* Colorize estimator box */\n",
       "#sk-container-id-1 div.sk-estimator input.sk-toggleable__control:checked~label.sk-toggleable__label {\n",
       "  /* unfitted */\n",
       "  background-color: var(--sklearn-color-unfitted-level-2);\n",
       "}\n",
       "\n",
       "#sk-container-id-1 div.sk-estimator.fitted input.sk-toggleable__control:checked~label.sk-toggleable__label {\n",
       "  /* fitted */\n",
       "  background-color: var(--sklearn-color-fitted-level-2);\n",
       "}\n",
       "\n",
       "#sk-container-id-1 div.sk-label label.sk-toggleable__label,\n",
       "#sk-container-id-1 div.sk-label label {\n",
       "  /* The background is the default theme color */\n",
       "  color: var(--sklearn-color-text-on-default-background);\n",
       "}\n",
       "\n",
       "/* On hover, darken the color of the background */\n",
       "#sk-container-id-1 div.sk-label:hover label.sk-toggleable__label {\n",
       "  color: var(--sklearn-color-text);\n",
       "  background-color: var(--sklearn-color-unfitted-level-2);\n",
       "}\n",
       "\n",
       "/* Label box, darken color on hover, fitted */\n",
       "#sk-container-id-1 div.sk-label.fitted:hover label.sk-toggleable__label.fitted {\n",
       "  color: var(--sklearn-color-text);\n",
       "  background-color: var(--sklearn-color-fitted-level-2);\n",
       "}\n",
       "\n",
       "/* Estimator label */\n",
       "\n",
       "#sk-container-id-1 div.sk-label label {\n",
       "  font-family: monospace;\n",
       "  font-weight: bold;\n",
       "  display: inline-block;\n",
       "  line-height: 1.2em;\n",
       "}\n",
       "\n",
       "#sk-container-id-1 div.sk-label-container {\n",
       "  text-align: center;\n",
       "}\n",
       "\n",
       "/* Estimator-specific */\n",
       "#sk-container-id-1 div.sk-estimator {\n",
       "  font-family: monospace;\n",
       "  border: 1px dotted var(--sklearn-color-border-box);\n",
       "  border-radius: 0.25em;\n",
       "  box-sizing: border-box;\n",
       "  margin-bottom: 0.5em;\n",
       "  /* unfitted */\n",
       "  background-color: var(--sklearn-color-unfitted-level-0);\n",
       "}\n",
       "\n",
       "#sk-container-id-1 div.sk-estimator.fitted {\n",
       "  /* fitted */\n",
       "  background-color: var(--sklearn-color-fitted-level-0);\n",
       "}\n",
       "\n",
       "/* on hover */\n",
       "#sk-container-id-1 div.sk-estimator:hover {\n",
       "  /* unfitted */\n",
       "  background-color: var(--sklearn-color-unfitted-level-2);\n",
       "}\n",
       "\n",
       "#sk-container-id-1 div.sk-estimator.fitted:hover {\n",
       "  /* fitted */\n",
       "  background-color: var(--sklearn-color-fitted-level-2);\n",
       "}\n",
       "\n",
       "/* Specification for estimator info (e.g. \"i\" and \"?\") */\n",
       "\n",
       "/* Common style for \"i\" and \"?\" */\n",
       "\n",
       ".sk-estimator-doc-link,\n",
       "a:link.sk-estimator-doc-link,\n",
       "a:visited.sk-estimator-doc-link {\n",
       "  float: right;\n",
       "  font-size: smaller;\n",
       "  line-height: 1em;\n",
       "  font-family: monospace;\n",
       "  background-color: var(--sklearn-color-background);\n",
       "  border-radius: 1em;\n",
       "  height: 1em;\n",
       "  width: 1em;\n",
       "  text-decoration: none !important;\n",
       "  margin-left: 0.5em;\n",
       "  text-align: center;\n",
       "  /* unfitted */\n",
       "  border: var(--sklearn-color-unfitted-level-1) 1pt solid;\n",
       "  color: var(--sklearn-color-unfitted-level-1);\n",
       "}\n",
       "\n",
       ".sk-estimator-doc-link.fitted,\n",
       "a:link.sk-estimator-doc-link.fitted,\n",
       "a:visited.sk-estimator-doc-link.fitted {\n",
       "  /* fitted */\n",
       "  border: var(--sklearn-color-fitted-level-1) 1pt solid;\n",
       "  color: var(--sklearn-color-fitted-level-1);\n",
       "}\n",
       "\n",
       "/* On hover */\n",
       "div.sk-estimator:hover .sk-estimator-doc-link:hover,\n",
       ".sk-estimator-doc-link:hover,\n",
       "div.sk-label-container:hover .sk-estimator-doc-link:hover,\n",
       ".sk-estimator-doc-link:hover {\n",
       "  /* unfitted */\n",
       "  background-color: var(--sklearn-color-unfitted-level-3);\n",
       "  color: var(--sklearn-color-background);\n",
       "  text-decoration: none;\n",
       "}\n",
       "\n",
       "div.sk-estimator.fitted:hover .sk-estimator-doc-link.fitted:hover,\n",
       ".sk-estimator-doc-link.fitted:hover,\n",
       "div.sk-label-container:hover .sk-estimator-doc-link.fitted:hover,\n",
       ".sk-estimator-doc-link.fitted:hover {\n",
       "  /* fitted */\n",
       "  background-color: var(--sklearn-color-fitted-level-3);\n",
       "  color: var(--sklearn-color-background);\n",
       "  text-decoration: none;\n",
       "}\n",
       "\n",
       "/* Span, style for the box shown on hovering the info icon */\n",
       ".sk-estimator-doc-link span {\n",
       "  display: none;\n",
       "  z-index: 9999;\n",
       "  position: relative;\n",
       "  font-weight: normal;\n",
       "  right: .2ex;\n",
       "  padding: .5ex;\n",
       "  margin: .5ex;\n",
       "  width: min-content;\n",
       "  min-width: 20ex;\n",
       "  max-width: 50ex;\n",
       "  color: var(--sklearn-color-text);\n",
       "  box-shadow: 2pt 2pt 4pt #999;\n",
       "  /* unfitted */\n",
       "  background: var(--sklearn-color-unfitted-level-0);\n",
       "  border: .5pt solid var(--sklearn-color-unfitted-level-3);\n",
       "}\n",
       "\n",
       ".sk-estimator-doc-link.fitted span {\n",
       "  /* fitted */\n",
       "  background: var(--sklearn-color-fitted-level-0);\n",
       "  border: var(--sklearn-color-fitted-level-3);\n",
       "}\n",
       "\n",
       ".sk-estimator-doc-link:hover span {\n",
       "  display: block;\n",
       "}\n",
       "\n",
       "/* \"?\"-specific style due to the `<a>` HTML tag */\n",
       "\n",
       "#sk-container-id-1 a.estimator_doc_link {\n",
       "  float: right;\n",
       "  font-size: 1rem;\n",
       "  line-height: 1em;\n",
       "  font-family: monospace;\n",
       "  background-color: var(--sklearn-color-background);\n",
       "  border-radius: 1rem;\n",
       "  height: 1rem;\n",
       "  width: 1rem;\n",
       "  text-decoration: none;\n",
       "  /* unfitted */\n",
       "  color: var(--sklearn-color-unfitted-level-1);\n",
       "  border: var(--sklearn-color-unfitted-level-1) 1pt solid;\n",
       "}\n",
       "\n",
       "#sk-container-id-1 a.estimator_doc_link.fitted {\n",
       "  /* fitted */\n",
       "  border: var(--sklearn-color-fitted-level-1) 1pt solid;\n",
       "  color: var(--sklearn-color-fitted-level-1);\n",
       "}\n",
       "\n",
       "/* On hover */\n",
       "#sk-container-id-1 a.estimator_doc_link:hover {\n",
       "  /* unfitted */\n",
       "  background-color: var(--sklearn-color-unfitted-level-3);\n",
       "  color: var(--sklearn-color-background);\n",
       "  text-decoration: none;\n",
       "}\n",
       "\n",
       "#sk-container-id-1 a.estimator_doc_link.fitted:hover {\n",
       "  /* fitted */\n",
       "  background-color: var(--sklearn-color-fitted-level-3);\n",
       "}\n",
       "</style><div id=\"sk-container-id-1\" class=\"sk-top-container\"><div class=\"sk-text-repr-fallback\"><pre>LinearRegression()</pre><b>In a Jupyter environment, please rerun this cell to show the HTML representation or trust the notebook. <br />On GitHub, the HTML representation is unable to render, please try loading this page with nbviewer.org.</b></div><div class=\"sk-container\" hidden><div class=\"sk-item\"><div class=\"sk-estimator fitted sk-toggleable\"><input class=\"sk-toggleable__control sk-hidden--visually\" id=\"sk-estimator-id-1\" type=\"checkbox\" checked><label for=\"sk-estimator-id-1\" class=\"sk-toggleable__label fitted sk-toggleable__label-arrow\"><div><div>LinearRegression</div></div><div><a class=\"sk-estimator-doc-link fitted\" rel=\"noreferrer\" target=\"_blank\" href=\"https://scikit-learn.org/1.6/modules/generated/sklearn.linear_model.LinearRegression.html\">?<span>Documentation for LinearRegression</span></a><span class=\"sk-estimator-doc-link fitted\">i<span>Fitted</span></span></div></label><div class=\"sk-toggleable__content fitted\"><pre>LinearRegression()</pre></div> </div></div></div></div>"
      ],
      "text/plain": [
       "LinearRegression()"
      ]
     },
     "execution_count": 12,
     "metadata": {},
     "output_type": "execute_result"
    }
   ],
   "source": [
    "from sklearn.linear_model import LinearRegression\n",
    "\n",
    "lr = LinearRegression()\n",
    "lr.fit(X_train, Y_train)"
   ]
  },
  {
   "cell_type": "code",
   "execution_count": 13,
   "metadata": {
    "_cell_guid": "79c7e3d0-c299-4dcb-8224-4455121ee9b0",
    "_uuid": "d629ff2d2480ee46fbb7e2d37f6b5fab8052498a",
    "trusted": true
   },
   "outputs": [
    {
     "name": "stdout",
     "output_type": "stream",
     "text": [
      "LR Coefficients: \n",
      " [ 8.63719064e-03  1.86051908e-01  1.55487070e-01  1.12263759e+00\n",
      "  1.27286690e-10  6.75244752e-03  1.40229159e-01  1.13219369e-01\n",
      "  4.25627835e-02  8.96348542e-02  1.01914955e-01  5.94183550e-02\n",
      "  7.95194243e-02  7.10400153e-02  2.71425020e-01  1.26724264e-01\n",
      "  8.79333131e-02 -5.87980428e-03 -3.31643407e-01 -3.31643407e-01\n",
      " -3.31643407e-01 -3.31643407e-01 -3.31643407e-01  1.88650010e+00\n",
      " -1.27270723e+00 -1.65042237e-01 -4.36658062e-04 -3.22487176e-12\n",
      " -5.07434593e-03  9.02936416e-03  5.78317335e-04  5.78317338e-04\n",
      " -5.57917860e-01 -2.02304840e-10  4.18930307e-11  1.69322437e-02\n",
      "  1.61636704e-02 -1.75659582e-02  6.12165520e-03  2.15420350e-01\n",
      "  1.13979655e-01 -2.41954674e-01  7.63050307e-02  3.73276597e-01\n",
      "  1.27675648e-15 -5.60843989e-02  4.08788805e-02  5.13473862e-01\n",
      " -2.94431540e-02 -8.41335080e-02  5.10939135e-02 -8.14435714e-03\n",
      " -1.95035195e-02  5.67587250e-02  4.39707788e-02  1.29311738e-02\n",
      " -9.99967544e-03 -3.89778364e-03 -1.62174814e-03  1.44436900e-03\n",
      "  2.83455424e-04]\n",
      "LR Intercept: \n",
      " -83.36486391897508\n"
     ]
    }
   ],
   "source": [
    "print('LR Coefficients: \\n', lr.coef_)\n",
    "print('LR Intercept: \\n', lr.intercept_)"
   ]
  },
  {
   "cell_type": "markdown",
   "metadata": {},
   "source": [
    "### Evaluation"
   ]
  },
  {
   "cell_type": "code",
   "execution_count": 14,
   "metadata": {
    "trusted": true
   },
   "outputs": [
    {
     "name": "stdout",
     "output_type": "stream",
     "text": [
      "Performance (R^2):  0.9994516474373267\n"
     ]
    }
   ],
   "source": [
    "print(\"Performance (R^2): \", lr.score(X_train, Y_train))"
   ]
  },
  {
   "cell_type": "code",
   "execution_count": 15,
   "metadata": {
    "trusted": true
   },
   "outputs": [],
   "source": [
    "def get_mape(y_true, y_pred): \n",
    "    \"\"\"\n",
    "    Compute mean absolute percentage error (MAPE)\n",
    "    \"\"\"\n",
    "    y_true, y_pred = np.array(y_true), np.array(y_pred)\n",
    "    return np.mean(np.abs((y_true - y_pred) / y_true)) * 100"
   ]
  },
  {
   "cell_type": "markdown",
   "metadata": {},
   "source": [
    "### Predict for the test dataset"
   ]
  },
  {
   "cell_type": "code",
   "execution_count": 16,
   "metadata": {
    "trusted": true
   },
   "outputs": [],
   "source": [
    "Y_train_pred = lr.predict(X_train)\n",
    "Y_val_pred = lr.predict(X_val)\n",
    "Y_test_pred = lr.predict(X_test)"
   ]
  },
  {
   "cell_type": "code",
   "execution_count": 17,
   "metadata": {
    "trusted": true
   },
   "outputs": [
    {
     "name": "stdout",
     "output_type": "stream",
     "text": [
      "Training R-squared:  1.0\n",
      "Training Explained Variation:  1.0\n",
      "Training MAPE: 1.45\n",
      "Training Mean Squared Error: 1.48\n",
      "Training RMSE:  1.22\n",
      "Training MAE:  0.76\n",
      " \n",
      "Validation R-squared:  0.99\n",
      "Validation Explained Variation:  0.99\n",
      "Validation MAPE: 1.68\n",
      "Validation Mean Squared Error: 1.48\n",
      "Validation RMSE:  5.91\n",
      "Validation MAE:  3.75\n",
      " \n",
      "Test R-squared:  0.96\n",
      "Test Explained Variation:  0.97\n",
      "Test MAPE: 1.77\n",
      "Test Mean Squared Error: 79.21\n",
      "Test RMSE:  8.9\n",
      "Test MAE:  6.5\n"
     ]
    }
   ],
   "source": [
    "print(\"Training R-squared: \",round(metrics.r2_score(Y_train,Y_train_pred),2))\n",
    "print(\"Training Explained Variation: \",round(metrics.explained_variance_score(Y_train,Y_train_pred),2))\n",
    "print('Training MAPE:', round(get_mape(Y_train,Y_train_pred), 2)) \n",
    "print('Training Mean Squared Error:', round(metrics.mean_squared_error(Y_train,Y_train_pred), 2)) \n",
    "print(\"Training RMSE: \",round(np.sqrt(metrics.mean_squared_error(Y_train,Y_train_pred)),2))\n",
    "print(\"Training MAE: \",round(metrics.mean_absolute_error(Y_train,Y_train_pred),2))\n",
    "\n",
    "print(' ')\n",
    "\n",
    "print(\"Validation R-squared: \",round(metrics.r2_score(Y_val,Y_val_pred),2))\n",
    "print(\"Validation Explained Variation: \",round(metrics.explained_variance_score(Y_val,Y_val_pred),2))\n",
    "print('Validation MAPE:', round(get_mape(Y_val,Y_val_pred), 2)) \n",
    "print('Validation Mean Squared Error:', round(metrics.mean_squared_error(Y_train,Y_train_pred), 2)) \n",
    "print(\"Validation RMSE: \",round(np.sqrt(metrics.mean_squared_error(Y_val,Y_val_pred)),2))\n",
    "print(\"Validation MAE: \",round(metrics.mean_absolute_error(Y_val,Y_val_pred),2))\n",
    "\n",
    "print(' ')\n",
    "\n",
    "print(\"Test R-squared: \",round(metrics.r2_score(Y_test,Y_test_pred),2))\n",
    "print(\"Test Explained Variation: \",round(metrics.explained_variance_score(Y_test,Y_test_pred),2))\n",
    "print('Test MAPE:', round(get_mape(Y_test,Y_test_pred), 2)) \n",
    "print('Test Mean Squared Error:', round(metrics.mean_squared_error(Y_test,Y_test_pred), 2)) \n",
    "print(\"Test RMSE: \",round(np.sqrt(metrics.mean_squared_error(Y_test,Y_test_pred)),2))\n",
    "print(\"Test MAE: \",round(metrics.mean_absolute_error(Y_test,Y_test_pred),2))"
   ]
  },
  {
   "cell_type": "markdown",
   "metadata": {},
   "source": [
    "We have a decent Mean Absolute error but not great. I will create further tuned models in later notebooks. This is just to get you started with the dataset."
   ]
  },
  {
   "cell_type": "code",
   "execution_count": 18,
   "metadata": {
    "trusted": true
   },
   "outputs": [
    {
     "data": {
      "application/vnd.microsoft.datawrangler.viewer.v0+json": {
       "columns": [
        {
         "name": "index",
         "rawType": "int64",
         "type": "integer"
        },
        {
         "name": "Date",
         "rawType": "object",
         "type": "unknown"
        },
        {
         "name": "Actual",
         "rawType": "float64",
         "type": "float"
        },
        {
         "name": "Predicted",
         "rawType": "float64",
         "type": "float"
        }
       ],
       "conversionMethod": "pd.DataFrame",
       "ref": "1afb9f5d-3032-47fb-8d07-ad18564c6b06",
       "rows": [
        [
         "0",
         "2018-11-01 00:00:00",
         "202.3",
         "216.28977776535243"
        ],
        [
         "1",
         "2018-11-02 00:00:00",
         "196.56",
         "201.47018251304672"
        ],
        [
         "2",
         "2018-11-05 00:00:00",
         "198.68",
         "195.9489329969179"
        ],
        [
         "3",
         "2018-11-06 00:00:00",
         "204.71",
         "199.04360153440075"
        ],
        [
         "4",
         "2018-11-07 00:00:00",
         "204.0",
         "204.1936662012747"
        ],
        [
         "5",
         "2018-11-08 00:00:00",
         "200.06",
         "203.76742548388955"
        ],
        [
         "6",
         "2018-11-09 00:00:00",
         "189.99",
         "199.82463636626937"
        ],
        [
         "7",
         "2018-11-12 00:00:00",
         "188.09",
         "190.78179721093568"
        ],
        [
         "8",
         "2018-11-13 00:00:00",
         "182.77",
         "189.85077127800542"
        ],
        [
         "9",
         "2018-11-14 00:00:00",
         "187.28",
         "184.316900136804"
        ],
        [
         "10",
         "2018-11-15 00:00:00",
         "189.36",
         "188.22314065950377"
        ],
        [
         "11",
         "2018-11-16 00:00:00",
         "181.85",
         "189.72485511860776"
        ],
        [
         "12",
         "2018-11-19 00:00:00",
         "173.17",
         "182.48407869341662"
        ],
        [
         "13",
         "2018-11-20 00:00:00",
         "172.97",
         "174.9037582409092"
        ],
        [
         "14",
         "2018-11-21 00:00:00",
         "168.58",
         "175.24386587719624"
        ],
        [
         "15",
         "2018-11-23 00:00:00",
         "170.86",
         "170.53519608232847"
        ],
        [
         "16",
         "2018-11-26 00:00:00",
         "170.48",
         "171.91230697261136"
        ],
        [
         "17",
         "2018-11-27 00:00:00",
         "177.04",
         "171.39089925493283"
        ],
        [
         "18",
         "2018-11-28 00:00:00",
         "175.68",
         "177.663632150335"
        ],
        [
         "19",
         "2018-11-29 00:00:00",
         "174.73",
         "176.8208517989197"
        ],
        [
         "20",
         "2018-11-30 00:00:00",
         "180.84",
         "175.93967543570642"
        ],
        [
         "21",
         "2018-12-03 00:00:00",
         "172.88",
         "181.74203196211903"
        ],
        [
         "22",
         "2018-12-04 00:00:00",
         "170.95",
         "173.64119331548386"
        ],
        [
         "23",
         "2018-12-06 00:00:00",
         "164.86",
         "171.31588829708517"
        ],
        [
         "24",
         "2018-12-07 00:00:00",
         "165.94",
         "165.93209646786755"
        ],
        [
         "25",
         "2018-12-10 00:00:00",
         "165.0",
         "165.91370669996803"
        ],
        [
         "26",
         "2018-12-11 00:00:00",
         "165.46",
         "165.49746645351047"
        ],
        [
         "27",
         "2018-12-12 00:00:00",
         "167.27",
         "166.57496629733032"
        ],
        [
         "28",
         "2018-12-13 00:00:00",
         "161.91",
         "168.12473724316743"
        ],
        [
         "29",
         "2018-12-14 00:00:00",
         "160.41",
         "162.80962538806455"
        ],
        [
         "30",
         "2018-12-17 00:00:00",
         "162.49",
         "162.15317621440255"
        ],
        [
         "31",
         "2018-12-18 00:00:00",
         "157.42",
         "163.46344983769558"
        ],
        [
         "32",
         "2018-12-19 00:00:00",
         "153.45",
         "158.20441594712406"
        ],
        [
         "33",
         "2018-12-20 00:00:00",
         "147.48",
         "155.36445454600067"
        ],
        [
         "34",
         "2018-12-21 00:00:00",
         "143.67",
         "149.80990329496717"
        ],
        [
         "35",
         "2018-12-24 00:00:00",
         "153.78",
         "146.73457182283425"
        ],
        [
         "36",
         "2018-12-26 00:00:00",
         "152.78",
         "155.3088283876346"
        ],
        [
         "37",
         "2018-12-27 00:00:00",
         "152.86",
         "152.82331669733304"
        ],
        [
         "38",
         "2018-12-28 00:00:00",
         "154.34",
         "154.80933427707993"
        ],
        [
         "39",
         "2018-12-31 00:00:00",
         "154.52",
         "156.63283524766496"
        ],
        [
         "40",
         "2019-01-02 00:00:00",
         "139.13",
         "155.6947688359395"
        ],
        [
         "41",
         "2019-01-03 00:00:00",
         "145.06",
         "139.45336650547085"
        ],
        [
         "42",
         "2019-01-04 00:00:00",
         "144.74",
         "145.98161275853454"
        ],
        [
         "43",
         "2019-01-07 00:00:00",
         "147.5",
         "145.08219578660845"
        ],
        [
         "44",
         "2019-01-08 00:00:00",
         "150.01",
         "148.05187260156868"
        ],
        [
         "45",
         "2019-01-09 00:00:00",
         "150.49",
         "151.17051144172615"
        ],
        [
         "46",
         "2019-01-10 00:00:00",
         "149.01",
         "150.51771619021144"
        ],
        [
         "47",
         "2019-01-11 00:00:00",
         "146.77",
         "149.66321481457487"
        ],
        [
         "48",
         "2019-01-14 00:00:00",
         "149.77",
         "147.0519963086872"
        ],
        [
         "49",
         "2019-01-15 00:00:00",
         "151.6",
         "150.0507674818232"
        ]
       ],
       "shape": {
        "columns": 3,
        "rows": 373
       }
      },
      "text/html": [
       "<div>\n",
       "<style scoped>\n",
       "    .dataframe tbody tr th:only-of-type {\n",
       "        vertical-align: middle;\n",
       "    }\n",
       "\n",
       "    .dataframe tbody tr th {\n",
       "        vertical-align: top;\n",
       "    }\n",
       "\n",
       "    .dataframe thead th {\n",
       "        text-align: right;\n",
       "    }\n",
       "</style>\n",
       "<table border=\"1\" class=\"dataframe\">\n",
       "  <thead>\n",
       "    <tr style=\"text-align: right;\">\n",
       "      <th></th>\n",
       "      <th>Date</th>\n",
       "      <th>Actual</th>\n",
       "      <th>Predicted</th>\n",
       "    </tr>\n",
       "  </thead>\n",
       "  <tbody>\n",
       "    <tr>\n",
       "      <th>0</th>\n",
       "      <td>2018-11-01 00:00:00</td>\n",
       "      <td>202.30</td>\n",
       "      <td>216.289778</td>\n",
       "    </tr>\n",
       "    <tr>\n",
       "      <th>1</th>\n",
       "      <td>2018-11-02 00:00:00</td>\n",
       "      <td>196.56</td>\n",
       "      <td>201.470183</td>\n",
       "    </tr>\n",
       "    <tr>\n",
       "      <th>2</th>\n",
       "      <td>2018-11-05 00:00:00</td>\n",
       "      <td>198.68</td>\n",
       "      <td>195.948933</td>\n",
       "    </tr>\n",
       "    <tr>\n",
       "      <th>3</th>\n",
       "      <td>2018-11-06 00:00:00</td>\n",
       "      <td>204.71</td>\n",
       "      <td>199.043602</td>\n",
       "    </tr>\n",
       "    <tr>\n",
       "      <th>4</th>\n",
       "      <td>2018-11-07 00:00:00</td>\n",
       "      <td>204.00</td>\n",
       "      <td>204.193666</td>\n",
       "    </tr>\n",
       "    <tr>\n",
       "      <th>...</th>\n",
       "      <td>...</td>\n",
       "      <td>...</td>\n",
       "      <td>...</td>\n",
       "    </tr>\n",
       "    <tr>\n",
       "      <th>368</th>\n",
       "      <td>2020-04-22 00:00:00</td>\n",
       "      <td>273.79</td>\n",
       "      <td>275.751755</td>\n",
       "    </tr>\n",
       "    <tr>\n",
       "      <th>369</th>\n",
       "      <td>2020-04-23 00:00:00</td>\n",
       "      <td>281.70</td>\n",
       "      <td>274.020243</td>\n",
       "    </tr>\n",
       "    <tr>\n",
       "      <th>370</th>\n",
       "      <td>2020-04-24 00:00:00</td>\n",
       "      <td>281.90</td>\n",
       "      <td>280.710044</td>\n",
       "    </tr>\n",
       "    <tr>\n",
       "      <th>371</th>\n",
       "      <td>2020-04-27 00:00:00</td>\n",
       "      <td>277.33</td>\n",
       "      <td>280.543603</td>\n",
       "    </tr>\n",
       "    <tr>\n",
       "      <th>372</th>\n",
       "      <td>2020-04-28 00:00:00</td>\n",
       "      <td>286.44</td>\n",
       "      <td>276.562125</td>\n",
       "    </tr>\n",
       "  </tbody>\n",
       "</table>\n",
       "<p>373 rows × 3 columns</p>\n",
       "</div>"
      ],
      "text/plain": [
       "                    Date  Actual   Predicted\n",
       "0    2018-11-01 00:00:00  202.30  216.289778\n",
       "1    2018-11-02 00:00:00  196.56  201.470183\n",
       "2    2018-11-05 00:00:00  198.68  195.948933\n",
       "3    2018-11-06 00:00:00  204.71  199.043602\n",
       "4    2018-11-07 00:00:00  204.00  204.193666\n",
       "..                   ...     ...         ...\n",
       "368  2020-04-22 00:00:00  273.79  275.751755\n",
       "369  2020-04-23 00:00:00  281.70  274.020243\n",
       "370  2020-04-24 00:00:00  281.90  280.710044\n",
       "371  2020-04-27 00:00:00  277.33  280.543603\n",
       "372  2020-04-28 00:00:00  286.44  276.562125\n",
       "\n",
       "[373 rows x 3 columns]"
      ]
     },
     "execution_count": 18,
     "metadata": {},
     "output_type": "execute_result"
    }
   ],
   "source": [
    "df_pred = pd.DataFrame(Y_val.values, columns=['Actual'], index=Y_val.index)\n",
    "df_pred['Predicted'] = Y_val_pred\n",
    "df_pred = df_pred.reset_index()\n",
    "df_pred.loc[:, 'Date'] = pd.to_datetime(df_pred['Date'],format='%Y-%m-%d')\n",
    "df_pred"
   ]
  },
  {
   "cell_type": "markdown",
   "metadata": {},
   "source": [
    "### Plot Predicted vs Actual Prices on Time Series plot"
   ]
  },
  {
   "cell_type": "code",
   "execution_count": 19,
   "metadata": {
    "trusted": true
   },
   "outputs": [
    {
     "data": {
      "text/plain": [
       "<Axes: >"
      ]
     },
     "execution_count": 19,
     "metadata": {},
     "output_type": "execute_result"
    }
   ],
   "source": [
    "df_pred[['Actual', 'Predicted']].plot()"
   ]
  },
  {
   "cell_type": "markdown",
   "metadata": {},
   "source": [
    "Overall the Predictions looks good for the test data! "
   ]
  },
  {
   "cell_type": "markdown",
   "metadata": {},
   "source": [
    "### Future Notebooks\n",
    "\n",
    "I will create a Notebook explaining how I have extracted this data using only OHLC(Open High Low Close) data and a custom pipeline"
   ]
  }
 ],
 "metadata": {
  "kernelspec": {
   "display_name": "Python 3",
   "language": "python",
   "name": "python3"
  },
  "language_info": {
   "codemirror_mode": {
    "name": "ipython",
    "version": 3
   },
   "file_extension": ".py",
   "mimetype": "text/x-python",
   "name": "python",
   "nbconvert_exporter": "python",
   "pygments_lexer": "ipython3",
   "version": "3.11.11"
  }
 },
 "nbformat": 4,
 "nbformat_minor": 4
}
