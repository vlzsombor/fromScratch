{
 "cells": [
  {
   "cell_type": "code",
   "execution_count": 4,
   "id": "1e567cba",
   "metadata": {
    "_cell_guid": "b1076dfc-b9ad-4769-8c92-a6c4dae69d19",
    "_uuid": "8f2839f25d086af736a60e9eeb907d3b93b6e0e5",
    "execution": {
     "iopub.execute_input": "2024-05-11T09:14:43.303034Z",
     "iopub.status.busy": "2024-05-11T09:14:43.302605Z",
     "iopub.status.idle": "2024-05-11T09:14:44.412872Z",
     "shell.execute_reply": "2024-05-11T09:14:44.410084Z"
    },
    "papermill": {
     "duration": 1.126522,
     "end_time": "2024-05-11T09:14:44.416175",
     "exception": false,
     "start_time": "2024-05-11T09:14:43.289653",
     "status": "completed"
    },
    "tags": []
   },
   "outputs": [],
   "source": [
    "# This Python 3 environment comes with many helpful analytics libraries installed\n",
    "# It is defined by the kaggle/python Docker image: https://github.com/kaggle/docker-python\n",
    "# For example, here's several helpful packages to load\n",
    "\n",
    "import numpy as np # linear algebra\n",
    "import pandas as pd # data processing, CSV file I/O (e.g. pd.read_csv)\n",
    "\n",
    "# Input data files are available in the read-only \"../input/\" directory\n",
    "# For example, running this (by clicking run or pressing Shift+Enter) will list all files under the input directory\n",
    "\n",
    "import os\n",
    "for dirname, _, filenames in os.walk('/kaggle/input'):\n",
    "    for filename in filenames:\n",
    "        print(os.path.join(dirname, filename))\n",
    "\n",
    "# You can write up to 20GB to the current directory (/kaggle/working/) that gets preserved as output when you create a version using \"Save & Run All\" \n",
    "# You can also write temporary files to /kaggle/temp/, but they won't be saved outside of the current session"
   ]
  },
  {
   "cell_type": "code",
   "execution_count": 5,
   "id": "cf524dea",
   "metadata": {
    "execution": {
     "iopub.execute_input": "2024-05-11T09:14:44.440152Z",
     "iopub.status.busy": "2024-05-11T09:14:44.439562Z",
     "iopub.status.idle": "2024-05-11T09:14:44.463334Z",
     "shell.execute_reply": "2024-05-11T09:14:44.462103Z"
    },
    "papermill": {
     "duration": 0.038605,
     "end_time": "2024-05-11T09:14:44.466000",
     "exception": false,
     "start_time": "2024-05-11T09:14:44.427395",
     "status": "completed"
    },
    "tags": []
   },
   "outputs": [],
   "source": [
    "df=pd.read_csv('Salary Data.csv')"
   ]
  },
  {
   "cell_type": "code",
   "execution_count": 6,
   "id": "1de8167f",
   "metadata": {
    "execution": {
     "iopub.execute_input": "2024-05-11T09:14:44.490549Z",
     "iopub.status.busy": "2024-05-11T09:14:44.490149Z",
     "iopub.status.idle": "2024-05-11T09:14:44.520414Z",
     "shell.execute_reply": "2024-05-11T09:14:44.519272Z"
    },
    "papermill": {
     "duration": 0.045356,
     "end_time": "2024-05-11T09:14:44.523060",
     "exception": false,
     "start_time": "2024-05-11T09:14:44.477704",
     "status": "completed"
    },
    "tags": []
   },
   "outputs": [
    {
     "data": {
      "application/vnd.microsoft.datawrangler.viewer.v0+json": {
       "columns": [
        {
         "name": "index",
         "rawType": "int64",
         "type": "integer"
        },
        {
         "name": "Age",
         "rawType": "float64",
         "type": "float"
        },
        {
         "name": "Gender",
         "rawType": "object",
         "type": "string"
        },
        {
         "name": "Education Level",
         "rawType": "object",
         "type": "string"
        },
        {
         "name": "Job Title",
         "rawType": "object",
         "type": "string"
        },
        {
         "name": "Years of Experience",
         "rawType": "float64",
         "type": "float"
        },
        {
         "name": "Salary",
         "rawType": "float64",
         "type": "float"
        }
       ],
       "conversionMethod": "pd.DataFrame",
       "ref": "ad7bc157-aa46-4693-a14b-93247716e23e",
       "rows": [
        [
         "0",
         "32.0",
         "Male",
         "Bachelor's",
         "Software Engineer",
         "5.0",
         "90000.0"
        ],
        [
         "1",
         "28.0",
         "Female",
         "Master's",
         "Data Analyst",
         "3.0",
         "65000.0"
        ],
        [
         "2",
         "45.0",
         "Male",
         "PhD",
         "Senior Manager",
         "15.0",
         "150000.0"
        ],
        [
         "3",
         "36.0",
         "Female",
         "Bachelor's",
         "Sales Associate",
         "7.0",
         "60000.0"
        ],
        [
         "4",
         "52.0",
         "Male",
         "Master's",
         "Director",
         "20.0",
         "200000.0"
        ]
       ],
       "shape": {
        "columns": 6,
        "rows": 5
       }
      },
      "text/html": [
       "<div>\n",
       "<style scoped>\n",
       "    .dataframe tbody tr th:only-of-type {\n",
       "        vertical-align: middle;\n",
       "    }\n",
       "\n",
       "    .dataframe tbody tr th {\n",
       "        vertical-align: top;\n",
       "    }\n",
       "\n",
       "    .dataframe thead th {\n",
       "        text-align: right;\n",
       "    }\n",
       "</style>\n",
       "<table border=\"1\" class=\"dataframe\">\n",
       "  <thead>\n",
       "    <tr style=\"text-align: right;\">\n",
       "      <th></th>\n",
       "      <th>Age</th>\n",
       "      <th>Gender</th>\n",
       "      <th>Education Level</th>\n",
       "      <th>Job Title</th>\n",
       "      <th>Years of Experience</th>\n",
       "      <th>Salary</th>\n",
       "    </tr>\n",
       "  </thead>\n",
       "  <tbody>\n",
       "    <tr>\n",
       "      <th>0</th>\n",
       "      <td>32.0</td>\n",
       "      <td>Male</td>\n",
       "      <td>Bachelor's</td>\n",
       "      <td>Software Engineer</td>\n",
       "      <td>5.0</td>\n",
       "      <td>90000.0</td>\n",
       "    </tr>\n",
       "    <tr>\n",
       "      <th>1</th>\n",
       "      <td>28.0</td>\n",
       "      <td>Female</td>\n",
       "      <td>Master's</td>\n",
       "      <td>Data Analyst</td>\n",
       "      <td>3.0</td>\n",
       "      <td>65000.0</td>\n",
       "    </tr>\n",
       "    <tr>\n",
       "      <th>2</th>\n",
       "      <td>45.0</td>\n",
       "      <td>Male</td>\n",
       "      <td>PhD</td>\n",
       "      <td>Senior Manager</td>\n",
       "      <td>15.0</td>\n",
       "      <td>150000.0</td>\n",
       "    </tr>\n",
       "    <tr>\n",
       "      <th>3</th>\n",
       "      <td>36.0</td>\n",
       "      <td>Female</td>\n",
       "      <td>Bachelor's</td>\n",
       "      <td>Sales Associate</td>\n",
       "      <td>7.0</td>\n",
       "      <td>60000.0</td>\n",
       "    </tr>\n",
       "    <tr>\n",
       "      <th>4</th>\n",
       "      <td>52.0</td>\n",
       "      <td>Male</td>\n",
       "      <td>Master's</td>\n",
       "      <td>Director</td>\n",
       "      <td>20.0</td>\n",
       "      <td>200000.0</td>\n",
       "    </tr>\n",
       "  </tbody>\n",
       "</table>\n",
       "</div>"
      ],
      "text/plain": [
       "    Age  Gender Education Level          Job Title  Years of Experience  \\\n",
       "0  32.0    Male      Bachelor's  Software Engineer                  5.0   \n",
       "1  28.0  Female        Master's       Data Analyst                  3.0   \n",
       "2  45.0    Male             PhD     Senior Manager                 15.0   \n",
       "3  36.0  Female      Bachelor's    Sales Associate                  7.0   \n",
       "4  52.0    Male        Master's           Director                 20.0   \n",
       "\n",
       "     Salary  \n",
       "0   90000.0  \n",
       "1   65000.0  \n",
       "2  150000.0  \n",
       "3   60000.0  \n",
       "4  200000.0  "
      ]
     },
     "execution_count": 6,
     "metadata": {},
     "output_type": "execute_result"
    }
   ],
   "source": [
    "# to display the first 5 data's\n",
    "df.head()"
   ]
  },
  {
   "cell_type": "code",
   "execution_count": 7,
   "id": "cd3c97ad",
   "metadata": {
    "execution": {
     "iopub.execute_input": "2024-05-11T09:14:44.547317Z",
     "iopub.status.busy": "2024-05-11T09:14:44.546893Z",
     "iopub.status.idle": "2024-05-11T09:14:44.553807Z",
     "shell.execute_reply": "2024-05-11T09:14:44.552732Z"
    },
    "papermill": {
     "duration": 0.02181,
     "end_time": "2024-05-11T09:14:44.556273",
     "exception": false,
     "start_time": "2024-05-11T09:14:44.534463",
     "status": "completed"
    },
    "tags": []
   },
   "outputs": [
    {
     "data": {
      "text/plain": [
       "(375, 6)"
      ]
     },
     "execution_count": 7,
     "metadata": {},
     "output_type": "execute_result"
    }
   ],
   "source": [
    "# to display about the total number of rows and columns in the dataset\n",
    "df.shape"
   ]
  },
  {
   "cell_type": "code",
   "execution_count": 8,
   "id": "9d396d6c",
   "metadata": {
    "execution": {
     "iopub.execute_input": "2024-05-11T09:14:44.581385Z",
     "iopub.status.busy": "2024-05-11T09:14:44.580976Z",
     "iopub.status.idle": "2024-05-11T09:14:44.610873Z",
     "shell.execute_reply": "2024-05-11T09:14:44.609786Z"
    },
    "papermill": {
     "duration": 0.045176,
     "end_time": "2024-05-11T09:14:44.613315",
     "exception": false,
     "start_time": "2024-05-11T09:14:44.568139",
     "status": "completed"
    },
    "tags": []
   },
   "outputs": [
    {
     "name": "stdout",
     "output_type": "stream",
     "text": [
      "<class 'pandas.core.frame.DataFrame'>\n",
      "RangeIndex: 375 entries, 0 to 374\n",
      "Data columns (total 6 columns):\n",
      " #   Column               Non-Null Count  Dtype  \n",
      "---  ------               --------------  -----  \n",
      " 0   Age                  373 non-null    float64\n",
      " 1   Gender               373 non-null    object \n",
      " 2   Education Level      373 non-null    object \n",
      " 3   Job Title            373 non-null    object \n",
      " 4   Years of Experience  373 non-null    float64\n",
      " 5   Salary               373 non-null    float64\n",
      "dtypes: float64(3), object(3)\n",
      "memory usage: 17.7+ KB\n"
     ]
    }
   ],
   "source": [
    "# to get detail information about the datset\n",
    "df.info()"
   ]
  },
  {
   "cell_type": "code",
   "execution_count": 9,
   "id": "e9656a20",
   "metadata": {
    "execution": {
     "iopub.execute_input": "2024-05-11T09:14:44.638090Z",
     "iopub.status.busy": "2024-05-11T09:14:44.637657Z",
     "iopub.status.idle": "2024-05-11T09:14:44.647057Z",
     "shell.execute_reply": "2024-05-11T09:14:44.645940Z"
    },
    "papermill": {
     "duration": 0.024663,
     "end_time": "2024-05-11T09:14:44.649504",
     "exception": false,
     "start_time": "2024-05-11T09:14:44.624841",
     "status": "completed"
    },
    "tags": []
   },
   "outputs": [
    {
     "data": {
      "text/plain": [
       "Age                    2\n",
       "Gender                 2\n",
       "Education Level        2\n",
       "Job Title              2\n",
       "Years of Experience    2\n",
       "Salary                 2\n",
       "dtype: int64"
      ]
     },
     "execution_count": 9,
     "metadata": {},
     "output_type": "execute_result"
    }
   ],
   "source": [
    "# to know about how may data's are null in the dataframe\n",
    "df.isnull().sum()"
   ]
  },
  {
   "cell_type": "code",
   "execution_count": 10,
   "id": "c5cdea76",
   "metadata": {
    "execution": {
     "iopub.execute_input": "2024-05-11T09:14:44.675416Z",
     "iopub.status.busy": "2024-05-11T09:14:44.674977Z",
     "iopub.status.idle": "2024-05-11T09:14:44.699499Z",
     "shell.execute_reply": "2024-05-11T09:14:44.698292Z"
    },
    "papermill": {
     "duration": 0.039989,
     "end_time": "2024-05-11T09:14:44.701972",
     "exception": false,
     "start_time": "2024-05-11T09:14:44.661983",
     "status": "completed"
    },
    "tags": []
   },
   "outputs": [
    {
     "data": {
      "application/vnd.microsoft.datawrangler.viewer.v0+json": {
       "columns": [
        {
         "name": "index",
         "rawType": "object",
         "type": "string"
        },
        {
         "name": "Age",
         "rawType": "float64",
         "type": "float"
        },
        {
         "name": "Years of Experience",
         "rawType": "float64",
         "type": "float"
        },
        {
         "name": "Salary",
         "rawType": "float64",
         "type": "float"
        }
       ],
       "conversionMethod": "pd.DataFrame",
       "ref": "a5711fd2-d9a0-4271-aaec-fb303ff5dbb1",
       "rows": [
        [
         "count",
         "373.0",
         "373.0",
         "373.0"
        ],
        [
         "mean",
         "37.43163538873995",
         "10.03083109919571",
         "100577.34584450402"
        ],
        [
         "std",
         "7.069072938567497",
         "6.557007136414243",
         "48240.0134818827"
        ],
        [
         "min",
         "23.0",
         "0.0",
         "350.0"
        ],
        [
         "25%",
         "31.0",
         "4.0",
         "55000.0"
        ],
        [
         "50%",
         "36.0",
         "9.0",
         "95000.0"
        ],
        [
         "75%",
         "44.0",
         "15.0",
         "140000.0"
        ],
        [
         "max",
         "53.0",
         "25.0",
         "250000.0"
        ]
       ],
       "shape": {
        "columns": 3,
        "rows": 8
       }
      },
      "text/html": [
       "<div>\n",
       "<style scoped>\n",
       "    .dataframe tbody tr th:only-of-type {\n",
       "        vertical-align: middle;\n",
       "    }\n",
       "\n",
       "    .dataframe tbody tr th {\n",
       "        vertical-align: top;\n",
       "    }\n",
       "\n",
       "    .dataframe thead th {\n",
       "        text-align: right;\n",
       "    }\n",
       "</style>\n",
       "<table border=\"1\" class=\"dataframe\">\n",
       "  <thead>\n",
       "    <tr style=\"text-align: right;\">\n",
       "      <th></th>\n",
       "      <th>Age</th>\n",
       "      <th>Years of Experience</th>\n",
       "      <th>Salary</th>\n",
       "    </tr>\n",
       "  </thead>\n",
       "  <tbody>\n",
       "    <tr>\n",
       "      <th>count</th>\n",
       "      <td>373.000000</td>\n",
       "      <td>373.000000</td>\n",
       "      <td>373.000000</td>\n",
       "    </tr>\n",
       "    <tr>\n",
       "      <th>mean</th>\n",
       "      <td>37.431635</td>\n",
       "      <td>10.030831</td>\n",
       "      <td>100577.345845</td>\n",
       "    </tr>\n",
       "    <tr>\n",
       "      <th>std</th>\n",
       "      <td>7.069073</td>\n",
       "      <td>6.557007</td>\n",
       "      <td>48240.013482</td>\n",
       "    </tr>\n",
       "    <tr>\n",
       "      <th>min</th>\n",
       "      <td>23.000000</td>\n",
       "      <td>0.000000</td>\n",
       "      <td>350.000000</td>\n",
       "    </tr>\n",
       "    <tr>\n",
       "      <th>25%</th>\n",
       "      <td>31.000000</td>\n",
       "      <td>4.000000</td>\n",
       "      <td>55000.000000</td>\n",
       "    </tr>\n",
       "    <tr>\n",
       "      <th>50%</th>\n",
       "      <td>36.000000</td>\n",
       "      <td>9.000000</td>\n",
       "      <td>95000.000000</td>\n",
       "    </tr>\n",
       "    <tr>\n",
       "      <th>75%</th>\n",
       "      <td>44.000000</td>\n",
       "      <td>15.000000</td>\n",
       "      <td>140000.000000</td>\n",
       "    </tr>\n",
       "    <tr>\n",
       "      <th>max</th>\n",
       "      <td>53.000000</td>\n",
       "      <td>25.000000</td>\n",
       "      <td>250000.000000</td>\n",
       "    </tr>\n",
       "  </tbody>\n",
       "</table>\n",
       "</div>"
      ],
      "text/plain": [
       "              Age  Years of Experience         Salary\n",
       "count  373.000000           373.000000     373.000000\n",
       "mean    37.431635            10.030831  100577.345845\n",
       "std      7.069073             6.557007   48240.013482\n",
       "min     23.000000             0.000000     350.000000\n",
       "25%     31.000000             4.000000   55000.000000\n",
       "50%     36.000000             9.000000   95000.000000\n",
       "75%     44.000000            15.000000  140000.000000\n",
       "max     53.000000            25.000000  250000.000000"
      ]
     },
     "execution_count": 10,
     "metadata": {},
     "output_type": "execute_result"
    }
   ],
   "source": [
    "df.describe()"
   ]
  },
  {
   "cell_type": "code",
   "execution_count": 11,
   "id": "5d61ecca",
   "metadata": {
    "execution": {
     "iopub.execute_input": "2024-05-11T09:14:44.727976Z",
     "iopub.status.busy": "2024-05-11T09:14:44.727569Z",
     "iopub.status.idle": "2024-05-11T09:14:44.735375Z",
     "shell.execute_reply": "2024-05-11T09:14:44.734268Z"
    },
    "papermill": {
     "duration": 0.023838,
     "end_time": "2024-05-11T09:14:44.737767",
     "exception": false,
     "start_time": "2024-05-11T09:14:44.713929",
     "status": "completed"
    },
    "tags": []
   },
   "outputs": [
    {
     "data": {
      "text/plain": [
       "Index(['Age', 'Gender', 'Education Level', 'Job Title', 'Years of Experience',\n",
       "       'Salary'],\n",
       "      dtype='object')"
      ]
     },
     "execution_count": 11,
     "metadata": {},
     "output_type": "execute_result"
    }
   ],
   "source": [
    "# to choose the columns which one will be our Feature and Target\n",
    "df.columns"
   ]
  },
  {
   "cell_type": "code",
   "execution_count": 12,
   "id": "bd5d7054",
   "metadata": {
    "execution": {
     "iopub.execute_input": "2024-05-11T09:14:44.763705Z",
     "iopub.status.busy": "2024-05-11T09:14:44.763324Z",
     "iopub.status.idle": "2024-05-11T09:14:44.776497Z",
     "shell.execute_reply": "2024-05-11T09:14:44.775298Z"
    },
    "papermill": {
     "duration": 0.029224,
     "end_time": "2024-05-11T09:14:44.779079",
     "exception": false,
     "start_time": "2024-05-11T09:14:44.749855",
     "status": "completed"
    },
    "tags": []
   },
   "outputs": [
    {
     "data": {
      "text/plain": [
       "Age                    0\n",
       "Gender                 0\n",
       "Education Level        0\n",
       "Job Title              0\n",
       "Years of Experience    0\n",
       "Salary                 0\n",
       "dtype: int64"
      ]
     },
     "execution_count": 12,
     "metadata": {},
     "output_type": "execute_result"
    }
   ],
   "source": [
    "# dropping all the null values from the dataset\n",
    "df1 = df.dropna()\n",
    "df1.isnull().sum()"
   ]
  },
  {
   "cell_type": "code",
   "execution_count": 13,
   "id": "49f061e1",
   "metadata": {
    "execution": {
     "iopub.execute_input": "2024-05-11T09:14:44.805580Z",
     "iopub.status.busy": "2024-05-11T09:14:44.805184Z",
     "iopub.status.idle": "2024-05-11T09:14:44.815369Z",
     "shell.execute_reply": "2024-05-11T09:14:44.814061Z"
    },
    "papermill": {
     "duration": 0.026254,
     "end_time": "2024-05-11T09:14:44.817698",
     "exception": false,
     "start_time": "2024-05-11T09:14:44.791444",
     "status": "completed"
    },
    "tags": []
   },
   "outputs": [
    {
     "data": {
      "text/plain": [
       "array([32., 28., 45., 36., 52., 29., 42., 31., 26., 38., 48., 35., 40.,\n",
       "       27., 44., 33., 39., 25., 51., 34., 47., 30., 41., 37., 24., 43.,\n",
       "       50., 46., 49., 23., 53.])"
      ]
     },
     "execution_count": 13,
     "metadata": {},
     "output_type": "execute_result"
    }
   ],
   "source": [
    "df1['Age'].unique()"
   ]
  },
  {
   "cell_type": "code",
   "execution_count": 14,
   "id": "a93cd7c2",
   "metadata": {
    "execution": {
     "iopub.execute_input": "2024-05-11T09:14:44.844232Z",
     "iopub.status.busy": "2024-05-11T09:14:44.843807Z",
     "iopub.status.idle": "2024-05-11T09:14:44.851385Z",
     "shell.execute_reply": "2024-05-11T09:14:44.850289Z"
    },
    "papermill": {
     "duration": 0.023608,
     "end_time": "2024-05-11T09:14:44.853884",
     "exception": false,
     "start_time": "2024-05-11T09:14:44.830276",
     "status": "completed"
    },
    "tags": []
   },
   "outputs": [
    {
     "data": {
      "text/plain": [
       "array(['Male', 'Female'], dtype=object)"
      ]
     },
     "execution_count": 14,
     "metadata": {},
     "output_type": "execute_result"
    }
   ],
   "source": [
    "df1['Gender'].unique()"
   ]
  },
  {
   "cell_type": "code",
   "execution_count": 15,
   "id": "229cb42b",
   "metadata": {
    "execution": {
     "iopub.execute_input": "2024-05-11T09:14:44.880323Z",
     "iopub.status.busy": "2024-05-11T09:14:44.879932Z",
     "iopub.status.idle": "2024-05-11T09:14:44.887364Z",
     "shell.execute_reply": "2024-05-11T09:14:44.886279Z"
    },
    "papermill": {
     "duration": 0.023629,
     "end_time": "2024-05-11T09:14:44.889877",
     "exception": false,
     "start_time": "2024-05-11T09:14:44.866248",
     "status": "completed"
    },
    "tags": []
   },
   "outputs": [
    {
     "data": {
      "text/plain": [
       "array([\"Bachelor's\", \"Master's\", 'PhD'], dtype=object)"
      ]
     },
     "execution_count": 15,
     "metadata": {},
     "output_type": "execute_result"
    }
   ],
   "source": [
    "df1['Education Level'].unique()"
   ]
  },
  {
   "cell_type": "code",
   "execution_count": 16,
   "id": "df49e7cf",
   "metadata": {
    "execution": {
     "iopub.execute_input": "2024-05-11T09:14:44.916897Z",
     "iopub.status.busy": "2024-05-11T09:14:44.916509Z",
     "iopub.status.idle": "2024-05-11T09:14:44.925773Z",
     "shell.execute_reply": "2024-05-11T09:14:44.924680Z"
    },
    "papermill": {
     "duration": 0.025608,
     "end_time": "2024-05-11T09:14:44.928054",
     "exception": false,
     "start_time": "2024-05-11T09:14:44.902446",
     "status": "completed"
    },
    "tags": []
   },
   "outputs": [
    {
     "data": {
      "text/plain": [
       "array(['Software Engineer', 'Data Analyst', 'Senior Manager',\n",
       "       'Sales Associate', 'Director', 'Marketing Analyst',\n",
       "       'Product Manager', 'Sales Manager', 'Marketing Coordinator',\n",
       "       'Senior Scientist', 'Software Developer', 'HR Manager',\n",
       "       'Financial Analyst', 'Project Manager', 'Customer Service Rep',\n",
       "       'Operations Manager', 'Marketing Manager', 'Senior Engineer',\n",
       "       'Data Entry Clerk', 'Sales Director', 'Business Analyst',\n",
       "       'VP of Operations', 'IT Support', 'Recruiter', 'Financial Manager',\n",
       "       'Social Media Specialist', 'Software Manager', 'Junior Developer',\n",
       "       'Senior Consultant', 'Product Designer', 'CEO', 'Accountant',\n",
       "       'Data Scientist', 'Marketing Specialist', 'Technical Writer',\n",
       "       'HR Generalist', 'Project Engineer', 'Customer Success Rep',\n",
       "       'Sales Executive', 'UX Designer', 'Operations Director',\n",
       "       'Network Engineer', 'Administrative Assistant',\n",
       "       'Strategy Consultant', 'Copywriter', 'Account Manager',\n",
       "       'Director of Marketing', 'Help Desk Analyst',\n",
       "       'Customer Service Manager', 'Business Intelligence Analyst',\n",
       "       'Event Coordinator', 'VP of Finance', 'Graphic Designer',\n",
       "       'UX Researcher', 'Social Media Manager', 'Director of Operations',\n",
       "       'Senior Data Scientist', 'Junior Accountant',\n",
       "       'Digital Marketing Manager', 'IT Manager',\n",
       "       'Customer Service Representative', 'Business Development Manager',\n",
       "       'Senior Financial Analyst', 'Web Developer', 'Research Director',\n",
       "       'Technical Support Specialist', 'Creative Director',\n",
       "       'Senior Software Engineer', 'Human Resources Director',\n",
       "       'Content Marketing Manager', 'Technical Recruiter',\n",
       "       'Sales Representative', 'Chief Technology Officer',\n",
       "       'Junior Designer', 'Financial Advisor', 'Junior Account Manager',\n",
       "       'Senior Project Manager', 'Principal Scientist',\n",
       "       'Supply Chain Manager', 'Senior Marketing Manager',\n",
       "       'Training Specialist', 'Research Scientist',\n",
       "       'Junior Software Developer', 'Public Relations Manager',\n",
       "       'Operations Analyst', 'Product Marketing Manager',\n",
       "       'Senior HR Manager', 'Junior Web Developer',\n",
       "       'Senior Project Coordinator', 'Chief Data Officer',\n",
       "       'Digital Content Producer', 'IT Support Specialist',\n",
       "       'Senior Marketing Analyst', 'Customer Success Manager',\n",
       "       'Senior Graphic Designer', 'Software Project Manager',\n",
       "       'Supply Chain Analyst', 'Senior Business Analyst',\n",
       "       'Junior Marketing Analyst', 'Office Manager', 'Principal Engineer',\n",
       "       'Junior HR Generalist', 'Senior Product Manager',\n",
       "       'Junior Operations Analyst', 'Senior HR Generalist',\n",
       "       'Sales Operations Manager', 'Senior Software Developer',\n",
       "       'Junior Web Designer', 'Senior Training Specialist',\n",
       "       'Senior Research Scientist', 'Junior Sales Representative',\n",
       "       'Junior Marketing Manager', 'Junior Data Analyst',\n",
       "       'Senior Product Marketing Manager', 'Junior Business Analyst',\n",
       "       'Senior Sales Manager', 'Junior Marketing Specialist',\n",
       "       'Junior Project Manager', 'Senior Accountant', 'Director of Sales',\n",
       "       'Junior Recruiter', 'Senior Business Development Manager',\n",
       "       'Senior Product Designer', 'Junior Customer Support Specialist',\n",
       "       'Senior IT Support Specialist', 'Junior Financial Analyst',\n",
       "       'Senior Operations Manager', 'Director of Human Resources',\n",
       "       'Junior Software Engineer', 'Senior Sales Representative',\n",
       "       'Director of Product Management', 'Junior Copywriter',\n",
       "       'Senior Marketing Coordinator', 'Senior Human Resources Manager',\n",
       "       'Junior Business Development Associate', 'Senior Account Manager',\n",
       "       'Senior Researcher', 'Junior HR Coordinator',\n",
       "       'Director of Finance', 'Junior Marketing Coordinator',\n",
       "       'Junior Data Scientist', 'Senior Operations Analyst',\n",
       "       'Senior Human Resources Coordinator', 'Senior UX Designer',\n",
       "       'Junior Product Manager', 'Senior Marketing Specialist',\n",
       "       'Senior IT Project Manager', 'Senior Quality Assurance Analyst',\n",
       "       'Director of Sales and Marketing', 'Senior Account Executive',\n",
       "       'Director of Business Development', 'Junior Social Media Manager',\n",
       "       'Senior Human Resources Specialist', 'Senior Data Analyst',\n",
       "       'Director of Human Capital', 'Junior Advertising Coordinator',\n",
       "       'Junior UX Designer', 'Senior Marketing Director',\n",
       "       'Senior IT Consultant', 'Senior Financial Advisor',\n",
       "       'Junior Business Operations Analyst',\n",
       "       'Junior Social Media Specialist',\n",
       "       'Senior Product Development Manager', 'Junior Operations Manager',\n",
       "       'Senior Software Architect', 'Junior Research Scientist',\n",
       "       'Senior Financial Manager', 'Senior HR Specialist',\n",
       "       'Senior Data Engineer', 'Junior Operations Coordinator',\n",
       "       'Director of HR', 'Senior Operations Coordinator',\n",
       "       'Junior Financial Advisor', 'Director of Engineering'],\n",
       "      dtype=object)"
      ]
     },
     "execution_count": 16,
     "metadata": {},
     "output_type": "execute_result"
    }
   ],
   "source": [
    "df1['Job Title'].unique()"
   ]
  },
  {
   "cell_type": "code",
   "execution_count": 17,
   "id": "6222ea8c",
   "metadata": {
    "execution": {
     "iopub.execute_input": "2024-05-11T09:14:44.957274Z",
     "iopub.status.busy": "2024-05-11T09:14:44.956102Z",
     "iopub.status.idle": "2024-05-11T09:14:44.963547Z",
     "shell.execute_reply": "2024-05-11T09:14:44.962512Z"
    },
    "papermill": {
     "duration": 0.024109,
     "end_time": "2024-05-11T09:14:44.965778",
     "exception": false,
     "start_time": "2024-05-11T09:14:44.941669",
     "status": "completed"
    },
    "tags": []
   },
   "outputs": [
    {
     "data": {
      "text/plain": [
       "Index(['Age', 'Gender', 'Education Level', 'Job Title', 'Years of Experience',\n",
       "       'Salary'],\n",
       "      dtype='object')"
      ]
     },
     "execution_count": 17,
     "metadata": {},
     "output_type": "execute_result"
    }
   ],
   "source": [
    "df1.columns"
   ]
  },
  {
   "cell_type": "code",
   "execution_count": 18,
   "id": "1d50bcaf",
   "metadata": {
    "execution": {
     "iopub.execute_input": "2024-05-11T09:14:44.994237Z",
     "iopub.status.busy": "2024-05-11T09:14:44.993371Z",
     "iopub.status.idle": "2024-05-11T09:14:45.011133Z",
     "shell.execute_reply": "2024-05-11T09:14:45.010073Z"
    },
    "papermill": {
     "duration": 0.034622,
     "end_time": "2024-05-11T09:14:45.013436",
     "exception": false,
     "start_time": "2024-05-11T09:14:44.978814",
     "status": "completed"
    },
    "tags": []
   },
   "outputs": [
    {
     "data": {
      "application/vnd.microsoft.datawrangler.viewer.v0+json": {
       "columns": [
        {
         "name": "index",
         "rawType": "int64",
         "type": "integer"
        },
        {
         "name": "Education Level",
         "rawType": "object",
         "type": "string"
        },
        {
         "name": "Years of Experience",
         "rawType": "float64",
         "type": "float"
        },
        {
         "name": "Salary",
         "rawType": "float64",
         "type": "float"
        }
       ],
       "conversionMethod": "pd.DataFrame",
       "ref": "5e5a8d04-ff4c-4cbd-8cfb-e093e553e77d",
       "rows": [
        [
         "0",
         "Bachelor's",
         "5.0",
         "90000.0"
        ],
        [
         "1",
         "Master's",
         "3.0",
         "65000.0"
        ],
        [
         "2",
         "PhD",
         "15.0",
         "150000.0"
        ],
        [
         "3",
         "Bachelor's",
         "7.0",
         "60000.0"
        ],
        [
         "4",
         "Master's",
         "20.0",
         "200000.0"
        ],
        [
         "5",
         "Bachelor's",
         "2.0",
         "55000.0"
        ],
        [
         "6",
         "Master's",
         "12.0",
         "120000.0"
        ],
        [
         "7",
         "Bachelor's",
         "4.0",
         "80000.0"
        ],
        [
         "8",
         "Bachelor's",
         "1.0",
         "45000.0"
        ],
        [
         "9",
         "PhD",
         "10.0",
         "110000.0"
        ]
       ],
       "shape": {
        "columns": 3,
        "rows": 10
       }
      },
      "text/html": [
       "<div>\n",
       "<style scoped>\n",
       "    .dataframe tbody tr th:only-of-type {\n",
       "        vertical-align: middle;\n",
       "    }\n",
       "\n",
       "    .dataframe tbody tr th {\n",
       "        vertical-align: top;\n",
       "    }\n",
       "\n",
       "    .dataframe thead th {\n",
       "        text-align: right;\n",
       "    }\n",
       "</style>\n",
       "<table border=\"1\" class=\"dataframe\">\n",
       "  <thead>\n",
       "    <tr style=\"text-align: right;\">\n",
       "      <th></th>\n",
       "      <th>Education Level</th>\n",
       "      <th>Years of Experience</th>\n",
       "      <th>Salary</th>\n",
       "    </tr>\n",
       "  </thead>\n",
       "  <tbody>\n",
       "    <tr>\n",
       "      <th>0</th>\n",
       "      <td>Bachelor's</td>\n",
       "      <td>5.0</td>\n",
       "      <td>90000.0</td>\n",
       "    </tr>\n",
       "    <tr>\n",
       "      <th>1</th>\n",
       "      <td>Master's</td>\n",
       "      <td>3.0</td>\n",
       "      <td>65000.0</td>\n",
       "    </tr>\n",
       "    <tr>\n",
       "      <th>2</th>\n",
       "      <td>PhD</td>\n",
       "      <td>15.0</td>\n",
       "      <td>150000.0</td>\n",
       "    </tr>\n",
       "    <tr>\n",
       "      <th>3</th>\n",
       "      <td>Bachelor's</td>\n",
       "      <td>7.0</td>\n",
       "      <td>60000.0</td>\n",
       "    </tr>\n",
       "    <tr>\n",
       "      <th>4</th>\n",
       "      <td>Master's</td>\n",
       "      <td>20.0</td>\n",
       "      <td>200000.0</td>\n",
       "    </tr>\n",
       "    <tr>\n",
       "      <th>5</th>\n",
       "      <td>Bachelor's</td>\n",
       "      <td>2.0</td>\n",
       "      <td>55000.0</td>\n",
       "    </tr>\n",
       "    <tr>\n",
       "      <th>6</th>\n",
       "      <td>Master's</td>\n",
       "      <td>12.0</td>\n",
       "      <td>120000.0</td>\n",
       "    </tr>\n",
       "    <tr>\n",
       "      <th>7</th>\n",
       "      <td>Bachelor's</td>\n",
       "      <td>4.0</td>\n",
       "      <td>80000.0</td>\n",
       "    </tr>\n",
       "    <tr>\n",
       "      <th>8</th>\n",
       "      <td>Bachelor's</td>\n",
       "      <td>1.0</td>\n",
       "      <td>45000.0</td>\n",
       "    </tr>\n",
       "    <tr>\n",
       "      <th>9</th>\n",
       "      <td>PhD</td>\n",
       "      <td>10.0</td>\n",
       "      <td>110000.0</td>\n",
       "    </tr>\n",
       "  </tbody>\n",
       "</table>\n",
       "</div>"
      ],
      "text/plain": [
       "  Education Level  Years of Experience    Salary\n",
       "0      Bachelor's                  5.0   90000.0\n",
       "1        Master's                  3.0   65000.0\n",
       "2             PhD                 15.0  150000.0\n",
       "3      Bachelor's                  7.0   60000.0\n",
       "4        Master's                 20.0  200000.0\n",
       "5      Bachelor's                  2.0   55000.0\n",
       "6        Master's                 12.0  120000.0\n",
       "7      Bachelor's                  4.0   80000.0\n",
       "8      Bachelor's                  1.0   45000.0\n",
       "9             PhD                 10.0  110000.0"
      ]
     },
     "execution_count": 18,
     "metadata": {},
     "output_type": "execute_result"
    }
   ],
   "source": [
    "# Choosing only the features that is relevant for the prediction\n",
    "# You can also keep 'Job Title' in the dataframe but i haven't kept it\n",
    "df2= df1.drop( ['Age', 'Gender','Job Title'], axis=1)\n",
    "df2.head(10)"
   ]
  },
  {
   "cell_type": "code",
   "execution_count": 19,
   "id": "39fadf3c",
   "metadata": {
    "execution": {
     "iopub.execute_input": "2024-05-11T09:14:45.042446Z",
     "iopub.status.busy": "2024-05-11T09:14:45.041348Z",
     "iopub.status.idle": "2024-05-11T09:14:46.538949Z",
     "shell.execute_reply": "2024-05-11T09:14:46.537856Z"
    },
    "papermill": {
     "duration": 1.514663,
     "end_time": "2024-05-11T09:14:46.541447",
     "exception": false,
     "start_time": "2024-05-11T09:14:45.026784",
     "status": "completed"
    },
    "tags": []
   },
   "outputs": [
    {
     "data": {
      "application/vnd.microsoft.datawrangler.viewer.v0+json": {
       "columns": [
        {
         "name": "index",
         "rawType": "int64",
         "type": "integer"
        },
        {
         "name": "Education Level",
         "rawType": "int64",
         "type": "integer"
        },
        {
         "name": "Years of Experience",
         "rawType": "float64",
         "type": "float"
        },
        {
         "name": "Salary",
         "rawType": "float64",
         "type": "float"
        }
       ],
       "conversionMethod": "pd.DataFrame",
       "ref": "d205b7d4-3528-45a4-95c0-ecba63c4192a",
       "rows": [
        [
         "0",
         "0",
         "5.0",
         "90000.0"
        ],
        [
         "1",
         "1",
         "3.0",
         "65000.0"
        ],
        [
         "2",
         "2",
         "15.0",
         "150000.0"
        ],
        [
         "3",
         "0",
         "7.0",
         "60000.0"
        ],
        [
         "4",
         "1",
         "20.0",
         "200000.0"
        ]
       ],
       "shape": {
        "columns": 3,
        "rows": 5
       }
      },
      "text/html": [
       "<div>\n",
       "<style scoped>\n",
       "    .dataframe tbody tr th:only-of-type {\n",
       "        vertical-align: middle;\n",
       "    }\n",
       "\n",
       "    .dataframe tbody tr th {\n",
       "        vertical-align: top;\n",
       "    }\n",
       "\n",
       "    .dataframe thead th {\n",
       "        text-align: right;\n",
       "    }\n",
       "</style>\n",
       "<table border=\"1\" class=\"dataframe\">\n",
       "  <thead>\n",
       "    <tr style=\"text-align: right;\">\n",
       "      <th></th>\n",
       "      <th>Education Level</th>\n",
       "      <th>Years of Experience</th>\n",
       "      <th>Salary</th>\n",
       "    </tr>\n",
       "  </thead>\n",
       "  <tbody>\n",
       "    <tr>\n",
       "      <th>0</th>\n",
       "      <td>0</td>\n",
       "      <td>5.0</td>\n",
       "      <td>90000.0</td>\n",
       "    </tr>\n",
       "    <tr>\n",
       "      <th>1</th>\n",
       "      <td>1</td>\n",
       "      <td>3.0</td>\n",
       "      <td>65000.0</td>\n",
       "    </tr>\n",
       "    <tr>\n",
       "      <th>2</th>\n",
       "      <td>2</td>\n",
       "      <td>15.0</td>\n",
       "      <td>150000.0</td>\n",
       "    </tr>\n",
       "    <tr>\n",
       "      <th>3</th>\n",
       "      <td>0</td>\n",
       "      <td>7.0</td>\n",
       "      <td>60000.0</td>\n",
       "    </tr>\n",
       "    <tr>\n",
       "      <th>4</th>\n",
       "      <td>1</td>\n",
       "      <td>20.0</td>\n",
       "      <td>200000.0</td>\n",
       "    </tr>\n",
       "  </tbody>\n",
       "</table>\n",
       "</div>"
      ],
      "text/plain": [
       "   Education Level  Years of Experience    Salary\n",
       "0                0                  5.0   90000.0\n",
       "1                1                  3.0   65000.0\n",
       "2                2                 15.0  150000.0\n",
       "3                0                  7.0   60000.0\n",
       "4                1                 20.0  200000.0"
      ]
     },
     "execution_count": 19,
     "metadata": {},
     "output_type": "execute_result"
    }
   ],
   "source": [
    "# Converting the Categorial data into numbers\n",
    "from sklearn.preprocessing import LabelEncoder\n",
    "label_encoder = LabelEncoder()\n",
    "df2['Education Level'] = label_encoder.fit_transform(df2['Education Level'])\n",
    "df2.head()"
   ]
  },
  {
   "cell_type": "code",
   "execution_count": 20,
   "id": "6feb5b29",
   "metadata": {
    "execution": {
     "iopub.execute_input": "2024-05-11T09:14:46.570993Z",
     "iopub.status.busy": "2024-05-11T09:14:46.570033Z",
     "iopub.status.idle": "2024-05-11T09:14:46.578858Z",
     "shell.execute_reply": "2024-05-11T09:14:46.577757Z"
    },
    "papermill": {
     "duration": 0.026221,
     "end_time": "2024-05-11T09:14:46.581219",
     "exception": false,
     "start_time": "2024-05-11T09:14:46.554998",
     "status": "completed"
    },
    "tags": []
   },
   "outputs": [
    {
     "data": {
      "text/plain": [
       "(373, 2)"
      ]
     },
     "execution_count": 20,
     "metadata": {},
     "output_type": "execute_result"
    }
   ],
   "source": [
    "# Splitting the data into x and y for training and testing purpose\n",
    "x=df2[['Education Level', 'Years of Experience']]\n",
    "x.shape"
   ]
  },
  {
   "cell_type": "code",
   "execution_count": 21,
   "id": "1e5504c8",
   "metadata": {
    "execution": {
     "iopub.execute_input": "2024-05-11T09:14:46.610815Z",
     "iopub.status.busy": "2024-05-11T09:14:46.609826Z",
     "iopub.status.idle": "2024-05-11T09:14:46.621634Z",
     "shell.execute_reply": "2024-05-11T09:14:46.620517Z"
    },
    "papermill": {
     "duration": 0.029148,
     "end_time": "2024-05-11T09:14:46.624079",
     "exception": false,
     "start_time": "2024-05-11T09:14:46.594931",
     "status": "completed"
    },
    "tags": []
   },
   "outputs": [
    {
     "data": {
      "application/vnd.microsoft.datawrangler.viewer.v0+json": {
       "columns": [
        {
         "name": "index",
         "rawType": "int64",
         "type": "integer"
        },
        {
         "name": "Education Level",
         "rawType": "int64",
         "type": "integer"
        },
        {
         "name": "Years of Experience",
         "rawType": "float64",
         "type": "float"
        }
       ],
       "conversionMethod": "pd.DataFrame",
       "ref": "da173555-2061-40bc-a427-b2e8ea4cfe35",
       "rows": [
        [
         "0",
         "0",
         "5.0"
        ],
        [
         "1",
         "1",
         "3.0"
        ],
        [
         "2",
         "2",
         "15.0"
        ],
        [
         "3",
         "0",
         "7.0"
        ],
        [
         "4",
         "1",
         "20.0"
        ]
       ],
       "shape": {
        "columns": 2,
        "rows": 5
       }
      },
      "text/html": [
       "<div>\n",
       "<style scoped>\n",
       "    .dataframe tbody tr th:only-of-type {\n",
       "        vertical-align: middle;\n",
       "    }\n",
       "\n",
       "    .dataframe tbody tr th {\n",
       "        vertical-align: top;\n",
       "    }\n",
       "\n",
       "    .dataframe thead th {\n",
       "        text-align: right;\n",
       "    }\n",
       "</style>\n",
       "<table border=\"1\" class=\"dataframe\">\n",
       "  <thead>\n",
       "    <tr style=\"text-align: right;\">\n",
       "      <th></th>\n",
       "      <th>Education Level</th>\n",
       "      <th>Years of Experience</th>\n",
       "    </tr>\n",
       "  </thead>\n",
       "  <tbody>\n",
       "    <tr>\n",
       "      <th>0</th>\n",
       "      <td>0</td>\n",
       "      <td>5.0</td>\n",
       "    </tr>\n",
       "    <tr>\n",
       "      <th>1</th>\n",
       "      <td>1</td>\n",
       "      <td>3.0</td>\n",
       "    </tr>\n",
       "    <tr>\n",
       "      <th>2</th>\n",
       "      <td>2</td>\n",
       "      <td>15.0</td>\n",
       "    </tr>\n",
       "    <tr>\n",
       "      <th>3</th>\n",
       "      <td>0</td>\n",
       "      <td>7.0</td>\n",
       "    </tr>\n",
       "    <tr>\n",
       "      <th>4</th>\n",
       "      <td>1</td>\n",
       "      <td>20.0</td>\n",
       "    </tr>\n",
       "  </tbody>\n",
       "</table>\n",
       "</div>"
      ],
      "text/plain": [
       "   Education Level  Years of Experience\n",
       "0                0                  5.0\n",
       "1                1                  3.0\n",
       "2                2                 15.0\n",
       "3                0                  7.0\n",
       "4                1                 20.0"
      ]
     },
     "execution_count": 21,
     "metadata": {},
     "output_type": "execute_result"
    }
   ],
   "source": [
    "x.head(5)"
   ]
  },
  {
   "cell_type": "code",
   "execution_count": 22,
   "id": "98405b5b",
   "metadata": {
    "execution": {
     "iopub.execute_input": "2024-05-11T09:14:46.654130Z",
     "iopub.status.busy": "2024-05-11T09:14:46.653673Z",
     "iopub.status.idle": "2024-05-11T09:14:46.665190Z",
     "shell.execute_reply": "2024-05-11T09:14:46.664168Z"
    },
    "papermill": {
     "duration": 0.029294,
     "end_time": "2024-05-11T09:14:46.667523",
     "exception": false,
     "start_time": "2024-05-11T09:14:46.638229",
     "status": "completed"
    },
    "tags": []
   },
   "outputs": [
    {
     "data": {
      "application/vnd.microsoft.datawrangler.viewer.v0+json": {
       "columns": [
        {
         "name": "index",
         "rawType": "int64",
         "type": "integer"
        },
        {
         "name": "Salary",
         "rawType": "float64",
         "type": "float"
        }
       ],
       "conversionMethod": "pd.DataFrame",
       "ref": "440868df-9f6f-4dce-a7f1-c18fe05f2e6f",
       "rows": [
        [
         "0",
         "90000.0"
        ],
        [
         "1",
         "65000.0"
        ],
        [
         "2",
         "150000.0"
        ],
        [
         "3",
         "60000.0"
        ],
        [
         "4",
         "200000.0"
        ]
       ],
       "shape": {
        "columns": 1,
        "rows": 5
       }
      },
      "text/html": [
       "<div>\n",
       "<style scoped>\n",
       "    .dataframe tbody tr th:only-of-type {\n",
       "        vertical-align: middle;\n",
       "    }\n",
       "\n",
       "    .dataframe tbody tr th {\n",
       "        vertical-align: top;\n",
       "    }\n",
       "\n",
       "    .dataframe thead th {\n",
       "        text-align: right;\n",
       "    }\n",
       "</style>\n",
       "<table border=\"1\" class=\"dataframe\">\n",
       "  <thead>\n",
       "    <tr style=\"text-align: right;\">\n",
       "      <th></th>\n",
       "      <th>Salary</th>\n",
       "    </tr>\n",
       "  </thead>\n",
       "  <tbody>\n",
       "    <tr>\n",
       "      <th>0</th>\n",
       "      <td>90000.0</td>\n",
       "    </tr>\n",
       "    <tr>\n",
       "      <th>1</th>\n",
       "      <td>65000.0</td>\n",
       "    </tr>\n",
       "    <tr>\n",
       "      <th>2</th>\n",
       "      <td>150000.0</td>\n",
       "    </tr>\n",
       "    <tr>\n",
       "      <th>3</th>\n",
       "      <td>60000.0</td>\n",
       "    </tr>\n",
       "    <tr>\n",
       "      <th>4</th>\n",
       "      <td>200000.0</td>\n",
       "    </tr>\n",
       "  </tbody>\n",
       "</table>\n",
       "</div>"
      ],
      "text/plain": [
       "     Salary\n",
       "0   90000.0\n",
       "1   65000.0\n",
       "2  150000.0\n",
       "3   60000.0\n",
       "4  200000.0"
      ]
     },
     "execution_count": 22,
     "metadata": {},
     "output_type": "execute_result"
    }
   ],
   "source": [
    "y=df2[['Salary']]\n",
    "y.head(5)"
   ]
  },
  {
   "cell_type": "code",
   "execution_count": 23,
   "id": "237342dc",
   "metadata": {
    "execution": {
     "iopub.execute_input": "2024-05-11T09:14:46.697418Z",
     "iopub.status.busy": "2024-05-11T09:14:46.697000Z",
     "iopub.status.idle": "2024-05-11T09:14:46.843283Z",
     "shell.execute_reply": "2024-05-11T09:14:46.842077Z"
    },
    "papermill": {
     "duration": 0.164303,
     "end_time": "2024-05-11T09:14:46.845903",
     "exception": false,
     "start_time": "2024-05-11T09:14:46.681600",
     "status": "completed"
    },
    "tags": []
   },
   "outputs": [],
   "source": [
    "# Splitting the above data into training and testing data\n",
    "from sklearn.model_selection import train_test_split\n",
    "x_train,x_test,y_train,y_test = train_test_split(x,y,test_size= 0.2,random_state = 9598)"
   ]
  },
  {
   "cell_type": "code",
   "execution_count": 24,
   "id": "83ec11d6",
   "metadata": {
    "execution": {
     "iopub.execute_input": "2024-05-11T09:14:46.875966Z",
     "iopub.status.busy": "2024-05-11T09:14:46.875539Z",
     "iopub.status.idle": "2024-05-11T09:14:46.882181Z",
     "shell.execute_reply": "2024-05-11T09:14:46.880965Z"
    },
    "papermill": {
     "duration": 0.024439,
     "end_time": "2024-05-11T09:14:46.884578",
     "exception": false,
     "start_time": "2024-05-11T09:14:46.860139",
     "status": "completed"
    },
    "tags": []
   },
   "outputs": [
    {
     "name": "stdout",
     "output_type": "stream",
     "text": [
      "(298, 2)\n",
      "(75, 2)\n",
      "(298, 1)\n",
      "(75, 1)\n"
     ]
    }
   ],
   "source": [
    "# to know about the shape of traing and testing data\n",
    "\n",
    "print(x_train.shape)\n",
    "print(x_test.shape)\n",
    "print(y_train.shape)\n",
    "print(y_test.shape)"
   ]
  },
  {
   "cell_type": "code",
   "execution_count": 25,
   "id": "f8e2209e",
   "metadata": {
    "execution": {
     "iopub.execute_input": "2024-05-11T09:14:46.914962Z",
     "iopub.status.busy": "2024-05-11T09:14:46.914483Z",
     "iopub.status.idle": "2024-05-11T09:14:47.046573Z",
     "shell.execute_reply": "2024-05-11T09:14:47.045544Z"
    },
    "papermill": {
     "duration": 0.150559,
     "end_time": "2024-05-11T09:14:47.049391",
     "exception": false,
     "start_time": "2024-05-11T09:14:46.898832",
     "status": "completed"
    },
    "tags": []
   },
   "outputs": [],
   "source": [
    "# As it is the Regrssion Problem lets try all the Regression Algorith to get the best accuracy\n",
    "from sklearn.linear_model import LinearRegression\n",
    "model = LinearRegression()"
   ]
  },
  {
   "cell_type": "code",
   "execution_count": 26,
   "id": "dc690877",
   "metadata": {
    "execution": {
     "iopub.execute_input": "2024-05-11T09:14:47.079754Z",
     "iopub.status.busy": "2024-05-11T09:14:47.079361Z",
     "iopub.status.idle": "2024-05-11T09:14:47.115881Z",
     "shell.execute_reply": "2024-05-11T09:14:47.114753Z"
    },
    "papermill": {
     "duration": 0.054698,
     "end_time": "2024-05-11T09:14:47.118495",
     "exception": false,
     "start_time": "2024-05-11T09:14:47.063797",
     "status": "completed"
    },
    "tags": []
   },
   "outputs": [
    {
     "data": {
      "text/html": [
       "<style>#sk-container-id-1 {\n",
       "  /* Definition of color scheme common for light and dark mode */\n",
       "  --sklearn-color-text: #000;\n",
       "  --sklearn-color-text-muted: #666;\n",
       "  --sklearn-color-line: gray;\n",
       "  /* Definition of color scheme for unfitted estimators */\n",
       "  --sklearn-color-unfitted-level-0: #fff5e6;\n",
       "  --sklearn-color-unfitted-level-1: #f6e4d2;\n",
       "  --sklearn-color-unfitted-level-2: #ffe0b3;\n",
       "  --sklearn-color-unfitted-level-3: chocolate;\n",
       "  /* Definition of color scheme for fitted estimators */\n",
       "  --sklearn-color-fitted-level-0: #f0f8ff;\n",
       "  --sklearn-color-fitted-level-1: #d4ebff;\n",
       "  --sklearn-color-fitted-level-2: #b3dbfd;\n",
       "  --sklearn-color-fitted-level-3: cornflowerblue;\n",
       "\n",
       "  /* Specific color for light theme */\n",
       "  --sklearn-color-text-on-default-background: var(--sg-text-color, var(--theme-code-foreground, var(--jp-content-font-color1, black)));\n",
       "  --sklearn-color-background: var(--sg-background-color, var(--theme-background, var(--jp-layout-color0, white)));\n",
       "  --sklearn-color-border-box: var(--sg-text-color, var(--theme-code-foreground, var(--jp-content-font-color1, black)));\n",
       "  --sklearn-color-icon: #696969;\n",
       "\n",
       "  @media (prefers-color-scheme: dark) {\n",
       "    /* Redefinition of color scheme for dark theme */\n",
       "    --sklearn-color-text-on-default-background: var(--sg-text-color, var(--theme-code-foreground, var(--jp-content-font-color1, white)));\n",
       "    --sklearn-color-background: var(--sg-background-color, var(--theme-background, var(--jp-layout-color0, #111)));\n",
       "    --sklearn-color-border-box: var(--sg-text-color, var(--theme-code-foreground, var(--jp-content-font-color1, white)));\n",
       "    --sklearn-color-icon: #878787;\n",
       "  }\n",
       "}\n",
       "\n",
       "#sk-container-id-1 {\n",
       "  color: var(--sklearn-color-text);\n",
       "}\n",
       "\n",
       "#sk-container-id-1 pre {\n",
       "  padding: 0;\n",
       "}\n",
       "\n",
       "#sk-container-id-1 input.sk-hidden--visually {\n",
       "  border: 0;\n",
       "  clip: rect(1px 1px 1px 1px);\n",
       "  clip: rect(1px, 1px, 1px, 1px);\n",
       "  height: 1px;\n",
       "  margin: -1px;\n",
       "  overflow: hidden;\n",
       "  padding: 0;\n",
       "  position: absolute;\n",
       "  width: 1px;\n",
       "}\n",
       "\n",
       "#sk-container-id-1 div.sk-dashed-wrapped {\n",
       "  border: 1px dashed var(--sklearn-color-line);\n",
       "  margin: 0 0.4em 0.5em 0.4em;\n",
       "  box-sizing: border-box;\n",
       "  padding-bottom: 0.4em;\n",
       "  background-color: var(--sklearn-color-background);\n",
       "}\n",
       "\n",
       "#sk-container-id-1 div.sk-container {\n",
       "  /* jupyter's `normalize.less` sets `[hidden] { display: none; }`\n",
       "     but bootstrap.min.css set `[hidden] { display: none !important; }`\n",
       "     so we also need the `!important` here to be able to override the\n",
       "     default hidden behavior on the sphinx rendered scikit-learn.org.\n",
       "     See: https://github.com/scikit-learn/scikit-learn/issues/21755 */\n",
       "  display: inline-block !important;\n",
       "  position: relative;\n",
       "}\n",
       "\n",
       "#sk-container-id-1 div.sk-text-repr-fallback {\n",
       "  display: none;\n",
       "}\n",
       "\n",
       "div.sk-parallel-item,\n",
       "div.sk-serial,\n",
       "div.sk-item {\n",
       "  /* draw centered vertical line to link estimators */\n",
       "  background-image: linear-gradient(var(--sklearn-color-text-on-default-background), var(--sklearn-color-text-on-default-background));\n",
       "  background-size: 2px 100%;\n",
       "  background-repeat: no-repeat;\n",
       "  background-position: center center;\n",
       "}\n",
       "\n",
       "/* Parallel-specific style estimator block */\n",
       "\n",
       "#sk-container-id-1 div.sk-parallel-item::after {\n",
       "  content: \"\";\n",
       "  width: 100%;\n",
       "  border-bottom: 2px solid var(--sklearn-color-text-on-default-background);\n",
       "  flex-grow: 1;\n",
       "}\n",
       "\n",
       "#sk-container-id-1 div.sk-parallel {\n",
       "  display: flex;\n",
       "  align-items: stretch;\n",
       "  justify-content: center;\n",
       "  background-color: var(--sklearn-color-background);\n",
       "  position: relative;\n",
       "}\n",
       "\n",
       "#sk-container-id-1 div.sk-parallel-item {\n",
       "  display: flex;\n",
       "  flex-direction: column;\n",
       "}\n",
       "\n",
       "#sk-container-id-1 div.sk-parallel-item:first-child::after {\n",
       "  align-self: flex-end;\n",
       "  width: 50%;\n",
       "}\n",
       "\n",
       "#sk-container-id-1 div.sk-parallel-item:last-child::after {\n",
       "  align-self: flex-start;\n",
       "  width: 50%;\n",
       "}\n",
       "\n",
       "#sk-container-id-1 div.sk-parallel-item:only-child::after {\n",
       "  width: 0;\n",
       "}\n",
       "\n",
       "/* Serial-specific style estimator block */\n",
       "\n",
       "#sk-container-id-1 div.sk-serial {\n",
       "  display: flex;\n",
       "  flex-direction: column;\n",
       "  align-items: center;\n",
       "  background-color: var(--sklearn-color-background);\n",
       "  padding-right: 1em;\n",
       "  padding-left: 1em;\n",
       "}\n",
       "\n",
       "\n",
       "/* Toggleable style: style used for estimator/Pipeline/ColumnTransformer box that is\n",
       "clickable and can be expanded/collapsed.\n",
       "- Pipeline and ColumnTransformer use this feature and define the default style\n",
       "- Estimators will overwrite some part of the style using the `sk-estimator` class\n",
       "*/\n",
       "\n",
       "/* Pipeline and ColumnTransformer style (default) */\n",
       "\n",
       "#sk-container-id-1 div.sk-toggleable {\n",
       "  /* Default theme specific background. It is overwritten whether we have a\n",
       "  specific estimator or a Pipeline/ColumnTransformer */\n",
       "  background-color: var(--sklearn-color-background);\n",
       "}\n",
       "\n",
       "/* Toggleable label */\n",
       "#sk-container-id-1 label.sk-toggleable__label {\n",
       "  cursor: pointer;\n",
       "  display: flex;\n",
       "  width: 100%;\n",
       "  margin-bottom: 0;\n",
       "  padding: 0.5em;\n",
       "  box-sizing: border-box;\n",
       "  text-align: center;\n",
       "  align-items: start;\n",
       "  justify-content: space-between;\n",
       "  gap: 0.5em;\n",
       "}\n",
       "\n",
       "#sk-container-id-1 label.sk-toggleable__label .caption {\n",
       "  font-size: 0.6rem;\n",
       "  font-weight: lighter;\n",
       "  color: var(--sklearn-color-text-muted);\n",
       "}\n",
       "\n",
       "#sk-container-id-1 label.sk-toggleable__label-arrow:before {\n",
       "  /* Arrow on the left of the label */\n",
       "  content: \"▸\";\n",
       "  float: left;\n",
       "  margin-right: 0.25em;\n",
       "  color: var(--sklearn-color-icon);\n",
       "}\n",
       "\n",
       "#sk-container-id-1 label.sk-toggleable__label-arrow:hover:before {\n",
       "  color: var(--sklearn-color-text);\n",
       "}\n",
       "\n",
       "/* Toggleable content - dropdown */\n",
       "\n",
       "#sk-container-id-1 div.sk-toggleable__content {\n",
       "  max-height: 0;\n",
       "  max-width: 0;\n",
       "  overflow: hidden;\n",
       "  text-align: left;\n",
       "  /* unfitted */\n",
       "  background-color: var(--sklearn-color-unfitted-level-0);\n",
       "}\n",
       "\n",
       "#sk-container-id-1 div.sk-toggleable__content.fitted {\n",
       "  /* fitted */\n",
       "  background-color: var(--sklearn-color-fitted-level-0);\n",
       "}\n",
       "\n",
       "#sk-container-id-1 div.sk-toggleable__content pre {\n",
       "  margin: 0.2em;\n",
       "  border-radius: 0.25em;\n",
       "  color: var(--sklearn-color-text);\n",
       "  /* unfitted */\n",
       "  background-color: var(--sklearn-color-unfitted-level-0);\n",
       "}\n",
       "\n",
       "#sk-container-id-1 div.sk-toggleable__content.fitted pre {\n",
       "  /* unfitted */\n",
       "  background-color: var(--sklearn-color-fitted-level-0);\n",
       "}\n",
       "\n",
       "#sk-container-id-1 input.sk-toggleable__control:checked~div.sk-toggleable__content {\n",
       "  /* Expand drop-down */\n",
       "  max-height: 200px;\n",
       "  max-width: 100%;\n",
       "  overflow: auto;\n",
       "}\n",
       "\n",
       "#sk-container-id-1 input.sk-toggleable__control:checked~label.sk-toggleable__label-arrow:before {\n",
       "  content: \"▾\";\n",
       "}\n",
       "\n",
       "/* Pipeline/ColumnTransformer-specific style */\n",
       "\n",
       "#sk-container-id-1 div.sk-label input.sk-toggleable__control:checked~label.sk-toggleable__label {\n",
       "  color: var(--sklearn-color-text);\n",
       "  background-color: var(--sklearn-color-unfitted-level-2);\n",
       "}\n",
       "\n",
       "#sk-container-id-1 div.sk-label.fitted input.sk-toggleable__control:checked~label.sk-toggleable__label {\n",
       "  background-color: var(--sklearn-color-fitted-level-2);\n",
       "}\n",
       "\n",
       "/* Estimator-specific style */\n",
       "\n",
       "/* Colorize estimator box */\n",
       "#sk-container-id-1 div.sk-estimator input.sk-toggleable__control:checked~label.sk-toggleable__label {\n",
       "  /* unfitted */\n",
       "  background-color: var(--sklearn-color-unfitted-level-2);\n",
       "}\n",
       "\n",
       "#sk-container-id-1 div.sk-estimator.fitted input.sk-toggleable__control:checked~label.sk-toggleable__label {\n",
       "  /* fitted */\n",
       "  background-color: var(--sklearn-color-fitted-level-2);\n",
       "}\n",
       "\n",
       "#sk-container-id-1 div.sk-label label.sk-toggleable__label,\n",
       "#sk-container-id-1 div.sk-label label {\n",
       "  /* The background is the default theme color */\n",
       "  color: var(--sklearn-color-text-on-default-background);\n",
       "}\n",
       "\n",
       "/* On hover, darken the color of the background */\n",
       "#sk-container-id-1 div.sk-label:hover label.sk-toggleable__label {\n",
       "  color: var(--sklearn-color-text);\n",
       "  background-color: var(--sklearn-color-unfitted-level-2);\n",
       "}\n",
       "\n",
       "/* Label box, darken color on hover, fitted */\n",
       "#sk-container-id-1 div.sk-label.fitted:hover label.sk-toggleable__label.fitted {\n",
       "  color: var(--sklearn-color-text);\n",
       "  background-color: var(--sklearn-color-fitted-level-2);\n",
       "}\n",
       "\n",
       "/* Estimator label */\n",
       "\n",
       "#sk-container-id-1 div.sk-label label {\n",
       "  font-family: monospace;\n",
       "  font-weight: bold;\n",
       "  display: inline-block;\n",
       "  line-height: 1.2em;\n",
       "}\n",
       "\n",
       "#sk-container-id-1 div.sk-label-container {\n",
       "  text-align: center;\n",
       "}\n",
       "\n",
       "/* Estimator-specific */\n",
       "#sk-container-id-1 div.sk-estimator {\n",
       "  font-family: monospace;\n",
       "  border: 1px dotted var(--sklearn-color-border-box);\n",
       "  border-radius: 0.25em;\n",
       "  box-sizing: border-box;\n",
       "  margin-bottom: 0.5em;\n",
       "  /* unfitted */\n",
       "  background-color: var(--sklearn-color-unfitted-level-0);\n",
       "}\n",
       "\n",
       "#sk-container-id-1 div.sk-estimator.fitted {\n",
       "  /* fitted */\n",
       "  background-color: var(--sklearn-color-fitted-level-0);\n",
       "}\n",
       "\n",
       "/* on hover */\n",
       "#sk-container-id-1 div.sk-estimator:hover {\n",
       "  /* unfitted */\n",
       "  background-color: var(--sklearn-color-unfitted-level-2);\n",
       "}\n",
       "\n",
       "#sk-container-id-1 div.sk-estimator.fitted:hover {\n",
       "  /* fitted */\n",
       "  background-color: var(--sklearn-color-fitted-level-2);\n",
       "}\n",
       "\n",
       "/* Specification for estimator info (e.g. \"i\" and \"?\") */\n",
       "\n",
       "/* Common style for \"i\" and \"?\" */\n",
       "\n",
       ".sk-estimator-doc-link,\n",
       "a:link.sk-estimator-doc-link,\n",
       "a:visited.sk-estimator-doc-link {\n",
       "  float: right;\n",
       "  font-size: smaller;\n",
       "  line-height: 1em;\n",
       "  font-family: monospace;\n",
       "  background-color: var(--sklearn-color-background);\n",
       "  border-radius: 1em;\n",
       "  height: 1em;\n",
       "  width: 1em;\n",
       "  text-decoration: none !important;\n",
       "  margin-left: 0.5em;\n",
       "  text-align: center;\n",
       "  /* unfitted */\n",
       "  border: var(--sklearn-color-unfitted-level-1) 1pt solid;\n",
       "  color: var(--sklearn-color-unfitted-level-1);\n",
       "}\n",
       "\n",
       ".sk-estimator-doc-link.fitted,\n",
       "a:link.sk-estimator-doc-link.fitted,\n",
       "a:visited.sk-estimator-doc-link.fitted {\n",
       "  /* fitted */\n",
       "  border: var(--sklearn-color-fitted-level-1) 1pt solid;\n",
       "  color: var(--sklearn-color-fitted-level-1);\n",
       "}\n",
       "\n",
       "/* On hover */\n",
       "div.sk-estimator:hover .sk-estimator-doc-link:hover,\n",
       ".sk-estimator-doc-link:hover,\n",
       "div.sk-label-container:hover .sk-estimator-doc-link:hover,\n",
       ".sk-estimator-doc-link:hover {\n",
       "  /* unfitted */\n",
       "  background-color: var(--sklearn-color-unfitted-level-3);\n",
       "  color: var(--sklearn-color-background);\n",
       "  text-decoration: none;\n",
       "}\n",
       "\n",
       "div.sk-estimator.fitted:hover .sk-estimator-doc-link.fitted:hover,\n",
       ".sk-estimator-doc-link.fitted:hover,\n",
       "div.sk-label-container:hover .sk-estimator-doc-link.fitted:hover,\n",
       ".sk-estimator-doc-link.fitted:hover {\n",
       "  /* fitted */\n",
       "  background-color: var(--sklearn-color-fitted-level-3);\n",
       "  color: var(--sklearn-color-background);\n",
       "  text-decoration: none;\n",
       "}\n",
       "\n",
       "/* Span, style for the box shown on hovering the info icon */\n",
       ".sk-estimator-doc-link span {\n",
       "  display: none;\n",
       "  z-index: 9999;\n",
       "  position: relative;\n",
       "  font-weight: normal;\n",
       "  right: .2ex;\n",
       "  padding: .5ex;\n",
       "  margin: .5ex;\n",
       "  width: min-content;\n",
       "  min-width: 20ex;\n",
       "  max-width: 50ex;\n",
       "  color: var(--sklearn-color-text);\n",
       "  box-shadow: 2pt 2pt 4pt #999;\n",
       "  /* unfitted */\n",
       "  background: var(--sklearn-color-unfitted-level-0);\n",
       "  border: .5pt solid var(--sklearn-color-unfitted-level-3);\n",
       "}\n",
       "\n",
       ".sk-estimator-doc-link.fitted span {\n",
       "  /* fitted */\n",
       "  background: var(--sklearn-color-fitted-level-0);\n",
       "  border: var(--sklearn-color-fitted-level-3);\n",
       "}\n",
       "\n",
       ".sk-estimator-doc-link:hover span {\n",
       "  display: block;\n",
       "}\n",
       "\n",
       "/* \"?\"-specific style due to the `<a>` HTML tag */\n",
       "\n",
       "#sk-container-id-1 a.estimator_doc_link {\n",
       "  float: right;\n",
       "  font-size: 1rem;\n",
       "  line-height: 1em;\n",
       "  font-family: monospace;\n",
       "  background-color: var(--sklearn-color-background);\n",
       "  border-radius: 1rem;\n",
       "  height: 1rem;\n",
       "  width: 1rem;\n",
       "  text-decoration: none;\n",
       "  /* unfitted */\n",
       "  color: var(--sklearn-color-unfitted-level-1);\n",
       "  border: var(--sklearn-color-unfitted-level-1) 1pt solid;\n",
       "}\n",
       "\n",
       "#sk-container-id-1 a.estimator_doc_link.fitted {\n",
       "  /* fitted */\n",
       "  border: var(--sklearn-color-fitted-level-1) 1pt solid;\n",
       "  color: var(--sklearn-color-fitted-level-1);\n",
       "}\n",
       "\n",
       "/* On hover */\n",
       "#sk-container-id-1 a.estimator_doc_link:hover {\n",
       "  /* unfitted */\n",
       "  background-color: var(--sklearn-color-unfitted-level-3);\n",
       "  color: var(--sklearn-color-background);\n",
       "  text-decoration: none;\n",
       "}\n",
       "\n",
       "#sk-container-id-1 a.estimator_doc_link.fitted:hover {\n",
       "  /* fitted */\n",
       "  background-color: var(--sklearn-color-fitted-level-3);\n",
       "}\n",
       "</style><div id=\"sk-container-id-1\" class=\"sk-top-container\"><div class=\"sk-text-repr-fallback\"><pre>LinearRegression()</pre><b>In a Jupyter environment, please rerun this cell to show the HTML representation or trust the notebook. <br />On GitHub, the HTML representation is unable to render, please try loading this page with nbviewer.org.</b></div><div class=\"sk-container\" hidden><div class=\"sk-item\"><div class=\"sk-estimator fitted sk-toggleable\"><input class=\"sk-toggleable__control sk-hidden--visually\" id=\"sk-estimator-id-1\" type=\"checkbox\" checked><label for=\"sk-estimator-id-1\" class=\"sk-toggleable__label fitted sk-toggleable__label-arrow\"><div><div>LinearRegression</div></div><div><a class=\"sk-estimator-doc-link fitted\" rel=\"noreferrer\" target=\"_blank\" href=\"https://scikit-learn.org/1.6/modules/generated/sklearn.linear_model.LinearRegression.html\">?<span>Documentation for LinearRegression</span></a><span class=\"sk-estimator-doc-link fitted\">i<span>Fitted</span></span></div></label><div class=\"sk-toggleable__content fitted\"><pre>LinearRegression()</pre></div> </div></div></div></div>"
      ],
      "text/plain": [
       "LinearRegression()"
      ]
     },
     "execution_count": 26,
     "metadata": {},
     "output_type": "execute_result"
    }
   ],
   "source": [
    "# To train and fit the model\n",
    "model.fit(x_train,y_train)"
   ]
  },
  {
   "cell_type": "code",
   "execution_count": 27,
   "id": "6903ccfb",
   "metadata": {
    "execution": {
     "iopub.execute_input": "2024-05-11T09:14:47.149225Z",
     "iopub.status.busy": "2024-05-11T09:14:47.148778Z",
     "iopub.status.idle": "2024-05-11T09:14:47.159850Z",
     "shell.execute_reply": "2024-05-11T09:14:47.158731Z"
    },
    "papermill": {
     "duration": 0.029382,
     "end_time": "2024-05-11T09:14:47.162380",
     "exception": false,
     "start_time": "2024-05-11T09:14:47.132998",
     "status": "completed"
    },
    "tags": []
   },
   "outputs": [
    {
     "data": {
      "text/plain": [
       "array([[130293.72312675],\n",
       "       [183733.0198562 ],\n",
       "       [ 69249.9165435 ],\n",
       "       [ 45499.11799708],\n",
       "       [116751.51363635],\n",
       "       [ 94667.52530712],\n",
       "       [137898.23298055],\n",
       "       [ 57374.51727029],\n",
       "       [142169.12239996],\n",
       "       [ 57374.51727029],\n",
       "       [ 51436.81763369],\n",
       "       [ 75187.61618011],\n",
       "       [100605.22494372],\n",
       "       [ 93000.71508993],\n",
       "       [126022.83370734],\n",
       "       [191337.52971   ],\n",
       "       [ 63312.2169069 ],\n",
       "       [ 45499.11799708],\n",
       "       [159982.22130978],\n",
       "       [ 33623.71872387],\n",
       "       [ 45499.11799708],\n",
       "       [ 76854.4263973 ],\n",
       "       [ 45499.11799708],\n",
       "       [ 81125.31581672],\n",
       "       [149773.63225376],\n",
       "       [ 93000.71508993],\n",
       "       [149773.63225376],\n",
       "       [ 63312.2169069 ],\n",
       "       [ 93000.71508993],\n",
       "       [ 82792.12603391],\n",
       "       [ 63312.2169069 ],\n",
       "       [ 88729.82567051],\n",
       "       [ 57374.51727029],\n",
       "       [ 39561.41836048],\n",
       "       [ 51436.81763369],\n",
       "       [ 51436.81763369],\n",
       "       [155711.33189037],\n",
       "       [ 75187.61618011],\n",
       "       [ 81125.31581672],\n",
       "       [ 81125.31581672],\n",
       "       [ 75187.61618011],\n",
       "       [ 63312.2169069 ],\n",
       "       [ 75187.61618011],\n",
       "       [126022.83370734],\n",
       "       [165919.92094638],\n",
       "       [ 45499.11799708],\n",
       "       [100605.22494372],\n",
       "       [ 75187.61618011],\n",
       "       [ 51436.81763369],\n",
       "       [ 51436.81763369],\n",
       "       [ 98938.41472653],\n",
       "       [ 81125.31581672],\n",
       "       [142169.12239996],\n",
       "       [130293.72312675],\n",
       "       [ 57374.51727029],\n",
       "       [171857.62058299],\n",
       "       [ 42530.26817878],\n",
       "       [171857.62058299],\n",
       "       [118418.32385354],\n",
       "       [120085.13407073],\n",
       "       [164253.11072919],\n",
       "       [136231.42276336],\n",
       "       [ 51436.81763369],\n",
       "       [116751.51363635],\n",
       "       [116751.51363635],\n",
       "       [ 81125.31581672],\n",
       "       [161649.03152697],\n",
       "       [197275.2293466 ],\n",
       "       [ 98938.41472653],\n",
       "       [124356.02349015],\n",
       "       [ 87063.01545332],\n",
       "       [ 51436.81763369],\n",
       "       [ 57374.51727029],\n",
       "       [165919.92094638],\n",
       "       [159982.22130978]])"
      ]
     },
     "execution_count": 27,
     "metadata": {},
     "output_type": "execute_result"
    }
   ],
   "source": [
    "# to predict the data\n",
    "y_pred = model.predict(x_test)\n",
    "y_pred"
   ]
  },
  {
   "cell_type": "code",
   "execution_count": 28,
   "id": "ce00678a",
   "metadata": {
    "execution": {
     "iopub.execute_input": "2024-05-11T09:14:47.193778Z",
     "iopub.status.busy": "2024-05-11T09:14:47.193384Z",
     "iopub.status.idle": "2024-05-11T09:14:47.205947Z",
     "shell.execute_reply": "2024-05-11T09:14:47.204702Z"
    },
    "papermill": {
     "duration": 0.030781,
     "end_time": "2024-05-11T09:14:47.208202",
     "exception": false,
     "start_time": "2024-05-11T09:14:47.177421",
     "status": "completed"
    },
    "tags": []
   },
   "outputs": [
    {
     "data": {
      "application/vnd.microsoft.datawrangler.viewer.v0+json": {
       "columns": [
        {
         "name": "index",
         "rawType": "int64",
         "type": "integer"
        },
        {
         "name": "Salary",
         "rawType": "float64",
         "type": "float"
        }
       ],
       "conversionMethod": "pd.DataFrame",
       "ref": "fbe617f8-52c6-4895-95fb-16ba5906a7cc",
       "rows": [
        [
         "74",
         "120000.0"
        ],
        [
         "60",
         "170000.0"
        ],
        [
         "89",
         "55000.0"
        ],
        [
         "22",
         "50000.0"
        ],
        [
         "343",
         "150000.0"
        ],
        [
         "129",
         "105000.0"
        ],
        [
         "234",
         "140000.0"
        ],
        [
         "345",
         "60000.0"
        ],
        [
         "47",
         "180000.0"
        ],
        [
         "147",
         "60000.0"
        ],
        [
         "354",
         "50000.0"
        ],
        [
         "204",
         "90000.0"
        ],
        [
         "251",
         "110000.0"
        ],
        [
         "319",
         "120000.0"
        ],
        [
         "90",
         "120000.0"
        ],
        [
         "258",
         "180000.0"
        ],
        [
         "304",
         "70000.0"
        ],
        [
         "84",
         "40000.0"
        ],
        [
         "53",
         "200000.0"
        ],
        [
         "49",
         "35000.0"
        ],
        [
         "35",
         "45000.0"
        ],
        [
         "20",
         "80000.0"
        ],
        [
         "224",
         "40000.0"
        ],
        [
         "370",
         "85000.0"
        ],
        [
         "211",
         "150000.0"
        ],
        [
         "75",
         "95000.0"
        ],
        [
         "182",
         "145000.0"
        ],
        [
         "67",
         "45000.0"
        ],
        [
         "33",
         "65000.0"
        ],
        [
         "316",
         "80000.0"
        ],
        [
         "122",
         "50000.0"
        ],
        [
         "59",
         "105000.0"
        ],
        [
         "333",
         "60000.0"
        ],
        [
         "27",
         "40000.0"
        ],
        [
         "150",
         "45000.0"
        ],
        [
         "91",
         "40000.0"
        ],
        [
         "297",
         "160000.0"
        ],
        [
         "94",
         "75000.0"
        ],
        [
         "266",
         "95000.0"
        ],
        [
         "287",
         "85000.0"
        ],
        [
         "36",
         "60000.0"
        ],
        [
         "339",
         "70000.0"
        ],
        [
         "175",
         "85000.0"
        ],
        [
         "48",
         "120000.0"
        ],
        [
         "208",
         "170000.0"
        ],
        [
         "159",
         "40000.0"
        ],
        [
         "154",
         "95000.0"
        ],
        [
         "361",
         "90000.0"
        ],
        [
         "327",
         "55000.0"
        ],
        [
         "131",
         "45000.0"
        ]
       ],
       "shape": {
        "columns": 1,
        "rows": 75
       }
      },
      "text/html": [
       "<div>\n",
       "<style scoped>\n",
       "    .dataframe tbody tr th:only-of-type {\n",
       "        vertical-align: middle;\n",
       "    }\n",
       "\n",
       "    .dataframe tbody tr th {\n",
       "        vertical-align: top;\n",
       "    }\n",
       "\n",
       "    .dataframe thead th {\n",
       "        text-align: right;\n",
       "    }\n",
       "</style>\n",
       "<table border=\"1\" class=\"dataframe\">\n",
       "  <thead>\n",
       "    <tr style=\"text-align: right;\">\n",
       "      <th></th>\n",
       "      <th>Salary</th>\n",
       "    </tr>\n",
       "  </thead>\n",
       "  <tbody>\n",
       "    <tr>\n",
       "      <th>74</th>\n",
       "      <td>120000.0</td>\n",
       "    </tr>\n",
       "    <tr>\n",
       "      <th>60</th>\n",
       "      <td>170000.0</td>\n",
       "    </tr>\n",
       "    <tr>\n",
       "      <th>89</th>\n",
       "      <td>55000.0</td>\n",
       "    </tr>\n",
       "    <tr>\n",
       "      <th>22</th>\n",
       "      <td>50000.0</td>\n",
       "    </tr>\n",
       "    <tr>\n",
       "      <th>343</th>\n",
       "      <td>150000.0</td>\n",
       "    </tr>\n",
       "    <tr>\n",
       "      <th>...</th>\n",
       "      <td>...</td>\n",
       "    </tr>\n",
       "    <tr>\n",
       "      <th>111</th>\n",
       "      <td>95000.0</td>\n",
       "    </tr>\n",
       "    <tr>\n",
       "      <th>307</th>\n",
       "      <td>50000.0</td>\n",
       "    </tr>\n",
       "    <tr>\n",
       "      <th>31</th>\n",
       "      <td>55000.0</td>\n",
       "    </tr>\n",
       "    <tr>\n",
       "      <th>249</th>\n",
       "      <td>170000.0</td>\n",
       "    </tr>\n",
       "    <tr>\n",
       "      <th>102</th>\n",
       "      <td>150000.0</td>\n",
       "    </tr>\n",
       "  </tbody>\n",
       "</table>\n",
       "<p>75 rows × 1 columns</p>\n",
       "</div>"
      ],
      "text/plain": [
       "       Salary\n",
       "74   120000.0\n",
       "60   170000.0\n",
       "89    55000.0\n",
       "22    50000.0\n",
       "343  150000.0\n",
       "..        ...\n",
       "111   95000.0\n",
       "307   50000.0\n",
       "31    55000.0\n",
       "249  170000.0\n",
       "102  150000.0\n",
       "\n",
       "[75 rows x 1 columns]"
      ]
     },
     "execution_count": 28,
     "metadata": {},
     "output_type": "execute_result"
    }
   ],
   "source": [
    "# to know what the orignal prediction was for the testing data\n",
    "y_test"
   ]
  },
  {
   "cell_type": "code",
   "execution_count": 29,
   "id": "66237a7c",
   "metadata": {
    "execution": {
     "iopub.execute_input": "2024-05-11T09:14:47.241484Z",
     "iopub.status.busy": "2024-05-11T09:14:47.240639Z",
     "iopub.status.idle": "2024-05-11T09:14:47.245933Z",
     "shell.execute_reply": "2024-05-11T09:14:47.244888Z"
    },
    "papermill": {
     "duration": 0.023689,
     "end_time": "2024-05-11T09:14:47.248161",
     "exception": false,
     "start_time": "2024-05-11T09:14:47.224472",
     "status": "completed"
    },
    "tags": []
   },
   "outputs": [],
   "source": [
    "# to Calculate the Accuracy of the Model\n",
    "from sklearn.metrics import mean_absolute_error, mean_absolute_percentage_error,mean_squared_error"
   ]
  },
  {
   "cell_type": "code",
   "execution_count": 30,
   "id": "26926e74",
   "metadata": {
    "execution": {
     "iopub.execute_input": "2024-05-11T09:14:47.280166Z",
     "iopub.status.busy": "2024-05-11T09:14:47.279737Z",
     "iopub.status.idle": "2024-05-11T09:14:47.288870Z",
     "shell.execute_reply": "2024-05-11T09:14:47.287774Z"
    },
    "papermill": {
     "duration": 0.027794,
     "end_time": "2024-05-11T09:14:47.291196",
     "exception": false,
     "start_time": "2024-05-11T09:14:47.263402",
     "status": "completed"
    },
    "tags": []
   },
   "outputs": [
    {
     "data": {
      "text/plain": [
       "9859.883754159091"
      ]
     },
     "execution_count": 30,
     "metadata": {},
     "output_type": "execute_result"
    }
   ],
   "source": [
    "# to print the mean absolute error\n",
    "mean_absolute_error(y_test,y_pred)"
   ]
  },
  {
   "cell_type": "code",
   "execution_count": 31,
   "id": "8cb99b7f",
   "metadata": {
    "execution": {
     "iopub.execute_input": "2024-05-11T09:14:47.323260Z",
     "iopub.status.busy": "2024-05-11T09:14:47.322776Z",
     "iopub.status.idle": "2024-05-11T09:14:47.332701Z",
     "shell.execute_reply": "2024-05-11T09:14:47.331519Z"
    },
    "papermill": {
     "duration": 0.028775,
     "end_time": "2024-05-11T09:14:47.335197",
     "exception": false,
     "start_time": "2024-05-11T09:14:47.306422",
     "status": "completed"
    },
    "tags": []
   },
   "outputs": [
    {
     "data": {
      "text/plain": [
       "0.10963749345183445"
      ]
     },
     "execution_count": 31,
     "metadata": {},
     "output_type": "execute_result"
    }
   ],
   "source": [
    "# to print the mean absolute percentage\n",
    "per_e = mean_absolute_percentage_error(y_test,y_pred)\n",
    "per_e"
   ]
  },
  {
   "cell_type": "code",
   "execution_count": 32,
   "id": "3006eaab",
   "metadata": {
    "execution": {
     "iopub.execute_input": "2024-05-11T09:14:47.368703Z",
     "iopub.status.busy": "2024-05-11T09:14:47.367401Z",
     "iopub.status.idle": "2024-05-11T09:14:47.375226Z",
     "shell.execute_reply": "2024-05-11T09:14:47.374155Z"
    },
    "papermill": {
     "duration": 0.026792,
     "end_time": "2024-05-11T09:14:47.377606",
     "exception": false,
     "start_time": "2024-05-11T09:14:47.350814",
     "status": "completed"
    },
    "tags": []
   },
   "outputs": [
    {
     "data": {
      "text/plain": [
       "89.03625065481656"
      ]
     },
     "execution_count": 32,
     "metadata": {},
     "output_type": "execute_result"
    }
   ],
   "source": [
    "# to print the accuracy in percentage\n",
    "acc1 = (1-per_e)*100\n",
    "acc1"
   ]
  },
  {
   "cell_type": "code",
   "execution_count": 33,
   "id": "52277245",
   "metadata": {
    "execution": {
     "iopub.execute_input": "2024-05-11T09:14:47.410670Z",
     "iopub.status.busy": "2024-05-11T09:14:47.410249Z",
     "iopub.status.idle": "2024-05-11T09:14:47.590521Z",
     "shell.execute_reply": "2024-05-11T09:14:47.589099Z"
    },
    "papermill": {
     "duration": 0.199793,
     "end_time": "2024-05-11T09:14:47.593125",
     "exception": false,
     "start_time": "2024-05-11T09:14:47.393332",
     "status": "completed"
    },
    "tags": []
   },
   "outputs": [
    {
     "data": {
      "text/plain": [
       "87.51771162429581"
      ]
     },
     "execution_count": 33,
     "metadata": {},
     "output_type": "execute_result"
    }
   ],
   "source": [
    "# Trying other Algorhithms to check which gives the best accuracy\n",
    "\n",
    "# KNeighbors Regressor\n",
    "\n",
    "from sklearn.neighbors import KNeighborsRegressor\n",
    "model2 = KNeighborsRegressor() \n",
    "model2.fit(x_train,y_train)\n",
    "y_pred2 = model2.predict(x_test)\n",
    "error2 = mean_absolute_percentage_error(y_test,y_pred2)\n",
    "acc2 = (1-error2)*100\n",
    "acc2"
   ]
  },
  {
   "cell_type": "code",
   "execution_count": 34,
   "id": "1539e79a",
   "metadata": {
    "execution": {
     "iopub.execute_input": "2024-05-11T09:14:47.626758Z",
     "iopub.status.busy": "2024-05-11T09:14:47.626341Z",
     "iopub.status.idle": "2024-05-11T09:14:47.685478Z",
     "shell.execute_reply": "2024-05-11T09:14:47.684300Z"
    },
    "papermill": {
     "duration": 0.079144,
     "end_time": "2024-05-11T09:14:47.687955",
     "exception": false,
     "start_time": "2024-05-11T09:14:47.608811",
     "status": "completed"
    },
    "tags": []
   },
   "outputs": [
    {
     "data": {
      "text/plain": [
       "89.18331140155195"
      ]
     },
     "execution_count": 34,
     "metadata": {},
     "output_type": "execute_result"
    }
   ],
   "source": [
    "# DecisionTree Regressor\n",
    "\n",
    "from sklearn.tree import DecisionTreeRegressor\n",
    "model3 = DecisionTreeRegressor()\n",
    "model3.fit(x_train,y_train)\n",
    "y_pred3 = model3.predict(x_test)\n",
    "error3 = mean_absolute_percentage_error(y_test,y_pred3)\n",
    "acc3 = (1-error3)*100\n",
    "acc3"
   ]
  },
  {
   "cell_type": "code",
   "execution_count": 35,
   "id": "7ae95ca2",
   "metadata": {
    "execution": {
     "iopub.execute_input": "2024-05-11T09:14:47.721812Z",
     "iopub.status.busy": "2024-05-11T09:14:47.721108Z",
     "iopub.status.idle": "2024-05-11T09:14:48.028593Z",
     "shell.execute_reply": "2024-05-11T09:14:48.027398Z"
    },
    "papermill": {
     "duration": 0.327454,
     "end_time": "2024-05-11T09:14:48.031379",
     "exception": false,
     "start_time": "2024-05-11T09:14:47.703925",
     "status": "completed"
    },
    "tags": []
   },
   "outputs": [
    {
     "name": "stderr",
     "output_type": "stream",
     "text": [
      "/Users/zsomborveres-lakos/anaconda3/lib/python3.11/site-packages/sklearn/base.py:1389: DataConversionWarning: A column-vector y was passed when a 1d array was expected. Please change the shape of y to (n_samples,), for example using ravel().\n",
      "  return fit_method(estimator, *args, **kwargs)\n"
     ]
    },
    {
     "data": {
      "text/plain": [
       "89.25266496370385"
      ]
     },
     "execution_count": 35,
     "metadata": {},
     "output_type": "execute_result"
    }
   ],
   "source": [
    "# RandomForest Regressor\n",
    "\n",
    "from sklearn.ensemble import RandomForestRegressor\n",
    "model4 = RandomForestRegressor()\n",
    "model4.fit(x_train,y_train)\n",
    "y_pred4 = model4.predict(x_test)\n",
    "error4 = mean_absolute_percentage_error(y_test,y_pred4)\n",
    "acc4 = (1-error4)*100\n",
    "acc4"
   ]
  },
  {
   "cell_type": "code",
   "execution_count": 36,
   "id": "7034449c",
   "metadata": {
    "execution": {
     "iopub.execute_input": "2024-05-11T09:14:48.066672Z",
     "iopub.status.busy": "2024-05-11T09:14:48.066247Z",
     "iopub.status.idle": "2024-05-11T09:14:48.072877Z",
     "shell.execute_reply": "2024-05-11T09:14:48.071512Z"
    },
    "papermill": {
     "duration": 0.027412,
     "end_time": "2024-05-11T09:14:48.075980",
     "exception": false,
     "start_time": "2024-05-11T09:14:48.048568",
     "status": "completed"
    },
    "tags": []
   },
   "outputs": [
    {
     "name": "stdout",
     "output_type": "stream",
     "text": [
      "The Acuuracy of Linear Regressor is  89.03625065481656\n",
      "The Acuuracy of KNeighbors Regressor is  87.51771162429581\n",
      "The Acuuracy of DecisionTree Regressor is  89.18331140155195\n",
      "The Acuuracy of RandomForest Regressor is  89.25266496370385\n"
     ]
    }
   ],
   "source": [
    "print(\"The Acuuracy of Linear Regressor is \",acc1)\n",
    "print(\"The Acuuracy of KNeighbors Regressor is \",acc2)\n",
    "print(\"The Acuuracy of DecisionTree Regressor is \",acc3)\n",
    "print(\"The Acuuracy of RandomForest Regressor is \",acc4)"
   ]
  }
 ],
 "metadata": {
  "kaggle": {
   "accelerator": "none",
   "dataSources": [
    {
     "datasetId": 2973025,
     "sourceId": 5119031,
     "sourceType": "datasetVersion"
    }
   ],
   "dockerImageVersionId": 30698,
   "isGpuEnabled": false,
   "isInternetEnabled": true,
   "language": "python",
   "sourceType": "notebook"
  },
  "kernelspec": {
   "display_name": "Python 3",
   "language": "python",
   "name": "python3"
  },
  "language_info": {
   "codemirror_mode": {
    "name": "ipython",
    "version": 3
   },
   "file_extension": ".py",
   "mimetype": "text/x-python",
   "name": "python",
   "nbconvert_exporter": "python",
   "pygments_lexer": "ipython3",
   "version": "3.11.11"
  },
  "papermill": {
   "default_parameters": {},
   "duration": 8.728467,
   "end_time": "2024-05-11T09:14:48.814609",
   "environment_variables": {},
   "exception": null,
   "input_path": "__notebook__.ipynb",
   "output_path": "__notebook__.ipynb",
   "parameters": {},
   "start_time": "2024-05-11T09:14:40.086142",
   "version": "2.5.0"
  }
 },
 "nbformat": 4,
 "nbformat_minor": 5
}
