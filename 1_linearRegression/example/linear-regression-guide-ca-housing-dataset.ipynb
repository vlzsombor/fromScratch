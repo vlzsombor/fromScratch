{
 "cells": [
  {
   "cell_type": "code",
   "execution_count": 1,
   "metadata": {
    "_cell_guid": "b1076dfc-b9ad-4769-8c92-a6c4dae69d19",
    "_uuid": "8f2839f25d086af736a60e9eeb907d3b93b6e0e5",
    "execution": {
     "iopub.execute_input": "2024-08-11T20:44:57.362008Z",
     "iopub.status.busy": "2024-08-11T20:44:57.361564Z",
     "iopub.status.idle": "2024-08-11T20:44:57.373275Z",
     "shell.execute_reply": "2024-08-11T20:44:57.372002Z",
     "shell.execute_reply.started": "2024-08-11T20:44:57.36197Z"
    },
    "trusted": true
   },
   "outputs": [],
   "source": [
    "# This Python 3 environment comes with many helpful analytics libraries installed\n",
    "# It is defined by the kaggle/python Docker image: https://github.com/kaggle/docker-python\n",
    "# For example, here's several helpful packages to load\n",
    "\n",
    "import numpy as np # linear algebra\n",
    "import pandas as pd # data processing, CSV file I/O (e.g. pd.read_csv)\n",
    "\n",
    "# Input data files are available in the read-only \"../input/\" directory\n",
    "# For example, running this (by clicking run or pressing Shift+Enter) will list all files under the input directory\n",
    "\n",
    "import os\n",
    "for dirname, _, filenames in os.walk('/kaggle/input'):\n",
    "    for filename in filenames:\n",
    "        print(os.path.join(dirname, filename))\n",
    "\n",
    "# You can write up to 20GB to the current directory (/kaggle/working/) that gets preserved as output when you create a version using \"Save & Run All\" \n",
    "# You can also write temporary files to /kaggle/temp/, but they won't be saved outside of the current session"
   ]
  },
  {
   "cell_type": "markdown",
   "metadata": {},
   "source": [
    "<a id=\"linear-regression-house-price-prediction\"></a>\n",
    "\n",
    "<div style=\"background-color: #e3f2fd; font-size:150%; text-align:left; border: 7px solid #0288d1; text-shadow: 2px 2px 4px rgba(0, 0, 0, 0.3); font-family: Calibri; border-radius: 20px; padding: 10px; width:95%\">\n",
    "<h1 align=\"center\"><font color=#0277bd><strong>LINEAR REGRESSION FOR HOUSE PRICE PREDICTION</strong></font></h1>\n",
    "<p style=\"font-family: Calibri; color: #0277bd; text-shadow: 2px 2px 4px rgba(0, 0, 0, 0.3); text-align: left; font-size: 110%\">\n",
    "    In this notebook, we will build different linear regression models for California house price prediction:\n",
    "    <br><br>\n",
    "    1. Explore California Housing Dataset\n",
    "    <br>\n",
    "    2. Linear regression (with normal equation and iterative optimization)\n",
    "    <br>\n",
    "    3. Polynomial regression\n",
    "    <br>\n",
    "    4. Regularized regression models - ridge and lasso\n",
    "    <br><br>\n",
    "    We will set regularization rate and polynomial degree with hyper-parameter tuning and cross-validation.\n",
    "    <br><br>\n",
    "    We will compare different models in terms of their parameter vectors and mean absolute error on train, development, and test sets.\n",
    "</p>\n",
    "</div>"
   ]
  },
  {
   "cell_type": "markdown",
   "metadata": {},
   "source": [
    "<a id=\"california-housing-dataset\"></a>\n",
    "<div style=\"background-color: #e3f2fd; font-size:150%; text-align:left; border: 7px solid #0288d1; text-shadow: 2px 2px 4px rgba(0, 0, 0, 0.3); font-family: Calibri; border-radius: 20px; padding: 10px; width:95%\">\n",
    "<h1 align=\"center\"><font color=#0277bd><strong>CALIFORNIA HOUSING DATASET</strong></font></h1>\n",
    "<p style=\"font-family: Calibri; color: #0277bd; text-shadow: 2px 2px 4px rgba(0, 0, 0, 0.3); text-align: left; font-size: 110%\">\n",
    "    This notebook introduces the California Housing dataset that we will be using for regression demonstrations.\n",
    "    <br><br>\n",
    "    We also list down the steps for typical dataset exploration, which can be broadly applied to any dataset.\n",
    "</p>\n",
    "</div>\n"
   ]
  },
  {
   "cell_type": "code",
   "execution_count": 2,
   "metadata": {
    "execution": {
     "iopub.execute_input": "2024-08-11T20:54:40.846122Z",
     "iopub.status.busy": "2024-08-11T20:54:40.845653Z",
     "iopub.status.idle": "2024-08-11T20:54:40.851873Z",
     "shell.execute_reply": "2024-08-11T20:54:40.850766Z",
     "shell.execute_reply.started": "2024-08-11T20:54:40.846087Z"
    },
    "trusted": true
   },
   "outputs": [],
   "source": [
    "import warnings\n",
    "from sklearn.exceptions import ConvergenceWarning\n",
    "\n",
    "with warnings.catch_warnings():\n",
    "    warnings.simplefilter(\"ignore\", ConvergenceWarning)"
   ]
  },
  {
   "cell_type": "code",
   "execution_count": 3,
   "metadata": {
    "execution": {
     "iopub.execute_input": "2024-08-11T20:44:57.377023Z",
     "iopub.status.busy": "2024-08-11T20:44:57.375772Z",
     "iopub.status.idle": "2024-08-11T20:44:57.383351Z",
     "shell.execute_reply": "2024-08-11T20:44:57.382011Z",
     "shell.execute_reply.started": "2024-08-11T20:44:57.376979Z"
    },
    "trusted": true
   },
   "outputs": [],
   "source": [
    "warnings.filterwarnings(\"ignore\")"
   ]
  },
  {
   "cell_type": "code",
   "execution_count": 1,
   "metadata": {
    "execution": {
     "iopub.execute_input": "2024-08-11T20:44:57.38528Z",
     "iopub.status.busy": "2024-08-11T20:44:57.384793Z",
     "iopub.status.idle": "2024-08-11T20:44:57.39366Z",
     "shell.execute_reply": "2024-08-11T20:44:57.392384Z",
     "shell.execute_reply.started": "2024-08-11T20:44:57.385241Z"
    },
    "trusted": true
   },
   "outputs": [],
   "source": [
    "from sklearn.datasets import fetch_california_housing"
   ]
  },
  {
   "cell_type": "code",
   "execution_count": 2,
   "metadata": {
    "execution": {
     "iopub.execute_input": "2024-08-11T20:44:57.396432Z",
     "iopub.status.busy": "2024-08-11T20:44:57.396093Z",
     "iopub.status.idle": "2024-08-11T20:44:57.416907Z",
     "shell.execute_reply": "2024-08-11T20:44:57.415765Z",
     "shell.execute_reply.started": "2024-08-11T20:44:57.396392Z"
    },
    "trusted": true
   },
   "outputs": [],
   "source": [
    "california_housing = fetch_california_housing(as_frame=True)"
   ]
  },
  {
   "cell_type": "code",
   "execution_count": 3,
   "metadata": {
    "execution": {
     "iopub.execute_input": "2024-08-11T20:44:57.418894Z",
     "iopub.status.busy": "2024-08-11T20:44:57.418552Z",
     "iopub.status.idle": "2024-08-11T20:44:57.426208Z",
     "shell.execute_reply": "2024-08-11T20:44:57.42515Z",
     "shell.execute_reply.started": "2024-08-11T20:44:57.418865Z"
    },
    "trusted": true
   },
   "outputs": [
    {
     "data": {
      "text/plain": [
       "sklearn.utils._bunch.Bunch"
      ]
     },
     "execution_count": 3,
     "metadata": {},
     "output_type": "execute_result"
    }
   ],
   "source": [
    "type(california_housing)"
   ]
  },
  {
   "cell_type": "markdown",
   "metadata": {},
   "source": [
    "<a id=\"bunch-object-attributes\"></a>\n",
    "<div style=\"background-color: #e3f2fd; font-size:150%; text-align:left; border: 7px solid #0288d1; text-shadow: 2px 2px 4px rgba(0, 0, 0, 0.3); font-family: Calibri; border-radius: 20px; padding: 10px; width:95%\">\n",
    "<h1 align=\"center\"><font color=#0277bd><strong>BUNCH OBJECT ATTRIBUTES</strong></font></h1>\n",
    "<p style=\"font-family: Calibri; color: #0277bd; text-shadow: 2px 2px 4px rgba(0, 0, 0, 0.3); text-align: left; font-size: 110%\">\n",
    "    The <code>bunch</code> object is a dictionary-like object with the following attributes:\n",
    "    <br><br>\n",
    "    * <code>data</code>, which is a pandas object (since <code>as_frame=True</code>). Each row corresponds to 8 feature values.\n",
    "    <br><br>\n",
    "    * <code>target</code> value contains average house value in units of 100,000. This is also a pandas object (since <code>as_frame=True</code>).\n",
    "    <br><br>\n",
    "    * <code>feature_names</code> is an array of ordered feature names used in the dataset.\n",
    "    <br><br>\n",
    "    * <code>DESCR</code> contains a description of the dataset.\n",
    "    <br><br>\n",
    "    * <code>frame</code> contains a dataframe with data and target.\n",
    "    <br><br>\n",
    "    Each of these attributes can be accessed as <code>&lt;bunch_object&gt;.key</code>. In our case, we can access these features as follows:\n",
    "    <br><br>\n",
    "    * <code>california_housing.data</code> gives us access to contents of <code>data</code> key.\n",
    "    <br><br>\n",
    "    * <code>california_housing.target</code> gives us access to contents of <code>target</code> key.\n",
    "    <br><br>\n",
    "    * <code>california_housing.feature_names</code> gives us access to contents of <code>feature_names</code> key.\n",
    "    <br><br>\n",
    "    * <code>california_housing.DESCR</code> gives us access to contents of <code>DESCR</code> key.\n",
    "    <br><br>\n",
    "    * <code>california_housing.frame</code> gives us access to contents of <code>frame</code> key.\n",
    "</p>\n",
    "</div>\n"
   ]
  },
  {
   "cell_type": "markdown",
   "metadata": {},
   "source": [
    "# Dataset exploration"
   ]
  },
  {
   "cell_type": "code",
   "execution_count": 4,
   "metadata": {
    "execution": {
     "iopub.execute_input": "2024-08-11T20:44:57.427739Z",
     "iopub.status.busy": "2024-08-11T20:44:57.427409Z",
     "iopub.status.idle": "2024-08-11T20:44:57.436878Z",
     "shell.execute_reply": "2024-08-11T20:44:57.435774Z",
     "shell.execute_reply.started": "2024-08-11T20:44:57.427711Z"
    },
    "trusted": true
   },
   "outputs": [
    {
     "name": "stdout",
     "output_type": "stream",
     "text": [
      ".. _california_housing_dataset:\n",
      "\n",
      "California Housing dataset\n",
      "--------------------------\n",
      "\n",
      "**Data Set Characteristics:**\n",
      "\n",
      ":Number of Instances: 20640\n",
      "\n",
      ":Number of Attributes: 8 numeric, predictive attributes and the target\n",
      "\n",
      ":Attribute Information:\n",
      "    - MedInc        median income in block group\n",
      "    - HouseAge      median house age in block group\n",
      "    - AveRooms      average number of rooms per household\n",
      "    - AveBedrms     average number of bedrooms per household\n",
      "    - Population    block group population\n",
      "    - AveOccup      average number of household members\n",
      "    - Latitude      block group latitude\n",
      "    - Longitude     block group longitude\n",
      "\n",
      ":Missing Attribute Values: None\n",
      "\n",
      "This dataset was obtained from the StatLib repository.\n",
      "https://www.dcc.fc.up.pt/~ltorgo/Regression/cal_housing.html\n",
      "\n",
      "The target variable is the median house value for California districts,\n",
      "expressed in hundreds of thousands of dollars ($100,000).\n",
      "\n",
      "This dataset was derived from the 1990 U.S. census, using one row per census\n",
      "block group. A block group is the smallest geographical unit for which the U.S.\n",
      "Census Bureau publishes sample data (a block group typically has a population\n",
      "of 600 to 3,000 people).\n",
      "\n",
      "A household is a group of people residing within a home. Since the average\n",
      "number of rooms and bedrooms in this dataset are provided per household, these\n",
      "columns may take surprisingly large values for block groups with few households\n",
      "and many empty houses, such as vacation resorts.\n",
      "\n",
      "It can be downloaded/loaded using the\n",
      ":func:`sklearn.datasets.fetch_california_housing` function.\n",
      "\n",
      ".. rubric:: References\n",
      "\n",
      "- Pace, R. Kelley and Ronald Barry, Sparse Spatial Autoregressions,\n",
      "  Statistics and Probability Letters, 33 (1997) 291-297\n",
      "\n"
     ]
    }
   ],
   "source": [
    "print(california_housing.DESCR)"
   ]
  },
  {
   "cell_type": "markdown",
   "metadata": {},
   "source": [
    "<a id=\"key-statistics\"></a>\n",
    "<div style=\"background-color: #e3f2fd; font-size:150%; text-align:left; border: 7px solid #0288d1; text-shadow: 2px 2px 4px rgba(0, 0, 0, 0.3); font-family: Calibri; border-radius: 20px; padding: 10px; width:95%\">\n",
    "<h1 align=\"center\"><font color=#0277bd><strong>KEY STATISTICS</strong></font></h1>\n",
    "<p style=\"font-family: Calibri; color: #0277bd; text-shadow: 2px 2px 4px rgba(0, 0, 0, 0.3); text-align: left; font-size: 110%\">\n",
    "    Note down the key statistics from this description:\n",
    "    <br><br>\n",
    "    * There are <strong>20640 examples</strong> in the dataset.\n",
    "    <br><br>\n",
    "    * There are <strong>8 numerical attributes</strong> per example.\n",
    "    <br><br>\n",
    "    * The target label is the median house value.\n",
    "    <br><br>\n",
    "    * There are <strong>no missing values</strong> in this dataset.\n",
    "</p>\n",
    "</div>"
   ]
  },
  {
   "cell_type": "code",
   "execution_count": 8,
   "metadata": {
    "execution": {
     "iopub.execute_input": "2024-08-11T20:44:57.438736Z",
     "iopub.status.busy": "2024-08-11T20:44:57.438392Z",
     "iopub.status.idle": "2024-08-11T20:44:57.448802Z",
     "shell.execute_reply": "2024-08-11T20:44:57.447788Z",
     "shell.execute_reply.started": "2024-08-11T20:44:57.438707Z"
    },
    "trusted": true
   },
   "outputs": [
    {
     "data": {
      "text/plain": [
       "(20640, 8)"
      ]
     },
     "execution_count": 8,
     "metadata": {},
     "output_type": "execute_result"
    }
   ],
   "source": [
    "california_housing.data.shape\n"
   ]
  },
  {
   "cell_type": "code",
   "execution_count": 9,
   "metadata": {
    "execution": {
     "iopub.execute_input": "2024-08-11T20:44:57.45061Z",
     "iopub.status.busy": "2024-08-11T20:44:57.450203Z",
     "iopub.status.idle": "2024-08-11T20:44:57.459249Z",
     "shell.execute_reply": "2024-08-11T20:44:57.457999Z",
     "shell.execute_reply.started": "2024-08-11T20:44:57.450573Z"
    },
    "trusted": true
   },
   "outputs": [
    {
     "data": {
      "text/plain": [
       "pandas.core.frame.DataFrame"
      ]
     },
     "execution_count": 9,
     "metadata": {},
     "output_type": "execute_result"
    }
   ],
   "source": [
    "type(california_housing.data)"
   ]
  },
  {
   "cell_type": "code",
   "execution_count": 10,
   "metadata": {
    "execution": {
     "iopub.execute_input": "2024-08-11T20:44:57.460753Z",
     "iopub.status.busy": "2024-08-11T20:44:57.46045Z",
     "iopub.status.idle": "2024-08-11T20:44:57.470748Z",
     "shell.execute_reply": "2024-08-11T20:44:57.469735Z",
     "shell.execute_reply.started": "2024-08-11T20:44:57.460727Z"
    },
    "trusted": true
   },
   "outputs": [
    {
     "data": {
      "text/plain": [
       "(20640,)"
      ]
     },
     "execution_count": 10,
     "metadata": {},
     "output_type": "execute_result"
    }
   ],
   "source": [
    "california_housing.target.shape"
   ]
  },
  {
   "cell_type": "code",
   "execution_count": 11,
   "metadata": {
    "execution": {
     "iopub.execute_input": "2024-08-11T20:44:57.476644Z",
     "iopub.status.busy": "2024-08-11T20:44:57.476261Z",
     "iopub.status.idle": "2024-08-11T20:44:57.484609Z",
     "shell.execute_reply": "2024-08-11T20:44:57.483487Z",
     "shell.execute_reply.started": "2024-08-11T20:44:57.476611Z"
    },
    "trusted": true
   },
   "outputs": [
    {
     "data": {
      "text/plain": [
       "pandas.core.series.Series"
      ]
     },
     "execution_count": 11,
     "metadata": {},
     "output_type": "execute_result"
    }
   ],
   "source": [
    "type(california_housing.target)"
   ]
  },
  {
   "cell_type": "markdown",
   "metadata": {},
   "source": [
    "# Feature names  \n",
    "**Let's find out names of the attributes.**"
   ]
  },
  {
   "cell_type": "code",
   "execution_count": 12,
   "metadata": {
    "execution": {
     "iopub.execute_input": "2024-08-11T20:44:57.486347Z",
     "iopub.status.busy": "2024-08-11T20:44:57.486015Z",
     "iopub.status.idle": "2024-08-11T20:44:57.497731Z",
     "shell.execute_reply": "2024-08-11T20:44:57.496547Z",
     "shell.execute_reply.started": "2024-08-11T20:44:57.486319Z"
    },
    "trusted": true
   },
   "outputs": [
    {
     "data": {
      "text/plain": [
       "['MedInc',\n",
       " 'HouseAge',\n",
       " 'AveRooms',\n",
       " 'AveBedrms',\n",
       " 'Population',\n",
       " 'AveOccup',\n",
       " 'Latitude',\n",
       " 'Longitude']"
      ]
     },
     "execution_count": 12,
     "metadata": {},
     "output_type": "execute_result"
    }
   ],
   "source": [
    "california_housing.feature_names"
   ]
  },
  {
   "cell_type": "markdown",
   "metadata": {},
   "source": [
    "<a id=\"attributes-description\"></a>\n",
    "<div style=\"background-color: #e3f2fd; font-size:150%; text-align:left; border: 7px solid #0288d1; text-shadow: 2px 2px 4px rgba(0, 0, 0, 0.3); font-family: Calibri; border-radius: 20px; padding: 10px; width:95%\">\n",
    "<h1 align=\"center\"><font color=#0277bd><strong>ATTRIBUTES AND THEIR DESCRIPTION</strong></font></h1>\n",
    "<p style=\"font-family: Calibri; color: #0277bd; text-shadow: 2px 2px 4px rgba(0, 0, 0, 0.3); text-align: left; font-size: 110%\">\n",
    "    Understanding the attributes and their descriptions is crucial for analyzing the dataset:\n",
    "    <br><br>\n",
    "    * <strong>MedInc</strong> - Median income in the block.\n",
    "    <br><br>\n",
    "    * <strong>HouseAge</strong> - Median house age in the block.\n",
    "    <br><br>\n",
    "    * <strong>AveRooms</strong> - Average number of rooms.\n",
    "    <br><br>\n",
    "    * <strong>AveBedrms</strong> - Average number of bedrooms.\n",
    "    <br><br>\n",
    "    * <strong>Population</strong> - Block population.\n",
    "    <br><br>\n",
    "    * <strong>AveOccupancy</strong> - Average house occupancy.\n",
    "    <br><br>\n",
    "    * <strong>Latitude</strong> - Latitude of the house block.\n",
    "    <br><br>\n",
    "    * <strong>Longitude</strong> - Longitude of the house block.\n",
    "</p>\n",
    "</div>\n"
   ]
  },
  {
   "cell_type": "code",
   "execution_count": 13,
   "metadata": {
    "execution": {
     "iopub.execute_input": "2024-08-11T20:44:57.499657Z",
     "iopub.status.busy": "2024-08-11T20:44:57.499291Z",
     "iopub.status.idle": "2024-08-11T20:44:57.522095Z",
     "shell.execute_reply": "2024-08-11T20:44:57.521093Z",
     "shell.execute_reply.started": "2024-08-11T20:44:57.499628Z"
    },
    "trusted": true
   },
   "outputs": [
    {
     "data": {
      "application/vnd.microsoft.datawrangler.viewer.v0+json": {
       "columns": [
        {
         "name": "index",
         "rawType": "int64",
         "type": "integer"
        },
        {
         "name": "MedInc",
         "rawType": "float64",
         "type": "float"
        },
        {
         "name": "HouseAge",
         "rawType": "float64",
         "type": "float"
        },
        {
         "name": "AveRooms",
         "rawType": "float64",
         "type": "float"
        },
        {
         "name": "AveBedrms",
         "rawType": "float64",
         "type": "float"
        },
        {
         "name": "Population",
         "rawType": "float64",
         "type": "float"
        },
        {
         "name": "AveOccup",
         "rawType": "float64",
         "type": "float"
        },
        {
         "name": "Latitude",
         "rawType": "float64",
         "type": "float"
        },
        {
         "name": "Longitude",
         "rawType": "float64",
         "type": "float"
        },
        {
         "name": "MedHouseVal",
         "rawType": "float64",
         "type": "float"
        }
       ],
       "conversionMethod": "pd.DataFrame",
       "ref": "0832051c-fdc1-437c-b9a0-a76ac21ae069",
       "rows": [
        [
         "0",
         "8.3252",
         "41.0",
         "6.984126984126984",
         "1.0238095238095237",
         "322.0",
         "2.5555555555555554",
         "37.88",
         "-122.23",
         "4.526"
        ],
        [
         "1",
         "8.3014",
         "21.0",
         "6.238137082601054",
         "0.9718804920913884",
         "2401.0",
         "2.109841827768014",
         "37.86",
         "-122.22",
         "3.585"
        ],
        [
         "2",
         "7.2574",
         "52.0",
         "8.288135593220339",
         "1.073446327683616",
         "496.0",
         "2.8022598870056497",
         "37.85",
         "-122.24",
         "3.521"
        ],
        [
         "3",
         "5.6431",
         "52.0",
         "5.8173515981735155",
         "1.0730593607305936",
         "558.0",
         "2.547945205479452",
         "37.85",
         "-122.25",
         "3.413"
        ],
        [
         "4",
         "3.8462",
         "52.0",
         "6.281853281853282",
         "1.0810810810810811",
         "565.0",
         "2.1814671814671813",
         "37.85",
         "-122.25",
         "3.422"
        ]
       ],
       "shape": {
        "columns": 9,
        "rows": 5
       }
      },
      "text/html": [
       "<div>\n",
       "<style scoped>\n",
       "    .dataframe tbody tr th:only-of-type {\n",
       "        vertical-align: middle;\n",
       "    }\n",
       "\n",
       "    .dataframe tbody tr th {\n",
       "        vertical-align: top;\n",
       "    }\n",
       "\n",
       "    .dataframe thead th {\n",
       "        text-align: right;\n",
       "    }\n",
       "</style>\n",
       "<table border=\"1\" class=\"dataframe\">\n",
       "  <thead>\n",
       "    <tr style=\"text-align: right;\">\n",
       "      <th></th>\n",
       "      <th>MedInc</th>\n",
       "      <th>HouseAge</th>\n",
       "      <th>AveRooms</th>\n",
       "      <th>AveBedrms</th>\n",
       "      <th>Population</th>\n",
       "      <th>AveOccup</th>\n",
       "      <th>Latitude</th>\n",
       "      <th>Longitude</th>\n",
       "      <th>MedHouseVal</th>\n",
       "    </tr>\n",
       "  </thead>\n",
       "  <tbody>\n",
       "    <tr>\n",
       "      <th>0</th>\n",
       "      <td>8.3252</td>\n",
       "      <td>41.0</td>\n",
       "      <td>6.984127</td>\n",
       "      <td>1.023810</td>\n",
       "      <td>322.0</td>\n",
       "      <td>2.555556</td>\n",
       "      <td>37.88</td>\n",
       "      <td>-122.23</td>\n",
       "      <td>4.526</td>\n",
       "    </tr>\n",
       "    <tr>\n",
       "      <th>1</th>\n",
       "      <td>8.3014</td>\n",
       "      <td>21.0</td>\n",
       "      <td>6.238137</td>\n",
       "      <td>0.971880</td>\n",
       "      <td>2401.0</td>\n",
       "      <td>2.109842</td>\n",
       "      <td>37.86</td>\n",
       "      <td>-122.22</td>\n",
       "      <td>3.585</td>\n",
       "    </tr>\n",
       "    <tr>\n",
       "      <th>2</th>\n",
       "      <td>7.2574</td>\n",
       "      <td>52.0</td>\n",
       "      <td>8.288136</td>\n",
       "      <td>1.073446</td>\n",
       "      <td>496.0</td>\n",
       "      <td>2.802260</td>\n",
       "      <td>37.85</td>\n",
       "      <td>-122.24</td>\n",
       "      <td>3.521</td>\n",
       "    </tr>\n",
       "    <tr>\n",
       "      <th>3</th>\n",
       "      <td>5.6431</td>\n",
       "      <td>52.0</td>\n",
       "      <td>5.817352</td>\n",
       "      <td>1.073059</td>\n",
       "      <td>558.0</td>\n",
       "      <td>2.547945</td>\n",
       "      <td>37.85</td>\n",
       "      <td>-122.25</td>\n",
       "      <td>3.413</td>\n",
       "    </tr>\n",
       "    <tr>\n",
       "      <th>4</th>\n",
       "      <td>3.8462</td>\n",
       "      <td>52.0</td>\n",
       "      <td>6.281853</td>\n",
       "      <td>1.081081</td>\n",
       "      <td>565.0</td>\n",
       "      <td>2.181467</td>\n",
       "      <td>37.85</td>\n",
       "      <td>-122.25</td>\n",
       "      <td>3.422</td>\n",
       "    </tr>\n",
       "  </tbody>\n",
       "</table>\n",
       "</div>"
      ],
      "text/plain": [
       "   MedInc  HouseAge  AveRooms  AveBedrms  Population  AveOccup  Latitude  \\\n",
       "0  8.3252      41.0  6.984127   1.023810       322.0  2.555556     37.88   \n",
       "1  8.3014      21.0  6.238137   0.971880      2401.0  2.109842     37.86   \n",
       "2  7.2574      52.0  8.288136   1.073446       496.0  2.802260     37.85   \n",
       "3  5.6431      52.0  5.817352   1.073059       558.0  2.547945     37.85   \n",
       "4  3.8462      52.0  6.281853   1.081081       565.0  2.181467     37.85   \n",
       "\n",
       "   Longitude  MedHouseVal  \n",
       "0    -122.23        4.526  \n",
       "1    -122.22        3.585  \n",
       "2    -122.24        3.521  \n",
       "3    -122.25        3.413  \n",
       "4    -122.25        3.422  "
      ]
     },
     "execution_count": 13,
     "metadata": {},
     "output_type": "execute_result"
    }
   ],
   "source": [
    "california_housing.frame.head()"
   ]
  },
  {
   "cell_type": "code",
   "execution_count": 14,
   "metadata": {
    "execution": {
     "iopub.execute_input": "2024-08-11T20:44:57.523755Z",
     "iopub.status.busy": "2024-08-11T20:44:57.523361Z",
     "iopub.status.idle": "2024-08-11T20:44:57.54285Z",
     "shell.execute_reply": "2024-08-11T20:44:57.541744Z",
     "shell.execute_reply.started": "2024-08-11T20:44:57.523725Z"
    },
    "trusted": true
   },
   "outputs": [
    {
     "data": {
      "application/vnd.microsoft.datawrangler.viewer.v0+json": {
       "columns": [
        {
         "name": "index",
         "rawType": "int64",
         "type": "integer"
        },
        {
         "name": "MedInc",
         "rawType": "float64",
         "type": "float"
        },
        {
         "name": "HouseAge",
         "rawType": "float64",
         "type": "float"
        },
        {
         "name": "AveRooms",
         "rawType": "float64",
         "type": "float"
        },
        {
         "name": "AveBedrms",
         "rawType": "float64",
         "type": "float"
        },
        {
         "name": "Population",
         "rawType": "float64",
         "type": "float"
        },
        {
         "name": "AveOccup",
         "rawType": "float64",
         "type": "float"
        },
        {
         "name": "Latitude",
         "rawType": "float64",
         "type": "float"
        },
        {
         "name": "Longitude",
         "rawType": "float64",
         "type": "float"
        }
       ],
       "conversionMethod": "pd.DataFrame",
       "ref": "8d18cac1-a461-4cd8-8415-04ccfb6e71ca",
       "rows": [
        [
         "0",
         "8.3252",
         "41.0",
         "6.984126984126984",
         "1.0238095238095237",
         "322.0",
         "2.5555555555555554",
         "37.88",
         "-122.23"
        ],
        [
         "1",
         "8.3014",
         "21.0",
         "6.238137082601054",
         "0.9718804920913884",
         "2401.0",
         "2.109841827768014",
         "37.86",
         "-122.22"
        ],
        [
         "2",
         "7.2574",
         "52.0",
         "8.288135593220339",
         "1.073446327683616",
         "496.0",
         "2.8022598870056497",
         "37.85",
         "-122.24"
        ],
        [
         "3",
         "5.6431",
         "52.0",
         "5.8173515981735155",
         "1.0730593607305936",
         "558.0",
         "2.547945205479452",
         "37.85",
         "-122.25"
        ],
        [
         "4",
         "3.8462",
         "52.0",
         "6.281853281853282",
         "1.0810810810810811",
         "565.0",
         "2.1814671814671813",
         "37.85",
         "-122.25"
        ]
       ],
       "shape": {
        "columns": 8,
        "rows": 5
       }
      },
      "text/html": [
       "<div>\n",
       "<style scoped>\n",
       "    .dataframe tbody tr th:only-of-type {\n",
       "        vertical-align: middle;\n",
       "    }\n",
       "\n",
       "    .dataframe tbody tr th {\n",
       "        vertical-align: top;\n",
       "    }\n",
       "\n",
       "    .dataframe thead th {\n",
       "        text-align: right;\n",
       "    }\n",
       "</style>\n",
       "<table border=\"1\" class=\"dataframe\">\n",
       "  <thead>\n",
       "    <tr style=\"text-align: right;\">\n",
       "      <th></th>\n",
       "      <th>MedInc</th>\n",
       "      <th>HouseAge</th>\n",
       "      <th>AveRooms</th>\n",
       "      <th>AveBedrms</th>\n",
       "      <th>Population</th>\n",
       "      <th>AveOccup</th>\n",
       "      <th>Latitude</th>\n",
       "      <th>Longitude</th>\n",
       "    </tr>\n",
       "  </thead>\n",
       "  <tbody>\n",
       "    <tr>\n",
       "      <th>0</th>\n",
       "      <td>8.3252</td>\n",
       "      <td>41.0</td>\n",
       "      <td>6.984127</td>\n",
       "      <td>1.023810</td>\n",
       "      <td>322.0</td>\n",
       "      <td>2.555556</td>\n",
       "      <td>37.88</td>\n",
       "      <td>-122.23</td>\n",
       "    </tr>\n",
       "    <tr>\n",
       "      <th>1</th>\n",
       "      <td>8.3014</td>\n",
       "      <td>21.0</td>\n",
       "      <td>6.238137</td>\n",
       "      <td>0.971880</td>\n",
       "      <td>2401.0</td>\n",
       "      <td>2.109842</td>\n",
       "      <td>37.86</td>\n",
       "      <td>-122.22</td>\n",
       "    </tr>\n",
       "    <tr>\n",
       "      <th>2</th>\n",
       "      <td>7.2574</td>\n",
       "      <td>52.0</td>\n",
       "      <td>8.288136</td>\n",
       "      <td>1.073446</td>\n",
       "      <td>496.0</td>\n",
       "      <td>2.802260</td>\n",
       "      <td>37.85</td>\n",
       "      <td>-122.24</td>\n",
       "    </tr>\n",
       "    <tr>\n",
       "      <th>3</th>\n",
       "      <td>5.6431</td>\n",
       "      <td>52.0</td>\n",
       "      <td>5.817352</td>\n",
       "      <td>1.073059</td>\n",
       "      <td>558.0</td>\n",
       "      <td>2.547945</td>\n",
       "      <td>37.85</td>\n",
       "      <td>-122.25</td>\n",
       "    </tr>\n",
       "    <tr>\n",
       "      <th>4</th>\n",
       "      <td>3.8462</td>\n",
       "      <td>52.0</td>\n",
       "      <td>6.281853</td>\n",
       "      <td>1.081081</td>\n",
       "      <td>565.0</td>\n",
       "      <td>2.181467</td>\n",
       "      <td>37.85</td>\n",
       "      <td>-122.25</td>\n",
       "    </tr>\n",
       "  </tbody>\n",
       "</table>\n",
       "</div>"
      ],
      "text/plain": [
       "   MedInc  HouseAge  AveRooms  AveBedrms  Population  AveOccup  Latitude  \\\n",
       "0  8.3252      41.0  6.984127   1.023810       322.0  2.555556     37.88   \n",
       "1  8.3014      21.0  6.238137   0.971880      2401.0  2.109842     37.86   \n",
       "2  7.2574      52.0  8.288136   1.073446       496.0  2.802260     37.85   \n",
       "3  5.6431      52.0  5.817352   1.073059       558.0  2.547945     37.85   \n",
       "4  3.8462      52.0  6.281853   1.081081       565.0  2.181467     37.85   \n",
       "\n",
       "   Longitude  \n",
       "0    -122.23  \n",
       "1    -122.22  \n",
       "2    -122.24  \n",
       "3    -122.25  \n",
       "4    -122.25  "
      ]
     },
     "execution_count": 14,
     "metadata": {},
     "output_type": "execute_result"
    }
   ],
   "source": [
    "california_housing.data.head()"
   ]
  },
  {
   "cell_type": "code",
   "execution_count": 15,
   "metadata": {
    "execution": {
     "iopub.execute_input": "2024-08-11T20:44:57.544687Z",
     "iopub.status.busy": "2024-08-11T20:44:57.544341Z",
     "iopub.status.idle": "2024-08-11T20:44:57.556276Z",
     "shell.execute_reply": "2024-08-11T20:44:57.555109Z",
     "shell.execute_reply.started": "2024-08-11T20:44:57.544656Z"
    },
    "trusted": true
   },
   "outputs": [
    {
     "data": {
      "text/plain": [
       "0    4.526\n",
       "1    3.585\n",
       "2    3.521\n",
       "3    3.413\n",
       "4    3.422\n",
       "Name: MedHouseVal, dtype: float64"
      ]
     },
     "execution_count": 15,
     "metadata": {},
     "output_type": "execute_result"
    }
   ],
   "source": [
    "california_housing.target.head()\n"
   ]
  },
  {
   "cell_type": "markdown",
   "metadata": {},
   "source": [
    "<a id=\"dataset-observations\"></a>\n",
    "<div style=\"background-color: #e3f2fd; font-size:150%; text-align:left; border: 7px solid #0288d1; text-shadow: 2px 2px 4px rgba(0, 0, 0, 0.3); font-family: Calibri; border-radius: 20px; padding: 10px; width:95%\">\n",
    "<h1 align=\"center\"><font color=#0277bd><strong>DATASET OBSERVATIONS</strong></font></h1>\n",
    "<p style=\"font-family: Calibri; color: #0277bd; text-shadow: 2px 2px 4px rgba(0, 0, 0, 0.3); text-align: left; font-size: 110%\">\n",
    "    We observe that:\n",
    "    <br><br>\n",
    "    <ul>\n",
    "        <li>The dataset contains <strong>20,640 examples</strong> with 8 features.</li>\n",
    "        <li>All features are numerical features encoded as floating point numbers.</li>\n",
    "        <li>There are <strong>no missing values</strong> in any features - the <code>Non-Null</code> is equal to the number of examples in the training set.</li>\n",
    "    </ul>\n",
    "</p>\n",
    "</div>"
   ]
  },
  {
   "cell_type": "markdown",
   "metadata": {},
   "source": [
    "# Feature and target histograms"
   ]
  },
  {
   "cell_type": "code",
   "execution_count": 16,
   "metadata": {
    "execution": {
     "iopub.execute_input": "2024-08-11T20:44:57.557962Z",
     "iopub.status.busy": "2024-08-11T20:44:57.557595Z",
     "iopub.status.idle": "2024-08-11T20:44:57.567401Z",
     "shell.execute_reply": "2024-08-11T20:44:57.566321Z",
     "shell.execute_reply.started": "2024-08-11T20:44:57.557912Z"
    },
    "trusted": true
   },
   "outputs": [],
   "source": [
    "import seaborn as sns\n",
    "import matplotlib.pyplot as plt"
   ]
  },
  {
   "cell_type": "code",
   "execution_count": 17,
   "metadata": {
    "execution": {
     "iopub.execute_input": "2024-08-11T20:44:57.569163Z",
     "iopub.status.busy": "2024-08-11T20:44:57.568758Z"
    },
    "trusted": true
   },
   "outputs": [
    {
     "data": {
      "image/png": "[encoded data removed]",
      "text/plain": [
       "<Figure size 1200x1000 with 9 Axes>"
      ]
     },
     "metadata": {},
     "output_type": "display_data"
    }
   ],
   "source": [
    "california_housing.frame.hist(figsize=(12, 10), bins=30, edgecolor=\"black\")\n",
    "plt.subplots_adjust(hspace=0.7, wspace=0.4)"
   ]
  },
  {
   "cell_type": "markdown",
   "metadata": {},
   "source": [
    "<a id=\"histogram-observations\"></a>\n",
    "<div style=\"background-color: #e3f2fd; font-size:150%; text-align:left; border: 7px solid #0288d1; text-shadow: 2px 2px 4px rgba(0, 0, 0, 0.3); font-family: Calibri; border-radius: 20px; padding: 10px; width:95%\">\n",
    "<h1 align=\"center\"><font color=#0277bd><strong>HISTOGRAM OBSERVATIONS</strong></font></h1>\n",
    "<p style=\"font-family: Calibri; color: #0277bd; text-shadow: 2px 2px 4px rgba(0, 0, 0, 0.3); text-align: left; font-size: 110%\">\n",
    "    Let's observe these histogram and note down our findings:\n",
    "    <br><br>\n",
    "    <ul>\n",
    "        <li><strong>MedInc</strong> has a long tail distribution - salary of people is more or less normally distributed with a few folks getting a high salary.</li>\n",
    "        <li><strong>HouseAge</strong> has more or less a uniform distribution.</li>\n",
    "        <li>The range for features, <strong>AveRooms</strong>, <strong>AveBedrms</strong>, <strong>AveOccupancy</strong>, <strong>Population</strong>, is large and it contains a small number of large values (as there are unnoticeable bins on the right in the histogram plots of these features). That would mean that there could be certain outlier values present in these features.</li>\n",
    "        <li><strong>Latitude</strong> and <strong>Longitude</strong> carry geographical information. Their combination helps us decide the price of the house.</li>\n",
    "        <li><strong>MedHouseVal</strong> also has a long tail distribution. It spikes towards the end. The reason is that the houses with a price more than 5 are given a value of 5.</li>\n",
    "    </ul>\n",
    "</p>\n",
    "</div>\n"
   ]
  },
  {
   "cell_type": "code",
   "execution_count": 18,
   "metadata": {
    "execution": {
     "iopub.execute_input": "2024-08-11T20:44:59.748879Z",
     "iopub.status.busy": "2024-08-11T20:44:59.748387Z",
     "iopub.status.idle": "2024-08-11T20:44:59.796361Z",
     "shell.execute_reply": "2024-08-11T20:44:59.795284Z",
     "shell.execute_reply.started": "2024-08-11T20:44:59.748842Z"
    },
    "trusted": true
   },
   "outputs": [
    {
     "data": {
      "application/vnd.microsoft.datawrangler.viewer.v0+json": {
       "columns": [
        {
         "name": "index",
         "rawType": "object",
         "type": "string"
        },
        {
         "name": "MedInc",
         "rawType": "float64",
         "type": "float"
        },
        {
         "name": "HouseAge",
         "rawType": "float64",
         "type": "float"
        },
        {
         "name": "AveRooms",
         "rawType": "float64",
         "type": "float"
        },
        {
         "name": "AveBedrms",
         "rawType": "float64",
         "type": "float"
        },
        {
         "name": "Population",
         "rawType": "float64",
         "type": "float"
        },
        {
         "name": "AveOccup",
         "rawType": "float64",
         "type": "float"
        },
        {
         "name": "Latitude",
         "rawType": "float64",
         "type": "float"
        },
        {
         "name": "Longitude",
         "rawType": "float64",
         "type": "float"
        },
        {
         "name": "MedHouseVal",
         "rawType": "float64",
         "type": "float"
        }
       ],
       "conversionMethod": "pd.DataFrame",
       "ref": "9f7b4c09-35c1-47a8-b572-d36d01ccf820",
       "rows": [
        [
         "count",
         "20640.0",
         "20640.0",
         "20640.0",
         "20640.0",
         "20640.0",
         "20640.0",
         "20640.0",
         "20640.0",
         "20640.0"
        ],
        [
         "mean",
         "3.8706710029069766",
         "28.639486434108527",
         "5.428999742190376",
         "1.096675149606208",
         "1425.4767441860465",
         "3.0706551594363742",
         "35.63186143410853",
         "-119.56970445736432",
         "2.068558169089147"
        ],
        [
         "std",
         "1.8998217179452732",
         "12.585557612111637",
         "2.4741731394243205",
         "0.47391085679546435",
         "1132.4621217653375",
         "10.386049562213591",
         "2.1359523974571117",
         "2.003531723502581",
         "1.1539561587441483"
        ],
        [
         "min",
         "0.4999",
         "1.0",
         "0.8461538461538461",
         "0.3333333333333333",
         "3.0",
         "0.6923076923076923",
         "32.54",
         "-124.35",
         "0.14999"
        ],
        [
         "25%",
         "2.5633999999999997",
         "18.0",
         "4.440716235896959",
         "1.006079046038478",
         "787.0",
         "2.4297411475535755",
         "33.93",
         "-121.8",
         "1.196"
        ],
        [
         "50%",
         "3.5347999999999997",
         "29.0",
         "5.229128787878788",
         "1.048780487804878",
         "1166.0",
         "2.818115654360196",
         "34.26",
         "-118.49",
         "1.797"
        ],
        [
         "75%",
         "4.74325",
         "37.0",
         "6.052380952380952",
         "1.099526066350711",
         "1725.0",
         "3.2822609242736216",
         "37.71",
         "-118.01",
         "2.6472499999999997"
        ],
        [
         "max",
         "15.0001",
         "52.0",
         "141.9090909090909",
         "34.06666666666667",
         "35682.0",
         "1243.3333333333333",
         "41.95",
         "-114.31",
         "5.00001"
        ]
       ],
       "shape": {
        "columns": 9,
        "rows": 8
       }
      },
      "text/html": [
       "<div>\n",
       "<style scoped>\n",
       "    .dataframe tbody tr th:only-of-type {\n",
       "        vertical-align: middle;\n",
       "    }\n",
       "\n",
       "    .dataframe tbody tr th {\n",
       "        vertical-align: top;\n",
       "    }\n",
       "\n",
       "    .dataframe thead th {\n",
       "        text-align: right;\n",
       "    }\n",
       "</style>\n",
       "<table border=\"1\" class=\"dataframe\">\n",
       "  <thead>\n",
       "    <tr style=\"text-align: right;\">\n",
       "      <th></th>\n",
       "      <th>MedInc</th>\n",
       "      <th>HouseAge</th>\n",
       "      <th>AveRooms</th>\n",
       "      <th>AveBedrms</th>\n",
       "      <th>Population</th>\n",
       "      <th>AveOccup</th>\n",
       "      <th>Latitude</th>\n",
       "      <th>Longitude</th>\n",
       "      <th>MedHouseVal</th>\n",
       "    </tr>\n",
       "  </thead>\n",
       "  <tbody>\n",
       "    <tr>\n",
       "      <th>count</th>\n",
       "      <td>20640.000000</td>\n",
       "      <td>20640.000000</td>\n",
       "      <td>20640.000000</td>\n",
       "      <td>20640.000000</td>\n",
       "      <td>20640.000000</td>\n",
       "      <td>20640.000000</td>\n",
       "      <td>20640.000000</td>\n",
       "      <td>20640.000000</td>\n",
       "      <td>20640.000000</td>\n",
       "    </tr>\n",
       "    <tr>\n",
       "      <th>mean</th>\n",
       "      <td>3.870671</td>\n",
       "      <td>28.639486</td>\n",
       "      <td>5.429000</td>\n",
       "      <td>1.096675</td>\n",
       "      <td>1425.476744</td>\n",
       "      <td>3.070655</td>\n",
       "      <td>35.631861</td>\n",
       "      <td>-119.569704</td>\n",
       "      <td>2.068558</td>\n",
       "    </tr>\n",
       "    <tr>\n",
       "      <th>std</th>\n",
       "      <td>1.899822</td>\n",
       "      <td>12.585558</td>\n",
       "      <td>2.474173</td>\n",
       "      <td>0.473911</td>\n",
       "      <td>1132.462122</td>\n",
       "      <td>10.386050</td>\n",
       "      <td>2.135952</td>\n",
       "      <td>2.003532</td>\n",
       "      <td>1.153956</td>\n",
       "    </tr>\n",
       "    <tr>\n",
       "      <th>min</th>\n",
       "      <td>0.499900</td>\n",
       "      <td>1.000000</td>\n",
       "      <td>0.846154</td>\n",
       "      <td>0.333333</td>\n",
       "      <td>3.000000</td>\n",
       "      <td>0.692308</td>\n",
       "      <td>32.540000</td>\n",
       "      <td>-124.350000</td>\n",
       "      <td>0.149990</td>\n",
       "    </tr>\n",
       "    <tr>\n",
       "      <th>25%</th>\n",
       "      <td>2.563400</td>\n",
       "      <td>18.000000</td>\n",
       "      <td>4.440716</td>\n",
       "      <td>1.006079</td>\n",
       "      <td>787.000000</td>\n",
       "      <td>2.429741</td>\n",
       "      <td>33.930000</td>\n",
       "      <td>-121.800000</td>\n",
       "      <td>1.196000</td>\n",
       "    </tr>\n",
       "    <tr>\n",
       "      <th>50%</th>\n",
       "      <td>3.534800</td>\n",
       "      <td>29.000000</td>\n",
       "      <td>5.229129</td>\n",
       "      <td>1.048780</td>\n",
       "      <td>1166.000000</td>\n",
       "      <td>2.818116</td>\n",
       "      <td>34.260000</td>\n",
       "      <td>-118.490000</td>\n",
       "      <td>1.797000</td>\n",
       "    </tr>\n",
       "    <tr>\n",
       "      <th>75%</th>\n",
       "      <td>4.743250</td>\n",
       "      <td>37.000000</td>\n",
       "      <td>6.052381</td>\n",
       "      <td>1.099526</td>\n",
       "      <td>1725.000000</td>\n",
       "      <td>3.282261</td>\n",
       "      <td>37.710000</td>\n",
       "      <td>-118.010000</td>\n",
       "      <td>2.647250</td>\n",
       "    </tr>\n",
       "    <tr>\n",
       "      <th>max</th>\n",
       "      <td>15.000100</td>\n",
       "      <td>52.000000</td>\n",
       "      <td>141.909091</td>\n",
       "      <td>34.066667</td>\n",
       "      <td>35682.000000</td>\n",
       "      <td>1243.333333</td>\n",
       "      <td>41.950000</td>\n",
       "      <td>-114.310000</td>\n",
       "      <td>5.000010</td>\n",
       "    </tr>\n",
       "  </tbody>\n",
       "</table>\n",
       "</div>"
      ],
      "text/plain": [
       "             MedInc      HouseAge      AveRooms     AveBedrms    Population  \\\n",
       "count  20640.000000  20640.000000  20640.000000  20640.000000  20640.000000   \n",
       "mean       3.870671     28.639486      5.429000      1.096675   1425.476744   \n",
       "std        1.899822     12.585558      2.474173      0.473911   1132.462122   \n",
       "min        0.499900      1.000000      0.846154      0.333333      3.000000   \n",
       "25%        2.563400     18.000000      4.440716      1.006079    787.000000   \n",
       "50%        3.534800     29.000000      5.229129      1.048780   1166.000000   \n",
       "75%        4.743250     37.000000      6.052381      1.099526   1725.000000   \n",
       "max       15.000100     52.000000    141.909091     34.066667  35682.000000   \n",
       "\n",
       "           AveOccup      Latitude     Longitude   MedHouseVal  \n",
       "count  20640.000000  20640.000000  20640.000000  20640.000000  \n",
       "mean       3.070655     35.631861   -119.569704      2.068558  \n",
       "std       10.386050      2.135952      2.003532      1.153956  \n",
       "min        0.692308     32.540000   -124.350000      0.149990  \n",
       "25%        2.429741     33.930000   -121.800000      1.196000  \n",
       "50%        2.818116     34.260000   -118.490000      1.797000  \n",
       "75%        3.282261     37.710000   -118.010000      2.647250  \n",
       "max     1243.333333     41.950000   -114.310000      5.000010  "
      ]
     },
     "execution_count": 18,
     "metadata": {},
     "output_type": "execute_result"
    }
   ],
   "source": [
    "california_housing.frame.describe()"
   ]
  },
  {
   "cell_type": "markdown",
   "metadata": {},
   "source": [
    "<a id=\"outlier-observations\"></a>\n",
    "<div style=\"background-color: #e3f2fd; font-size:150%; text-align:left; border: 7px solid #0288d1; text-shadow: 2px 2px 4px rgba(0, 0, 0, 0.3); font-family: Calibri; border-radius: 20px; padding: 10px; width:95%\">\n",
    "<h1 align=\"center\"><font color=#0277bd><strong>OUTLIER OBSERVATIONS</strong></font></h1>\n",
    "<p style=\"font-family: Calibri; color: #0277bd; text-shadow: 2px 2px 4px rgba(0, 0, 0, 0.3); text-align: left; font-size: 110%\">\n",
    "    We can observe that there is a large difference between <code>75%</code> and <code>max</code> values of <strong>AveRooms</strong>, <strong>AveBedrms</strong>, <strong>Population</strong>, and <strong>AveOccupancy</strong> - which confirms our intuition about the presence of outliers or extreme values in these features.\n",
    "</p>\n",
    "</div>"
   ]
  },
  {
   "cell_type": "code",
   "execution_count": 19,
   "metadata": {
    "execution": {
     "iopub.execute_input": "2024-08-11T20:44:59.798265Z",
     "iopub.status.busy": "2024-08-11T20:44:59.797824Z",
     "iopub.status.idle": "2024-08-11T20:44:59.803134Z",
     "shell.execute_reply": "2024-08-11T20:44:59.802065Z",
     "shell.execute_reply.started": "2024-08-11T20:44:59.798225Z"
    },
    "trusted": true
   },
   "outputs": [],
   "source": [
    "import warnings\n",
    "warnings.simplefilter(action='ignore', category=FutureWarning)\n"
   ]
  },
  {
   "cell_type": "markdown",
   "metadata": {},
   "source": [
    "<a id=\"imports-regression\"></a>\n",
    "<div style=\"background-color: #e3f2fd; font-size:150%; text-align:left; border: 7px solid #0288d1; text-shadow: 2px 2px 4px rgba(0, 0, 0, 0.3); font-family: Calibri; border-radius: 20px; padding: 10px; width:95%\">\n",
    "<h1 align=\"center\"><font color=#0277bd><strong>IMPORTS FOR REGRESSION</strong></font></h1>\n",
    "<p style=\"font-family: Calibri; color: #0277bd; text-shadow: 2px 2px 4px rgba(0, 0, 0, 0.3); text-align: left; font-size: 110%\">\n",
    "    For tackling regression problems, we need to import classes and utilities from the <code>sklearn.linear_model</code> module. This module provides implementations for various regression models, including:\n",
    "    <ul>\n",
    "        <li><code>LinearRegression</code></li>\n",
    "        <li><code>SGDRegressor</code></li>\n",
    "        <li><code>Ridge</code></li>\n",
    "        <li><code>Lasso</code></li>\n",
    "        <li><code>RidgeCV</code></li>\n",
    "        <li><code>LassoCV</code></li>\n",
    "    </ul>\n",
    "    <br>\n",
    "    Additionally, we need to bring in model selection utilities from the <code>sklearn.model_selection</code> module and metrics from the <code>sklearn.metrics</code> module.\n",
    "    <br><br>\n",
    "    Data preprocessing utilities are imported from the <code>sklearn.preprocessing</code> module.\n",
    "</p>\n",
    "</div>\n"
   ]
  },
  {
   "cell_type": "code",
   "execution_count": 20,
   "metadata": {
    "execution": {
     "iopub.execute_input": "2024-08-11T20:44:59.804873Z",
     "iopub.status.busy": "2024-08-11T20:44:59.804545Z",
     "iopub.status.idle": "2024-08-11T20:44:59.81486Z",
     "shell.execute_reply": "2024-08-11T20:44:59.813795Z",
     "shell.execute_reply.started": "2024-08-11T20:44:59.804845Z"
    },
    "trusted": true
   },
   "outputs": [],
   "source": [
    "import numpy as np\n",
    "import pandas as pd\n",
    "import matplotlib.pyplot as plt\n",
    "import seaborn as sns\n",
    "\n",
    "from scipy.stats import loguniform\n",
    "from scipy.stats import uniform\n",
    "\n",
    "from sklearn.datasets import fetch_california_housing\n",
    "from sklearn.dummy import DummyRegressor\n",
    "from sklearn.linear_model import LinearRegression\n",
    "from sklearn.linear_model import Lasso\n",
    "from sklearn.linear_model import LassoCV\n",
    "from sklearn.linear_model import RidgeCV\n",
    "from sklearn.linear_model import Ridge\n",
    "from sklearn.linear_model import SGDRegressor\n",
    "from sklearn.metrics import mean_squared_error\n",
    "from sklearn.metrics import mean_absolute_error\n",
    "from sklearn.metrics import mean_absolute_percentage_error\n",
    "from sklearn.model_selection import cross_validate\n",
    "from sklearn.model_selection import cross_val_score\n",
    "from sklearn.model_selection import train_test_split\n",
    "from sklearn.model_selection import ShuffleSplit\n",
    "from sklearn.model_selection import validation_curve\n",
    "from sklearn.model_selection import GridSearchCV\n",
    "from sklearn.model_selection import RandomizedSearchCV\n",
    "from sklearn.preprocessing import PolynomialFeatures\n",
    "from sklearn.preprocessing import StandardScaler\n",
    "from sklearn.pipeline import Pipeline"
   ]
  },
  {
   "cell_type": "code",
   "execution_count": 21,
   "metadata": {
    "execution": {
     "iopub.execute_input": "2024-08-11T20:44:59.817819Z",
     "iopub.status.busy": "2024-08-11T20:44:59.817438Z",
     "iopub.status.idle": "2024-08-11T20:44:59.824474Z",
     "shell.execute_reply": "2024-08-11T20:44:59.823455Z",
     "shell.execute_reply.started": "2024-08-11T20:44:59.81779Z"
    },
    "trusted": true
   },
   "outputs": [],
   "source": [
    "np.random.seed(306)"
   ]
  },
  {
   "cell_type": "markdown",
   "metadata": {},
   "source": [
    "**Let's use `ShuffleSplit` as cv with 10 splits and 20% examples set aside as test examples.**"
   ]
  },
  {
   "cell_type": "code",
   "execution_count": 22,
   "metadata": {
    "execution": {
     "iopub.execute_input": "2024-08-11T20:44:59.826181Z",
     "iopub.status.busy": "2024-08-11T20:44:59.825759Z",
     "iopub.status.idle": "2024-08-11T20:44:59.835672Z",
     "shell.execute_reply": "2024-08-11T20:44:59.83444Z",
     "shell.execute_reply.started": "2024-08-11T20:44:59.826137Z"
    },
    "trusted": true
   },
   "outputs": [],
   "source": [
    "cv = ShuffleSplit(n_splits=10, test_size=0.2, random_state=42)"
   ]
  },
  {
   "cell_type": "markdown",
   "metadata": {},
   "source": [
    "<a id=\"data-loading-splitting\"></a>\n",
    "<div style=\"background-color: #e3f2fd; font-size:150%; text-align:left; border: 7px solid #0288d1; text-shadow: 2px 2px 4px rgba(0, 0, 0, 0.3); font-family: Calibri; border-radius: 20px; padding: 10px; width:95%\">\n",
    "<h1 align=\"center\"><font color=#0277bd><strong>DATA LOADING AND SPLITTING</strong></font></h1>\n",
    "<p style=\"font-family: Calibri; color: #0277bd; text-shadow: 2px 2px 4px rgba(0, 0, 0, 0.3); text-align: left; font-size: 110%\">\n",
    "    The data will be split into three parts:\n",
    "    <ul>\n",
    "        <li><strong>Train + Dev</strong>: Used for cross-validation to fine-tune model parameters.</li>\n",
    "        <li><strong>Test</strong>: Reserved for evaluating the performance of the trained models.</li>\n",
    "    </ul>\n",
    "</p>\n",
    "</div>\n"
   ]
  },
  {
   "cell_type": "code",
   "execution_count": 23,
   "metadata": {
    "execution": {
     "iopub.execute_input": "2024-08-11T20:44:59.838091Z",
     "iopub.status.busy": "2024-08-11T20:44:59.837543Z",
     "iopub.status.idle": "2024-08-11T20:44:59.864276Z",
     "shell.execute_reply": "2024-08-11T20:44:59.863145Z",
     "shell.execute_reply.started": "2024-08-11T20:44:59.838059Z"
    },
    "trusted": true
   },
   "outputs": [],
   "source": [
    "# fetch dataset\n",
    "features, labels = fetch_california_housing(as_frame=True, return_X_y=True)\n",
    "\n",
    "# train-test split\n",
    "com_train_features, test_features, com_train_labels, test_labels = train_test_split(\n",
    "    features, labels, random_state=42)\n",
    "\n",
    "# train --> train + dev split\n",
    "train_features, dev_features, train_labels, dev_labels = train_test_split(\n",
    "    com_train_features, com_train_labels, random_state=42)"
   ]
  },
  {
   "cell_type": "markdown",
   "metadata": {},
   "source": [
    "<a id=\"linear-regression-normal-equation\"></a>\n",
    "\n",
    "<div style=\"background-color: #e3f2fd; font-size:150%; text-align:left; border: 7px solid #0288d1; text-shadow: 2px 2px 4px rgba(0, 0, 0, 0.3); font-family: Calibri; border-radius: 20px; padding: 10px; width:95%\">\n",
    "<h1 align=\"center\"><font color=#0277bd><strong>LINEAR REGRESSION WITH NORMAL EQUATION</strong></font></h1>\n",
    "<p style=\"font-family: Calibri; color: #0277bd; text-shadow: 2px 2px 4px rgba(0, 0, 0, 0.3); text-align: left; font-size: 110%\">\n",
    "    In this section, we will utilize the normal equation method to train a linear regression model. This approach allows us to find the optimal coefficients without iterative methods.\n",
    "    <br><br>\n",
    "    The pipeline is set up with two key stages:\n",
    "    <ul>\n",
    "        <li><strong>Feature Scaling</strong>: To scale the features appropriately.</li>\n",
    "        <li><strong>Linear Regression</strong>: To perform regression on the transformed feature matrix.</li>\n",
    "    </ul>\n",
    "    <br>\n",
    "    Throughout this notebook, we will follow a consistent pattern for each estimator:\n",
    "    <ul>\n",
    "        <li><strong>Pipeline</strong>: Combines data preprocessing and modeling steps.</li>\n",
    "        <li><strong>cross_validate</strong>: Trains the model using <code>ShuffleSplit</code> cross-validation with <code>neg_mean_absolute_error</code> as the scoring metric.</li>\n",
    "        <li><strong>Error Reporting</strong>: Converts scores to errors and reports mean absolute errors on the development set.</li>\n",
    "    </ul>\n",
    "</p>\n",
    "</div>"
   ]
  },
  {
   "cell_type": "code",
   "execution_count": 24,
   "metadata": {
    "execution": {
     "iopub.execute_input": "2024-08-11T20:44:59.86569Z",
     "iopub.status.busy": "2024-08-11T20:44:59.865365Z",
     "iopub.status.idle": "2024-08-11T20:45:00.264068Z",
     "shell.execute_reply": "2024-08-11T20:45:00.262419Z",
     "shell.execute_reply.started": "2024-08-11T20:44:59.865662Z"
    },
    "trusted": true
   },
   "outputs": [
    {
     "name": "stdout",
     "output_type": "stream",
     "text": [
      "Mean absolute error of linear regression model on the train set:\n",
      "0.530 +/- 0.002\n",
      "Mean absolute error of linear regression model on the test set:\n",
      "0.527 +/- 0.008\n"
     ]
    }
   ],
   "source": [
    "lin_reg_pipeline = Pipeline([(\"feature_scaling\", StandardScaler()),\n",
    "                             (\"lin_reg\", LinearRegression())])\n",
    "lin_reg_cv_results = cross_validate(lin_reg_pipeline,\n",
    "                                    com_train_features,\n",
    "                                    com_train_labels,\n",
    "                                    cv=cv,\n",
    "                                    scoring=\"neg_mean_absolute_error\",\n",
    "                                    return_train_score=True,\n",
    "                                    return_estimator=True)\n",
    "\n",
    "lin_reg_train_error = -1 * lin_reg_cv_results['train_score']\n",
    "lin_reg_test_error = -1 * lin_reg_cv_results['test_score']\n",
    "\n",
    "print(f\"Mean absolute error of linear regression model on the train set:\\n\"\n",
    "      f\"{lin_reg_train_error.mean():.3f} +/- {lin_reg_train_error.std():.3f}\")\n",
    "print(f\"Mean absolute error of linear regression model on the test set:\\n\"\n",
    "      f\"{lin_reg_test_error.mean():.3f} +/- {lin_reg_test_error.std():.3f}\")"
   ]
  },
  {
   "cell_type": "markdown",
   "metadata": {},
   "source": [
    "**Both the errors are close, but are not low.  This points to underfitting.  We can address it by adding more feature through polynomial regression.**"
   ]
  },
  {
   "cell_type": "markdown",
   "metadata": {},
   "source": [
    "<a id=\"linear-regression-sgd\"></a>\n",
    "\n",
    "<div style=\"background-color: #e3f2fd; font-size:150%; text-align:left; border: 7px solid #0288d1; text-shadow: 2px 2px 4px rgba(0, 0, 0, 0.3); font-family: Calibri; border-radius: 20px; padding: 10px; width:95%\">\n",
    "<h1 align=\"center\"><font color=#0277bd><strong>LINEAR REGRESSION WITH SGD</strong></font></h1>\n",
    "<p style=\"font-family: Calibri; color: #0277bd; text-shadow: 2px 2px 4px rgba(0, 0, 0, 0.3); text-align: left; font-size: 110%\">\n",
    "    In this section, we will employ the Stochastic Gradient Descent (SGD) method to train a linear regression model. This iterative optimization technique is particularly useful when dealing with large datasets.\n",
    "    <br><br>\n",
    "    The pipeline is configured with two essential stages:\n",
    "    <ul>\n",
    "        <li><strong>Feature Scaling</strong>: To standardize the features.</li>\n",
    "        <li><strong>SGD Regression</strong>: To perform regression using the transformed feature matrix.</li>\n",
    "    </ul>\n",
    "</p>\n",
    "</div>"
   ]
  },
  {
   "cell_type": "code",
   "execution_count": 25,
   "metadata": {
    "execution": {
     "iopub.execute_input": "2024-08-11T20:46:08.057918Z",
     "iopub.status.busy": "2024-08-11T20:46:08.057387Z",
     "iopub.status.idle": "2024-08-11T20:46:10.177736Z",
     "shell.execute_reply": "2024-08-11T20:46:10.176487Z",
     "shell.execute_reply.started": "2024-08-11T20:46:08.057872Z"
    },
    "trusted": true
   },
   "outputs": [
    {
     "name": "stdout",
     "output_type": "stream",
     "text": [
      "Mean absolute error of SGD regression model on the train set:\n",
      "0.534 +/- 0.013\n",
      "Mean absolute error of SGD regression model on the test set:\n",
      "0.530 +/- 0.010\n"
     ]
    }
   ],
   "source": [
    "sgd_reg_pipeline = Pipeline([(\"feature_scaling\", StandardScaler()),\n",
    "                             (\"sgd_reg\", SGDRegressor(\n",
    "                                 max_iter=int(np.ceil(1e6/com_train_features.shape[0])),\n",
    "                                 early_stopping=True,\n",
    "                                 eta0=1e-4,\n",
    "                                 learning_rate='constant',\n",
    "                                 tol=1e-5,\n",
    "                                 validation_fraction=0.1,\n",
    "                                 n_iter_no_change=5,\n",
    "                                 average=10,\n",
    "                                 random_state=42))])\n",
    "\n",
    "sgd_reg_cv_results = cross_validate(sgd_reg_pipeline,\n",
    "                                    com_train_features,\n",
    "                                    com_train_labels,\n",
    "                                    cv=cv,\n",
    "                                    scoring=\"neg_mean_absolute_error\",\n",
    "                                    return_train_score=True,\n",
    "                                    return_estimator=True)\n",
    "\n",
    "sgd_train_error = -1 * sgd_reg_cv_results['train_score']\n",
    "sgd_test_error = -1 * sgd_reg_cv_results['test_score']\n",
    "\n",
    "print(f\"Mean absolute error of SGD regression model on the train set:\\n\"\n",
    "      f\"{sgd_train_error.mean():.3f} +/- {sgd_train_error.std():.3f}\")\n",
    "print(f\"Mean absolute error of SGD regression model on the test set:\\n\"\n",
    "      f\"{sgd_test_error.mean():.3f} +/- {sgd_test_error.std():.3f}\")"
   ]
  },
  {
   "cell_type": "markdown",
   "metadata": {},
   "source": [
    "<a id=\"polynomial-regression\"></a>\n",
    "\n",
    "<div style=\"background-color: #e3f2fd; font-size:150%; text-align:left; border: 7px solid #0288d1; text-shadow: 2px 2px 4px rgba(0, 0, 0, 0.3); font-family: Calibri; border-radius: 20px; padding: 10px; width:95%\">\n",
    "<h1 align=\"center\"><font color=#0277bd><strong>POLYNOMIAL REGRESSION</strong></font></h1>\n",
    "<p style=\"font-family: Calibri; color: #0277bd; text-shadow: 2px 2px 4px rgba(0, 0, 0, 0.3); text-align: left; font-size: 110%\">\n",
    "    In this segment, we will explore polynomial regression by training a model with a degree of 2. Additionally, we will use the <code>validation_curve</code> to determine the optimal degree for polynomial models.\n",
    "    <br><br>\n",
    "    The <code>PolynomialFeatures</code> function is employed to transform the features to the specified degree (in this case, 2). After transforming the features, we apply feature scaling before training the regression model.\n",
    "</p>\n",
    "</div>"
   ]
  },
  {
   "cell_type": "code",
   "execution_count": 26,
   "metadata": {
    "execution": {
     "iopub.execute_input": "2024-08-11T20:46:10.181215Z",
     "iopub.status.busy": "2024-08-11T20:46:10.180451Z",
     "iopub.status.idle": "2024-08-11T20:46:11.690727Z",
     "shell.execute_reply": "2024-08-11T20:46:11.689354Z",
     "shell.execute_reply.started": "2024-08-11T20:46:10.181171Z"
    },
    "trusted": true
   },
   "outputs": [
    {
     "name": "stdout",
     "output_type": "stream",
     "text": [
      "Mean absolute error of linear regression model on the train set:\n",
      "0.461 +/- 0.003\n",
      "Mean absolute error of linear regression model on the test set:\n",
      "0.485 +/- 0.030\n"
     ]
    }
   ],
   "source": [
    "poly_reg_pipeline = Pipeline([(\"poly\", PolynomialFeatures(degree=2)),\n",
    "                              (\"feature_scaling\", StandardScaler()),\n",
    "                              (\"lin_reg\", LinearRegression())])\n",
    "poly_reg_cv_results = cross_validate(poly_reg_pipeline,\n",
    "                                    com_train_features,\n",
    "                                    com_train_labels,\n",
    "                                    cv=cv,\n",
    "                                    scoring=\"neg_mean_absolute_error\",\n",
    "                                    return_train_score=True,\n",
    "                                    return_estimator=True)\n",
    "\n",
    "poly_reg_train_error = -1 * poly_reg_cv_results['train_score']\n",
    "poly_reg_test_error = -1 * poly_reg_cv_results['test_score']\n",
    "\n",
    "print(f\"Mean absolute error of linear regression model on the train set:\\n\"\n",
    "      f\"{poly_reg_train_error.mean():.3f} +/- {poly_reg_train_error.std():.3f}\")\n",
    "print(f\"Mean absolute error of linear regression model on the test set:\\n\"\n",
    "      f\"{poly_reg_test_error.mean():.3f} +/- {poly_reg_test_error.std():.3f}\")"
   ]
  },
  {
   "cell_type": "markdown",
   "metadata": {},
   "source": [
    "<a id=\"interaction-features-in-polynomial-regression\"></a>\n",
    "\n",
    "<div style=\"background-color: #e3f2fd; font-size:150%; text-align:left; border: 7px solid #0288d1; text-shadow: 2px 2px 4px rgba(0, 0, 0, 0.3); font-family: Calibri; border-radius: 20px; padding: 10px; width:95%\">\n",
    "<h1 align=\"center\"><font color=#0277bd><strong>INTERACTION FEATURES IN POLYNOMIAL REGRESSION</strong></font></h1>\n",
    "<p style=\"font-family: Calibri; color: #0277bd; text-shadow: 2px 2px 4px rgba(0, 0, 0, 0.3); text-align: left; font-size: 110%\">\n",
    "    Upon examining the results, we observe that both the training and validation errors have decreased after utilizing second-order polynomial features in the model.\n",
    "    <br><br>\n",
    "    To optimize further, instead of employing all polynomial features, we focus on using only interaction feature terms in the polynomial model. This approach allows us to train a more efficient linear regression model.\n",
    "</p>\n",
    "</div>"
   ]
  },
  {
   "cell_type": "code",
   "execution_count": 27,
   "metadata": {
    "execution": {
     "iopub.execute_input": "2024-08-11T20:46:11.695273Z",
     "iopub.status.busy": "2024-08-11T20:46:11.693459Z",
     "iopub.status.idle": "2024-08-11T20:46:13.207848Z",
     "shell.execute_reply": "2024-08-11T20:46:13.20653Z",
     "shell.execute_reply.started": "2024-08-11T20:46:11.695232Z"
    },
    "trusted": true
   },
   "outputs": [
    {
     "name": "stdout",
     "output_type": "stream",
     "text": [
      "Mean absolute error of polynomial regression model of degree 2 on the train set:\n",
      "0.478 +/- 0.003\n",
      "Mean absolute error of polynomial regression model of degree 2 on the test set:\n",
      "0.497 +/- 0.024\n"
     ]
    }
   ],
   "source": [
    "poly_reg_pipeline = Pipeline([(\"poly\", PolynomialFeatures(degree=2, interaction_only=True)),\n",
    "                              (\"feature_scaling\", StandardScaler()),\n",
    "                              (\"lin_reg\", LinearRegression())])\n",
    "poly_reg_cv_results = cross_validate(poly_reg_pipeline,\n",
    "                                    com_train_features,\n",
    "                                    com_train_labels,\n",
    "                                    cv=cv,\n",
    "                                    scoring=\"neg_mean_absolute_error\",\n",
    "                                    return_train_score=True,\n",
    "                                    return_estimator=True)\n",
    "\n",
    "poly_reg_train_error = -1 * poly_reg_cv_results['train_score']\n",
    "poly_reg_test_error = -1 * poly_reg_cv_results['test_score']\n",
    "\n",
    "print(f\"Mean absolute error of polynomial regression model of degree 2 on the train set:\\n\"\n",
    "      f\"{poly_reg_train_error.mean():.3f} +/- {poly_reg_train_error.std():.3f}\")\n",
    "print(f\"Mean absolute error of polynomial regression model of degree 2 on the test set:\\n\"\n",
    "      f\"{poly_reg_test_error.mean():.3f} +/- {poly_reg_test_error.std():.3f}\")"
   ]
  },
  {
   "cell_type": "markdown",
   "metadata": {},
   "source": [
    "<a id=\"choosing-polynomial-degree\"></a>\n",
    "\n",
    "<div style=\"background-color: #e3f2fd; font-size:150%; text-align:left; border: 7px solid #0288d1; text-shadow: 2px 2px 4px rgba(0, 0, 0, 0.3); font-family: Calibri; border-radius: 20px; padding: 10px; width:95%\">\n",
    "<h1 align=\"center\"><font color=#0277bd><strong>CHOOSING THE RIGHT POLYNOMIAL DEGREE</strong></font></h1>\n",
    "<p style=\"font-family: Calibri; color: #0277bd; text-shadow: 2px 2px 4px rgba(0, 0, 0, 0.3); text-align: left; font-size: 110%\">\n",
    "    To determine the most suitable polynomial degree for our regression problem, we will employ the <strong>validation_curve</strong>. This technique acts as a manual hyperparameter tuning method.\n",
    "    <br><br>\n",
    "    We will specify a list of polynomial degree values to explore, which will be passed as a parameter to the <strong>validation_curve</strong>. This allows us to identify the optimal degree that minimizes the error and improves the model's performance.\n",
    "</p>\n",
    "</div>"
   ]
  },
  {
   "cell_type": "code",
   "execution_count": 28,
   "metadata": {
    "execution": {
     "iopub.execute_input": "2024-08-11T20:46:13.217752Z",
     "iopub.status.busy": "2024-08-11T20:46:13.215272Z",
     "iopub.status.idle": "2024-08-11T20:46:22.133108Z",
     "shell.execute_reply": "2024-08-11T20:46:22.131808Z",
     "shell.execute_reply.started": "2024-08-11T20:46:13.217704Z"
    },
    "trusted": true
   },
   "outputs": [
    {
     "data": {
      "image/png": "[encoded data removed]",
      "text/plain": [
       "<Figure size 640x480 with 1 Axes>"
      ]
     },
     "metadata": {},
     "output_type": "display_data"
    }
   ],
   "source": [
    "degree = [1, 2, 3, 4, 5]\n",
    "train_scores, test_scores = validation_curve(\n",
    "    poly_reg_pipeline, com_train_features, com_train_labels, param_name=\"poly__degree\",\n",
    "    param_range=degree, cv=cv, scoring=\"neg_mean_absolute_error\",\n",
    "    n_jobs=2)\n",
    "\n",
    "train_errors, test_errors = -train_scores, -test_scores\n",
    "plt.plot(degree, train_errors.mean(axis=1), 'b-x', label=\"Training error\")\n",
    "plt.plot(degree, test_errors.mean(axis=1), 'r-x', label=\"Test error\")\n",
    "plt.legend()\n",
    "\n",
    "plt.xlabel(\"degree\")\n",
    "plt.ylabel(\"Mean absolute error (k$)\")\n",
    "_ = plt.title(\"Validation curve for polynomial regression\")"
   ]
  },
  {
   "cell_type": "markdown",
   "metadata": {},
   "source": [
    "<a id=\"selecting-optimal-degree\"></a>\n",
    "\n",
    "<div style=\"background-color: #e3f2fd; font-size:150%; text-align:left; border: 7px solid #0288d1; text-shadow: 2px 2px 4px rgba(0, 0, 0, 0.3); font-family: Calibri; border-radius: 20px; padding: 10px; width:95%\">\n",
    "<h1 align=\"center\"><font color=#0277bd><strong>SELECTING THE OPTIMAL POLYNOMIAL DEGREE</strong></font></h1>\n",
    "<p style=\"font-family: Calibri; color: #0277bd; text-shadow: 2px 2px 4px rgba(0, 0, 0, 0.3); text-align: left; font-size: 110%\">\n",
    "    To identify the most effective polynomial degree, we focus on the degree that results in the lowest mean absolute error. In our analysis, a degree of <strong>2</strong> emerges as the optimal choice, as it yields the minimum mean absolute error. This degree will be selected for our polynomial regression model, ensuring a balance between model complexity and predictive accuracy.\n",
    "</p>\n",
    "</div>"
   ]
  },
  {
   "cell_type": "markdown",
   "metadata": {},
   "source": [
    "<a id=\"ridge-regression\"></a>\n",
    "\n",
    "<div style=\"background-color: #e3f2fd; font-size:150%; text-align:left; border: 7px solid #0288d1; text-shadow: 2px 2px 4px rgba(0, 0, 0, 0.3); font-family: Calibri; border-radius: 20px; padding: 10px; width:95%\">\n",
    "<h1 align=\"center\"><font color=#0277bd><strong>RIDGE REGRESSION</strong></font></h1>\n",
    "<p style=\"font-family: Calibri; color: #0277bd; text-shadow: 2px 2px 4px rgba(0, 0, 0, 0.3); text-align: left; font-size: 110%\">\n",
    "    Polynomial models, particularly those with higher-order features, are prone to overfitting. To mitigate this, we utilize Ridge regression, which incorporates a regularization term to penalize excessive model complexity. For this analysis, we set the regularization rate <code>alpha</code> to <strong>0.5</strong> and train the regression model accordingly.\n",
    "    <br><br>\n",
    "    Subsequently, we will perform a hyperparameter search to determine the optimal value of <code>alpha</code> that minimizes cross-validation errors, ensuring an effective balance between model complexity and generalization.\n",
    "</p>\n",
    "</div>"
   ]
  },
  {
   "cell_type": "code",
   "execution_count": 29,
   "metadata": {
    "execution": {
     "iopub.execute_input": "2024-08-11T20:46:22.137292Z",
     "iopub.status.busy": "2024-08-11T20:46:22.136856Z",
     "iopub.status.idle": "2024-08-11T20:46:22.833863Z",
     "shell.execute_reply": "2024-08-11T20:46:22.832652Z",
     "shell.execute_reply.started": "2024-08-11T20:46:22.137249Z"
    },
    "trusted": true
   },
   "outputs": [
    {
     "name": "stdout",
     "output_type": "stream",
     "text": [
      "Mean absolute error of ridge regression model (alpha=0.5) on the train set:\n",
      "0.481 +/- 0.003\n",
      "Mean absolute error of ridge regression model (alpha=0.5) on the test set:\n",
      "0.487 +/- 0.006\n"
     ]
    }
   ],
   "source": [
    "ridge_reg_pipeline = Pipeline([(\"poly\", PolynomialFeatures(degree=2)),\n",
    "                              (\"feature_scaling\", StandardScaler()),\n",
    "                              (\"ridge\", Ridge(alpha=0.5))])\n",
    "ridge_reg_cv_results = cross_validate(ridge_reg_pipeline,\n",
    "                                    com_train_features,\n",
    "                                    com_train_labels,\n",
    "                                    cv=cv,\n",
    "                                    scoring=\"neg_mean_absolute_error\",\n",
    "                                    return_train_score=True,\n",
    "                                    return_estimator=True)\n",
    "\n",
    "ridge_reg_train_error = -1 * ridge_reg_cv_results['train_score']\n",
    "ridge_reg_test_error = -1 * ridge_reg_cv_results['test_score']\n",
    "\n",
    "print(f\"Mean absolute error of ridge regression model (alpha=0.5) on the train set:\\n\"\n",
    "      f\"{ridge_reg_train_error.mean():.3f} +/- {ridge_reg_train_error.std():.3f}\")\n",
    "print(f\"Mean absolute error of ridge regression model (alpha=0.5) on the test set:\\n\"\n",
    "      f\"{ridge_reg_test_error.mean():.3f} +/- {ridge_reg_test_error.std():.3f}\")"
   ]
  },
  {
   "cell_type": "markdown",
   "metadata": {},
   "source": [
    "<a id=\"hpt-ridge-regularization-rate\"></a>\n",
    "\n",
    "<div style=\"background-color: #e3f2fd; font-size:150%; text-align:left; border: 7px solid #0288d1; text-shadow: 2px 2px 4px rgba(0, 0, 0, 0.3); font-family: Calibri; border-radius: 20px; padding: 10px; width:95%\">\n",
    "<h1 align=\"center\"><font color=#0277bd><strong>HYPERPARAMETER TUNING FOR RIDGE REGULARIZATION RATE</strong></font></h1>\n",
    "<p style=\"font-family: Calibri; color: #0277bd; text-shadow: 2px 2px 4px rgba(0, 0, 0, 0.3); text-align: left; font-size: 110%\">\n",
    "    To identify the optimal regularization rate <code>alpha</code> for Ridge regression, we perform hyperparameter tuning. This process involves evaluating a range of <code>alpha</code> values to determine which one results in the lowest cross-validation errors.\n",
    "    <br><br>\n",
    "    We will systematically test different values of <code>alpha</code> and use cross-validation to assess the model's performance for each value. The optimal <code>alpha</code> is selected based on which value yields the best balance between model fit and generalization, minimizing cross-validation errors.\n",
    "</p>\n",
    "</div>"
   ]
  },
  {
   "cell_type": "code",
   "execution_count": 30,
   "metadata": {
    "execution": {
     "iopub.execute_input": "2024-08-11T20:46:22.836592Z",
     "iopub.status.busy": "2024-08-11T20:46:22.835794Z",
     "iopub.status.idle": "2024-08-11T20:46:26.686017Z",
     "shell.execute_reply": "2024-08-11T20:46:26.68441Z",
     "shell.execute_reply.started": "2024-08-11T20:46:22.836551Z"
    },
    "trusted": true
   },
   "outputs": [],
   "source": [
    "alpha_list = np.logspace(-4, 0, num=20)\n",
    "ridge_reg_pipeline = Pipeline([(\"poly\", PolynomialFeatures(degree=2)),\n",
    "                              (\"feature_scaling\", StandardScaler()),\n",
    "                              (\"ridge_cv\", RidgeCV(alphas=alpha_list,\n",
    "                                                   cv=cv,\n",
    "                                                   scoring=\"neg_mean_absolute_error\"))])\n",
    "ridge_reg_cv_results = ridge_reg_pipeline.fit(com_train_features, com_train_labels)"
   ]
  },
  {
   "cell_type": "code",
   "execution_count": 31,
   "metadata": {
    "execution": {
     "iopub.execute_input": "2024-08-11T20:46:26.689005Z",
     "iopub.status.busy": "2024-08-11T20:46:26.688188Z",
     "iopub.status.idle": "2024-08-11T20:46:26.696154Z",
     "shell.execute_reply": "2024-08-11T20:46:26.694739Z",
     "shell.execute_reply.started": "2024-08-11T20:46:26.688962Z"
    },
    "trusted": true
   },
   "outputs": [
    {
     "name": "stdout",
     "output_type": "stream",
     "text": [
      "The score with the best alpha is: -0.473\n",
      "The error with the best alpha is: 0.473\n"
     ]
    }
   ],
   "source": [
    "print (\"The score with the best alpha is:\",\n",
    "       f\"{ridge_reg_cv_results[-1].best_score_:.3f}\")\n",
    "print (\"The error with the best alpha is:\",\n",
    "       f\"{-ridge_reg_cv_results[-1].best_score_:.3f}\")"
   ]
  },
  {
   "cell_type": "code",
   "execution_count": 32,
   "metadata": {
    "execution": {
     "iopub.execute_input": "2024-08-11T20:46:26.699161Z",
     "iopub.status.busy": "2024-08-11T20:46:26.69837Z",
     "iopub.status.idle": "2024-08-11T20:46:26.707449Z",
     "shell.execute_reply": "2024-08-11T20:46:26.706122Z",
     "shell.execute_reply.started": "2024-08-11T20:46:26.699121Z"
    },
    "trusted": true
   },
   "outputs": [
    {
     "name": "stdout",
     "output_type": "stream",
     "text": [
      "The best value for alpha: 0.007847599703514606\n"
     ]
    }
   ],
   "source": [
    "print (\"The best value for alpha:\", ridge_reg_cv_results[-1].alpha_)"
   ]
  },
  {
   "cell_type": "markdown",
   "metadata": {},
   "source": [
    "<a id=\"ridgecv-with-cross-validation\"></a>\n",
    "\n",
    "<div style=\"background-color: #e3f2fd; font-size:150%; text-align:left; border: 7px solid #0288d1; text-shadow: 2px 2px 4px rgba(0, 0, 0, 0.3); font-family: Calibri; border-radius: 20px; padding: 10px; width:95%\">\n",
    "<h1 align=\"center\"><font color=#0277bd><strong>RIDGECV WITH CROSS VALIDATION</strong></font></h1>\n",
    "<p style=\"font-family: Calibri; color: #0277bd; text-shadow: 2px 2px 4px rgba(0, 0, 0, 0.3); text-align: left; font-size: 110%\">\n",
    "    To identify the optimal regularization rate <code>alpha</code> for Ridge regression, we use <code>RidgeCV</code>, which performs cross-validation to select the best <code>alpha</code> from a specified list of candidate values.\n",
    "    <br><br>\n",
    "    We will provide a range of <code>alpha</code> values to <code>RidgeCV</code> and allow it to evaluate each value's performance through cross-validation. The best <code>alpha</code> is chosen based on which one minimizes cross-validation errors, ensuring that our model achieves the best balance between fit and generalization.\n",
    "</p>\n",
    "</div>"
   ]
  },
  {
   "cell_type": "code",
   "execution_count": 33,
   "metadata": {
    "execution": {
     "iopub.execute_input": "2024-08-11T20:46:26.710369Z",
     "iopub.status.busy": "2024-08-11T20:46:26.709556Z",
     "iopub.status.idle": "2024-08-11T20:46:29.339386Z",
     "shell.execute_reply": "2024-08-11T20:46:29.337968Z",
     "shell.execute_reply.started": "2024-08-11T20:46:26.710328Z"
    },
    "trusted": true
   },
   "outputs": [
    {
     "name": "stdout",
     "output_type": "stream",
     "text": [
      "Mean absolute error of ridge regression model on the train set:\n",
      "0.470 +/- 0.011\n",
      "Mean absolute error of ridge regression model on the test set:\n",
      "0.474 +/- 0.011\n"
     ]
    }
   ],
   "source": [
    "alpha_list = np.logspace(-4, 0, num=20)\n",
    "ridge_reg_pipeline = Pipeline([(\"poly\", PolynomialFeatures(degree=2)),\n",
    "                              (\"feature_scaling\", StandardScaler()),\n",
    "                              (\"ridge_cv\", RidgeCV(alphas=alpha_list,\n",
    "                                                   store_cv_values=True))])\n",
    "ridge_reg_cv_results = cross_validate(ridge_reg_pipeline,\n",
    "                                    com_train_features,\n",
    "                                    com_train_labels,\n",
    "                                    cv=cv,\n",
    "                                    scoring=\"neg_mean_absolute_error\",\n",
    "                                    return_train_score=True,\n",
    "                                    return_estimator=True)\n",
    "\n",
    "ridge_reg_train_error = -1 * ridge_reg_cv_results['train_score']\n",
    "ridge_reg_test_error = -1 * ridge_reg_cv_results['test_score']\n",
    "\n",
    "print(f\"Mean absolute error of ridge regression model on the train set:\\n\"\n",
    "      f\"{ridge_reg_train_error.mean():.3f} +/- {ridge_reg_train_error.std():.3f}\")\n",
    "print(f\"Mean absolute error of ridge regression model on the test set:\\n\"\n",
    "      f\"{ridge_reg_test_error.mean():.3f} +/- {ridge_reg_test_error.std():.3f}\")"
   ]
  },
  {
   "cell_type": "markdown",
   "metadata": {},
   "source": [
    "**Let's look at the mean of mean absolute errors at different values of regularization rate across different cross validation folds.**"
   ]
  },
  {
   "cell_type": "code",
   "execution_count": 34,
   "metadata": {
    "execution": {
     "iopub.execute_input": "2024-08-11T20:46:29.343112Z",
     "iopub.status.busy": "2024-08-11T20:46:29.342009Z",
     "iopub.status.idle": "2024-08-11T20:46:29.450995Z",
     "shell.execute_reply": "2024-08-11T20:46:29.449693Z",
     "shell.execute_reply.started": "2024-08-11T20:46:29.343052Z"
    },
    "trusted": true
   },
   "outputs": [
    {
     "data": {
      "application/vnd.microsoft.datawrangler.viewer.v0+json": {
       "columns": [
        {
         "name": "index",
         "rawType": "int64",
         "type": "integer"
        },
        {
         "name": "0.0001",
         "rawType": "float64",
         "type": "float"
        },
        {
         "name": "0.0001623776739188721",
         "rawType": "float64",
         "type": "float"
        },
        {
         "name": "0.00026366508987303583",
         "rawType": "float64",
         "type": "float"
        },
        {
         "name": "0.00042813323987193956",
         "rawType": "float64",
         "type": "float"
        },
        {
         "name": "0.0006951927961775605",
         "rawType": "float64",
         "type": "float"
        },
        {
         "name": "0.0011288378916846883",
         "rawType": "float64",
         "type": "float"
        },
        {
         "name": "0.0018329807108324356",
         "rawType": "float64",
         "type": "float"
        },
        {
         "name": "0.002976351441631319",
         "rawType": "float64",
         "type": "float"
        },
        {
         "name": "0.004832930238571752",
         "rawType": "float64",
         "type": "float"
        },
        {
         "name": "0.007847599703514606",
         "rawType": "float64",
         "type": "float"
        },
        {
         "name": "0.012742749857031334",
         "rawType": "float64",
         "type": "float"
        },
        {
         "name": "0.0206913808111479",
         "rawType": "float64",
         "type": "float"
        },
        {
         "name": "0.03359818286283781",
         "rawType": "float64",
         "type": "float"
        },
        {
         "name": "0.05455594781168514",
         "rawType": "float64",
         "type": "float"
        },
        {
         "name": "0.08858667904100823",
         "rawType": "float64",
         "type": "float"
        },
        {
         "name": "0.14384498882876628",
         "rawType": "float64",
         "type": "float"
        },
        {
         "name": "0.23357214690901212",
         "rawType": "float64",
         "type": "float"
        },
        {
         "name": "0.3792690190732246",
         "rawType": "float64",
         "type": "float"
        },
        {
         "name": "0.615848211066026",
         "rawType": "float64",
         "type": "float"
        },
        {
         "name": "1.0",
         "rawType": "float64",
         "type": "float"
        }
       ],
       "conversionMethod": "pd.DataFrame",
       "ref": "82e03dac-fc9d-464b-be59-eecc8f54b776",
       "rows": [
        [
         "0",
         "79.82510501722713",
         "83.55697968867052",
         "89.05227378890787",
         "96.71333095287827",
         "106.57741884147352",
         "117.95858697797097",
         "129.30923350154006",
         "138.5535446223923",
         "143.69659552786342",
         "143.2398436642395",
         "136.32382685153678",
         "122.94360920148418",
         "104.32875333554503",
         "82.97005370201981",
         "61.840052834446105",
         "43.298868743267114",
         "28.559398278262847",
         "17.803633275382296",
         "10.526486394295913",
         "5.909713459159052"
        ],
        [
         "1",
         "14.065799061751722",
         "13.742714207670693",
         "13.245801760531188",
         "12.504951681196665",
         "11.45078700108477",
         "10.048351253200181",
         "8.345884300357831",
         "6.505474250577296",
         "4.765508418073189",
         "3.333757638134423",
         "2.2951261376658163",
         "1.610844287213844",
         "1.183945224232347",
         "0.919623578150024",
         "0.7509904245266935",
         "0.6412719764420851",
         "0.5770077462879143",
         "0.5564580977438299",
         "0.5750548081843345",
         "0.61668229494537"
        ],
        [
         "2",
         "5.267710260080312",
         "5.272330564813877",
         "5.279626224229206",
         "5.290955811198067",
         "5.308104803676778",
         "5.333104039563394",
         "5.367713567063412",
         "5.412615743762093",
         "5.4666851200185675",
         "5.526801011649757",
         "5.588436164651095",
         "5.647108158603234",
         "5.700569749131882",
         "5.751086806304156",
         "5.806721844350355",
         "5.879665023310245",
         "5.978466927639642",
         "6.094228719805058",
         "6.190664063894378",
         "6.2104154011207715"
        ],
        [
         "3",
         "5.853085176215164",
         "5.867042873895622",
         "5.888944617725733",
         "5.92264258426333",
         "5.972982017932412",
         "6.045050885044653",
         "6.142429101706965",
         "6.264704069533724",
         "6.405584158809365",
         "6.5531759620523005",
         "6.6924441474788825",
         "6.8084685898481",
         "6.889793053844634",
         "6.931979464822266",
         "6.940661298571901",
         "6.931633471405415",
         "6.923902062589412",
         "6.92466996863917",
         "6.915606530776994",
         "6.852966558625445"
        ],
        [
         "4",
         "8.13464608205339",
         "7.993973969089023",
         "7.78117169305758",
         "7.471107670722054",
         "7.042442533066892",
         "6.489074860882435",
         "5.830604847802168",
         "5.110991794550563",
         "4.379774304336192",
         "3.6665856819612594",
         "2.9701938572965263",
         "2.2754487869413085",
         "1.5955976539607666",
         "1.0211629687812809",
         "0.73117312945834",
         "0.9124564844741053",
         "1.6090592950600278",
         "2.646319729065605",
         "3.7293203966292907",
         "4.609697105345141"
        ],
        [
         "5",
         "66.10000799078746",
         "60.04715894783728",
         "52.002193357943156",
         "42.27913782391028",
         "31.87914098468194",
         "22.23298100953155",
         "14.513911728486352",
         "9.100107670308336",
         "5.651189446863951",
         "3.553747629428759",
         "2.267631695447148",
         "1.4387282437765052",
         "0.8848457396581925",
         "0.5525254278664752",
         "0.4649622506194949",
         "0.651161232979762",
         "1.0809033497454552",
         "1.6578190947506666",
         "2.268931800950487",
         "2.8278858582859794"
        ],
        [
         "6",
         "2.309882451844634",
         "2.2537218444146125",
         "2.168544214004757",
         "2.0440940528692284",
         "1.871808204050624",
         "1.650274733070928",
         "1.3912065592464733",
         "1.1209097340888925",
         "0.8730556642334396",
         "0.6757806314825529",
         "0.5436028777003216",
         "0.48241093357685483",
         "0.504610303003832",
         "0.6434506252765148",
         "0.9529594027952966",
         "1.480222987954226",
         "2.215475293872122",
         "3.0633319495613125",
         "3.875894002690226",
         "4.520391339768269"
        ],
        [
         "7",
         "19.019936758902947",
         "20.494094589615553",
         "22.74254187663973",
         "26.033396010205053",
         "30.548207814154903",
         "36.182667398298776",
         "42.36888413000051",
         "48.12604104257875",
         "52.3840398457921",
         "54.3276571621779",
         "53.53886495724183",
         "50.00459871081233",
         "44.134731900961654",
         "36.750466743149815",
         "28.898462732011943",
         "21.52907385373744",
         "15.270440697665414",
         "10.39224570515429",
         "6.8620059211875715",
         "4.445107958033522"
        ],
        [
         "8",
         "4.351827304459973",
         "4.345296776906537",
         "4.335084999314036",
         "4.3194483359183495",
         "4.296235855586692",
         "4.26327692106041",
         "4.219299004731698",
         "4.165380331498848",
         "4.106280972400865",
         "4.050251178716274",
         "4.0066414104897525",
         "3.983149817127805",
         "3.9855011463611008",
         "4.019861601723174",
         "4.095335209593915",
         "4.222622554999142",
         "4.40552099824126",
         "4.627180846456753",
         "4.842507148730328",
         "4.987779368017925"
        ],
        [
         "9",
         "3.9638502864167515",
         "3.9523619786316417",
         "3.934503722985726",
         "3.9074362020386",
         "3.867958404136265",
         "3.8135707819434495",
         "3.7445264019239324",
         "3.6662853814555727",
         "3.590431252769798",
         "3.532156733667302",
         "3.5055313153231635",
         "3.5208028185011955",
         "3.5863617020412653",
         "3.7133435106607116",
         "3.917634896786279",
         "4.213493505001937",
         "4.596544431518126",
         "5.02514661165378",
         "5.419898781086248",
         "5.688782022848501"
        ]
       ],
       "shape": {
        "columns": 20,
        "rows": 10
       }
      },
      "text/html": [
       "<div>\n",
       "<style scoped>\n",
       "    .dataframe tbody tr th:only-of-type {\n",
       "        vertical-align: middle;\n",
       "    }\n",
       "\n",
       "    .dataframe tbody tr th {\n",
       "        vertical-align: top;\n",
       "    }\n",
       "\n",
       "    .dataframe thead th {\n",
       "        text-align: right;\n",
       "    }\n",
       "</style>\n",
       "<table border=\"1\" class=\"dataframe\">\n",
       "  <thead>\n",
       "    <tr style=\"text-align: right;\">\n",
       "      <th></th>\n",
       "      <th>0.000100</th>\n",
       "      <th>0.000162</th>\n",
       "      <th>0.000264</th>\n",
       "      <th>0.000428</th>\n",
       "      <th>0.000695</th>\n",
       "      <th>0.001129</th>\n",
       "      <th>0.001833</th>\n",
       "      <th>0.002976</th>\n",
       "      <th>0.004833</th>\n",
       "      <th>0.007848</th>\n",
       "      <th>0.012743</th>\n",
       "      <th>0.020691</th>\n",
       "      <th>0.033598</th>\n",
       "      <th>0.054556</th>\n",
       "      <th>0.088587</th>\n",
       "      <th>0.143845</th>\n",
       "      <th>0.233572</th>\n",
       "      <th>0.379269</th>\n",
       "      <th>0.615848</th>\n",
       "      <th>1.000000</th>\n",
       "    </tr>\n",
       "  </thead>\n",
       "  <tbody>\n",
       "    <tr>\n",
       "      <th>0</th>\n",
       "      <td>79.825105</td>\n",
       "      <td>83.556980</td>\n",
       "      <td>89.052274</td>\n",
       "      <td>96.713331</td>\n",
       "      <td>106.577419</td>\n",
       "      <td>117.958587</td>\n",
       "      <td>129.309234</td>\n",
       "      <td>138.553545</td>\n",
       "      <td>143.696596</td>\n",
       "      <td>143.239844</td>\n",
       "      <td>136.323827</td>\n",
       "      <td>122.943609</td>\n",
       "      <td>104.328753</td>\n",
       "      <td>82.970054</td>\n",
       "      <td>61.840053</td>\n",
       "      <td>43.298869</td>\n",
       "      <td>28.559398</td>\n",
       "      <td>17.803633</td>\n",
       "      <td>10.526486</td>\n",
       "      <td>5.909713</td>\n",
       "    </tr>\n",
       "    <tr>\n",
       "      <th>1</th>\n",
       "      <td>14.065799</td>\n",
       "      <td>13.742714</td>\n",
       "      <td>13.245802</td>\n",
       "      <td>12.504952</td>\n",
       "      <td>11.450787</td>\n",
       "      <td>10.048351</td>\n",
       "      <td>8.345884</td>\n",
       "      <td>6.505474</td>\n",
       "      <td>4.765508</td>\n",
       "      <td>3.333758</td>\n",
       "      <td>2.295126</td>\n",
       "      <td>1.610844</td>\n",
       "      <td>1.183945</td>\n",
       "      <td>0.919624</td>\n",
       "      <td>0.750990</td>\n",
       "      <td>0.641272</td>\n",
       "      <td>0.577008</td>\n",
       "      <td>0.556458</td>\n",
       "      <td>0.575055</td>\n",
       "      <td>0.616682</td>\n",
       "    </tr>\n",
       "    <tr>\n",
       "      <th>2</th>\n",
       "      <td>5.267710</td>\n",
       "      <td>5.272331</td>\n",
       "      <td>5.279626</td>\n",
       "      <td>5.290956</td>\n",
       "      <td>5.308105</td>\n",
       "      <td>5.333104</td>\n",
       "      <td>5.367714</td>\n",
       "      <td>5.412616</td>\n",
       "      <td>5.466685</td>\n",
       "      <td>5.526801</td>\n",
       "      <td>5.588436</td>\n",
       "      <td>5.647108</td>\n",
       "      <td>5.700570</td>\n",
       "      <td>5.751087</td>\n",
       "      <td>5.806722</td>\n",
       "      <td>5.879665</td>\n",
       "      <td>5.978467</td>\n",
       "      <td>6.094229</td>\n",
       "      <td>6.190664</td>\n",
       "      <td>6.210415</td>\n",
       "    </tr>\n",
       "    <tr>\n",
       "      <th>3</th>\n",
       "      <td>5.853085</td>\n",
       "      <td>5.867043</td>\n",
       "      <td>5.888945</td>\n",
       "      <td>5.922643</td>\n",
       "      <td>5.972982</td>\n",
       "      <td>6.045051</td>\n",
       "      <td>6.142429</td>\n",
       "      <td>6.264704</td>\n",
       "      <td>6.405584</td>\n",
       "      <td>6.553176</td>\n",
       "      <td>6.692444</td>\n",
       "      <td>6.808469</td>\n",
       "      <td>6.889793</td>\n",
       "      <td>6.931979</td>\n",
       "      <td>6.940661</td>\n",
       "      <td>6.931633</td>\n",
       "      <td>6.923902</td>\n",
       "      <td>6.924670</td>\n",
       "      <td>6.915607</td>\n",
       "      <td>6.852967</td>\n",
       "    </tr>\n",
       "    <tr>\n",
       "      <th>4</th>\n",
       "      <td>8.134646</td>\n",
       "      <td>7.993974</td>\n",
       "      <td>7.781172</td>\n",
       "      <td>7.471108</td>\n",
       "      <td>7.042443</td>\n",
       "      <td>6.489075</td>\n",
       "      <td>5.830605</td>\n",
       "      <td>5.110992</td>\n",
       "      <td>4.379774</td>\n",
       "      <td>3.666586</td>\n",
       "      <td>2.970194</td>\n",
       "      <td>2.275449</td>\n",
       "      <td>1.595598</td>\n",
       "      <td>1.021163</td>\n",
       "      <td>0.731173</td>\n",
       "      <td>0.912456</td>\n",
       "      <td>1.609059</td>\n",
       "      <td>2.646320</td>\n",
       "      <td>3.729320</td>\n",
       "      <td>4.609697</td>\n",
       "    </tr>\n",
       "    <tr>\n",
       "      <th>5</th>\n",
       "      <td>66.100008</td>\n",
       "      <td>60.047159</td>\n",
       "      <td>52.002193</td>\n",
       "      <td>42.279138</td>\n",
       "      <td>31.879141</td>\n",
       "      <td>22.232981</td>\n",
       "      <td>14.513912</td>\n",
       "      <td>9.100108</td>\n",
       "      <td>5.651189</td>\n",
       "      <td>3.553748</td>\n",
       "      <td>2.267632</td>\n",
       "      <td>1.438728</td>\n",
       "      <td>0.884846</td>\n",
       "      <td>0.552525</td>\n",
       "      <td>0.464962</td>\n",
       "      <td>0.651161</td>\n",
       "      <td>1.080903</td>\n",
       "      <td>1.657819</td>\n",
       "      <td>2.268932</td>\n",
       "      <td>2.827886</td>\n",
       "    </tr>\n",
       "    <tr>\n",
       "      <th>6</th>\n",
       "      <td>2.309882</td>\n",
       "      <td>2.253722</td>\n",
       "      <td>2.168544</td>\n",
       "      <td>2.044094</td>\n",
       "      <td>1.871808</td>\n",
       "      <td>1.650275</td>\n",
       "      <td>1.391207</td>\n",
       "      <td>1.120910</td>\n",
       "      <td>0.873056</td>\n",
       "      <td>0.675781</td>\n",
       "      <td>0.543603</td>\n",
       "      <td>0.482411</td>\n",
       "      <td>0.504610</td>\n",
       "      <td>0.643451</td>\n",
       "      <td>0.952959</td>\n",
       "      <td>1.480223</td>\n",
       "      <td>2.215475</td>\n",
       "      <td>3.063332</td>\n",
       "      <td>3.875894</td>\n",
       "      <td>4.520391</td>\n",
       "    </tr>\n",
       "    <tr>\n",
       "      <th>7</th>\n",
       "      <td>19.019937</td>\n",
       "      <td>20.494095</td>\n",
       "      <td>22.742542</td>\n",
       "      <td>26.033396</td>\n",
       "      <td>30.548208</td>\n",
       "      <td>36.182667</td>\n",
       "      <td>42.368884</td>\n",
       "      <td>48.126041</td>\n",
       "      <td>52.384040</td>\n",
       "      <td>54.327657</td>\n",
       "      <td>53.538865</td>\n",
       "      <td>50.004599</td>\n",
       "      <td>44.134732</td>\n",
       "      <td>36.750467</td>\n",
       "      <td>28.898463</td>\n",
       "      <td>21.529074</td>\n",
       "      <td>15.270441</td>\n",
       "      <td>10.392246</td>\n",
       "      <td>6.862006</td>\n",
       "      <td>4.445108</td>\n",
       "    </tr>\n",
       "    <tr>\n",
       "      <th>8</th>\n",
       "      <td>4.351827</td>\n",
       "      <td>4.345297</td>\n",
       "      <td>4.335085</td>\n",
       "      <td>4.319448</td>\n",
       "      <td>4.296236</td>\n",
       "      <td>4.263277</td>\n",
       "      <td>4.219299</td>\n",
       "      <td>4.165380</td>\n",
       "      <td>4.106281</td>\n",
       "      <td>4.050251</td>\n",
       "      <td>4.006641</td>\n",
       "      <td>3.983150</td>\n",
       "      <td>3.985501</td>\n",
       "      <td>4.019862</td>\n",
       "      <td>4.095335</td>\n",
       "      <td>4.222623</td>\n",
       "      <td>4.405521</td>\n",
       "      <td>4.627181</td>\n",
       "      <td>4.842507</td>\n",
       "      <td>4.987779</td>\n",
       "    </tr>\n",
       "    <tr>\n",
       "      <th>9</th>\n",
       "      <td>3.963850</td>\n",
       "      <td>3.952362</td>\n",
       "      <td>3.934504</td>\n",
       "      <td>3.907436</td>\n",
       "      <td>3.867958</td>\n",
       "      <td>3.813571</td>\n",
       "      <td>3.744526</td>\n",
       "      <td>3.666285</td>\n",
       "      <td>3.590431</td>\n",
       "      <td>3.532157</td>\n",
       "      <td>3.505531</td>\n",
       "      <td>3.520803</td>\n",
       "      <td>3.586362</td>\n",
       "      <td>3.713344</td>\n",
       "      <td>3.917635</td>\n",
       "      <td>4.213494</td>\n",
       "      <td>4.596544</td>\n",
       "      <td>5.025147</td>\n",
       "      <td>5.419899</td>\n",
       "      <td>5.688782</td>\n",
       "    </tr>\n",
       "  </tbody>\n",
       "</table>\n",
       "</div>"
      ],
      "text/plain": [
       "    0.000100   0.000162   0.000264   0.000428    0.000695    0.001129  \\\n",
       "0  79.825105  83.556980  89.052274  96.713331  106.577419  117.958587   \n",
       "1  14.065799  13.742714  13.245802  12.504952   11.450787   10.048351   \n",
       "2   5.267710   5.272331   5.279626   5.290956    5.308105    5.333104   \n",
       "3   5.853085   5.867043   5.888945   5.922643    5.972982    6.045051   \n",
       "4   8.134646   7.993974   7.781172   7.471108    7.042443    6.489075   \n",
       "5  66.100008  60.047159  52.002193  42.279138   31.879141   22.232981   \n",
       "6   2.309882   2.253722   2.168544   2.044094    1.871808    1.650275   \n",
       "7  19.019937  20.494095  22.742542  26.033396   30.548208   36.182667   \n",
       "8   4.351827   4.345297   4.335085   4.319448    4.296236    4.263277   \n",
       "9   3.963850   3.952362   3.934504   3.907436    3.867958    3.813571   \n",
       "\n",
       "     0.001833    0.002976    0.004833    0.007848    0.012743    0.020691  \\\n",
       "0  129.309234  138.553545  143.696596  143.239844  136.323827  122.943609   \n",
       "1    8.345884    6.505474    4.765508    3.333758    2.295126    1.610844   \n",
       "2    5.367714    5.412616    5.466685    5.526801    5.588436    5.647108   \n",
       "3    6.142429    6.264704    6.405584    6.553176    6.692444    6.808469   \n",
       "4    5.830605    5.110992    4.379774    3.666586    2.970194    2.275449   \n",
       "5   14.513912    9.100108    5.651189    3.553748    2.267632    1.438728   \n",
       "6    1.391207    1.120910    0.873056    0.675781    0.543603    0.482411   \n",
       "7   42.368884   48.126041   52.384040   54.327657   53.538865   50.004599   \n",
       "8    4.219299    4.165380    4.106281    4.050251    4.006641    3.983150   \n",
       "9    3.744526    3.666285    3.590431    3.532157    3.505531    3.520803   \n",
       "\n",
       "     0.033598   0.054556   0.088587   0.143845   0.233572   0.379269  \\\n",
       "0  104.328753  82.970054  61.840053  43.298869  28.559398  17.803633   \n",
       "1    1.183945   0.919624   0.750990   0.641272   0.577008   0.556458   \n",
       "2    5.700570   5.751087   5.806722   5.879665   5.978467   6.094229   \n",
       "3    6.889793   6.931979   6.940661   6.931633   6.923902   6.924670   \n",
       "4    1.595598   1.021163   0.731173   0.912456   1.609059   2.646320   \n",
       "5    0.884846   0.552525   0.464962   0.651161   1.080903   1.657819   \n",
       "6    0.504610   0.643451   0.952959   1.480223   2.215475   3.063332   \n",
       "7   44.134732  36.750467  28.898463  21.529074  15.270441  10.392246   \n",
       "8    3.985501   4.019862   4.095335   4.222623   4.405521   4.627181   \n",
       "9    3.586362   3.713344   3.917635   4.213494   4.596544   5.025147   \n",
       "\n",
       "    0.615848  1.000000  \n",
       "0  10.526486  5.909713  \n",
       "1   0.575055  0.616682  \n",
       "2   6.190664  6.210415  \n",
       "3   6.915607  6.852967  \n",
       "4   3.729320  4.609697  \n",
       "5   2.268932  2.827886  \n",
       "6   3.875894  4.520391  \n",
       "7   6.862006  4.445108  \n",
       "8   4.842507  4.987779  \n",
       "9   5.419899  5.688782  "
      ]
     },
     "execution_count": 34,
     "metadata": {},
     "output_type": "execute_result"
    }
   ],
   "source": [
    "mse_alphas = [est[-1].cv_values_.mean(axis=0)\n",
    "              for est in ridge_reg_cv_results[\"estimator\"]]\n",
    "cv_alphas = pd.DataFrame(mse_alphas, columns=alpha_list)\n",
    "cv_alphas"
   ]
  },
  {
   "cell_type": "code",
   "execution_count": 35,
   "metadata": {
    "execution": {
     "iopub.execute_input": "2024-08-11T20:46:29.454124Z",
     "iopub.status.busy": "2024-08-11T20:46:29.453228Z",
     "iopub.status.idle": "2024-08-11T20:46:29.805327Z",
     "shell.execute_reply": "2024-08-11T20:46:29.804086Z",
     "shell.execute_reply.started": "2024-08-11T20:46:29.454078Z"
    },
    "trusted": true
   },
   "outputs": [
    {
     "data": {
      "image/png": "[encoded data removed]",
      "text/plain": [
       "<Figure size 640x480 with 1 Axes>"
      ]
     },
     "metadata": {},
     "output_type": "display_data"
    }
   ],
   "source": [
    "cv_alphas.mean(axis=0).plot(marker=\"+\")\n",
    "plt.ylabel(\"Mean squared error\\n (lower is better)\")\n",
    "plt.xlabel(\"alpha\")\n",
    "_ = plt.title(\"Error obtained by cross-validation\")"
   ]
  },
  {
   "cell_type": "code",
   "execution_count": 36,
   "metadata": {
    "execution": {
     "iopub.execute_input": "2024-08-11T20:46:29.807527Z",
     "iopub.status.busy": "2024-08-11T20:46:29.807085Z",
     "iopub.status.idle": "2024-08-11T20:46:29.81624Z",
     "shell.execute_reply": "2024-08-11T20:46:29.814736Z",
     "shell.execute_reply.started": "2024-08-11T20:46:29.807487Z"
    },
    "trusted": true
   },
   "outputs": [
    {
     "data": {
      "text/plain": [
       "[1.0,\n",
       " 0.3792690190732246,\n",
       " 0.0001,\n",
       " 0.0001,\n",
       " 0.08858667904100823,\n",
       " 0.08858667904100823,\n",
       " 0.0206913808111479,\n",
       " 1.0,\n",
       " 0.0206913808111479,\n",
       " 0.012742749857031334]"
      ]
     },
     "execution_count": 36,
     "metadata": {},
     "output_type": "execute_result"
    }
   ],
   "source": [
    "best_alphas = [est[-1].alpha_ for est in ridge_reg_cv_results[\"estimator\"]]\n",
    "best_alphas"
   ]
  },
  {
   "cell_type": "markdown",
   "metadata": {},
   "source": [
    "<a id=\"ridgecv-final-estimate\"></a>\n",
    "\n",
    "<div style=\"background-color: #e3f2fd; font-size:150%; text-align:left; border: 7px solid #0288d1; text-shadow: 2px 2px 4px rgba(0, 0, 0, 0.3); font-family: Calibri; border-radius: 20px; padding: 10px; width:95%\">\n",
    "<h1 align=\"center\"><font color=#0277bd><strong>RIDGECV FINAL ESTIMATE</strong></font></h1>\n",
    "<p style=\"font-family: Calibri; color: #0277bd; text-shadow: 2px 2px 4px rgba(0, 0, 0, 0.3); text-align: left; font-size: 110%\">\n",
    "    The optimal regularization strength for Ridge regression, as determined by <code>RidgeCV</code>, may vary across different cross-validation iterations. \n",
    "    <br><br>\n",
    "    However, it is standard practice to average the best <code>alpha</code> values found across multiple cross-validation folds. This approach provides a robust final estimate for the regularization parameter, reflecting the overall performance of the model across different data samples.\n",
    "</p>\n",
    "</div>"
   ]
  },
  {
   "cell_type": "code",
   "execution_count": 37,
   "metadata": {
    "execution": {
     "iopub.execute_input": "2024-08-11T20:46:29.819048Z",
     "iopub.status.busy": "2024-08-11T20:46:29.818142Z",
     "iopub.status.idle": "2024-08-11T20:46:29.827439Z",
     "shell.execute_reply": "2024-08-11T20:46:29.826131Z",
     "shell.execute_reply.started": "2024-08-11T20:46:29.819007Z"
    },
    "trusted": true
   },
   "outputs": [
    {
     "name": "stdout",
     "output_type": "stream",
     "text": [
      "The mean optimal alpha leading to the best generalization performance is:\n",
      "0.26 +/- 0.38\n"
     ]
    }
   ],
   "source": [
    "print(f\"The mean optimal alpha leading to the best generalization performance is:\\n\"\n",
    "      f\"{np.mean(best_alphas):.2f} +/- {np.std(best_alphas):.2f}\")"
   ]
  },
  {
   "cell_type": "markdown",
   "metadata": {},
   "source": [
    "\n",
    "<a id=\"ridge-hpt-gridsearchcv\"></a>\n",
    "\n",
    "<div style=\"background-color: #e3f2fd; font-size:150%; text-align:left; border: 7px solid #0288d1; text-shadow: 2px 2px 4px rgba(0, 0, 0, 0.3); font-family: Calibri; border-radius: 20px; padding: 10px; width:95%\">\n",
    "<h1 align=\"center\"><font color=#0277bd><strong>RIDGE HPT THROUGH `GRIDSEARCHCV`</strong></font></h1>\n",
    "<p style=\"font-family: Calibri; color: #0277bd; text-shadow: 2px 2px 4px rgba(0, 0, 0, 0.3); text-align: left; font-size: 110%\">\n",
    "    To identify the optimal regularization strength for Ridge regression, we can use <code>GridSearchCV</code> for hyperparameter tuning. \n",
    "    <br><br>"
   ]
  },
  {
   "cell_type": "code",
   "execution_count": 38,
   "metadata": {
    "execution": {
     "iopub.execute_input": "2024-08-11T20:46:29.835671Z",
     "iopub.status.busy": "2024-08-11T20:46:29.834512Z",
     "iopub.status.idle": "2024-08-11T20:47:05.056427Z",
     "shell.execute_reply": "2024-08-11T20:47:05.054896Z",
     "shell.execute_reply.started": "2024-08-11T20:46:29.835625Z"
    },
    "trusted": true
   },
   "outputs": [
    {
     "data": {
      "text/html": [
       "<style>#sk-container-id-1 {\n",
       "  /* Definition of color scheme common for light and dark mode */\n",
       "  --sklearn-color-text: #000;\n",
       "  --sklearn-color-text-muted: #666;\n",
       "  --sklearn-color-line: gray;\n",
       "  /* Definition of color scheme for unfitted estimators */\n",
       "  --sklearn-color-unfitted-level-0: #fff5e6;\n",
       "  --sklearn-color-unfitted-level-1: #f6e4d2;\n",
       "  --sklearn-color-unfitted-level-2: #ffe0b3;\n",
       "  --sklearn-color-unfitted-level-3: chocolate;\n",
       "  /* Definition of color scheme for fitted estimators */\n",
       "  --sklearn-color-fitted-level-0: #f0f8ff;\n",
       "  --sklearn-color-fitted-level-1: #d4ebff;\n",
       "  --sklearn-color-fitted-level-2: #b3dbfd;\n",
       "  --sklearn-color-fitted-level-3: cornflowerblue;\n",
       "\n",
       "  /* Specific color for light theme */\n",
       "  --sklearn-color-text-on-default-background: var(--sg-text-color, var(--theme-code-foreground, var(--jp-content-font-color1, black)));\n",
       "  --sklearn-color-background: var(--sg-background-color, var(--theme-background, var(--jp-layout-color0, white)));\n",
       "  --sklearn-color-border-box: var(--sg-text-color, var(--theme-code-foreground, var(--jp-content-font-color1, black)));\n",
       "  --sklearn-color-icon: #696969;\n",
       "\n",
       "  @media (prefers-color-scheme: dark) {\n",
       "    /* Redefinition of color scheme for dark theme */\n",
       "    --sklearn-color-text-on-default-background: var(--sg-text-color, var(--theme-code-foreground, var(--jp-content-font-color1, white)));\n",
       "    --sklearn-color-background: var(--sg-background-color, var(--theme-background, var(--jp-layout-color0, #111)));\n",
       "    --sklearn-color-border-box: var(--sg-text-color, var(--theme-code-foreground, var(--jp-content-font-color1, white)));\n",
       "    --sklearn-color-icon: #878787;\n",
       "  }\n",
       "}\n",
       "\n",
       "#sk-container-id-1 {\n",
       "  color: var(--sklearn-color-text);\n",
       "}\n",
       "\n",
       "#sk-container-id-1 pre {\n",
       "  padding: 0;\n",
       "}\n",
       "\n",
       "#sk-container-id-1 input.sk-hidden--visually {\n",
       "  border: 0;\n",
       "  clip: rect(1px 1px 1px 1px);\n",
       "  clip: rect(1px, 1px, 1px, 1px);\n",
       "  height: 1px;\n",
       "  margin: -1px;\n",
       "  overflow: hidden;\n",
       "  padding: 0;\n",
       "  position: absolute;\n",
       "  width: 1px;\n",
       "}\n",
       "\n",
       "#sk-container-id-1 div.sk-dashed-wrapped {\n",
       "  border: 1px dashed var(--sklearn-color-line);\n",
       "  margin: 0 0.4em 0.5em 0.4em;\n",
       "  box-sizing: border-box;\n",
       "  padding-bottom: 0.4em;\n",
       "  background-color: var(--sklearn-color-background);\n",
       "}\n",
       "\n",
       "#sk-container-id-1 div.sk-container {\n",
       "  /* jupyter's `normalize.less` sets `[hidden] { display: none; }`\n",
       "     but bootstrap.min.css set `[hidden] { display: none !important; }`\n",
       "     so we also need the `!important` here to be able to override the\n",
       "     default hidden behavior on the sphinx rendered scikit-learn.org.\n",
       "     See: https://github.com/scikit-learn/scikit-learn/issues/21755 */\n",
       "  display: inline-block !important;\n",
       "  position: relative;\n",
       "}\n",
       "\n",
       "#sk-container-id-1 div.sk-text-repr-fallback {\n",
       "  display: none;\n",
       "}\n",
       "\n",
       "div.sk-parallel-item,\n",
       "div.sk-serial,\n",
       "div.sk-item {\n",
       "  /* draw centered vertical line to link estimators */\n",
       "  background-image: linear-gradient(var(--sklearn-color-text-on-default-background), var(--sklearn-color-text-on-default-background));\n",
       "  background-size: 2px 100%;\n",
       "  background-repeat: no-repeat;\n",
       "  background-position: center center;\n",
       "}\n",
       "\n",
       "/* Parallel-specific style estimator block */\n",
       "\n",
       "#sk-container-id-1 div.sk-parallel-item::after {\n",
       "  content: \"\";\n",
       "  width: 100%;\n",
       "  border-bottom: 2px solid var(--sklearn-color-text-on-default-background);\n",
       "  flex-grow: 1;\n",
       "}\n",
       "\n",
       "#sk-container-id-1 div.sk-parallel {\n",
       "  display: flex;\n",
       "  align-items: stretch;\n",
       "  justify-content: center;\n",
       "  background-color: var(--sklearn-color-background);\n",
       "  position: relative;\n",
       "}\n",
       "\n",
       "#sk-container-id-1 div.sk-parallel-item {\n",
       "  display: flex;\n",
       "  flex-direction: column;\n",
       "}\n",
       "\n",
       "#sk-container-id-1 div.sk-parallel-item:first-child::after {\n",
       "  align-self: flex-end;\n",
       "  width: 50%;\n",
       "}\n",
       "\n",
       "#sk-container-id-1 div.sk-parallel-item:last-child::after {\n",
       "  align-self: flex-start;\n",
       "  width: 50%;\n",
       "}\n",
       "\n",
       "#sk-container-id-1 div.sk-parallel-item:only-child::after {\n",
       "  width: 0;\n",
       "}\n",
       "\n",
       "/* Serial-specific style estimator block */\n",
       "\n",
       "#sk-container-id-1 div.sk-serial {\n",
       "  display: flex;\n",
       "  flex-direction: column;\n",
       "  align-items: center;\n",
       "  background-color: var(--sklearn-color-background);\n",
       "  padding-right: 1em;\n",
       "  padding-left: 1em;\n",
       "}\n",
       "\n",
       "\n",
       "/* Toggleable style: style used for estimator/Pipeline/ColumnTransformer box that is\n",
       "clickable and can be expanded/collapsed.\n",
       "- Pipeline and ColumnTransformer use this feature and define the default style\n",
       "- Estimators will overwrite some part of the style using the `sk-estimator` class\n",
       "*/\n",
       "\n",
       "/* Pipeline and ColumnTransformer style (default) */\n",
       "\n",
       "#sk-container-id-1 div.sk-toggleable {\n",
       "  /* Default theme specific background. It is overwritten whether we have a\n",
       "  specific estimator or a Pipeline/ColumnTransformer */\n",
       "  background-color: var(--sklearn-color-background);\n",
       "}\n",
       "\n",
       "/* Toggleable label */\n",
       "#sk-container-id-1 label.sk-toggleable__label {\n",
       "  cursor: pointer;\n",
       "  display: flex;\n",
       "  width: 100%;\n",
       "  margin-bottom: 0;\n",
       "  padding: 0.5em;\n",
       "  box-sizing: border-box;\n",
       "  text-align: center;\n",
       "  align-items: start;\n",
       "  justify-content: space-between;\n",
       "  gap: 0.5em;\n",
       "}\n",
       "\n",
       "#sk-container-id-1 label.sk-toggleable__label .caption {\n",
       "  font-size: 0.6rem;\n",
       "  font-weight: lighter;\n",
       "  color: var(--sklearn-color-text-muted);\n",
       "}\n",
       "\n",
       "#sk-container-id-1 label.sk-toggleable__label-arrow:before {\n",
       "  /* Arrow on the left of the label */\n",
       "  content: \"▸\";\n",
       "  float: left;\n",
       "  margin-right: 0.25em;\n",
       "  color: var(--sklearn-color-icon);\n",
       "}\n",
       "\n",
       "#sk-container-id-1 label.sk-toggleable__label-arrow:hover:before {\n",
       "  color: var(--sklearn-color-text);\n",
       "}\n",
       "\n",
       "/* Toggleable content - dropdown */\n",
       "\n",
       "#sk-container-id-1 div.sk-toggleable__content {\n",
       "  max-height: 0;\n",
       "  max-width: 0;\n",
       "  overflow: hidden;\n",
       "  text-align: left;\n",
       "  /* unfitted */\n",
       "  background-color: var(--sklearn-color-unfitted-level-0);\n",
       "}\n",
       "\n",
       "#sk-container-id-1 div.sk-toggleable__content.fitted {\n",
       "  /* fitted */\n",
       "  background-color: var(--sklearn-color-fitted-level-0);\n",
       "}\n",
       "\n",
       "#sk-container-id-1 div.sk-toggleable__content pre {\n",
       "  margin: 0.2em;\n",
       "  border-radius: 0.25em;\n",
       "  color: var(--sklearn-color-text);\n",
       "  /* unfitted */\n",
       "  background-color: var(--sklearn-color-unfitted-level-0);\n",
       "}\n",
       "\n",
       "#sk-container-id-1 div.sk-toggleable__content.fitted pre {\n",
       "  /* unfitted */\n",
       "  background-color: var(--sklearn-color-fitted-level-0);\n",
       "}\n",
       "\n",
       "#sk-container-id-1 input.sk-toggleable__control:checked~div.sk-toggleable__content {\n",
       "  /* Expand drop-down */\n",
       "  max-height: 200px;\n",
       "  max-width: 100%;\n",
       "  overflow: auto;\n",
       "}\n",
       "\n",
       "#sk-container-id-1 input.sk-toggleable__control:checked~label.sk-toggleable__label-arrow:before {\n",
       "  content: \"▾\";\n",
       "}\n",
       "\n",
       "/* Pipeline/ColumnTransformer-specific style */\n",
       "\n",
       "#sk-container-id-1 div.sk-label input.sk-toggleable__control:checked~label.sk-toggleable__label {\n",
       "  color: var(--sklearn-color-text);\n",
       "  background-color: var(--sklearn-color-unfitted-level-2);\n",
       "}\n",
       "\n",
       "#sk-container-id-1 div.sk-label.fitted input.sk-toggleable__control:checked~label.sk-toggleable__label {\n",
       "  background-color: var(--sklearn-color-fitted-level-2);\n",
       "}\n",
       "\n",
       "/* Estimator-specific style */\n",
       "\n",
       "/* Colorize estimator box */\n",
       "#sk-container-id-1 div.sk-estimator input.sk-toggleable__control:checked~label.sk-toggleable__label {\n",
       "  /* unfitted */\n",
       "  background-color: var(--sklearn-color-unfitted-level-2);\n",
       "}\n",
       "\n",
       "#sk-container-id-1 div.sk-estimator.fitted input.sk-toggleable__control:checked~label.sk-toggleable__label {\n",
       "  /* fitted */\n",
       "  background-color: var(--sklearn-color-fitted-level-2);\n",
       "}\n",
       "\n",
       "#sk-container-id-1 div.sk-label label.sk-toggleable__label,\n",
       "#sk-container-id-1 div.sk-label label {\n",
       "  /* The background is the default theme color */\n",
       "  color: var(--sklearn-color-text-on-default-background);\n",
       "}\n",
       "\n",
       "/* On hover, darken the color of the background */\n",
       "#sk-container-id-1 div.sk-label:hover label.sk-toggleable__label {\n",
       "  color: var(--sklearn-color-text);\n",
       "  background-color: var(--sklearn-color-unfitted-level-2);\n",
       "}\n",
       "\n",
       "/* Label box, darken color on hover, fitted */\n",
       "#sk-container-id-1 div.sk-label.fitted:hover label.sk-toggleable__label.fitted {\n",
       "  color: var(--sklearn-color-text);\n",
       "  background-color: var(--sklearn-color-fitted-level-2);\n",
       "}\n",
       "\n",
       "/* Estimator label */\n",
       "\n",
       "#sk-container-id-1 div.sk-label label {\n",
       "  font-family: monospace;\n",
       "  font-weight: bold;\n",
       "  display: inline-block;\n",
       "  line-height: 1.2em;\n",
       "}\n",
       "\n",
       "#sk-container-id-1 div.sk-label-container {\n",
       "  text-align: center;\n",
       "}\n",
       "\n",
       "/* Estimator-specific */\n",
       "#sk-container-id-1 div.sk-estimator {\n",
       "  font-family: monospace;\n",
       "  border: 1px dotted var(--sklearn-color-border-box);\n",
       "  border-radius: 0.25em;\n",
       "  box-sizing: border-box;\n",
       "  margin-bottom: 0.5em;\n",
       "  /* unfitted */\n",
       "  background-color: var(--sklearn-color-unfitted-level-0);\n",
       "}\n",
       "\n",
       "#sk-container-id-1 div.sk-estimator.fitted {\n",
       "  /* fitted */\n",
       "  background-color: var(--sklearn-color-fitted-level-0);\n",
       "}\n",
       "\n",
       "/* on hover */\n",
       "#sk-container-id-1 div.sk-estimator:hover {\n",
       "  /* unfitted */\n",
       "  background-color: var(--sklearn-color-unfitted-level-2);\n",
       "}\n",
       "\n",
       "#sk-container-id-1 div.sk-estimator.fitted:hover {\n",
       "  /* fitted */\n",
       "  background-color: var(--sklearn-color-fitted-level-2);\n",
       "}\n",
       "\n",
       "/* Specification for estimator info (e.g. \"i\" and \"?\") */\n",
       "\n",
       "/* Common style for \"i\" and \"?\" */\n",
       "\n",
       ".sk-estimator-doc-link,\n",
       "a:link.sk-estimator-doc-link,\n",
       "a:visited.sk-estimator-doc-link {\n",
       "  float: right;\n",
       "  font-size: smaller;\n",
       "  line-height: 1em;\n",
       "  font-family: monospace;\n",
       "  background-color: var(--sklearn-color-background);\n",
       "  border-radius: 1em;\n",
       "  height: 1em;\n",
       "  width: 1em;\n",
       "  text-decoration: none !important;\n",
       "  margin-left: 0.5em;\n",
       "  text-align: center;\n",
       "  /* unfitted */\n",
       "  border: var(--sklearn-color-unfitted-level-1) 1pt solid;\n",
       "  color: var(--sklearn-color-unfitted-level-1);\n",
       "}\n",
       "\n",
       ".sk-estimator-doc-link.fitted,\n",
       "a:link.sk-estimator-doc-link.fitted,\n",
       "a:visited.sk-estimator-doc-link.fitted {\n",
       "  /* fitted */\n",
       "  border: var(--sklearn-color-fitted-level-1) 1pt solid;\n",
       "  color: var(--sklearn-color-fitted-level-1);\n",
       "}\n",
       "\n",
       "/* On hover */\n",
       "div.sk-estimator:hover .sk-estimator-doc-link:hover,\n",
       ".sk-estimator-doc-link:hover,\n",
       "div.sk-label-container:hover .sk-estimator-doc-link:hover,\n",
       ".sk-estimator-doc-link:hover {\n",
       "  /* unfitted */\n",
       "  background-color: var(--sklearn-color-unfitted-level-3);\n",
       "  color: var(--sklearn-color-background);\n",
       "  text-decoration: none;\n",
       "}\n",
       "\n",
       "div.sk-estimator.fitted:hover .sk-estimator-doc-link.fitted:hover,\n",
       ".sk-estimator-doc-link.fitted:hover,\n",
       "div.sk-label-container:hover .sk-estimator-doc-link.fitted:hover,\n",
       ".sk-estimator-doc-link.fitted:hover {\n",
       "  /* fitted */\n",
       "  background-color: var(--sklearn-color-fitted-level-3);\n",
       "  color: var(--sklearn-color-background);\n",
       "  text-decoration: none;\n",
       "}\n",
       "\n",
       "/* Span, style for the box shown on hovering the info icon */\n",
       ".sk-estimator-doc-link span {\n",
       "  display: none;\n",
       "  z-index: 9999;\n",
       "  position: relative;\n",
       "  font-weight: normal;\n",
       "  right: .2ex;\n",
       "  padding: .5ex;\n",
       "  margin: .5ex;\n",
       "  width: min-content;\n",
       "  min-width: 20ex;\n",
       "  max-width: 50ex;\n",
       "  color: var(--sklearn-color-text);\n",
       "  box-shadow: 2pt 2pt 4pt #999;\n",
       "  /* unfitted */\n",
       "  background: var(--sklearn-color-unfitted-level-0);\n",
       "  border: .5pt solid var(--sklearn-color-unfitted-level-3);\n",
       "}\n",
       "\n",
       ".sk-estimator-doc-link.fitted span {\n",
       "  /* fitted */\n",
       "  background: var(--sklearn-color-fitted-level-0);\n",
       "  border: var(--sklearn-color-fitted-level-3);\n",
       "}\n",
       "\n",
       ".sk-estimator-doc-link:hover span {\n",
       "  display: block;\n",
       "}\n",
       "\n",
       "/* \"?\"-specific style due to the `<a>` HTML tag */\n",
       "\n",
       "#sk-container-id-1 a.estimator_doc_link {\n",
       "  float: right;\n",
       "  font-size: 1rem;\n",
       "  line-height: 1em;\n",
       "  font-family: monospace;\n",
       "  background-color: var(--sklearn-color-background);\n",
       "  border-radius: 1rem;\n",
       "  height: 1rem;\n",
       "  width: 1rem;\n",
       "  text-decoration: none;\n",
       "  /* unfitted */\n",
       "  color: var(--sklearn-color-unfitted-level-1);\n",
       "  border: var(--sklearn-color-unfitted-level-1) 1pt solid;\n",
       "}\n",
       "\n",
       "#sk-container-id-1 a.estimator_doc_link.fitted {\n",
       "  /* fitted */\n",
       "  border: var(--sklearn-color-fitted-level-1) 1pt solid;\n",
       "  color: var(--sklearn-color-fitted-level-1);\n",
       "}\n",
       "\n",
       "/* On hover */\n",
       "#sk-container-id-1 a.estimator_doc_link:hover {\n",
       "  /* unfitted */\n",
       "  background-color: var(--sklearn-color-unfitted-level-3);\n",
       "  color: var(--sklearn-color-background);\n",
       "  text-decoration: none;\n",
       "}\n",
       "\n",
       "#sk-container-id-1 a.estimator_doc_link.fitted:hover {\n",
       "  /* fitted */\n",
       "  background-color: var(--sklearn-color-fitted-level-3);\n",
       "}\n",
       "</style><div id=\"sk-container-id-1\" class=\"sk-top-container\"><div class=\"sk-text-repr-fallback\"><pre>GridSearchCV(cv=ShuffleSplit(n_splits=10, random_state=42, test_size=0.2, train_size=None),\n",
       "             estimator=Pipeline(steps=[(&#x27;poly&#x27;, PolynomialFeatures()),\n",
       "                                       (&#x27;feature_scaling&#x27;, StandardScaler()),\n",
       "                                       (&#x27;ridge&#x27;, Ridge())]),\n",
       "             n_jobs=2,\n",
       "             param_grid={&#x27;poly__degree&#x27;: (1, 2, 3),\n",
       "                         &#x27;ridge__alpha&#x27;: array([1.00000000e-04, 1.62377674e-04, 2.63665090e-04, 4.28133240e-04,\n",
       "       6.95192796e-04, 1.12883789e-03, 1.83298071e-03, 2.97635144e-03,\n",
       "       4.83293024e-03, 7.84759970e-03, 1.27427499e-02, 2.06913808e-02,\n",
       "       3.35981829e-02, 5.45559478e-02, 8.85866790e-02, 1.43844989e-01,\n",
       "       2.33572147e-01, 3.79269019e-01, 6.15848211e-01, 1.00000000e+00])},\n",
       "             return_train_score=True, scoring=&#x27;neg_mean_absolute_error&#x27;)</pre><b>In a Jupyter environment, please rerun this cell to show the HTML representation or trust the notebook. <br />On GitHub, the HTML representation is unable to render, please try loading this page with nbviewer.org.</b></div><div class=\"sk-container\" hidden><div class=\"sk-item sk-dashed-wrapped\"><div class=\"sk-label-container\"><div class=\"sk-label fitted sk-toggleable\"><input class=\"sk-toggleable__control sk-hidden--visually\" id=\"sk-estimator-id-1\" type=\"checkbox\" ><label for=\"sk-estimator-id-1\" class=\"sk-toggleable__label fitted sk-toggleable__label-arrow\"><div><div>GridSearchCV</div></div><div><a class=\"sk-estimator-doc-link fitted\" rel=\"noreferrer\" target=\"_blank\" href=\"https://scikit-learn.org/1.6/modules/generated/sklearn.model_selection.GridSearchCV.html\">?<span>Documentation for GridSearchCV</span></a><span class=\"sk-estimator-doc-link fitted\">i<span>Fitted</span></span></div></label><div class=\"sk-toggleable__content fitted\"><pre>GridSearchCV(cv=ShuffleSplit(n_splits=10, random_state=42, test_size=0.2, train_size=None),\n",
       "             estimator=Pipeline(steps=[(&#x27;poly&#x27;, PolynomialFeatures()),\n",
       "                                       (&#x27;feature_scaling&#x27;, StandardScaler()),\n",
       "                                       (&#x27;ridge&#x27;, Ridge())]),\n",
       "             n_jobs=2,\n",
       "             param_grid={&#x27;poly__degree&#x27;: (1, 2, 3),\n",
       "                         &#x27;ridge__alpha&#x27;: array([1.00000000e-04, 1.62377674e-04, 2.63665090e-04, 4.28133240e-04,\n",
       "       6.95192796e-04, 1.12883789e-03, 1.83298071e-03, 2.97635144e-03,\n",
       "       4.83293024e-03, 7.84759970e-03, 1.27427499e-02, 2.06913808e-02,\n",
       "       3.35981829e-02, 5.45559478e-02, 8.85866790e-02, 1.43844989e-01,\n",
       "       2.33572147e-01, 3.79269019e-01, 6.15848211e-01, 1.00000000e+00])},\n",
       "             return_train_score=True, scoring=&#x27;neg_mean_absolute_error&#x27;)</pre></div> </div></div><div class=\"sk-parallel\"><div class=\"sk-parallel-item\"><div class=\"sk-item\"><div class=\"sk-label-container\"><div class=\"sk-label fitted sk-toggleable\"><input class=\"sk-toggleable__control sk-hidden--visually\" id=\"sk-estimator-id-2\" type=\"checkbox\" ><label for=\"sk-estimator-id-2\" class=\"sk-toggleable__label fitted sk-toggleable__label-arrow\"><div><div>best_estimator_: Pipeline</div></div></label><div class=\"sk-toggleable__content fitted\"><pre>Pipeline(steps=[(&#x27;poly&#x27;, PolynomialFeatures()),\n",
       "                (&#x27;feature_scaling&#x27;, StandardScaler()),\n",
       "                (&#x27;ridge&#x27;, Ridge(alpha=0.007847599703514606))])</pre></div> </div></div><div class=\"sk-serial\"><div class=\"sk-item\"><div class=\"sk-serial\"><div class=\"sk-item\"><div class=\"sk-estimator fitted sk-toggleable\"><input class=\"sk-toggleable__control sk-hidden--visually\" id=\"sk-estimator-id-3\" type=\"checkbox\" ><label for=\"sk-estimator-id-3\" class=\"sk-toggleable__label fitted sk-toggleable__label-arrow\"><div><div>PolynomialFeatures</div></div><div><a class=\"sk-estimator-doc-link fitted\" rel=\"noreferrer\" target=\"_blank\" href=\"https://scikit-learn.org/1.6/modules/generated/sklearn.preprocessing.PolynomialFeatures.html\">?<span>Documentation for PolynomialFeatures</span></a></div></label><div class=\"sk-toggleable__content fitted\"><pre>PolynomialFeatures()</pre></div> </div></div><div class=\"sk-item\"><div class=\"sk-estimator fitted sk-toggleable\"><input class=\"sk-toggleable__control sk-hidden--visually\" id=\"sk-estimator-id-4\" type=\"checkbox\" ><label for=\"sk-estimator-id-4\" class=\"sk-toggleable__label fitted sk-toggleable__label-arrow\"><div><div>StandardScaler</div></div><div><a class=\"sk-estimator-doc-link fitted\" rel=\"noreferrer\" target=\"_blank\" href=\"https://scikit-learn.org/1.6/modules/generated/sklearn.preprocessing.StandardScaler.html\">?<span>Documentation for StandardScaler</span></a></div></label><div class=\"sk-toggleable__content fitted\"><pre>StandardScaler()</pre></div> </div></div><div class=\"sk-item\"><div class=\"sk-estimator fitted sk-toggleable\"><input class=\"sk-toggleable__control sk-hidden--visually\" id=\"sk-estimator-id-5\" type=\"checkbox\" ><label for=\"sk-estimator-id-5\" class=\"sk-toggleable__label fitted sk-toggleable__label-arrow\"><div><div>Ridge</div></div><div><a class=\"sk-estimator-doc-link fitted\" rel=\"noreferrer\" target=\"_blank\" href=\"https://scikit-learn.org/1.6/modules/generated/sklearn.linear_model.Ridge.html\">?<span>Documentation for Ridge</span></a></div></label><div class=\"sk-toggleable__content fitted\"><pre>Ridge(alpha=0.007847599703514606)</pre></div> </div></div></div></div></div></div></div></div></div></div></div>"
      ],
      "text/plain": [
       "GridSearchCV(cv=ShuffleSplit(n_splits=10, random_state=42, test_size=0.2, train_size=None),\n",
       "             estimator=Pipeline(steps=[('poly', PolynomialFeatures()),\n",
       "                                       ('feature_scaling', StandardScaler()),\n",
       "                                       ('ridge', Ridge())]),\n",
       "             n_jobs=2,\n",
       "             param_grid={'poly__degree': (1, 2, 3),\n",
       "                         'ridge__alpha': array([1.00000000e-04, 1.62377674e-04, 2.63665090e-04, 4.28133240e-04,\n",
       "       6.95192796e-04, 1.12883789e-03, 1.83298071e-03, 2.97635144e-03,\n",
       "       4.83293024e-03, 7.84759970e-03, 1.27427499e-02, 2.06913808e-02,\n",
       "       3.35981829e-02, 5.45559478e-02, 8.85866790e-02, 1.43844989e-01,\n",
       "       2.33572147e-01, 3.79269019e-01, 6.15848211e-01, 1.00000000e+00])},\n",
       "             return_train_score=True, scoring='neg_mean_absolute_error')"
      ]
     },
     "execution_count": 38,
     "metadata": {},
     "output_type": "execute_result"
    }
   ],
   "source": [
    "ridge_grid_pipeline = Pipeline([(\"poly\", PolynomialFeatures(degree=2)),\n",
    "                              (\"feature_scaling\", StandardScaler()),\n",
    "                              (\"ridge\", Ridge())])\n",
    "\n",
    "param_grid = {'poly__degree': (1, 2, 3),\n",
    "              'ridge__alpha': np.logspace(-4, 0, num=20)}\n",
    "ridge_grid_search = GridSearchCV(ridge_grid_pipeline,\n",
    "                                 param_grid=param_grid,\n",
    "                                 n_jobs=2,\n",
    "                                 cv=cv,\n",
    "                                 scoring=\"neg_mean_absolute_error\",\n",
    "                                 return_train_score=True)\n",
    "ridge_grid_search.fit(com_train_features, com_train_labels)"
   ]
  },
  {
   "cell_type": "markdown",
   "metadata": {},
   "source": [
    "**`ridge_grid_search.best_index_` gives us the index of the best parameter in the list**"
   ]
  },
  {
   "cell_type": "code",
   "execution_count": 39,
   "metadata": {
    "execution": {
     "iopub.execute_input": "2024-08-11T20:47:05.067607Z",
     "iopub.status.busy": "2024-08-11T20:47:05.063721Z",
     "iopub.status.idle": "2024-08-11T20:47:05.087347Z",
     "shell.execute_reply": "2024-08-11T20:47:05.08575Z",
     "shell.execute_reply.started": "2024-08-11T20:47:05.06754Z"
    },
    "trusted": true
   },
   "outputs": [
    {
     "name": "stdout",
     "output_type": "stream",
     "text": [
      "Best Mean absolute error of polynomial ridge regression model on the train set:\n",
      "0.463 +/- 0.004\n",
      "Mean absolute error of polynomial ridge regression model on the test set:\n",
      "0.474 +/- 0.004\n"
     ]
    }
   ],
   "source": [
    "mean_train_error = -1*ridge_grid_search.cv_results_['mean_train_score'][ridge_grid_search.best_index_]\n",
    "mean_test_error = -1*ridge_grid_search.cv_results_['mean_test_score'][ridge_grid_search.best_index_]\n",
    "std_train_error = ridge_grid_search.cv_results_['std_train_score'][ridge_grid_search.best_index_]\n",
    "std_test_error = ridge_grid_search.cv_results_['std_train_score'][ridge_grid_search.best_index_]\n",
    "\n",
    "print(f\"Best Mean absolute error of polynomial ridge regression model on the train set:\\n\"\n",
    "      f\"{mean_train_error:.3f} +/- {std_train_error:.3f}\")\n",
    "print(f\"Mean absolute error of polynomial ridge regression model on the test set:\\n\"\n",
    "      f\"{mean_test_error:.3f} +/- {std_test_error:.3f}\")"
   ]
  },
  {
   "cell_type": "code",
   "execution_count": 40,
   "metadata": {
    "execution": {
     "iopub.execute_input": "2024-08-11T20:47:05.099102Z",
     "iopub.status.busy": "2024-08-11T20:47:05.095274Z",
     "iopub.status.idle": "2024-08-11T20:47:05.105774Z",
     "shell.execute_reply": "2024-08-11T20:47:05.104364Z",
     "shell.execute_reply.started": "2024-08-11T20:47:05.099039Z"
    },
    "trusted": true
   },
   "outputs": [
    {
     "name": "stdout",
     "output_type": "stream",
     "text": [
      "Mean cross validated score of the best estimator is:  -0.47386511770044537\n",
      "Mean cross validated error of the best estimator is:  0.47386511770044537\n"
     ]
    }
   ],
   "source": [
    "print (\"Mean cross validated score of the best estimator is: \", ridge_grid_search.best_score_)\n",
    "print (\"Mean cross validated error of the best estimator is: \", -ridge_grid_search.best_score_)"
   ]
  },
  {
   "cell_type": "markdown",
   "metadata": {},
   "source": [
    "**Note that this is same as RidgeCV that we carried out earlier.**"
   ]
  },
  {
   "cell_type": "code",
   "execution_count": 41,
   "metadata": {
    "execution": {
     "iopub.execute_input": "2024-08-11T20:47:05.108242Z",
     "iopub.status.busy": "2024-08-11T20:47:05.10737Z",
     "iopub.status.idle": "2024-08-11T20:47:05.118077Z",
     "shell.execute_reply": "2024-08-11T20:47:05.116795Z",
     "shell.execute_reply.started": "2024-08-11T20:47:05.10821Z"
    },
    "trusted": true
   },
   "outputs": [
    {
     "name": "stdout",
     "output_type": "stream",
     "text": [
      "The best parameter value is: {'poly__degree': 2, 'ridge__alpha': 0.007847599703514606}\n"
     ]
    }
   ],
   "source": [
    "print (\"The best parameter value is:\", ridge_grid_search.best_params_)"
   ]
  },
  {
   "cell_type": "markdown",
   "metadata": {},
   "source": [
    "<a id=\"lasso-regression-baseline\"></a>\n",
    "\n",
    "<div style=\"background-color: #e3f2fd; font-size:150%; text-align:left; border: 7px solid #0288d1; text-shadow: 2px 2px 4px rgba(0, 0, 0, 0.3); font-family: Calibri; border-radius: 20px; padding: 10px; width:95%\">\n",
    "<h1 align=\"center\"><font color=#0277bd><strong>LASSON REGRESSION: BASELINE MODEL WITH FIXED LEARNING RATE</strong></font></h1>\n",
    "<p style=\"font-family: Calibri; color: #0277bd; text-shadow: 2px 2px 4px rgba(0, 0, 0, 0.3); text-align: left; font-size: 110%\">\n",
    "    In this section, we will explore Lasso regression by setting up a baseline model with a fixed learning rate."
   ]
  },
  {
   "cell_type": "code",
   "execution_count": 42,
   "metadata": {
    "execution": {
     "iopub.execute_input": "2024-08-11T20:47:05.120126Z",
     "iopub.status.busy": "2024-08-11T20:47:05.119653Z",
     "iopub.status.idle": "2024-08-11T20:47:10.989731Z",
     "shell.execute_reply": "2024-08-11T20:47:10.988291Z",
     "shell.execute_reply.started": "2024-08-11T20:47:05.120087Z"
    },
    "trusted": true
   },
   "outputs": [
    {
     "name": "stdout",
     "output_type": "stream",
     "text": [
      "Mean absolute error of linear regression model on the train set:\n",
      "0.529 +/- 0.011\n",
      "Mean absolute error of linear regression model on the test set:\n",
      "0.528 +/- 0.011\n"
     ]
    }
   ],
   "source": [
    "lasso_reg_pipeline = Pipeline([(\"poly\", PolynomialFeatures(degree=2)),\n",
    "                              (\"feature_scaling\", StandardScaler()),\n",
    "                              (\"lasso\", Lasso(alpha=0.01))])\n",
    "lasso_reg_cv_results = cross_validate(lasso_reg_pipeline,\n",
    "                                    com_train_features,\n",
    "                                    com_train_labels,\n",
    "                                    cv=cv,\n",
    "                                    scoring=\"neg_mean_absolute_error\",\n",
    "                                    return_train_score=True,\n",
    "                                    return_estimator=True)\n",
    "\n",
    "lasso_reg_train_error = -1 * lasso_reg_cv_results['train_score']\n",
    "lasso_reg_test_error = -1 * lasso_reg_cv_results['test_score']\n",
    "\n",
    "print(f\"Mean absolute error of linear regression model on the train set:\\n\"\n",
    "      f\"{lasso_reg_train_error.mean():.3f} +/- {ridge_reg_train_error.std():.3f}\")\n",
    "print(f\"Mean absolute error of linear regression model on the test set:\\n\"\n",
    "      f\"{lasso_reg_test_error.mean():.3f} +/- {ridge_reg_test_error.std():.3f}\")"
   ]
  },
  {
   "cell_type": "markdown",
   "metadata": {},
   "source": [
    "<a id=\"hpt-lasso-regularization-rate\"></a>\n",
    "\n",
    "<div style=\"background-color: #e3f2fd; font-size:150%; text-align:left; border: 7px solid #0288d1; text-shadow: 2px 2px 4px rgba(0, 0, 0, 0.3); font-family: Calibri; border-radius: 20px; padding: 10px; width:95%\">\n",
    "<h1 align=\"center\"><font color=#0277bd><strong>HYPERPARAMETER TUNING FOR LASSO REGULARIZATION RATE WITH CROSS VALIDATION</strong></font></h1>\n",
    "<p style=\"font-family: Calibri; color: #0277bd; text-shadow: 2px 2px 4px rgba(0, 0, 0, 0.3); text-align: left; font-size: 110%\">\n",
    "    In this section, we will perform hyperparameter tuning for the Lasso regression model to find the optimal regularization rate using cross-validation."
   ]
  },
  {
   "cell_type": "code",
   "execution_count": 43,
   "metadata": {
    "execution": {
     "iopub.execute_input": "2024-08-11T20:47:10.997202Z",
     "iopub.status.busy": "2024-08-11T20:47:10.996343Z",
     "iopub.status.idle": "2024-08-11T20:47:29.899028Z",
     "shell.execute_reply": "2024-08-11T20:47:29.897685Z",
     "shell.execute_reply.started": "2024-08-11T20:47:10.997147Z"
    },
    "trusted": true
   },
   "outputs": [
    {
     "name": "stdout",
     "output_type": "stream",
     "text": [
      "Mean absolute error of linear regression model on the train set:\n",
      "0.524 +/- 0.015\n",
      "Mean absolute error of linear regression model on the test set:\n",
      "0.524 +/- 0.013\n"
     ]
    }
   ],
   "source": [
    "alpha_list = np.logspace(-6, 0, num=20)\n",
    "lasso_reg_pipeline = Pipeline([(\"poly\", PolynomialFeatures(degree=2)),\n",
    "                              (\"feature_scaling\", StandardScaler()),\n",
    "                              (\"lasso_cv\", LassoCV(alphas=alpha_list, cv=cv))])\n",
    "lasso_reg_cv_results = cross_validate(lasso_reg_pipeline,\n",
    "                                    com_train_features,\n",
    "                                    com_train_labels,\n",
    "                                    cv=cv,\n",
    "                                    scoring=\"neg_mean_absolute_error\",\n",
    "                                    return_train_score=True,\n",
    "                                    return_estimator=True)\n",
    "\n",
    "lasso_reg_train_error = -1 * lasso_reg_cv_results['train_score']\n",
    "lasso_reg_test_error = -1 * lasso_reg_cv_results['test_score']\n",
    "\n",
    "print(f\"Mean absolute error of linear regression model on the train set:\\n\"\n",
    "      f\"{lasso_reg_train_error.mean():.3f} +/- {lasso_reg_train_error.std():.3f}\")\n",
    "print(f\"Mean absolute error of linear regression model on the test set:\\n\"\n",
    "      f\"{lasso_reg_test_error.mean():.3f} +/- {lasso_reg_test_error.std():.3f}\")"
   ]
  },
  {
   "cell_type": "code",
   "execution_count": 44,
   "metadata": {
    "execution": {
     "iopub.execute_input": "2024-08-11T20:47:29.903877Z",
     "iopub.status.busy": "2024-08-11T20:47:29.901356Z",
     "iopub.status.idle": "2024-08-11T20:47:29.918414Z",
     "shell.execute_reply": "2024-08-11T20:47:29.916906Z",
     "shell.execute_reply.started": "2024-08-11T20:47:29.903828Z"
    },
    "trusted": true
   },
   "outputs": [
    {
     "data": {
      "text/plain": [
       "[0.012742749857031322,\n",
       " 0.012742749857031322,\n",
       " 0.00615848211066026,\n",
       " 0.00615848211066026,\n",
       " 0.00615848211066026,\n",
       " 1e-06,\n",
       " 0.012742749857031322,\n",
       " 0.0003359818286283781,\n",
       " 0.00615848211066026,\n",
       " 0.026366508987303555]"
      ]
     },
     "execution_count": 44,
     "metadata": {},
     "output_type": "execute_result"
    }
   ],
   "source": [
    "best_alphas = [est[-1].alpha_ for est in lasso_reg_cv_results[\"estimator\"]]\n",
    "best_alphas"
   ]
  },
  {
   "cell_type": "code",
   "execution_count": 45,
   "metadata": {
    "execution": {
     "iopub.execute_input": "2024-08-11T20:47:29.923195Z",
     "iopub.status.busy": "2024-08-11T20:47:29.921244Z",
     "iopub.status.idle": "2024-08-11T20:47:29.933619Z",
     "shell.execute_reply": "2024-08-11T20:47:29.932341Z",
     "shell.execute_reply.started": "2024-08-11T20:47:29.923147Z"
    },
    "trusted": true
   },
   "outputs": [
    {
     "name": "stdout",
     "output_type": "stream",
     "text": [
      "The mean optimal alpha leading to the best generalization performance is:\n",
      "0.01 +/- 0.01\n"
     ]
    }
   ],
   "source": [
    "print(f\"The mean optimal alpha leading to the best generalization performance is:\\n\"\n",
    "      f\"{np.mean(best_alphas):.2f} +/- {np.std(best_alphas):.2f}\")"
   ]
  },
  {
   "cell_type": "code",
   "execution_count": 46,
   "metadata": {
    "execution": {
     "iopub.execute_input": "2024-08-11T20:47:29.939276Z",
     "iopub.status.busy": "2024-08-11T20:47:29.937017Z",
     "iopub.status.idle": "2024-08-11T20:47:30.513744Z",
     "shell.execute_reply": "2024-08-11T20:47:30.51239Z",
     "shell.execute_reply.started": "2024-08-11T20:47:29.939226Z"
    },
    "trusted": true
   },
   "outputs": [
    {
     "name": "stdout",
     "output_type": "stream",
     "text": [
      "Mean absolute error of Lasso CV model on the train set: 0.5291330037868301\n"
     ]
    }
   ],
   "source": [
    "lasso_reg_pipeline = Pipeline([(\"poly\", PolynomialFeatures(degree=2)),\n",
    "                              (\"feature_scaling\", StandardScaler()),\n",
    "                              (\"lasso\", Lasso(alpha=0.01))])\n",
    "lasso_reg_pipeline.fit(com_train_features, com_train_labels)\n",
    "train_error = mean_absolute_error(com_train_labels,\n",
    "                                 lasso_reg_pipeline.predict(com_train_features))\n",
    "\n",
    "print(f\"Mean absolute error of Lasso CV model on the train set:\", train_error)"
   ]
  },
  {
   "cell_type": "markdown",
   "metadata": {},
   "source": [
    "**with GridSearchCV**"
   ]
  },
  {
   "cell_type": "code",
   "execution_count": 47,
   "metadata": {
    "_kg_hide-output": true,
    "execution": {
     "iopub.execute_input": "2024-08-11T20:47:30.517169Z",
     "iopub.status.busy": "2024-08-11T20:47:30.516116Z",
     "iopub.status.idle": "2024-08-11T20:52:51.337831Z",
     "shell.execute_reply": "2024-08-11T20:52:51.336332Z",
     "shell.execute_reply.started": "2024-08-11T20:47:30.517114Z"
    },
    "trusted": true
   },
   "outputs": [
    {
     "name": "stderr",
     "output_type": "stream",
     "text": [
      "/Users/zsomborveres-lakos/anaconda3/lib/python3.11/site-packages/sklearn/linear_model/_coordinate_descent.py:695: ConvergenceWarning: Objective did not converge. You might want to increase the number of iterations, check the scale of the features or consider increasing regularisation. Duality gap: 2.553e+03, tolerance: 1.658e+00\n",
      "  model = cd_fast.enet_coordinate_descent(\n",
      "/Users/zsomborveres-lakos/anaconda3/lib/python3.11/site-packages/sklearn/linear_model/_coordinate_descent.py:695: ConvergenceWarning: Objective did not converge. You might want to increase the number of iterations, check the scale of the features or consider increasing regularisation. Duality gap: 2.280e+03, tolerance: 1.654e+00\n",
      "  model = cd_fast.enet_coordinate_descent(\n",
      "/Users/zsomborveres-lakos/anaconda3/lib/python3.11/site-packages/sklearn/linear_model/_coordinate_descent.py:695: ConvergenceWarning: Objective did not converge. You might want to increase the number of iterations, check the scale of the features or consider increasing regularisation. Duality gap: 2.308e+03, tolerance: 1.669e+00\n",
      "  model = cd_fast.enet_coordinate_descent(\n",
      "/Users/zsomborveres-lakos/anaconda3/lib/python3.11/site-packages/sklearn/linear_model/_coordinate_descent.py:695: ConvergenceWarning: Objective did not converge. You might want to increase the number of iterations, check the scale of the features or consider increasing regularisation. Duality gap: 2.593e+03, tolerance: 1.640e+00\n",
      "  model = cd_fast.enet_coordinate_descent(\n",
      "/Users/zsomborveres-lakos/anaconda3/lib/python3.11/site-packages/sklearn/linear_model/_coordinate_descent.py:695: ConvergenceWarning: Objective did not converge. You might want to increase the number of iterations, check the scale of the features or consider increasing regularisation. Duality gap: 2.544e+03, tolerance: 1.642e+00\n",
      "  model = cd_fast.enet_coordinate_descent(\n",
      "/Users/zsomborveres-lakos/anaconda3/lib/python3.11/site-packages/sklearn/linear_model/_coordinate_descent.py:695: ConvergenceWarning: Objective did not converge. You might want to increase the number of iterations, check the scale of the features or consider increasing regularisation. Duality gap: 2.545e+03, tolerance: 1.648e+00\n",
      "  model = cd_fast.enet_coordinate_descent(\n",
      "/Users/zsomborveres-lakos/anaconda3/lib/python3.11/site-packages/sklearn/linear_model/_coordinate_descent.py:695: ConvergenceWarning: Objective did not converge. You might want to increase the number of iterations, check the scale of the features or consider increasing regularisation. Duality gap: 2.628e+03, tolerance: 1.663e+00\n",
      "  model = cd_fast.enet_coordinate_descent(\n",
      "/Users/zsomborveres-lakos/anaconda3/lib/python3.11/site-packages/sklearn/linear_model/_coordinate_descent.py:695: ConvergenceWarning: Objective did not converge. You might want to increase the number of iterations, check the scale of the features or consider increasing regularisation. Duality gap: 2.162e+03, tolerance: 1.655e+00\n",
      "  model = cd_fast.enet_coordinate_descent(\n",
      "/Users/zsomborveres-lakos/anaconda3/lib/python3.11/site-packages/sklearn/linear_model/_coordinate_descent.py:695: ConvergenceWarning: Objective did not converge. You might want to increase the number of iterations, check the scale of the features or consider increasing regularisation. Duality gap: 2.516e+03, tolerance: 1.643e+00\n",
      "  model = cd_fast.enet_coordinate_descent(\n",
      "/Users/zsomborveres-lakos/anaconda3/lib/python3.11/site-packages/sklearn/linear_model/_coordinate_descent.py:695: ConvergenceWarning: Objective did not converge. You might want to increase the number of iterations, check the scale of the features or consider increasing regularisation. Duality gap: 2.572e+03, tolerance: 1.658e+00\n",
      "  model = cd_fast.enet_coordinate_descent(\n",
      "/Users/zsomborveres-lakos/anaconda3/lib/python3.11/site-packages/sklearn/linear_model/_coordinate_descent.py:695: ConvergenceWarning: Objective did not converge. You might want to increase the number of iterations, check the scale of the features or consider increasing regularisation. Duality gap: 2.137e+03, tolerance: 1.654e+00\n",
      "  model = cd_fast.enet_coordinate_descent(\n",
      "/Users/zsomborveres-lakos/anaconda3/lib/python3.11/site-packages/sklearn/linear_model/_coordinate_descent.py:695: ConvergenceWarning: Objective did not converge. You might want to increase the number of iterations, check the scale of the features or consider increasing regularisation. Duality gap: 2.072e+03, tolerance: 1.658e+00\n",
      "  model = cd_fast.enet_coordinate_descent(\n",
      "/Users/zsomborveres-lakos/anaconda3/lib/python3.11/site-packages/sklearn/linear_model/_coordinate_descent.py:695: ConvergenceWarning: Objective did not converge. You might want to increase the number of iterations, check the scale of the features or consider increasing regularisation. Duality gap: 2.096e+03, tolerance: 1.669e+00\n",
      "  model = cd_fast.enet_coordinate_descent(\n",
      "/Users/zsomborveres-lakos/anaconda3/lib/python3.11/site-packages/sklearn/linear_model/_coordinate_descent.py:695: ConvergenceWarning: Objective did not converge. You might want to increase the number of iterations, check the scale of the features or consider increasing regularisation. Duality gap: 2.092e+03, tolerance: 1.640e+00\n",
      "  model = cd_fast.enet_coordinate_descent(\n",
      "/Users/zsomborveres-lakos/anaconda3/lib/python3.11/site-packages/sklearn/linear_model/_coordinate_descent.py:695: ConvergenceWarning: Objective did not converge. You might want to increase the number of iterations, check the scale of the features or consider increasing regularisation. Duality gap: 2.005e+03, tolerance: 1.642e+00\n",
      "  model = cd_fast.enet_coordinate_descent(\n",
      "/Users/zsomborveres-lakos/anaconda3/lib/python3.11/site-packages/sklearn/linear_model/_coordinate_descent.py:695: ConvergenceWarning: Objective did not converge. You might want to increase the number of iterations, check the scale of the features or consider increasing regularisation. Duality gap: 2.099e+03, tolerance: 1.663e+00\n",
      "  model = cd_fast.enet_coordinate_descent(\n",
      "/Users/zsomborveres-lakos/anaconda3/lib/python3.11/site-packages/sklearn/linear_model/_coordinate_descent.py:695: ConvergenceWarning: Objective did not converge. You might want to increase the number of iterations, check the scale of the features or consider increasing regularisation. Duality gap: 2.076e+03, tolerance: 1.648e+00\n",
      "  model = cd_fast.enet_coordinate_descent(\n",
      "/Users/zsomborveres-lakos/anaconda3/lib/python3.11/site-packages/sklearn/linear_model/_coordinate_descent.py:695: ConvergenceWarning: Objective did not converge. You might want to increase the number of iterations, check the scale of the features or consider increasing regularisation. Duality gap: 2.112e+03, tolerance: 1.655e+00\n",
      "  model = cd_fast.enet_coordinate_descent(\n",
      "/Users/zsomborveres-lakos/anaconda3/lib/python3.11/site-packages/sklearn/linear_model/_coordinate_descent.py:695: ConvergenceWarning: Objective did not converge. You might want to increase the number of iterations, check the scale of the features or consider increasing regularisation. Duality gap: 2.109e+03, tolerance: 1.643e+00\n",
      "  model = cd_fast.enet_coordinate_descent(\n",
      "/Users/zsomborveres-lakos/anaconda3/lib/python3.11/site-packages/sklearn/linear_model/_coordinate_descent.py:695: ConvergenceWarning: Objective did not converge. You might want to increase the number of iterations, check the scale of the features or consider increasing regularisation. Duality gap: 2.007e+03, tolerance: 1.654e+00\n",
      "  model = cd_fast.enet_coordinate_descent(\n",
      "/Users/zsomborveres-lakos/anaconda3/lib/python3.11/site-packages/sklearn/linear_model/_coordinate_descent.py:695: ConvergenceWarning: Objective did not converge. You might want to increase the number of iterations, check the scale of the features or consider increasing regularisation. Duality gap: 2.065e+03, tolerance: 1.658e+00\n",
      "  model = cd_fast.enet_coordinate_descent(\n",
      "/Users/zsomborveres-lakos/anaconda3/lib/python3.11/site-packages/sklearn/linear_model/_coordinate_descent.py:695: ConvergenceWarning: Objective did not converge. You might want to increase the number of iterations, check the scale of the features or consider increasing regularisation. Duality gap: 2.046e+03, tolerance: 1.669e+00\n",
      "  model = cd_fast.enet_coordinate_descent(\n",
      "/Users/zsomborveres-lakos/anaconda3/lib/python3.11/site-packages/sklearn/linear_model/_coordinate_descent.py:695: ConvergenceWarning: Objective did not converge. You might want to increase the number of iterations, check the scale of the features or consider increasing regularisation. Duality gap: 2.331e+03, tolerance: 1.658e+00\n",
      "  model = cd_fast.enet_coordinate_descent(\n",
      "/Users/zsomborveres-lakos/anaconda3/lib/python3.11/site-packages/sklearn/linear_model/_coordinate_descent.py:695: ConvergenceWarning: Objective did not converge. You might want to increase the number of iterations, check the scale of the features or consider increasing regularisation. Duality gap: 2.386e+03, tolerance: 1.640e+00\n",
      "  model = cd_fast.enet_coordinate_descent(\n",
      "/Users/zsomborveres-lakos/anaconda3/lib/python3.11/site-packages/sklearn/linear_model/_coordinate_descent.py:695: ConvergenceWarning: Objective did not converge. You might want to increase the number of iterations, check the scale of the features or consider increasing regularisation. Duality gap: 2.335e+03, tolerance: 1.642e+00\n",
      "  model = cd_fast.enet_coordinate_descent(\n",
      "/Users/zsomborveres-lakos/anaconda3/lib/python3.11/site-packages/sklearn/linear_model/_coordinate_descent.py:695: ConvergenceWarning: Objective did not converge. You might want to increase the number of iterations, check the scale of the features or consider increasing regularisation. Duality gap: 2.485e+03, tolerance: 1.663e+00\n",
      "  model = cd_fast.enet_coordinate_descent(\n",
      "/Users/zsomborveres-lakos/anaconda3/lib/python3.11/site-packages/sklearn/linear_model/_coordinate_descent.py:695: ConvergenceWarning: Objective did not converge. You might want to increase the number of iterations, check the scale of the features or consider increasing regularisation. Duality gap: 2.345e+03, tolerance: 1.648e+00\n",
      "  model = cd_fast.enet_coordinate_descent(\n",
      "/Users/zsomborveres-lakos/anaconda3/lib/python3.11/site-packages/sklearn/linear_model/_coordinate_descent.py:695: ConvergenceWarning: Objective did not converge. You might want to increase the number of iterations, check the scale of the features or consider increasing regularisation. Duality gap: 1.786e+03, tolerance: 1.655e+00\n",
      "  model = cd_fast.enet_coordinate_descent(\n",
      "/Users/zsomborveres-lakos/anaconda3/lib/python3.11/site-packages/sklearn/linear_model/_coordinate_descent.py:695: ConvergenceWarning: Objective did not converge. You might want to increase the number of iterations, check the scale of the features or consider increasing regularisation. Duality gap: 2.291e+03, tolerance: 1.643e+00\n",
      "  model = cd_fast.enet_coordinate_descent(\n",
      "/Users/zsomborveres-lakos/anaconda3/lib/python3.11/site-packages/sklearn/linear_model/_coordinate_descent.py:695: ConvergenceWarning: Objective did not converge. You might want to increase the number of iterations, check the scale of the features or consider increasing regularisation. Duality gap: 2.356e+03, tolerance: 1.658e+00\n",
      "  model = cd_fast.enet_coordinate_descent(\n",
      "/Users/zsomborveres-lakos/anaconda3/lib/python3.11/site-packages/sklearn/linear_model/_coordinate_descent.py:695: ConvergenceWarning: Objective did not converge. You might want to increase the number of iterations, check the scale of the features or consider increasing regularisation. Duality gap: 1.661e+03, tolerance: 1.654e+00\n",
      "  model = cd_fast.enet_coordinate_descent(\n",
      "/Users/zsomborveres-lakos/anaconda3/lib/python3.11/site-packages/sklearn/linear_model/_coordinate_descent.py:695: ConvergenceWarning: Objective did not converge. You might want to increase the number of iterations, check the scale of the features or consider increasing regularisation. Duality gap: 1.779e+03, tolerance: 1.669e+00\n",
      "  model = cd_fast.enet_coordinate_descent(\n",
      "/Users/zsomborveres-lakos/anaconda3/lib/python3.11/site-packages/sklearn/linear_model/_coordinate_descent.py:695: ConvergenceWarning: Objective did not converge. You might want to increase the number of iterations, check the scale of the features or consider increasing regularisation. Duality gap: 1.744e+03, tolerance: 1.658e+00\n",
      "  model = cd_fast.enet_coordinate_descent(\n",
      "/Users/zsomborveres-lakos/anaconda3/lib/python3.11/site-packages/sklearn/linear_model/_coordinate_descent.py:695: ConvergenceWarning: Objective did not converge. You might want to increase the number of iterations, check the scale of the features or consider increasing regularisation. Duality gap: 1.711e+03, tolerance: 1.640e+00\n",
      "  model = cd_fast.enet_coordinate_descent(\n",
      "/Users/zsomborveres-lakos/anaconda3/lib/python3.11/site-packages/sklearn/linear_model/_coordinate_descent.py:695: ConvergenceWarning: Objective did not converge. You might want to increase the number of iterations, check the scale of the features or consider increasing regularisation. Duality gap: 1.536e+03, tolerance: 1.642e+00\n",
      "  model = cd_fast.enet_coordinate_descent(\n",
      "/Users/zsomborveres-lakos/anaconda3/lib/python3.11/site-packages/sklearn/linear_model/_coordinate_descent.py:695: ConvergenceWarning: Objective did not converge. You might want to increase the number of iterations, check the scale of the features or consider increasing regularisation. Duality gap: 1.683e+03, tolerance: 1.663e+00\n",
      "  model = cd_fast.enet_coordinate_descent(\n",
      "/Users/zsomborveres-lakos/anaconda3/lib/python3.11/site-packages/sklearn/linear_model/_coordinate_descent.py:695: ConvergenceWarning: Objective did not converge. You might want to increase the number of iterations, check the scale of the features or consider increasing regularisation. Duality gap: 1.672e+03, tolerance: 1.648e+00\n",
      "  model = cd_fast.enet_coordinate_descent(\n",
      "/Users/zsomborveres-lakos/anaconda3/lib/python3.11/site-packages/sklearn/linear_model/_coordinate_descent.py:695: ConvergenceWarning: Objective did not converge. You might want to increase the number of iterations, check the scale of the features or consider increasing regularisation. Duality gap: 1.717e+03, tolerance: 1.655e+00\n",
      "  model = cd_fast.enet_coordinate_descent(\n",
      "/Users/zsomborveres-lakos/anaconda3/lib/python3.11/site-packages/sklearn/linear_model/_coordinate_descent.py:695: ConvergenceWarning: Objective did not converge. You might want to increase the number of iterations, check the scale of the features or consider increasing regularisation. Duality gap: 1.733e+03, tolerance: 1.643e+00\n",
      "  model = cd_fast.enet_coordinate_descent(\n",
      "/Users/zsomborveres-lakos/anaconda3/lib/python3.11/site-packages/sklearn/linear_model/_coordinate_descent.py:695: ConvergenceWarning: Objective did not converge. You might want to increase the number of iterations, check the scale of the features or consider increasing regularisation. Duality gap: 1.707e+03, tolerance: 1.658e+00\n",
      "  model = cd_fast.enet_coordinate_descent(\n",
      "/Users/zsomborveres-lakos/anaconda3/lib/python3.11/site-packages/sklearn/linear_model/_coordinate_descent.py:695: ConvergenceWarning: Objective did not converge. You might want to increase the number of iterations, check the scale of the features or consider increasing regularisation. Duality gap: 1.568e+03, tolerance: 1.654e+00\n",
      "  model = cd_fast.enet_coordinate_descent(\n",
      "/Users/zsomborveres-lakos/anaconda3/lib/python3.11/site-packages/sklearn/linear_model/_coordinate_descent.py:695: ConvergenceWarning: Objective did not converge. You might want to increase the number of iterations, check the scale of the features or consider increasing regularisation. Duality gap: 1.667e+03, tolerance: 1.669e+00\n",
      "  model = cd_fast.enet_coordinate_descent(\n",
      "/Users/zsomborveres-lakos/anaconda3/lib/python3.11/site-packages/sklearn/linear_model/_coordinate_descent.py:695: ConvergenceWarning: Objective did not converge. You might want to increase the number of iterations, check the scale of the features or consider increasing regularisation. Duality gap: 1.947e+03, tolerance: 1.658e+00\n",
      "  model = cd_fast.enet_coordinate_descent(\n",
      "/Users/zsomborveres-lakos/anaconda3/lib/python3.11/site-packages/sklearn/linear_model/_coordinate_descent.py:695: ConvergenceWarning: Objective did not converge. You might want to increase the number of iterations, check the scale of the features or consider increasing regularisation. Duality gap: 2.026e+03, tolerance: 1.640e+00\n",
      "  model = cd_fast.enet_coordinate_descent(\n",
      "/Users/zsomborveres-lakos/anaconda3/lib/python3.11/site-packages/sklearn/linear_model/_coordinate_descent.py:695: ConvergenceWarning: Objective did not converge. You might want to increase the number of iterations, check the scale of the features or consider increasing regularisation. Duality gap: 1.972e+03, tolerance: 1.642e+00\n",
      "  model = cd_fast.enet_coordinate_descent(\n",
      "/Users/zsomborveres-lakos/anaconda3/lib/python3.11/site-packages/sklearn/linear_model/_coordinate_descent.py:695: ConvergenceWarning: Objective did not converge. You might want to increase the number of iterations, check the scale of the features or consider increasing regularisation. Duality gap: 2.252e+03, tolerance: 1.663e+00\n",
      "  model = cd_fast.enet_coordinate_descent(\n",
      "/Users/zsomborveres-lakos/anaconda3/lib/python3.11/site-packages/sklearn/linear_model/_coordinate_descent.py:695: ConvergenceWarning: Objective did not converge. You might want to increase the number of iterations, check the scale of the features or consider increasing regularisation. Duality gap: 2.044e+03, tolerance: 1.648e+00\n",
      "  model = cd_fast.enet_coordinate_descent(\n",
      "/Users/zsomborveres-lakos/anaconda3/lib/python3.11/site-packages/sklearn/linear_model/_coordinate_descent.py:695: ConvergenceWarning: Objective did not converge. You might want to increase the number of iterations, check the scale of the features or consider increasing regularisation. Duality gap: 1.221e+03, tolerance: 1.655e+00\n",
      "  model = cd_fast.enet_coordinate_descent(\n",
      "/Users/zsomborveres-lakos/anaconda3/lib/python3.11/site-packages/sklearn/linear_model/_coordinate_descent.py:695: ConvergenceWarning: Objective did not converge. You might want to increase the number of iterations, check the scale of the features or consider increasing regularisation. Duality gap: 1.897e+03, tolerance: 1.643e+00\n",
      "  model = cd_fast.enet_coordinate_descent(\n",
      "/Users/zsomborveres-lakos/anaconda3/lib/python3.11/site-packages/sklearn/linear_model/_coordinate_descent.py:695: ConvergenceWarning: Objective did not converge. You might want to increase the number of iterations, check the scale of the features or consider increasing regularisation. Duality gap: 1.982e+03, tolerance: 1.658e+00\n",
      "  model = cd_fast.enet_coordinate_descent(\n",
      "/Users/zsomborveres-lakos/anaconda3/lib/python3.11/site-packages/sklearn/linear_model/_coordinate_descent.py:695: ConvergenceWarning: Objective did not converge. You might want to increase the number of iterations, check the scale of the features or consider increasing regularisation. Duality gap: 1.357e+03, tolerance: 1.654e+00\n",
      "  model = cd_fast.enet_coordinate_descent(\n",
      "/Users/zsomborveres-lakos/anaconda3/lib/python3.11/site-packages/sklearn/linear_model/_coordinate_descent.py:695: ConvergenceWarning: Objective did not converge. You might want to increase the number of iterations, check the scale of the features or consider increasing regularisation. Duality gap: 1.249e+03, tolerance: 1.669e+00\n",
      "  model = cd_fast.enet_coordinate_descent(\n",
      "/Users/zsomborveres-lakos/anaconda3/lib/python3.11/site-packages/sklearn/linear_model/_coordinate_descent.py:695: ConvergenceWarning: Objective did not converge. You might want to increase the number of iterations, check the scale of the features or consider increasing regularisation. Duality gap: 1.173e+03, tolerance: 1.658e+00\n",
      "  model = cd_fast.enet_coordinate_descent(\n",
      "/Users/zsomborveres-lakos/anaconda3/lib/python3.11/site-packages/sklearn/linear_model/_coordinate_descent.py:695: ConvergenceWarning: Objective did not converge. You might want to increase the number of iterations, check the scale of the features or consider increasing regularisation. Duality gap: 1.155e+03, tolerance: 1.640e+00\n",
      "  model = cd_fast.enet_coordinate_descent(\n",
      "/Users/zsomborveres-lakos/anaconda3/lib/python3.11/site-packages/sklearn/linear_model/_coordinate_descent.py:695: ConvergenceWarning: Objective did not converge. You might want to increase the number of iterations, check the scale of the features or consider increasing regularisation. Duality gap: 1.142e+03, tolerance: 1.642e+00\n",
      "  model = cd_fast.enet_coordinate_descent(\n",
      "/Users/zsomborveres-lakos/anaconda3/lib/python3.11/site-packages/sklearn/linear_model/_coordinate_descent.py:695: ConvergenceWarning: Objective did not converge. You might want to increase the number of iterations, check the scale of the features or consider increasing regularisation. Duality gap: 9.949e+02, tolerance: 1.663e+00\n",
      "  model = cd_fast.enet_coordinate_descent(\n",
      "/Users/zsomborveres-lakos/anaconda3/lib/python3.11/site-packages/sklearn/linear_model/_coordinate_descent.py:695: ConvergenceWarning: Objective did not converge. You might want to increase the number of iterations, check the scale of the features or consider increasing regularisation. Duality gap: 1.179e+03, tolerance: 1.648e+00\n",
      "  model = cd_fast.enet_coordinate_descent(\n",
      "/Users/zsomborveres-lakos/anaconda3/lib/python3.11/site-packages/sklearn/linear_model/_coordinate_descent.py:695: ConvergenceWarning: Objective did not converge. You might want to increase the number of iterations, check the scale of the features or consider increasing regularisation. Duality gap: 1.430e+03, tolerance: 1.655e+00\n",
      "  model = cd_fast.enet_coordinate_descent(\n",
      "/Users/zsomborveres-lakos/anaconda3/lib/python3.11/site-packages/sklearn/linear_model/_coordinate_descent.py:695: ConvergenceWarning: Objective did not converge. You might want to increase the number of iterations, check the scale of the features or consider increasing regularisation. Duality gap: 1.252e+03, tolerance: 1.643e+00\n",
      "  model = cd_fast.enet_coordinate_descent(\n",
      "/Users/zsomborveres-lakos/anaconda3/lib/python3.11/site-packages/sklearn/linear_model/_coordinate_descent.py:695: ConvergenceWarning: Objective did not converge. You might want to increase the number of iterations, check the scale of the features or consider increasing regularisation. Duality gap: 1.415e+03, tolerance: 1.658e+00\n",
      "  model = cd_fast.enet_coordinate_descent(\n",
      "/Users/zsomborveres-lakos/anaconda3/lib/python3.11/site-packages/sklearn/linear_model/_coordinate_descent.py:695: ConvergenceWarning: Objective did not converge. You might want to increase the number of iterations, check the scale of the features or consider increasing regularisation. Duality gap: 7.234e+02, tolerance: 1.654e+00\n",
      "  model = cd_fast.enet_coordinate_descent(\n",
      "/Users/zsomborveres-lakos/anaconda3/lib/python3.11/site-packages/sklearn/linear_model/_coordinate_descent.py:695: ConvergenceWarning: Objective did not converge. You might want to increase the number of iterations, check the scale of the features or consider increasing regularisation. Duality gap: 1.164e+03, tolerance: 1.669e+00\n",
      "  model = cd_fast.enet_coordinate_descent(\n",
      "/Users/zsomborveres-lakos/anaconda3/lib/python3.11/site-packages/sklearn/linear_model/_coordinate_descent.py:695: ConvergenceWarning: Objective did not converge. You might want to increase the number of iterations, check the scale of the features or consider increasing regularisation. Duality gap: 1.327e+03, tolerance: 1.658e+00\n",
      "  model = cd_fast.enet_coordinate_descent(\n",
      "/Users/zsomborveres-lakos/anaconda3/lib/python3.11/site-packages/sklearn/linear_model/_coordinate_descent.py:695: ConvergenceWarning: Objective did not converge. You might want to increase the number of iterations, check the scale of the features or consider increasing regularisation. Duality gap: 1.460e+03, tolerance: 1.640e+00\n",
      "  model = cd_fast.enet_coordinate_descent(\n",
      "/Users/zsomborveres-lakos/anaconda3/lib/python3.11/site-packages/sklearn/linear_model/_coordinate_descent.py:695: ConvergenceWarning: Objective did not converge. You might want to increase the number of iterations, check the scale of the features or consider increasing regularisation. Duality gap: 1.424e+03, tolerance: 1.642e+00\n",
      "  model = cd_fast.enet_coordinate_descent(\n",
      "/Users/zsomborveres-lakos/anaconda3/lib/python3.11/site-packages/sklearn/linear_model/_coordinate_descent.py:695: ConvergenceWarning: Objective did not converge. You might want to increase the number of iterations, check the scale of the features or consider increasing regularisation. Duality gap: 1.878e+03, tolerance: 1.663e+00\n",
      "  model = cd_fast.enet_coordinate_descent(\n",
      "/Users/zsomborveres-lakos/anaconda3/lib/python3.11/site-packages/sklearn/linear_model/_coordinate_descent.py:695: ConvergenceWarning: Objective did not converge. You might want to increase the number of iterations, check the scale of the features or consider increasing regularisation. Duality gap: 1.583e+03, tolerance: 1.648e+00\n",
      "  model = cd_fast.enet_coordinate_descent(\n",
      "/Users/zsomborveres-lakos/anaconda3/lib/python3.11/site-packages/sklearn/linear_model/_coordinate_descent.py:695: ConvergenceWarning: Objective did not converge. You might want to increase the number of iterations, check the scale of the features or consider increasing regularisation. Duality gap: 8.488e+02, tolerance: 1.655e+00\n",
      "  model = cd_fast.enet_coordinate_descent(\n",
      "/Users/zsomborveres-lakos/anaconda3/lib/python3.11/site-packages/sklearn/linear_model/_coordinate_descent.py:695: ConvergenceWarning: Objective did not converge. You might want to increase the number of iterations, check the scale of the features or consider increasing regularisation. Duality gap: 1.273e+03, tolerance: 1.643e+00\n",
      "  model = cd_fast.enet_coordinate_descent(\n",
      "/Users/zsomborveres-lakos/anaconda3/lib/python3.11/site-packages/sklearn/linear_model/_coordinate_descent.py:695: ConvergenceWarning: Objective did not converge. You might want to increase the number of iterations, check the scale of the features or consider increasing regularisation. Duality gap: 1.378e+03, tolerance: 1.658e+00\n",
      "  model = cd_fast.enet_coordinate_descent(\n",
      "/Users/zsomborveres-lakos/anaconda3/lib/python3.11/site-packages/sklearn/linear_model/_coordinate_descent.py:695: ConvergenceWarning: Objective did not converge. You might want to increase the number of iterations, check the scale of the features or consider increasing regularisation. Duality gap: 9.322e+02, tolerance: 1.654e+00\n",
      "  model = cd_fast.enet_coordinate_descent(\n",
      "/Users/zsomborveres-lakos/anaconda3/lib/python3.11/site-packages/sklearn/linear_model/_coordinate_descent.py:695: ConvergenceWarning: Objective did not converge. You might want to increase the number of iterations, check the scale of the features or consider increasing regularisation. Duality gap: 8.408e+02, tolerance: 1.669e+00\n",
      "  model = cd_fast.enet_coordinate_descent(\n",
      "/Users/zsomborveres-lakos/anaconda3/lib/python3.11/site-packages/sklearn/linear_model/_coordinate_descent.py:695: ConvergenceWarning: Objective did not converge. You might want to increase the number of iterations, check the scale of the features or consider increasing regularisation. Duality gap: 8.764e+02, tolerance: 1.658e+00\n",
      "  model = cd_fast.enet_coordinate_descent(\n",
      "/Users/zsomborveres-lakos/anaconda3/lib/python3.11/site-packages/sklearn/linear_model/_coordinate_descent.py:695: ConvergenceWarning: Objective did not converge. You might want to increase the number of iterations, check the scale of the features or consider increasing regularisation. Duality gap: 9.637e+02, tolerance: 1.640e+00\n",
      "  model = cd_fast.enet_coordinate_descent(\n",
      "/Users/zsomborveres-lakos/anaconda3/lib/python3.11/site-packages/sklearn/linear_model/_coordinate_descent.py:695: ConvergenceWarning: Objective did not converge. You might want to increase the number of iterations, check the scale of the features or consider increasing regularisation. Duality gap: 8.265e+02, tolerance: 1.642e+00\n",
      "  model = cd_fast.enet_coordinate_descent(\n",
      "/Users/zsomborveres-lakos/anaconda3/lib/python3.11/site-packages/sklearn/linear_model/_coordinate_descent.py:695: ConvergenceWarning: Objective did not converge. You might want to increase the number of iterations, check the scale of the features or consider increasing regularisation. Duality gap: 7.561e+02, tolerance: 1.663e+00\n",
      "  model = cd_fast.enet_coordinate_descent(\n",
      "/Users/zsomborveres-lakos/anaconda3/lib/python3.11/site-packages/sklearn/linear_model/_coordinate_descent.py:695: ConvergenceWarning: Objective did not converge. You might want to increase the number of iterations, check the scale of the features or consider increasing regularisation. Duality gap: 7.899e+02, tolerance: 1.648e+00\n",
      "  model = cd_fast.enet_coordinate_descent(\n",
      "/Users/zsomborveres-lakos/anaconda3/lib/python3.11/site-packages/sklearn/linear_model/_coordinate_descent.py:695: ConvergenceWarning: Objective did not converge. You might want to increase the number of iterations, check the scale of the features or consider increasing regularisation. Duality gap: 8.557e+02, tolerance: 1.655e+00\n",
      "  model = cd_fast.enet_coordinate_descent(\n",
      "/Users/zsomborveres-lakos/anaconda3/lib/python3.11/site-packages/sklearn/linear_model/_coordinate_descent.py:695: ConvergenceWarning: Objective did not converge. You might want to increase the number of iterations, check the scale of the features or consider increasing regularisation. Duality gap: 9.587e+02, tolerance: 1.643e+00\n",
      "  model = cd_fast.enet_coordinate_descent(\n",
      "/Users/zsomborveres-lakos/anaconda3/lib/python3.11/site-packages/sklearn/linear_model/_coordinate_descent.py:695: ConvergenceWarning: Objective did not converge. You might want to increase the number of iterations, check the scale of the features or consider increasing regularisation. Duality gap: 1.050e+03, tolerance: 1.658e+00\n",
      "  model = cd_fast.enet_coordinate_descent(\n",
      "/Users/zsomborveres-lakos/anaconda3/lib/python3.11/site-packages/sklearn/linear_model/_coordinate_descent.py:695: ConvergenceWarning: Objective did not converge. You might want to increase the number of iterations, check the scale of the features or consider increasing regularisation. Duality gap: 7.120e+02, tolerance: 1.669e+00\n",
      "  model = cd_fast.enet_coordinate_descent(\n",
      "/Users/zsomborveres-lakos/anaconda3/lib/python3.11/site-packages/sklearn/linear_model/_coordinate_descent.py:695: ConvergenceWarning: Objective did not converge. You might want to increase the number of iterations, check the scale of the features or consider increasing regularisation. Duality gap: 3.057e+02, tolerance: 1.654e+00\n",
      "  model = cd_fast.enet_coordinate_descent(\n",
      "/Users/zsomborveres-lakos/anaconda3/lib/python3.11/site-packages/sklearn/linear_model/_coordinate_descent.py:695: ConvergenceWarning: Objective did not converge. You might want to increase the number of iterations, check the scale of the features or consider increasing regularisation. Duality gap: 8.074e+02, tolerance: 1.640e+00\n",
      "  model = cd_fast.enet_coordinate_descent(\n",
      "/Users/zsomborveres-lakos/anaconda3/lib/python3.11/site-packages/sklearn/linear_model/_coordinate_descent.py:695: ConvergenceWarning: Objective did not converge. You might want to increase the number of iterations, check the scale of the features or consider increasing regularisation. Duality gap: 6.499e+02, tolerance: 1.658e+00\n",
      "  model = cd_fast.enet_coordinate_descent(\n",
      "/Users/zsomborveres-lakos/anaconda3/lib/python3.11/site-packages/sklearn/linear_model/_coordinate_descent.py:695: ConvergenceWarning: Objective did not converge. You might want to increase the number of iterations, check the scale of the features or consider increasing regularisation. Duality gap: 7.674e+02, tolerance: 1.642e+00\n",
      "  model = cd_fast.enet_coordinate_descent(\n",
      "/Users/zsomborveres-lakos/anaconda3/lib/python3.11/site-packages/sklearn/linear_model/_coordinate_descent.py:695: ConvergenceWarning: Objective did not converge. You might want to increase the number of iterations, check the scale of the features or consider increasing regularisation. Duality gap: 1.366e+03, tolerance: 1.663e+00\n",
      "  model = cd_fast.enet_coordinate_descent(\n",
      "/Users/zsomborveres-lakos/anaconda3/lib/python3.11/site-packages/sklearn/linear_model/_coordinate_descent.py:695: ConvergenceWarning: Objective did not converge. You might want to increase the number of iterations, check the scale of the features or consider increasing regularisation. Duality gap: 8.970e+02, tolerance: 1.648e+00\n",
      "  model = cd_fast.enet_coordinate_descent(\n",
      "/Users/zsomborveres-lakos/anaconda3/lib/python3.11/site-packages/sklearn/linear_model/_coordinate_descent.py:695: ConvergenceWarning: Objective did not converge. You might want to increase the number of iterations, check the scale of the features or consider increasing regularisation. Duality gap: 4.363e+02, tolerance: 1.655e+00\n",
      "  model = cd_fast.enet_coordinate_descent(\n",
      "/Users/zsomborveres-lakos/anaconda3/lib/python3.11/site-packages/sklearn/linear_model/_coordinate_descent.py:695: ConvergenceWarning: Objective did not converge. You might want to increase the number of iterations, check the scale of the features or consider increasing regularisation. Duality gap: 6.670e+02, tolerance: 1.643e+00\n",
      "  model = cd_fast.enet_coordinate_descent(\n",
      "/Users/zsomborveres-lakos/anaconda3/lib/python3.11/site-packages/sklearn/linear_model/_coordinate_descent.py:695: ConvergenceWarning: Objective did not converge. You might want to increase the number of iterations, check the scale of the features or consider increasing regularisation. Duality gap: 6.507e+02, tolerance: 1.658e+00\n",
      "  model = cd_fast.enet_coordinate_descent(\n",
      "/Users/zsomborveres-lakos/anaconda3/lib/python3.11/site-packages/sklearn/linear_model/_coordinate_descent.py:695: ConvergenceWarning: Objective did not converge. You might want to increase the number of iterations, check the scale of the features or consider increasing regularisation. Duality gap: 4.636e+02, tolerance: 1.654e+00\n",
      "  model = cd_fast.enet_coordinate_descent(\n",
      "/Users/zsomborveres-lakos/anaconda3/lib/python3.11/site-packages/sklearn/linear_model/_coordinate_descent.py:695: ConvergenceWarning: Objective did not converge. You might want to increase the number of iterations, check the scale of the features or consider increasing regularisation. Duality gap: 3.146e+02, tolerance: 1.669e+00\n",
      "  model = cd_fast.enet_coordinate_descent(\n",
      "/Users/zsomborveres-lakos/anaconda3/lib/python3.11/site-packages/sklearn/linear_model/_coordinate_descent.py:695: ConvergenceWarning: Objective did not converge. You might want to increase the number of iterations, check the scale of the features or consider increasing regularisation. Duality gap: 6.242e+02, tolerance: 1.658e+00\n",
      "  model = cd_fast.enet_coordinate_descent(\n",
      "/Users/zsomborveres-lakos/anaconda3/lib/python3.11/site-packages/sklearn/linear_model/_coordinate_descent.py:695: ConvergenceWarning: Objective did not converge. You might want to increase the number of iterations, check the scale of the features or consider increasing regularisation. Duality gap: 6.433e+02, tolerance: 1.640e+00\n",
      "  model = cd_fast.enet_coordinate_descent(\n",
      "/Users/zsomborveres-lakos/anaconda3/lib/python3.11/site-packages/sklearn/linear_model/_coordinate_descent.py:695: ConvergenceWarning: Objective did not converge. You might want to increase the number of iterations, check the scale of the features or consider increasing regularisation. Duality gap: 6.068e+02, tolerance: 1.642e+00\n",
      "  model = cd_fast.enet_coordinate_descent(\n",
      "/Users/zsomborveres-lakos/anaconda3/lib/python3.11/site-packages/sklearn/linear_model/_coordinate_descent.py:695: ConvergenceWarning: Objective did not converge. You might want to increase the number of iterations, check the scale of the features or consider increasing regularisation. Duality gap: 7.245e+02, tolerance: 1.663e+00\n",
      "  model = cd_fast.enet_coordinate_descent(\n",
      "/Users/zsomborveres-lakos/anaconda3/lib/python3.11/site-packages/sklearn/linear_model/_coordinate_descent.py:695: ConvergenceWarning: Objective did not converge. You might want to increase the number of iterations, check the scale of the features or consider increasing regularisation. Duality gap: 4.239e+02, tolerance: 1.655e+00\n",
      "  model = cd_fast.enet_coordinate_descent(\n",
      "/Users/zsomborveres-lakos/anaconda3/lib/python3.11/site-packages/sklearn/linear_model/_coordinate_descent.py:695: ConvergenceWarning: Objective did not converge. You might want to increase the number of iterations, check the scale of the features or consider increasing regularisation. Duality gap: 6.994e+02, tolerance: 1.648e+00\n",
      "  model = cd_fast.enet_coordinate_descent(\n",
      "/Users/zsomborveres-lakos/anaconda3/lib/python3.11/site-packages/sklearn/linear_model/_coordinate_descent.py:695: ConvergenceWarning: Objective did not converge. You might want to increase the number of iterations, check the scale of the features or consider increasing regularisation. Duality gap: 5.352e+02, tolerance: 1.643e+00\n",
      "  model = cd_fast.enet_coordinate_descent(\n",
      "/Users/zsomborveres-lakos/anaconda3/lib/python3.11/site-packages/sklearn/linear_model/_coordinate_descent.py:695: ConvergenceWarning: Objective did not converge. You might want to increase the number of iterations, check the scale of the features or consider increasing regularisation. Duality gap: 5.542e+02, tolerance: 1.658e+00\n",
      "  model = cd_fast.enet_coordinate_descent(\n",
      "/Users/zsomborveres-lakos/anaconda3/lib/python3.11/site-packages/sklearn/linear_model/_coordinate_descent.py:695: ConvergenceWarning: Objective did not converge. You might want to increase the number of iterations, check the scale of the features or consider increasing regularisation. Duality gap: 1.765e+02, tolerance: 1.654e+00\n",
      "  model = cd_fast.enet_coordinate_descent(\n",
      "/Users/zsomborveres-lakos/anaconda3/lib/python3.11/site-packages/sklearn/linear_model/_coordinate_descent.py:695: ConvergenceWarning: Objective did not converge. You might want to increase the number of iterations, check the scale of the features or consider increasing regularisation. Duality gap: 2.988e+02, tolerance: 1.669e+00\n",
      "  model = cd_fast.enet_coordinate_descent(\n",
      "/Users/zsomborveres-lakos/anaconda3/lib/python3.11/site-packages/sklearn/linear_model/_coordinate_descent.py:695: ConvergenceWarning: Objective did not converge. You might want to increase the number of iterations, check the scale of the features or consider increasing regularisation. Duality gap: 1.145e+02, tolerance: 1.658e+00\n",
      "  model = cd_fast.enet_coordinate_descent(\n",
      "/Users/zsomborveres-lakos/anaconda3/lib/python3.11/site-packages/sklearn/linear_model/_coordinate_descent.py:695: ConvergenceWarning: Objective did not converge. You might want to increase the number of iterations, check the scale of the features or consider increasing regularisation. Duality gap: 1.460e+02, tolerance: 1.640e+00\n",
      "  model = cd_fast.enet_coordinate_descent(\n",
      "/Users/zsomborveres-lakos/anaconda3/lib/python3.11/site-packages/sklearn/linear_model/_coordinate_descent.py:695: ConvergenceWarning: Objective did not converge. You might want to increase the number of iterations, check the scale of the features or consider increasing regularisation. Duality gap: 2.289e+02, tolerance: 1.642e+00\n",
      "  model = cd_fast.enet_coordinate_descent(\n",
      "/Users/zsomborveres-lakos/anaconda3/lib/python3.11/site-packages/sklearn/linear_model/_coordinate_descent.py:695: ConvergenceWarning: Objective did not converge. You might want to increase the number of iterations, check the scale of the features or consider increasing regularisation. Duality gap: 7.192e+02, tolerance: 1.663e+00\n",
      "  model = cd_fast.enet_coordinate_descent(\n",
      "/Users/zsomborveres-lakos/anaconda3/lib/python3.11/site-packages/sklearn/linear_model/_coordinate_descent.py:695: ConvergenceWarning: Objective did not converge. You might want to increase the number of iterations, check the scale of the features or consider increasing regularisation. Duality gap: 2.030e+02, tolerance: 1.648e+00\n",
      "  model = cd_fast.enet_coordinate_descent(\n",
      "/Users/zsomborveres-lakos/anaconda3/lib/python3.11/site-packages/sklearn/linear_model/_coordinate_descent.py:695: ConvergenceWarning: Objective did not converge. You might want to increase the number of iterations, check the scale of the features or consider increasing regularisation. Duality gap: 1.689e+02, tolerance: 1.655e+00\n",
      "  model = cd_fast.enet_coordinate_descent(\n",
      "/Users/zsomborveres-lakos/anaconda3/lib/python3.11/site-packages/sklearn/linear_model/_coordinate_descent.py:695: ConvergenceWarning: Objective did not converge. You might want to increase the number of iterations, check the scale of the features or consider increasing regularisation. Duality gap: 1.525e+02, tolerance: 1.643e+00\n",
      "  model = cd_fast.enet_coordinate_descent(\n",
      "/Users/zsomborveres-lakos/anaconda3/lib/python3.11/site-packages/sklearn/linear_model/_coordinate_descent.py:695: ConvergenceWarning: Objective did not converge. You might want to increase the number of iterations, check the scale of the features or consider increasing regularisation. Duality gap: 1.443e+02, tolerance: 1.658e+00\n",
      "  model = cd_fast.enet_coordinate_descent(\n",
      "/Users/zsomborveres-lakos/anaconda3/lib/python3.11/site-packages/sklearn/linear_model/_coordinate_descent.py:695: ConvergenceWarning: Objective did not converge. You might want to increase the number of iterations, check the scale of the features or consider increasing regularisation. Duality gap: 2.357e+02, tolerance: 1.654e+00\n",
      "  model = cd_fast.enet_coordinate_descent(\n",
      "/Users/zsomborveres-lakos/anaconda3/lib/python3.11/site-packages/sklearn/linear_model/_coordinate_descent.py:695: ConvergenceWarning: Objective did not converge. You might want to increase the number of iterations, check the scale of the features or consider increasing regularisation. Duality gap: 1.098e+02, tolerance: 1.669e+00\n",
      "  model = cd_fast.enet_coordinate_descent(\n",
      "/Users/zsomborveres-lakos/anaconda3/lib/python3.11/site-packages/sklearn/linear_model/_coordinate_descent.py:695: ConvergenceWarning: Objective did not converge. You might want to increase the number of iterations, check the scale of the features or consider increasing regularisation. Duality gap: 5.488e+02, tolerance: 1.658e+00\n",
      "  model = cd_fast.enet_coordinate_descent(\n",
      "/Users/zsomborveres-lakos/anaconda3/lib/python3.11/site-packages/sklearn/linear_model/_coordinate_descent.py:695: ConvergenceWarning: Objective did not converge. You might want to increase the number of iterations, check the scale of the features or consider increasing regularisation. Duality gap: 6.006e+02, tolerance: 1.640e+00\n",
      "  model = cd_fast.enet_coordinate_descent(\n",
      "/Users/zsomborveres-lakos/anaconda3/lib/python3.11/site-packages/sklearn/linear_model/_coordinate_descent.py:695: ConvergenceWarning: Objective did not converge. You might want to increase the number of iterations, check the scale of the features or consider increasing regularisation. Duality gap: 5.797e+02, tolerance: 1.642e+00\n",
      "  model = cd_fast.enet_coordinate_descent(\n",
      "/Users/zsomborveres-lakos/anaconda3/lib/python3.11/site-packages/sklearn/linear_model/_coordinate_descent.py:695: ConvergenceWarning: Objective did not converge. You might want to increase the number of iterations, check the scale of the features or consider increasing regularisation. Duality gap: 2.776e+02, tolerance: 1.663e+00\n",
      "  model = cd_fast.enet_coordinate_descent(\n",
      "/Users/zsomborveres-lakos/anaconda3/lib/python3.11/site-packages/sklearn/linear_model/_coordinate_descent.py:695: ConvergenceWarning: Objective did not converge. You might want to increase the number of iterations, check the scale of the features or consider increasing regularisation. Duality gap: 6.016e+02, tolerance: 1.648e+00\n",
      "  model = cd_fast.enet_coordinate_descent(\n",
      "/Users/zsomborveres-lakos/anaconda3/lib/python3.11/site-packages/sklearn/linear_model/_coordinate_descent.py:695: ConvergenceWarning: Objective did not converge. You might want to increase the number of iterations, check the scale of the features or consider increasing regularisation. Duality gap: 2.433e+02, tolerance: 1.655e+00\n",
      "  model = cd_fast.enet_coordinate_descent(\n",
      "/Users/zsomborveres-lakos/anaconda3/lib/python3.11/site-packages/sklearn/linear_model/_coordinate_descent.py:695: ConvergenceWarning: Objective did not converge. You might want to increase the number of iterations, check the scale of the features or consider increasing regularisation. Duality gap: 5.016e+02, tolerance: 1.643e+00\n",
      "  model = cd_fast.enet_coordinate_descent(\n",
      "/Users/zsomborveres-lakos/anaconda3/lib/python3.11/site-packages/sklearn/linear_model/_coordinate_descent.py:695: ConvergenceWarning: Objective did not converge. You might want to increase the number of iterations, check the scale of the features or consider increasing regularisation. Duality gap: 5.485e+02, tolerance: 1.658e+00\n",
      "  model = cd_fast.enet_coordinate_descent(\n",
      "/Users/zsomborveres-lakos/anaconda3/lib/python3.11/site-packages/sklearn/linear_model/_coordinate_descent.py:695: ConvergenceWarning: Objective did not converge. You might want to increase the number of iterations, check the scale of the features or consider increasing regularisation. Duality gap: 7.885e+01, tolerance: 1.654e+00\n",
      "  model = cd_fast.enet_coordinate_descent(\n",
      "/Users/zsomborveres-lakos/anaconda3/lib/python3.11/site-packages/sklearn/linear_model/_coordinate_descent.py:695: ConvergenceWarning: Objective did not converge. You might want to increase the number of iterations, check the scale of the features or consider increasing regularisation. Duality gap: 1.022e+02, tolerance: 1.669e+00\n",
      "  model = cd_fast.enet_coordinate_descent(\n",
      "/Users/zsomborveres-lakos/anaconda3/lib/python3.11/site-packages/sklearn/linear_model/_coordinate_descent.py:695: ConvergenceWarning: Objective did not converge. You might want to increase the number of iterations, check the scale of the features or consider increasing regularisation. Duality gap: 5.245e+01, tolerance: 1.658e+00\n",
      "  model = cd_fast.enet_coordinate_descent(\n",
      "/Users/zsomborveres-lakos/anaconda3/lib/python3.11/site-packages/sklearn/linear_model/_coordinate_descent.py:695: ConvergenceWarning: Objective did not converge. You might want to increase the number of iterations, check the scale of the features or consider increasing regularisation. Duality gap: 5.916e+01, tolerance: 1.640e+00\n",
      "  model = cd_fast.enet_coordinate_descent(\n",
      "/Users/zsomborveres-lakos/anaconda3/lib/python3.11/site-packages/sklearn/linear_model/_coordinate_descent.py:695: ConvergenceWarning: Objective did not converge. You might want to increase the number of iterations, check the scale of the features or consider increasing regularisation. Duality gap: 6.988e+01, tolerance: 1.642e+00\n",
      "  model = cd_fast.enet_coordinate_descent(\n",
      "/Users/zsomborveres-lakos/anaconda3/lib/python3.11/site-packages/sklearn/linear_model/_coordinate_descent.py:695: ConvergenceWarning: Objective did not converge. You might want to increase the number of iterations, check the scale of the features or consider increasing regularisation. Duality gap: 5.924e+01, tolerance: 1.663e+00\n",
      "  model = cd_fast.enet_coordinate_descent(\n",
      "/Users/zsomborveres-lakos/anaconda3/lib/python3.11/site-packages/sklearn/linear_model/_coordinate_descent.py:695: ConvergenceWarning: Objective did not converge. You might want to increase the number of iterations, check the scale of the features or consider increasing regularisation. Duality gap: 6.578e+01, tolerance: 1.648e+00\n",
      "  model = cd_fast.enet_coordinate_descent(\n",
      "/Users/zsomborveres-lakos/anaconda3/lib/python3.11/site-packages/sklearn/linear_model/_coordinate_descent.py:695: ConvergenceWarning: Objective did not converge. You might want to increase the number of iterations, check the scale of the features or consider increasing regularisation. Duality gap: 7.442e+01, tolerance: 1.655e+00\n",
      "  model = cd_fast.enet_coordinate_descent(\n",
      "/Users/zsomborveres-lakos/anaconda3/lib/python3.11/site-packages/sklearn/linear_model/_coordinate_descent.py:695: ConvergenceWarning: Objective did not converge. You might want to increase the number of iterations, check the scale of the features or consider increasing regularisation. Duality gap: 7.132e+01, tolerance: 1.643e+00\n",
      "  model = cd_fast.enet_coordinate_descent(\n",
      "/Users/zsomborveres-lakos/anaconda3/lib/python3.11/site-packages/sklearn/linear_model/_coordinate_descent.py:695: ConvergenceWarning: Objective did not converge. You might want to increase the number of iterations, check the scale of the features or consider increasing regularisation. Duality gap: 5.572e+01, tolerance: 1.658e+00\n",
      "  model = cd_fast.enet_coordinate_descent(\n",
      "/Users/zsomborveres-lakos/anaconda3/lib/python3.11/site-packages/sklearn/linear_model/_coordinate_descent.py:695: ConvergenceWarning: Objective did not converge. You might want to increase the number of iterations, check the scale of the features or consider increasing regularisation. Duality gap: 7.858e+01, tolerance: 1.654e+00\n",
      "  model = cd_fast.enet_coordinate_descent(\n",
      "/Users/zsomborveres-lakos/anaconda3/lib/python3.11/site-packages/sklearn/linear_model/_coordinate_descent.py:695: ConvergenceWarning: Objective did not converge. You might want to increase the number of iterations, check the scale of the features or consider increasing regularisation. Duality gap: 2.402e+02, tolerance: 1.669e+00\n",
      "  model = cd_fast.enet_coordinate_descent(\n",
      "/Users/zsomborveres-lakos/anaconda3/lib/python3.11/site-packages/sklearn/linear_model/_coordinate_descent.py:695: ConvergenceWarning: Objective did not converge. You might want to increase the number of iterations, check the scale of the features or consider increasing regularisation. Duality gap: 1.890e+02, tolerance: 1.658e+00\n",
      "  model = cd_fast.enet_coordinate_descent(\n",
      "/Users/zsomborveres-lakos/anaconda3/lib/python3.11/site-packages/sklearn/linear_model/_coordinate_descent.py:695: ConvergenceWarning: Objective did not converge. You might want to increase the number of iterations, check the scale of the features or consider increasing regularisation. Duality gap: 1.931e+02, tolerance: 1.640e+00\n",
      "  model = cd_fast.enet_coordinate_descent(\n",
      "/Users/zsomborveres-lakos/anaconda3/lib/python3.11/site-packages/sklearn/linear_model/_coordinate_descent.py:695: ConvergenceWarning: Objective did not converge. You might want to increase the number of iterations, check the scale of the features or consider increasing regularisation. Duality gap: 2.741e+02, tolerance: 1.642e+00\n",
      "  model = cd_fast.enet_coordinate_descent(\n",
      "/Users/zsomborveres-lakos/anaconda3/lib/python3.11/site-packages/sklearn/linear_model/_coordinate_descent.py:695: ConvergenceWarning: Objective did not converge. You might want to increase the number of iterations, check the scale of the features or consider increasing regularisation. Duality gap: 9.851e+01, tolerance: 1.663e+00\n",
      "  model = cd_fast.enet_coordinate_descent(\n",
      "/Users/zsomborveres-lakos/anaconda3/lib/python3.11/site-packages/sklearn/linear_model/_coordinate_descent.py:695: ConvergenceWarning: Objective did not converge. You might want to increase the number of iterations, check the scale of the features or consider increasing regularisation. Duality gap: 7.251e+01, tolerance: 1.655e+00\n",
      "  model = cd_fast.enet_coordinate_descent(\n",
      "/Users/zsomborveres-lakos/anaconda3/lib/python3.11/site-packages/sklearn/linear_model/_coordinate_descent.py:695: ConvergenceWarning: Objective did not converge. You might want to increase the number of iterations, check the scale of the features or consider increasing regularisation. Duality gap: 2.516e+02, tolerance: 1.648e+00\n",
      "  model = cd_fast.enet_coordinate_descent(\n",
      "/Users/zsomborveres-lakos/anaconda3/lib/python3.11/site-packages/sklearn/linear_model/_coordinate_descent.py:695: ConvergenceWarning: Objective did not converge. You might want to increase the number of iterations, check the scale of the features or consider increasing regularisation. Duality gap: 2.532e+02, tolerance: 1.643e+00\n",
      "  model = cd_fast.enet_coordinate_descent(\n",
      "/Users/zsomborveres-lakos/anaconda3/lib/python3.11/site-packages/sklearn/linear_model/_coordinate_descent.py:695: ConvergenceWarning: Objective did not converge. You might want to increase the number of iterations, check the scale of the features or consider increasing regularisation. Duality gap: 1.962e+02, tolerance: 1.658e+00\n",
      "  model = cd_fast.enet_coordinate_descent(\n",
      "/Users/zsomborveres-lakos/anaconda3/lib/python3.11/site-packages/sklearn/linear_model/_coordinate_descent.py:695: ConvergenceWarning: Objective did not converge. You might want to increase the number of iterations, check the scale of the features or consider increasing regularisation. Duality gap: 4.644e+01, tolerance: 1.654e+00\n",
      "  model = cd_fast.enet_coordinate_descent(\n",
      "/Users/zsomborveres-lakos/anaconda3/lib/python3.11/site-packages/sklearn/linear_model/_coordinate_descent.py:695: ConvergenceWarning: Objective did not converge. You might want to increase the number of iterations, check the scale of the features or consider increasing regularisation. Duality gap: 3.518e+01, tolerance: 1.669e+00\n",
      "  model = cd_fast.enet_coordinate_descent(\n",
      "/Users/zsomborveres-lakos/anaconda3/lib/python3.11/site-packages/sklearn/linear_model/_coordinate_descent.py:695: ConvergenceWarning: Objective did not converge. You might want to increase the number of iterations, check the scale of the features or consider increasing regularisation. Duality gap: 1.311e+01, tolerance: 1.658e+00\n",
      "  model = cd_fast.enet_coordinate_descent(\n",
      "/Users/zsomborveres-lakos/anaconda3/lib/python3.11/site-packages/sklearn/linear_model/_coordinate_descent.py:695: ConvergenceWarning: Objective did not converge. You might want to increase the number of iterations, check the scale of the features or consider increasing regularisation. Duality gap: 1.368e+01, tolerance: 1.640e+00\n",
      "  model = cd_fast.enet_coordinate_descent(\n",
      "/Users/zsomborveres-lakos/anaconda3/lib/python3.11/site-packages/sklearn/linear_model/_coordinate_descent.py:695: ConvergenceWarning: Objective did not converge. You might want to increase the number of iterations, check the scale of the features or consider increasing regularisation. Duality gap: 1.328e+01, tolerance: 1.642e+00\n",
      "  model = cd_fast.enet_coordinate_descent(\n",
      "/Users/zsomborveres-lakos/anaconda3/lib/python3.11/site-packages/sklearn/linear_model/_coordinate_descent.py:695: ConvergenceWarning: Objective did not converge. You might want to increase the number of iterations, check the scale of the features or consider increasing regularisation. Duality gap: 4.093e+00, tolerance: 1.663e+00\n",
      "  model = cd_fast.enet_coordinate_descent(\n",
      "/Users/zsomborveres-lakos/anaconda3/lib/python3.11/site-packages/sklearn/linear_model/_coordinate_descent.py:695: ConvergenceWarning: Objective did not converge. You might want to increase the number of iterations, check the scale of the features or consider increasing regularisation. Duality gap: 1.232e+01, tolerance: 1.648e+00\n",
      "  model = cd_fast.enet_coordinate_descent(\n",
      "/Users/zsomborveres-lakos/anaconda3/lib/python3.11/site-packages/sklearn/linear_model/_coordinate_descent.py:695: ConvergenceWarning: Objective did not converge. You might want to increase the number of iterations, check the scale of the features or consider increasing regularisation. Duality gap: 4.751e+01, tolerance: 1.655e+00\n",
      "  model = cd_fast.enet_coordinate_descent(\n",
      "/Users/zsomborveres-lakos/anaconda3/lib/python3.11/site-packages/sklearn/linear_model/_coordinate_descent.py:695: ConvergenceWarning: Objective did not converge. You might want to increase the number of iterations, check the scale of the features or consider increasing regularisation. Duality gap: 1.253e+01, tolerance: 1.643e+00\n",
      "  model = cd_fast.enet_coordinate_descent(\n",
      "/Users/zsomborveres-lakos/anaconda3/lib/python3.11/site-packages/sklearn/linear_model/_coordinate_descent.py:695: ConvergenceWarning: Objective did not converge. You might want to increase the number of iterations, check the scale of the features or consider increasing regularisation. Duality gap: 1.413e+01, tolerance: 1.658e+00\n",
      "  model = cd_fast.enet_coordinate_descent(\n",
      "/Users/zsomborveres-lakos/anaconda3/lib/python3.11/site-packages/sklearn/linear_model/_coordinate_descent.py:695: ConvergenceWarning: Objective did not converge. You might want to increase the number of iterations, check the scale of the features or consider increasing regularisation. Duality gap: 8.322e+01, tolerance: 1.654e+00\n",
      "  model = cd_fast.enet_coordinate_descent(\n",
      "/Users/zsomborveres-lakos/anaconda3/lib/python3.11/site-packages/sklearn/linear_model/_coordinate_descent.py:695: ConvergenceWarning: Objective did not converge. You might want to increase the number of iterations, check the scale of the features or consider increasing regularisation. Duality gap: 5.408e+01, tolerance: 1.669e+00\n",
      "  model = cd_fast.enet_coordinate_descent(\n",
      "/Users/zsomborveres-lakos/anaconda3/lib/python3.11/site-packages/sklearn/linear_model/_coordinate_descent.py:695: ConvergenceWarning: Objective did not converge. You might want to increase the number of iterations, check the scale of the features or consider increasing regularisation. Duality gap: 3.104e+01, tolerance: 1.658e+00\n",
      "  model = cd_fast.enet_coordinate_descent(\n",
      "/Users/zsomborveres-lakos/anaconda3/lib/python3.11/site-packages/sklearn/linear_model/_coordinate_descent.py:695: ConvergenceWarning: Objective did not converge. You might want to increase the number of iterations, check the scale of the features or consider increasing regularisation. Duality gap: 3.955e+01, tolerance: 1.640e+00\n",
      "  model = cd_fast.enet_coordinate_descent(\n",
      "/Users/zsomborveres-lakos/anaconda3/lib/python3.11/site-packages/sklearn/linear_model/_coordinate_descent.py:695: ConvergenceWarning: Objective did not converge. You might want to increase the number of iterations, check the scale of the features or consider increasing regularisation. Duality gap: 3.166e+01, tolerance: 1.642e+00\n",
      "  model = cd_fast.enet_coordinate_descent(\n",
      "/Users/zsomborveres-lakos/anaconda3/lib/python3.11/site-packages/sklearn/linear_model/_coordinate_descent.py:695: ConvergenceWarning: Objective did not converge. You might want to increase the number of iterations, check the scale of the features or consider increasing regularisation. Duality gap: 1.219e+02, tolerance: 1.663e+00\n",
      "  model = cd_fast.enet_coordinate_descent(\n",
      "/Users/zsomborveres-lakos/anaconda3/lib/python3.11/site-packages/sklearn/linear_model/_coordinate_descent.py:695: ConvergenceWarning: Objective did not converge. You might want to increase the number of iterations, check the scale of the features or consider increasing regularisation. Duality gap: 2.865e+01, tolerance: 1.648e+00\n",
      "  model = cd_fast.enet_coordinate_descent(\n",
      "/Users/zsomborveres-lakos/anaconda3/lib/python3.11/site-packages/sklearn/linear_model/_coordinate_descent.py:695: ConvergenceWarning: Objective did not converge. You might want to increase the number of iterations, check the scale of the features or consider increasing regularisation. Duality gap: 8.120e+01, tolerance: 1.655e+00\n",
      "  model = cd_fast.enet_coordinate_descent(\n",
      "/Users/zsomborveres-lakos/anaconda3/lib/python3.11/site-packages/sklearn/linear_model/_coordinate_descent.py:695: ConvergenceWarning: Objective did not converge. You might want to increase the number of iterations, check the scale of the features or consider increasing regularisation. Duality gap: 4.552e+01, tolerance: 1.643e+00\n",
      "  model = cd_fast.enet_coordinate_descent(\n",
      "/Users/zsomborveres-lakos/anaconda3/lib/python3.11/site-packages/sklearn/linear_model/_coordinate_descent.py:695: ConvergenceWarning: Objective did not converge. You might want to increase the number of iterations, check the scale of the features or consider increasing regularisation. Duality gap: 3.324e+01, tolerance: 1.658e+00\n",
      "  model = cd_fast.enet_coordinate_descent(\n",
      "/Users/zsomborveres-lakos/anaconda3/lib/python3.11/site-packages/sklearn/linear_model/_coordinate_descent.py:695: ConvergenceWarning: Objective did not converge. You might want to increase the number of iterations, check the scale of the features or consider increasing regularisation. Duality gap: 2.758e+01, tolerance: 1.654e+00\n",
      "  model = cd_fast.enet_coordinate_descent(\n",
      "/Users/zsomborveres-lakos/anaconda3/lib/python3.11/site-packages/sklearn/linear_model/_coordinate_descent.py:695: ConvergenceWarning: Objective did not converge. You might want to increase the number of iterations, check the scale of the features or consider increasing regularisation. Duality gap: 2.595e+01, tolerance: 1.669e+00\n",
      "  model = cd_fast.enet_coordinate_descent(\n",
      "/Users/zsomborveres-lakos/anaconda3/lib/python3.11/site-packages/sklearn/linear_model/_coordinate_descent.py:695: ConvergenceWarning: Objective did not converge. You might want to increase the number of iterations, check the scale of the features or consider increasing regularisation. Duality gap: 1.037e+01, tolerance: 1.658e+00\n",
      "  model = cd_fast.enet_coordinate_descent(\n",
      "/Users/zsomborveres-lakos/anaconda3/lib/python3.11/site-packages/sklearn/linear_model/_coordinate_descent.py:695: ConvergenceWarning: Objective did not converge. You might want to increase the number of iterations, check the scale of the features or consider increasing regularisation. Duality gap: 1.223e+01, tolerance: 1.642e+00\n",
      "  model = cd_fast.enet_coordinate_descent(\n",
      "/Users/zsomborveres-lakos/anaconda3/lib/python3.11/site-packages/sklearn/linear_model/_coordinate_descent.py:695: ConvergenceWarning: Objective did not converge. You might want to increase the number of iterations, check the scale of the features or consider increasing regularisation. Duality gap: 8.711e+00, tolerance: 1.663e+00\n",
      "  model = cd_fast.enet_coordinate_descent(\n",
      "/Users/zsomborveres-lakos/anaconda3/lib/python3.11/site-packages/sklearn/linear_model/_coordinate_descent.py:695: ConvergenceWarning: Objective did not converge. You might want to increase the number of iterations, check the scale of the features or consider increasing regularisation. Duality gap: 4.505e+00, tolerance: 1.648e+00\n",
      "  model = cd_fast.enet_coordinate_descent(\n",
      "/Users/zsomborveres-lakos/anaconda3/lib/python3.11/site-packages/sklearn/linear_model/_coordinate_descent.py:695: ConvergenceWarning: Objective did not converge. You might want to increase the number of iterations, check the scale of the features or consider increasing regularisation. Duality gap: 2.771e+01, tolerance: 1.655e+00\n",
      "  model = cd_fast.enet_coordinate_descent(\n",
      "/Users/zsomborveres-lakos/anaconda3/lib/python3.11/site-packages/sklearn/linear_model/_coordinate_descent.py:695: ConvergenceWarning: Objective did not converge. You might want to increase the number of iterations, check the scale of the features or consider increasing regularisation. Duality gap: 5.671e+00, tolerance: 1.658e+00\n",
      "  model = cd_fast.enet_coordinate_descent(\n",
      "/Users/zsomborveres-lakos/anaconda3/lib/python3.11/site-packages/sklearn/linear_model/_coordinate_descent.py:695: ConvergenceWarning: Objective did not converge. You might want to increase the number of iterations, check the scale of the features or consider increasing regularisation. Duality gap: 3.490e+01, tolerance: 1.654e+00\n",
      "  model = cd_fast.enet_coordinate_descent(\n",
      "/Users/zsomborveres-lakos/anaconda3/lib/python3.11/site-packages/sklearn/linear_model/_coordinate_descent.py:695: ConvergenceWarning: Objective did not converge. You might want to increase the number of iterations, check the scale of the features or consider increasing regularisation. Duality gap: 4.868e+01, tolerance: 1.669e+00\n",
      "  model = cd_fast.enet_coordinate_descent(\n",
      "/Users/zsomborveres-lakos/anaconda3/lib/python3.11/site-packages/sklearn/linear_model/_coordinate_descent.py:695: ConvergenceWarning: Objective did not converge. You might want to increase the number of iterations, check the scale of the features or consider increasing regularisation. Duality gap: 2.304e+01, tolerance: 1.658e+00\n",
      "  model = cd_fast.enet_coordinate_descent(\n",
      "/Users/zsomborveres-lakos/anaconda3/lib/python3.11/site-packages/sklearn/linear_model/_coordinate_descent.py:695: ConvergenceWarning: Objective did not converge. You might want to increase the number of iterations, check the scale of the features or consider increasing regularisation. Duality gap: 2.270e+01, tolerance: 1.640e+00\n",
      "  model = cd_fast.enet_coordinate_descent(\n",
      "/Users/zsomborveres-lakos/anaconda3/lib/python3.11/site-packages/sklearn/linear_model/_coordinate_descent.py:695: ConvergenceWarning: Objective did not converge. You might want to increase the number of iterations, check the scale of the features or consider increasing regularisation. Duality gap: 2.225e+01, tolerance: 1.642e+00\n",
      "  model = cd_fast.enet_coordinate_descent(\n",
      "/Users/zsomborveres-lakos/anaconda3/lib/python3.11/site-packages/sklearn/linear_model/_coordinate_descent.py:695: ConvergenceWarning: Objective did not converge. You might want to increase the number of iterations, check the scale of the features or consider increasing regularisation. Duality gap: 2.555e+00, tolerance: 1.663e+00\n",
      "  model = cd_fast.enet_coordinate_descent(\n",
      "/Users/zsomborveres-lakos/anaconda3/lib/python3.11/site-packages/sklearn/linear_model/_coordinate_descent.py:695: ConvergenceWarning: Objective did not converge. You might want to increase the number of iterations, check the scale of the features or consider increasing regularisation. Duality gap: 2.056e+01, tolerance: 1.648e+00\n",
      "  model = cd_fast.enet_coordinate_descent(\n",
      "/Users/zsomborveres-lakos/anaconda3/lib/python3.11/site-packages/sklearn/linear_model/_coordinate_descent.py:695: ConvergenceWarning: Objective did not converge. You might want to increase the number of iterations, check the scale of the features or consider increasing regularisation. Duality gap: 3.481e+01, tolerance: 1.655e+00\n",
      "  model = cd_fast.enet_coordinate_descent(\n",
      "/Users/zsomborveres-lakos/anaconda3/lib/python3.11/site-packages/sklearn/linear_model/_coordinate_descent.py:695: ConvergenceWarning: Objective did not converge. You might want to increase the number of iterations, check the scale of the features or consider increasing regularisation. Duality gap: 2.218e+01, tolerance: 1.643e+00\n",
      "  model = cd_fast.enet_coordinate_descent(\n",
      "/Users/zsomborveres-lakos/anaconda3/lib/python3.11/site-packages/sklearn/linear_model/_coordinate_descent.py:695: ConvergenceWarning: Objective did not converge. You might want to increase the number of iterations, check the scale of the features or consider increasing regularisation. Duality gap: 2.386e+01, tolerance: 1.658e+00\n",
      "  model = cd_fast.enet_coordinate_descent(\n",
      "/Users/zsomborveres-lakos/anaconda3/lib/python3.11/site-packages/sklearn/linear_model/_coordinate_descent.py:695: ConvergenceWarning: Objective did not converge. You might want to increase the number of iterations, check the scale of the features or consider increasing regularisation. Duality gap: 8.620e+00, tolerance: 1.654e+00\n",
      "  model = cd_fast.enet_coordinate_descent(\n",
      "/Users/zsomborveres-lakos/anaconda3/lib/python3.11/site-packages/sklearn/linear_model/_coordinate_descent.py:695: ConvergenceWarning: Objective did not converge. You might want to increase the number of iterations, check the scale of the features or consider increasing regularisation. Duality gap: 4.259e+01, tolerance: 1.669e+00\n",
      "  model = cd_fast.enet_coordinate_descent(\n",
      "/Users/zsomborveres-lakos/anaconda3/lib/python3.11/site-packages/sklearn/linear_model/_coordinate_descent.py:695: ConvergenceWarning: Objective did not converge. You might want to increase the number of iterations, check the scale of the features or consider increasing regularisation. Duality gap: 1.741e+01, tolerance: 1.658e+00\n",
      "  model = cd_fast.enet_coordinate_descent(\n",
      "/Users/zsomborveres-lakos/anaconda3/lib/python3.11/site-packages/sklearn/linear_model/_coordinate_descent.py:695: ConvergenceWarning: Objective did not converge. You might want to increase the number of iterations, check the scale of the features or consider increasing regularisation. Duality gap: 8.664e+00, tolerance: 1.640e+00\n",
      "  model = cd_fast.enet_coordinate_descent(\n",
      "/Users/zsomborveres-lakos/anaconda3/lib/python3.11/site-packages/sklearn/linear_model/_coordinate_descent.py:695: ConvergenceWarning: Objective did not converge. You might want to increase the number of iterations, check the scale of the features or consider increasing regularisation. Duality gap: 3.675e+01, tolerance: 1.642e+00\n",
      "  model = cd_fast.enet_coordinate_descent(\n",
      "/Users/zsomborveres-lakos/anaconda3/lib/python3.11/site-packages/sklearn/linear_model/_coordinate_descent.py:695: ConvergenceWarning: Objective did not converge. You might want to increase the number of iterations, check the scale of the features or consider increasing regularisation. Duality gap: 1.262e+01, tolerance: 1.663e+00\n",
      "  model = cd_fast.enet_coordinate_descent(\n",
      "/Users/zsomborveres-lakos/anaconda3/lib/python3.11/site-packages/sklearn/linear_model/_coordinate_descent.py:695: ConvergenceWarning: Objective did not converge. You might want to increase the number of iterations, check the scale of the features or consider increasing regularisation. Duality gap: 3.989e+01, tolerance: 1.648e+00\n",
      "  model = cd_fast.enet_coordinate_descent(\n",
      "/Users/zsomborveres-lakos/anaconda3/lib/python3.11/site-packages/sklearn/linear_model/_coordinate_descent.py:695: ConvergenceWarning: Objective did not converge. You might want to increase the number of iterations, check the scale of the features or consider increasing regularisation. Duality gap: 1.442e+01, tolerance: 1.655e+00\n",
      "  model = cd_fast.enet_coordinate_descent(\n",
      "/Users/zsomborveres-lakos/anaconda3/lib/python3.11/site-packages/sklearn/linear_model/_coordinate_descent.py:695: ConvergenceWarning: Objective did not converge. You might want to increase the number of iterations, check the scale of the features or consider increasing regularisation. Duality gap: 8.431e+00, tolerance: 1.643e+00\n",
      "  model = cd_fast.enet_coordinate_descent(\n",
      "/Users/zsomborveres-lakos/anaconda3/lib/python3.11/site-packages/sklearn/linear_model/_coordinate_descent.py:695: ConvergenceWarning: Objective did not converge. You might want to increase the number of iterations, check the scale of the features or consider increasing regularisation. Duality gap: 1.082e+01, tolerance: 1.658e+00\n",
      "  model = cd_fast.enet_coordinate_descent(\n",
      "/Users/zsomborveres-lakos/anaconda3/lib/python3.11/site-packages/sklearn/linear_model/_coordinate_descent.py:695: ConvergenceWarning: Objective did not converge. You might want to increase the number of iterations, check the scale of the features or consider increasing regularisation. Duality gap: 7.775e+00, tolerance: 1.654e+00\n",
      "  model = cd_fast.enet_coordinate_descent(\n",
      "/Users/zsomborveres-lakos/anaconda3/lib/python3.11/site-packages/sklearn/linear_model/_coordinate_descent.py:695: ConvergenceWarning: Objective did not converge. You might want to increase the number of iterations, check the scale of the features or consider increasing regularisation. Duality gap: 9.118e+00, tolerance: 1.669e+00\n",
      "  model = cd_fast.enet_coordinate_descent(\n",
      "/Users/zsomborveres-lakos/anaconda3/lib/python3.11/site-packages/sklearn/linear_model/_coordinate_descent.py:695: ConvergenceWarning: Objective did not converge. You might want to increase the number of iterations, check the scale of the features or consider increasing regularisation. Duality gap: 1.166e+01, tolerance: 1.658e+00\n",
      "  model = cd_fast.enet_coordinate_descent(\n",
      "/Users/zsomborveres-lakos/anaconda3/lib/python3.11/site-packages/sklearn/linear_model/_coordinate_descent.py:695: ConvergenceWarning: Objective did not converge. You might want to increase the number of iterations, check the scale of the features or consider increasing regularisation. Duality gap: 7.237e+00, tolerance: 1.640e+00\n",
      "  model = cd_fast.enet_coordinate_descent(\n",
      "/Users/zsomborveres-lakos/anaconda3/lib/python3.11/site-packages/sklearn/linear_model/_coordinate_descent.py:695: ConvergenceWarning: Objective did not converge. You might want to increase the number of iterations, check the scale of the features or consider increasing regularisation. Duality gap: 8.820e+00, tolerance: 1.642e+00\n",
      "  model = cd_fast.enet_coordinate_descent(\n",
      "/Users/zsomborveres-lakos/anaconda3/lib/python3.11/site-packages/sklearn/linear_model/_coordinate_descent.py:695: ConvergenceWarning: Objective did not converge. You might want to increase the number of iterations, check the scale of the features or consider increasing regularisation. Duality gap: 8.121e+00, tolerance: 1.663e+00\n",
      "  model = cd_fast.enet_coordinate_descent(\n",
      "/Users/zsomborveres-lakos/anaconda3/lib/python3.11/site-packages/sklearn/linear_model/_coordinate_descent.py:695: ConvergenceWarning: Objective did not converge. You might want to increase the number of iterations, check the scale of the features or consider increasing regularisation. Duality gap: 6.331e+00, tolerance: 1.648e+00\n",
      "  model = cd_fast.enet_coordinate_descent(\n",
      "/Users/zsomborveres-lakos/anaconda3/lib/python3.11/site-packages/sklearn/linear_model/_coordinate_descent.py:695: ConvergenceWarning: Objective did not converge. You might want to increase the number of iterations, check the scale of the features or consider increasing regularisation. Duality gap: 8.910e+00, tolerance: 1.655e+00\n",
      "  model = cd_fast.enet_coordinate_descent(\n",
      "/Users/zsomborveres-lakos/anaconda3/lib/python3.11/site-packages/sklearn/linear_model/_coordinate_descent.py:695: ConvergenceWarning: Objective did not converge. You might want to increase the number of iterations, check the scale of the features or consider increasing regularisation. Duality gap: 6.080e+00, tolerance: 1.643e+00\n",
      "  model = cd_fast.enet_coordinate_descent(\n",
      "/Users/zsomborveres-lakos/anaconda3/lib/python3.11/site-packages/sklearn/linear_model/_coordinate_descent.py:695: ConvergenceWarning: Objective did not converge. You might want to increase the number of iterations, check the scale of the features or consider increasing regularisation. Duality gap: 1.007e+01, tolerance: 1.658e+00\n",
      "  model = cd_fast.enet_coordinate_descent(\n",
      "/Users/zsomborveres-lakos/anaconda3/lib/python3.11/site-packages/sklearn/linear_model/_coordinate_descent.py:695: ConvergenceWarning: Objective did not converge. You might want to increase the number of iterations, check the scale of the features or consider increasing regularisation. Duality gap: 2.156e+01, tolerance: 1.669e+00\n",
      "  model = cd_fast.enet_coordinate_descent(\n",
      "/Users/zsomborveres-lakos/anaconda3/lib/python3.11/site-packages/sklearn/linear_model/_coordinate_descent.py:695: ConvergenceWarning: Objective did not converge. You might want to increase the number of iterations, check the scale of the features or consider increasing regularisation. Duality gap: 1.004e+01, tolerance: 1.654e+00\n",
      "  model = cd_fast.enet_coordinate_descent(\n",
      "/Users/zsomborveres-lakos/anaconda3/lib/python3.11/site-packages/sklearn/linear_model/_coordinate_descent.py:695: ConvergenceWarning: Objective did not converge. You might want to increase the number of iterations, check the scale of the features or consider increasing regularisation. Duality gap: 2.274e+01, tolerance: 1.658e+00\n",
      "  model = cd_fast.enet_coordinate_descent(\n",
      "/Users/zsomborveres-lakos/anaconda3/lib/python3.11/site-packages/sklearn/linear_model/_coordinate_descent.py:695: ConvergenceWarning: Objective did not converge. You might want to increase the number of iterations, check the scale of the features or consider increasing regularisation. Duality gap: 2.268e+01, tolerance: 1.640e+00\n",
      "  model = cd_fast.enet_coordinate_descent(\n",
      "/Users/zsomborveres-lakos/anaconda3/lib/python3.11/site-packages/sklearn/linear_model/_coordinate_descent.py:695: ConvergenceWarning: Objective did not converge. You might want to increase the number of iterations, check the scale of the features or consider increasing regularisation. Duality gap: 5.913e+00, tolerance: 1.642e+00\n",
      "  model = cd_fast.enet_coordinate_descent(\n",
      "/Users/zsomborveres-lakos/anaconda3/lib/python3.11/site-packages/sklearn/linear_model/_coordinate_descent.py:695: ConvergenceWarning: Objective did not converge. You might want to increase the number of iterations, check the scale of the features or consider increasing regularisation. Duality gap: 2.348e+01, tolerance: 1.663e+00\n",
      "  model = cd_fast.enet_coordinate_descent(\n",
      "/Users/zsomborveres-lakos/anaconda3/lib/python3.11/site-packages/sklearn/linear_model/_coordinate_descent.py:695: ConvergenceWarning: Objective did not converge. You might want to increase the number of iterations, check the scale of the features or consider increasing regularisation. Duality gap: 1.022e+01, tolerance: 1.648e+00\n",
      "  model = cd_fast.enet_coordinate_descent(\n",
      "/Users/zsomborveres-lakos/anaconda3/lib/python3.11/site-packages/sklearn/linear_model/_coordinate_descent.py:695: ConvergenceWarning: Objective did not converge. You might want to increase the number of iterations, check the scale of the features or consider increasing regularisation. Duality gap: 2.360e+01, tolerance: 1.655e+00\n",
      "  model = cd_fast.enet_coordinate_descent(\n",
      "/Users/zsomborveres-lakos/anaconda3/lib/python3.11/site-packages/sklearn/linear_model/_coordinate_descent.py:695: ConvergenceWarning: Objective did not converge. You might want to increase the number of iterations, check the scale of the features or consider increasing regularisation. Duality gap: 2.227e+01, tolerance: 1.643e+00\n",
      "  model = cd_fast.enet_coordinate_descent(\n",
      "/Users/zsomborveres-lakos/anaconda3/lib/python3.11/site-packages/sklearn/linear_model/_coordinate_descent.py:695: ConvergenceWarning: Objective did not converge. You might want to increase the number of iterations, check the scale of the features or consider increasing regularisation. Duality gap: 2.312e+01, tolerance: 1.658e+00\n",
      "  model = cd_fast.enet_coordinate_descent(\n",
      "/Users/zsomborveres-lakos/anaconda3/lib/python3.11/site-packages/sklearn/linear_model/_coordinate_descent.py:695: ConvergenceWarning: Objective did not converge. You might want to increase the number of iterations, check the scale of the features or consider increasing regularisation. Duality gap: 2.159e+01, tolerance: 1.654e+00\n",
      "  model = cd_fast.enet_coordinate_descent(\n",
      "/Users/zsomborveres-lakos/anaconda3/lib/python3.11/site-packages/sklearn/linear_model/_coordinate_descent.py:695: ConvergenceWarning: Objective did not converge. You might want to increase the number of iterations, check the scale of the features or consider increasing regularisation. Duality gap: 2.347e+01, tolerance: 1.669e+00\n",
      "  model = cd_fast.enet_coordinate_descent(\n",
      "/Users/zsomborveres-lakos/anaconda3/lib/python3.11/site-packages/sklearn/linear_model/_coordinate_descent.py:695: ConvergenceWarning: Objective did not converge. You might want to increase the number of iterations, check the scale of the features or consider increasing regularisation. Duality gap: 1.371e+01, tolerance: 1.658e+00\n",
      "  model = cd_fast.enet_coordinate_descent(\n",
      "/Users/zsomborveres-lakos/anaconda3/lib/python3.11/site-packages/sklearn/linear_model/_coordinate_descent.py:695: ConvergenceWarning: Objective did not converge. You might want to increase the number of iterations, check the scale of the features or consider increasing regularisation. Duality gap: 1.041e+01, tolerance: 1.640e+00\n",
      "  model = cd_fast.enet_coordinate_descent(\n",
      "/Users/zsomborveres-lakos/anaconda3/lib/python3.11/site-packages/sklearn/linear_model/_coordinate_descent.py:695: ConvergenceWarning: Objective did not converge. You might want to increase the number of iterations, check the scale of the features or consider increasing regularisation. Duality gap: 2.153e+01, tolerance: 1.642e+00\n",
      "  model = cd_fast.enet_coordinate_descent(\n",
      "/Users/zsomborveres-lakos/anaconda3/lib/python3.11/site-packages/sklearn/linear_model/_coordinate_descent.py:695: ConvergenceWarning: Objective did not converge. You might want to increase the number of iterations, check the scale of the features or consider increasing regularisation. Duality gap: 8.333e+00, tolerance: 1.663e+00\n",
      "  model = cd_fast.enet_coordinate_descent(\n",
      "/Users/zsomborveres-lakos/anaconda3/lib/python3.11/site-packages/sklearn/linear_model/_coordinate_descent.py:695: ConvergenceWarning: Objective did not converge. You might want to increase the number of iterations, check the scale of the features or consider increasing regularisation. Duality gap: 2.032e+01, tolerance: 1.648e+00\n",
      "  model = cd_fast.enet_coordinate_descent(\n",
      "/Users/zsomborveres-lakos/anaconda3/lib/python3.11/site-packages/sklearn/linear_model/_coordinate_descent.py:695: ConvergenceWarning: Objective did not converge. You might want to increase the number of iterations, check the scale of the features or consider increasing regularisation. Duality gap: 1.180e+01, tolerance: 1.655e+00\n",
      "  model = cd_fast.enet_coordinate_descent(\n",
      "/Users/zsomborveres-lakos/anaconda3/lib/python3.11/site-packages/sklearn/linear_model/_coordinate_descent.py:695: ConvergenceWarning: Objective did not converge. You might want to increase the number of iterations, check the scale of the features or consider increasing regularisation. Duality gap: 9.928e+00, tolerance: 1.643e+00\n",
      "  model = cd_fast.enet_coordinate_descent(\n",
      "/Users/zsomborveres-lakos/anaconda3/lib/python3.11/site-packages/sklearn/linear_model/_coordinate_descent.py:695: ConvergenceWarning: Objective did not converge. You might want to increase the number of iterations, check the scale of the features or consider increasing regularisation. Duality gap: 9.920e+00, tolerance: 1.658e+00\n",
      "  model = cd_fast.enet_coordinate_descent(\n",
      "/Users/zsomborveres-lakos/anaconda3/lib/python3.11/site-packages/sklearn/linear_model/_coordinate_descent.py:695: ConvergenceWarning: Objective did not converge. You might want to increase the number of iterations, check the scale of the features or consider increasing regularisation. Duality gap: 1.685e+00, tolerance: 1.654e+00\n",
      "  model = cd_fast.enet_coordinate_descent(\n",
      "/Users/zsomborveres-lakos/anaconda3/lib/python3.11/site-packages/sklearn/linear_model/_coordinate_descent.py:695: ConvergenceWarning: Objective did not converge. You might want to increase the number of iterations, check the scale of the features or consider increasing regularisation. Duality gap: 1.711e+00, tolerance: 1.669e+00\n",
      "  model = cd_fast.enet_coordinate_descent(\n",
      "/Users/zsomborveres-lakos/anaconda3/lib/python3.11/site-packages/sklearn/linear_model/_coordinate_descent.py:695: ConvergenceWarning: Objective did not converge. You might want to increase the number of iterations, check the scale of the features or consider increasing regularisation. Duality gap: 2.077e+00, tolerance: 1.658e+00\n",
      "  model = cd_fast.enet_coordinate_descent(\n",
      "/Users/zsomborveres-lakos/anaconda3/lib/python3.11/site-packages/sklearn/linear_model/_coordinate_descent.py:695: ConvergenceWarning: Objective did not converge. You might want to increase the number of iterations, check the scale of the features or consider increasing regularisation. Duality gap: 2.125e+00, tolerance: 1.640e+00\n",
      "  model = cd_fast.enet_coordinate_descent(\n",
      "/Users/zsomborveres-lakos/anaconda3/lib/python3.11/site-packages/sklearn/linear_model/_coordinate_descent.py:695: ConvergenceWarning: Objective did not converge. You might want to increase the number of iterations, check the scale of the features or consider increasing regularisation. Duality gap: 1.739e+00, tolerance: 1.642e+00\n",
      "  model = cd_fast.enet_coordinate_descent(\n",
      "/Users/zsomborveres-lakos/anaconda3/lib/python3.11/site-packages/sklearn/linear_model/_coordinate_descent.py:695: ConvergenceWarning: Objective did not converge. You might want to increase the number of iterations, check the scale of the features or consider increasing regularisation. Duality gap: 2.027e+00, tolerance: 1.663e+00\n",
      "  model = cd_fast.enet_coordinate_descent(\n",
      "/Users/zsomborveres-lakos/anaconda3/lib/python3.11/site-packages/sklearn/linear_model/_coordinate_descent.py:695: ConvergenceWarning: Objective did not converge. You might want to increase the number of iterations, check the scale of the features or consider increasing regularisation. Duality gap: 2.445e+00, tolerance: 1.655e+00\n",
      "  model = cd_fast.enet_coordinate_descent(\n",
      "/Users/zsomborveres-lakos/anaconda3/lib/python3.11/site-packages/sklearn/linear_model/_coordinate_descent.py:695: ConvergenceWarning: Objective did not converge. You might want to increase the number of iterations, check the scale of the features or consider increasing regularisation. Duality gap: 1.931e+00, tolerance: 1.643e+00\n",
      "  model = cd_fast.enet_coordinate_descent(\n",
      "/Users/zsomborveres-lakos/anaconda3/lib/python3.11/site-packages/sklearn/linear_model/_coordinate_descent.py:695: ConvergenceWarning: Objective did not converge. You might want to increase the number of iterations, check the scale of the features or consider increasing regularisation. Duality gap: 2.336e+00, tolerance: 1.658e+00\n",
      "  model = cd_fast.enet_coordinate_descent(\n",
      "/Users/zsomborveres-lakos/anaconda3/lib/python3.11/site-packages/sklearn/linear_model/_coordinate_descent.py:695: ConvergenceWarning: Objective did not converge. You might want to increase the number of iterations, check the scale of the features or consider increasing regularisation. Duality gap: 1.315e+01, tolerance: 1.654e+00\n",
      "  model = cd_fast.enet_coordinate_descent(\n",
      "/Users/zsomborveres-lakos/anaconda3/lib/python3.11/site-packages/sklearn/linear_model/_coordinate_descent.py:695: ConvergenceWarning: Objective did not converge. You might want to increase the number of iterations, check the scale of the features or consider increasing regularisation. Duality gap: 1.341e+01, tolerance: 1.669e+00\n",
      "  model = cd_fast.enet_coordinate_descent(\n",
      "/Users/zsomborveres-lakos/anaconda3/lib/python3.11/site-packages/sklearn/linear_model/_coordinate_descent.py:695: ConvergenceWarning: Objective did not converge. You might want to increase the number of iterations, check the scale of the features or consider increasing regularisation. Duality gap: 1.601e+01, tolerance: 1.658e+00\n",
      "  model = cd_fast.enet_coordinate_descent(\n",
      "/Users/zsomborveres-lakos/anaconda3/lib/python3.11/site-packages/sklearn/linear_model/_coordinate_descent.py:695: ConvergenceWarning: Objective did not converge. You might want to increase the number of iterations, check the scale of the features or consider increasing regularisation. Duality gap: 1.266e+01, tolerance: 1.640e+00\n",
      "  model = cd_fast.enet_coordinate_descent(\n",
      "/Users/zsomborveres-lakos/anaconda3/lib/python3.11/site-packages/sklearn/linear_model/_coordinate_descent.py:695: ConvergenceWarning: Objective did not converge. You might want to increase the number of iterations, check the scale of the features or consider increasing regularisation. Duality gap: 1.474e+01, tolerance: 1.642e+00\n",
      "  model = cd_fast.enet_coordinate_descent(\n",
      "/Users/zsomborveres-lakos/anaconda3/lib/python3.11/site-packages/sklearn/linear_model/_coordinate_descent.py:695: ConvergenceWarning: Objective did not converge. You might want to increase the number of iterations, check the scale of the features or consider increasing regularisation. Duality gap: 1.299e+01, tolerance: 1.663e+00\n",
      "  model = cd_fast.enet_coordinate_descent(\n",
      "/Users/zsomborveres-lakos/anaconda3/lib/python3.11/site-packages/sklearn/linear_model/_coordinate_descent.py:695: ConvergenceWarning: Objective did not converge. You might want to increase the number of iterations, check the scale of the features or consider increasing regularisation. Duality gap: 1.324e+01, tolerance: 1.648e+00\n",
      "  model = cd_fast.enet_coordinate_descent(\n",
      "/Users/zsomborveres-lakos/anaconda3/lib/python3.11/site-packages/sklearn/linear_model/_coordinate_descent.py:695: ConvergenceWarning: Objective did not converge. You might want to increase the number of iterations, check the scale of the features or consider increasing regularisation. Duality gap: 1.474e+01, tolerance: 1.655e+00\n",
      "  model = cd_fast.enet_coordinate_descent(\n",
      "/Users/zsomborveres-lakos/anaconda3/lib/python3.11/site-packages/sklearn/linear_model/_coordinate_descent.py:695: ConvergenceWarning: Objective did not converge. You might want to increase the number of iterations, check the scale of the features or consider increasing regularisation. Duality gap: 1.217e+01, tolerance: 1.643e+00\n",
      "  model = cd_fast.enet_coordinate_descent(\n",
      "/Users/zsomborveres-lakos/anaconda3/lib/python3.11/site-packages/sklearn/linear_model/_coordinate_descent.py:695: ConvergenceWarning: Objective did not converge. You might want to increase the number of iterations, check the scale of the features or consider increasing regularisation. Duality gap: 1.361e+01, tolerance: 1.658e+00\n",
      "  model = cd_fast.enet_coordinate_descent(\n",
      "/Users/zsomborveres-lakos/anaconda3/lib/python3.11/site-packages/sklearn/linear_model/_coordinate_descent.py:695: ConvergenceWarning: Objective did not converge. You might want to increase the number of iterations, check the scale of the features or consider increasing regularisation. Duality gap: 1.661e+00, tolerance: 1.640e+00\n",
      "  model = cd_fast.enet_coordinate_descent(\n",
      "/Users/zsomborveres-lakos/anaconda3/lib/python3.11/site-packages/sklearn/linear_model/_coordinate_descent.py:695: ConvergenceWarning: Objective did not converge. You might want to increase the number of iterations, check the scale of the features or consider increasing regularisation. Duality gap: 1.801e+00, tolerance: 1.642e+00\n",
      "  model = cd_fast.enet_coordinate_descent(\n",
      "/Users/zsomborveres-lakos/anaconda3/lib/python3.11/site-packages/sklearn/linear_model/_coordinate_descent.py:695: ConvergenceWarning: Objective did not converge. You might want to increase the number of iterations, check the scale of the features or consider increasing regularisation. Duality gap: 1.797e+00, tolerance: 1.663e+00\n",
      "  model = cd_fast.enet_coordinate_descent(\n",
      "/Users/zsomborveres-lakos/anaconda3/lib/python3.11/site-packages/sklearn/linear_model/_coordinate_descent.py:695: ConvergenceWarning: Objective did not converge. You might want to increase the number of iterations, check the scale of the features or consider increasing regularisation. Duality gap: 1.668e+00, tolerance: 1.648e+00\n",
      "  model = cd_fast.enet_coordinate_descent(\n",
      "/Users/zsomborveres-lakos/anaconda3/lib/python3.11/site-packages/sklearn/linear_model/_coordinate_descent.py:695: ConvergenceWarning: Objective did not converge. You might want to increase the number of iterations, check the scale of the features or consider increasing regularisation. Duality gap: 2.954e+00, tolerance: 1.654e+00\n",
      "  model = cd_fast.enet_coordinate_descent(\n",
      "/Users/zsomborveres-lakos/anaconda3/lib/python3.11/site-packages/sklearn/linear_model/_coordinate_descent.py:695: ConvergenceWarning: Objective did not converge. You might want to increase the number of iterations, check the scale of the features or consider increasing regularisation. Duality gap: 3.165e+00, tolerance: 1.669e+00\n",
      "  model = cd_fast.enet_coordinate_descent(\n",
      "/Users/zsomborveres-lakos/anaconda3/lib/python3.11/site-packages/sklearn/linear_model/_coordinate_descent.py:695: ConvergenceWarning: Objective did not converge. You might want to increase the number of iterations, check the scale of the features or consider increasing regularisation. Duality gap: 2.403e+00, tolerance: 1.658e+00\n",
      "  model = cd_fast.enet_coordinate_descent(\n",
      "/Users/zsomborveres-lakos/anaconda3/lib/python3.11/site-packages/sklearn/linear_model/_coordinate_descent.py:695: ConvergenceWarning: Objective did not converge. You might want to increase the number of iterations, check the scale of the features or consider increasing regularisation. Duality gap: 2.824e+00, tolerance: 1.640e+00\n",
      "  model = cd_fast.enet_coordinate_descent(\n",
      "/Users/zsomborveres-lakos/anaconda3/lib/python3.11/site-packages/sklearn/linear_model/_coordinate_descent.py:695: ConvergenceWarning: Objective did not converge. You might want to increase the number of iterations, check the scale of the features or consider increasing regularisation. Duality gap: 2.879e+00, tolerance: 1.642e+00\n",
      "  model = cd_fast.enet_coordinate_descent(\n",
      "/Users/zsomborveres-lakos/anaconda3/lib/python3.11/site-packages/sklearn/linear_model/_coordinate_descent.py:695: ConvergenceWarning: Objective did not converge. You might want to increase the number of iterations, check the scale of the features or consider increasing regularisation. Duality gap: 3.268e+00, tolerance: 1.663e+00\n",
      "  model = cd_fast.enet_coordinate_descent(\n",
      "/Users/zsomborveres-lakos/anaconda3/lib/python3.11/site-packages/sklearn/linear_model/_coordinate_descent.py:695: ConvergenceWarning: Objective did not converge. You might want to increase the number of iterations, check the scale of the features or consider increasing regularisation. Duality gap: 3.041e+00, tolerance: 1.648e+00\n",
      "  model = cd_fast.enet_coordinate_descent(\n",
      "/Users/zsomborveres-lakos/anaconda3/lib/python3.11/site-packages/sklearn/linear_model/_coordinate_descent.py:695: ConvergenceWarning: Objective did not converge. You might want to increase the number of iterations, check the scale of the features or consider increasing regularisation. Duality gap: 1.801e+00, tolerance: 1.655e+00\n",
      "  model = cd_fast.enet_coordinate_descent(\n",
      "/Users/zsomborveres-lakos/anaconda3/lib/python3.11/site-packages/sklearn/linear_model/_coordinate_descent.py:695: ConvergenceWarning: Objective did not converge. You might want to increase the number of iterations, check the scale of the features or consider increasing regularisation. Duality gap: 2.842e+00, tolerance: 1.643e+00\n",
      "  model = cd_fast.enet_coordinate_descent(\n",
      "/Users/zsomborveres-lakos/anaconda3/lib/python3.11/site-packages/sklearn/linear_model/_coordinate_descent.py:695: ConvergenceWarning: Objective did not converge. You might want to increase the number of iterations, check the scale of the features or consider increasing regularisation. Duality gap: 1.927e+00, tolerance: 1.658e+00\n",
      "  model = cd_fast.enet_coordinate_descent(\n",
      "/Users/zsomborveres-lakos/anaconda3/lib/python3.11/site-packages/sklearn/linear_model/_coordinate_descent.py:695: ConvergenceWarning: Objective did not converge. You might want to increase the number of iterations, check the scale of the features or consider increasing regularisation. Duality gap: 1.702e+00, tolerance: 1.663e+00\n",
      "  model = cd_fast.enet_coordinate_descent(\n",
      "/Users/zsomborveres-lakos/anaconda3/lib/python3.11/site-packages/sklearn/linear_model/_coordinate_descent.py:695: ConvergenceWarning: Objective did not converge. You might want to increase the number of iterations, check the scale of the features or consider increasing regularisation. Duality gap: 1.675e+00, tolerance: 1.655e+00\n",
      "  model = cd_fast.enet_coordinate_descent(\n"
     ]
    },
    {
     "data": {
      "text/html": [
       "<style>#sk-container-id-2 {\n",
       "  /* Definition of color scheme common for light and dark mode */\n",
       "  --sklearn-color-text: #000;\n",
       "  --sklearn-color-text-muted: #666;\n",
       "  --sklearn-color-line: gray;\n",
       "  /* Definition of color scheme for unfitted estimators */\n",
       "  --sklearn-color-unfitted-level-0: #fff5e6;\n",
       "  --sklearn-color-unfitted-level-1: #f6e4d2;\n",
       "  --sklearn-color-unfitted-level-2: #ffe0b3;\n",
       "  --sklearn-color-unfitted-level-3: chocolate;\n",
       "  /* Definition of color scheme for fitted estimators */\n",
       "  --sklearn-color-fitted-level-0: #f0f8ff;\n",
       "  --sklearn-color-fitted-level-1: #d4ebff;\n",
       "  --sklearn-color-fitted-level-2: #b3dbfd;\n",
       "  --sklearn-color-fitted-level-3: cornflowerblue;\n",
       "\n",
       "  /* Specific color for light theme */\n",
       "  --sklearn-color-text-on-default-background: var(--sg-text-color, var(--theme-code-foreground, var(--jp-content-font-color1, black)));\n",
       "  --sklearn-color-background: var(--sg-background-color, var(--theme-background, var(--jp-layout-color0, white)));\n",
       "  --sklearn-color-border-box: var(--sg-text-color, var(--theme-code-foreground, var(--jp-content-font-color1, black)));\n",
       "  --sklearn-color-icon: #696969;\n",
       "\n",
       "  @media (prefers-color-scheme: dark) {\n",
       "    /* Redefinition of color scheme for dark theme */\n",
       "    --sklearn-color-text-on-default-background: var(--sg-text-color, var(--theme-code-foreground, var(--jp-content-font-color1, white)));\n",
       "    --sklearn-color-background: var(--sg-background-color, var(--theme-background, var(--jp-layout-color0, #111)));\n",
       "    --sklearn-color-border-box: var(--sg-text-color, var(--theme-code-foreground, var(--jp-content-font-color1, white)));\n",
       "    --sklearn-color-icon: #878787;\n",
       "  }\n",
       "}\n",
       "\n",
       "#sk-container-id-2 {\n",
       "  color: var(--sklearn-color-text);\n",
       "}\n",
       "\n",
       "#sk-container-id-2 pre {\n",
       "  padding: 0;\n",
       "}\n",
       "\n",
       "#sk-container-id-2 input.sk-hidden--visually {\n",
       "  border: 0;\n",
       "  clip: rect(1px 1px 1px 1px);\n",
       "  clip: rect(1px, 1px, 1px, 1px);\n",
       "  height: 1px;\n",
       "  margin: -1px;\n",
       "  overflow: hidden;\n",
       "  padding: 0;\n",
       "  position: absolute;\n",
       "  width: 1px;\n",
       "}\n",
       "\n",
       "#sk-container-id-2 div.sk-dashed-wrapped {\n",
       "  border: 1px dashed var(--sklearn-color-line);\n",
       "  margin: 0 0.4em 0.5em 0.4em;\n",
       "  box-sizing: border-box;\n",
       "  padding-bottom: 0.4em;\n",
       "  background-color: var(--sklearn-color-background);\n",
       "}\n",
       "\n",
       "#sk-container-id-2 div.sk-container {\n",
       "  /* jupyter's `normalize.less` sets `[hidden] { display: none; }`\n",
       "     but bootstrap.min.css set `[hidden] { display: none !important; }`\n",
       "     so we also need the `!important` here to be able to override the\n",
       "     default hidden behavior on the sphinx rendered scikit-learn.org.\n",
       "     See: https://github.com/scikit-learn/scikit-learn/issues/21755 */\n",
       "  display: inline-block !important;\n",
       "  position: relative;\n",
       "}\n",
       "\n",
       "#sk-container-id-2 div.sk-text-repr-fallback {\n",
       "  display: none;\n",
       "}\n",
       "\n",
       "div.sk-parallel-item,\n",
       "div.sk-serial,\n",
       "div.sk-item {\n",
       "  /* draw centered vertical line to link estimators */\n",
       "  background-image: linear-gradient(var(--sklearn-color-text-on-default-background), var(--sklearn-color-text-on-default-background));\n",
       "  background-size: 2px 100%;\n",
       "  background-repeat: no-repeat;\n",
       "  background-position: center center;\n",
       "}\n",
       "\n",
       "/* Parallel-specific style estimator block */\n",
       "\n",
       "#sk-container-id-2 div.sk-parallel-item::after {\n",
       "  content: \"\";\n",
       "  width: 100%;\n",
       "  border-bottom: 2px solid var(--sklearn-color-text-on-default-background);\n",
       "  flex-grow: 1;\n",
       "}\n",
       "\n",
       "#sk-container-id-2 div.sk-parallel {\n",
       "  display: flex;\n",
       "  align-items: stretch;\n",
       "  justify-content: center;\n",
       "  background-color: var(--sklearn-color-background);\n",
       "  position: relative;\n",
       "}\n",
       "\n",
       "#sk-container-id-2 div.sk-parallel-item {\n",
       "  display: flex;\n",
       "  flex-direction: column;\n",
       "}\n",
       "\n",
       "#sk-container-id-2 div.sk-parallel-item:first-child::after {\n",
       "  align-self: flex-end;\n",
       "  width: 50%;\n",
       "}\n",
       "\n",
       "#sk-container-id-2 div.sk-parallel-item:last-child::after {\n",
       "  align-self: flex-start;\n",
       "  width: 50%;\n",
       "}\n",
       "\n",
       "#sk-container-id-2 div.sk-parallel-item:only-child::after {\n",
       "  width: 0;\n",
       "}\n",
       "\n",
       "/* Serial-specific style estimator block */\n",
       "\n",
       "#sk-container-id-2 div.sk-serial {\n",
       "  display: flex;\n",
       "  flex-direction: column;\n",
       "  align-items: center;\n",
       "  background-color: var(--sklearn-color-background);\n",
       "  padding-right: 1em;\n",
       "  padding-left: 1em;\n",
       "}\n",
       "\n",
       "\n",
       "/* Toggleable style: style used for estimator/Pipeline/ColumnTransformer box that is\n",
       "clickable and can be expanded/collapsed.\n",
       "- Pipeline and ColumnTransformer use this feature and define the default style\n",
       "- Estimators will overwrite some part of the style using the `sk-estimator` class\n",
       "*/\n",
       "\n",
       "/* Pipeline and ColumnTransformer style (default) */\n",
       "\n",
       "#sk-container-id-2 div.sk-toggleable {\n",
       "  /* Default theme specific background. It is overwritten whether we have a\n",
       "  specific estimator or a Pipeline/ColumnTransformer */\n",
       "  background-color: var(--sklearn-color-background);\n",
       "}\n",
       "\n",
       "/* Toggleable label */\n",
       "#sk-container-id-2 label.sk-toggleable__label {\n",
       "  cursor: pointer;\n",
       "  display: flex;\n",
       "  width: 100%;\n",
       "  margin-bottom: 0;\n",
       "  padding: 0.5em;\n",
       "  box-sizing: border-box;\n",
       "  text-align: center;\n",
       "  align-items: start;\n",
       "  justify-content: space-between;\n",
       "  gap: 0.5em;\n",
       "}\n",
       "\n",
       "#sk-container-id-2 label.sk-toggleable__label .caption {\n",
       "  font-size: 0.6rem;\n",
       "  font-weight: lighter;\n",
       "  color: var(--sklearn-color-text-muted);\n",
       "}\n",
       "\n",
       "#sk-container-id-2 label.sk-toggleable__label-arrow:before {\n",
       "  /* Arrow on the left of the label */\n",
       "  content: \"▸\";\n",
       "  float: left;\n",
       "  margin-right: 0.25em;\n",
       "  color: var(--sklearn-color-icon);\n",
       "}\n",
       "\n",
       "#sk-container-id-2 label.sk-toggleable__label-arrow:hover:before {\n",
       "  color: var(--sklearn-color-text);\n",
       "}\n",
       "\n",
       "/* Toggleable content - dropdown */\n",
       "\n",
       "#sk-container-id-2 div.sk-toggleable__content {\n",
       "  max-height: 0;\n",
       "  max-width: 0;\n",
       "  overflow: hidden;\n",
       "  text-align: left;\n",
       "  /* unfitted */\n",
       "  background-color: var(--sklearn-color-unfitted-level-0);\n",
       "}\n",
       "\n",
       "#sk-container-id-2 div.sk-toggleable__content.fitted {\n",
       "  /* fitted */\n",
       "  background-color: var(--sklearn-color-fitted-level-0);\n",
       "}\n",
       "\n",
       "#sk-container-id-2 div.sk-toggleable__content pre {\n",
       "  margin: 0.2em;\n",
       "  border-radius: 0.25em;\n",
       "  color: var(--sklearn-color-text);\n",
       "  /* unfitted */\n",
       "  background-color: var(--sklearn-color-unfitted-level-0);\n",
       "}\n",
       "\n",
       "#sk-container-id-2 div.sk-toggleable__content.fitted pre {\n",
       "  /* unfitted */\n",
       "  background-color: var(--sklearn-color-fitted-level-0);\n",
       "}\n",
       "\n",
       "#sk-container-id-2 input.sk-toggleable__control:checked~div.sk-toggleable__content {\n",
       "  /* Expand drop-down */\n",
       "  max-height: 200px;\n",
       "  max-width: 100%;\n",
       "  overflow: auto;\n",
       "}\n",
       "\n",
       "#sk-container-id-2 input.sk-toggleable__control:checked~label.sk-toggleable__label-arrow:before {\n",
       "  content: \"▾\";\n",
       "}\n",
       "\n",
       "/* Pipeline/ColumnTransformer-specific style */\n",
       "\n",
       "#sk-container-id-2 div.sk-label input.sk-toggleable__control:checked~label.sk-toggleable__label {\n",
       "  color: var(--sklearn-color-text);\n",
       "  background-color: var(--sklearn-color-unfitted-level-2);\n",
       "}\n",
       "\n",
       "#sk-container-id-2 div.sk-label.fitted input.sk-toggleable__control:checked~label.sk-toggleable__label {\n",
       "  background-color: var(--sklearn-color-fitted-level-2);\n",
       "}\n",
       "\n",
       "/* Estimator-specific style */\n",
       "\n",
       "/* Colorize estimator box */\n",
       "#sk-container-id-2 div.sk-estimator input.sk-toggleable__control:checked~label.sk-toggleable__label {\n",
       "  /* unfitted */\n",
       "  background-color: var(--sklearn-color-unfitted-level-2);\n",
       "}\n",
       "\n",
       "#sk-container-id-2 div.sk-estimator.fitted input.sk-toggleable__control:checked~label.sk-toggleable__label {\n",
       "  /* fitted */\n",
       "  background-color: var(--sklearn-color-fitted-level-2);\n",
       "}\n",
       "\n",
       "#sk-container-id-2 div.sk-label label.sk-toggleable__label,\n",
       "#sk-container-id-2 div.sk-label label {\n",
       "  /* The background is the default theme color */\n",
       "  color: var(--sklearn-color-text-on-default-background);\n",
       "}\n",
       "\n",
       "/* On hover, darken the color of the background */\n",
       "#sk-container-id-2 div.sk-label:hover label.sk-toggleable__label {\n",
       "  color: var(--sklearn-color-text);\n",
       "  background-color: var(--sklearn-color-unfitted-level-2);\n",
       "}\n",
       "\n",
       "/* Label box, darken color on hover, fitted */\n",
       "#sk-container-id-2 div.sk-label.fitted:hover label.sk-toggleable__label.fitted {\n",
       "  color: var(--sklearn-color-text);\n",
       "  background-color: var(--sklearn-color-fitted-level-2);\n",
       "}\n",
       "\n",
       "/* Estimator label */\n",
       "\n",
       "#sk-container-id-2 div.sk-label label {\n",
       "  font-family: monospace;\n",
       "  font-weight: bold;\n",
       "  display: inline-block;\n",
       "  line-height: 1.2em;\n",
       "}\n",
       "\n",
       "#sk-container-id-2 div.sk-label-container {\n",
       "  text-align: center;\n",
       "}\n",
       "\n",
       "/* Estimator-specific */\n",
       "#sk-container-id-2 div.sk-estimator {\n",
       "  font-family: monospace;\n",
       "  border: 1px dotted var(--sklearn-color-border-box);\n",
       "  border-radius: 0.25em;\n",
       "  box-sizing: border-box;\n",
       "  margin-bottom: 0.5em;\n",
       "  /* unfitted */\n",
       "  background-color: var(--sklearn-color-unfitted-level-0);\n",
       "}\n",
       "\n",
       "#sk-container-id-2 div.sk-estimator.fitted {\n",
       "  /* fitted */\n",
       "  background-color: var(--sklearn-color-fitted-level-0);\n",
       "}\n",
       "\n",
       "/* on hover */\n",
       "#sk-container-id-2 div.sk-estimator:hover {\n",
       "  /* unfitted */\n",
       "  background-color: var(--sklearn-color-unfitted-level-2);\n",
       "}\n",
       "\n",
       "#sk-container-id-2 div.sk-estimator.fitted:hover {\n",
       "  /* fitted */\n",
       "  background-color: var(--sklearn-color-fitted-level-2);\n",
       "}\n",
       "\n",
       "/* Specification for estimator info (e.g. \"i\" and \"?\") */\n",
       "\n",
       "/* Common style for \"i\" and \"?\" */\n",
       "\n",
       ".sk-estimator-doc-link,\n",
       "a:link.sk-estimator-doc-link,\n",
       "a:visited.sk-estimator-doc-link {\n",
       "  float: right;\n",
       "  font-size: smaller;\n",
       "  line-height: 1em;\n",
       "  font-family: monospace;\n",
       "  background-color: var(--sklearn-color-background);\n",
       "  border-radius: 1em;\n",
       "  height: 1em;\n",
       "  width: 1em;\n",
       "  text-decoration: none !important;\n",
       "  margin-left: 0.5em;\n",
       "  text-align: center;\n",
       "  /* unfitted */\n",
       "  border: var(--sklearn-color-unfitted-level-1) 1pt solid;\n",
       "  color: var(--sklearn-color-unfitted-level-1);\n",
       "}\n",
       "\n",
       ".sk-estimator-doc-link.fitted,\n",
       "a:link.sk-estimator-doc-link.fitted,\n",
       "a:visited.sk-estimator-doc-link.fitted {\n",
       "  /* fitted */\n",
       "  border: var(--sklearn-color-fitted-level-1) 1pt solid;\n",
       "  color: var(--sklearn-color-fitted-level-1);\n",
       "}\n",
       "\n",
       "/* On hover */\n",
       "div.sk-estimator:hover .sk-estimator-doc-link:hover,\n",
       ".sk-estimator-doc-link:hover,\n",
       "div.sk-label-container:hover .sk-estimator-doc-link:hover,\n",
       ".sk-estimator-doc-link:hover {\n",
       "  /* unfitted */\n",
       "  background-color: var(--sklearn-color-unfitted-level-3);\n",
       "  color: var(--sklearn-color-background);\n",
       "  text-decoration: none;\n",
       "}\n",
       "\n",
       "div.sk-estimator.fitted:hover .sk-estimator-doc-link.fitted:hover,\n",
       ".sk-estimator-doc-link.fitted:hover,\n",
       "div.sk-label-container:hover .sk-estimator-doc-link.fitted:hover,\n",
       ".sk-estimator-doc-link.fitted:hover {\n",
       "  /* fitted */\n",
       "  background-color: var(--sklearn-color-fitted-level-3);\n",
       "  color: var(--sklearn-color-background);\n",
       "  text-decoration: none;\n",
       "}\n",
       "\n",
       "/* Span, style for the box shown on hovering the info icon */\n",
       ".sk-estimator-doc-link span {\n",
       "  display: none;\n",
       "  z-index: 9999;\n",
       "  position: relative;\n",
       "  font-weight: normal;\n",
       "  right: .2ex;\n",
       "  padding: .5ex;\n",
       "  margin: .5ex;\n",
       "  width: min-content;\n",
       "  min-width: 20ex;\n",
       "  max-width: 50ex;\n",
       "  color: var(--sklearn-color-text);\n",
       "  box-shadow: 2pt 2pt 4pt #999;\n",
       "  /* unfitted */\n",
       "  background: var(--sklearn-color-unfitted-level-0);\n",
       "  border: .5pt solid var(--sklearn-color-unfitted-level-3);\n",
       "}\n",
       "\n",
       ".sk-estimator-doc-link.fitted span {\n",
       "  /* fitted */\n",
       "  background: var(--sklearn-color-fitted-level-0);\n",
       "  border: var(--sklearn-color-fitted-level-3);\n",
       "}\n",
       "\n",
       ".sk-estimator-doc-link:hover span {\n",
       "  display: block;\n",
       "}\n",
       "\n",
       "/* \"?\"-specific style due to the `<a>` HTML tag */\n",
       "\n",
       "#sk-container-id-2 a.estimator_doc_link {\n",
       "  float: right;\n",
       "  font-size: 1rem;\n",
       "  line-height: 1em;\n",
       "  font-family: monospace;\n",
       "  background-color: var(--sklearn-color-background);\n",
       "  border-radius: 1rem;\n",
       "  height: 1rem;\n",
       "  width: 1rem;\n",
       "  text-decoration: none;\n",
       "  /* unfitted */\n",
       "  color: var(--sklearn-color-unfitted-level-1);\n",
       "  border: var(--sklearn-color-unfitted-level-1) 1pt solid;\n",
       "}\n",
       "\n",
       "#sk-container-id-2 a.estimator_doc_link.fitted {\n",
       "  /* fitted */\n",
       "  border: var(--sklearn-color-fitted-level-1) 1pt solid;\n",
       "  color: var(--sklearn-color-fitted-level-1);\n",
       "}\n",
       "\n",
       "/* On hover */\n",
       "#sk-container-id-2 a.estimator_doc_link:hover {\n",
       "  /* unfitted */\n",
       "  background-color: var(--sklearn-color-unfitted-level-3);\n",
       "  color: var(--sklearn-color-background);\n",
       "  text-decoration: none;\n",
       "}\n",
       "\n",
       "#sk-container-id-2 a.estimator_doc_link.fitted:hover {\n",
       "  /* fitted */\n",
       "  background-color: var(--sklearn-color-fitted-level-3);\n",
       "}\n",
       "</style><div id=\"sk-container-id-2\" class=\"sk-top-container\"><div class=\"sk-text-repr-fallback\"><pre>GridSearchCV(cv=ShuffleSplit(n_splits=10, random_state=42, test_size=0.2, train_size=None),\n",
       "             estimator=Pipeline(steps=[(&#x27;poly&#x27;, PolynomialFeatures()),\n",
       "                                       (&#x27;feature_scaling&#x27;, StandardScaler()),\n",
       "                                       (&#x27;lasso&#x27;, Lasso())]),\n",
       "             n_jobs=2,\n",
       "             param_grid={&#x27;lasso__alpha&#x27;: array([1.00000000e-04, 1.62377674e-04, 2.63665090e-04, 4.28133240e-04,\n",
       "       6.95192796e-04, 1.12883789e-03, 1.83298071e-03, 2.97635144e-03,\n",
       "       4.83293024e-03, 7.84759970e-03, 1.27427499e-02, 2.06913808e-02,\n",
       "       3.35981829e-02, 5.45559478e-02, 8.85866790e-02, 1.43844989e-01,\n",
       "       2.33572147e-01, 3.79269019e-01, 6.15848211e-01, 1.00000000e+00]),\n",
       "                         &#x27;poly__degree&#x27;: (1, 2, 3)},\n",
       "             return_train_score=True, scoring=&#x27;neg_mean_absolute_error&#x27;)</pre><b>In a Jupyter environment, please rerun this cell to show the HTML representation or trust the notebook. <br />On GitHub, the HTML representation is unable to render, please try loading this page with nbviewer.org.</b></div><div class=\"sk-container\" hidden><div class=\"sk-item sk-dashed-wrapped\"><div class=\"sk-label-container\"><div class=\"sk-label fitted sk-toggleable\"><input class=\"sk-toggleable__control sk-hidden--visually\" id=\"sk-estimator-id-6\" type=\"checkbox\" ><label for=\"sk-estimator-id-6\" class=\"sk-toggleable__label fitted sk-toggleable__label-arrow\"><div><div>GridSearchCV</div></div><div><a class=\"sk-estimator-doc-link fitted\" rel=\"noreferrer\" target=\"_blank\" href=\"https://scikit-learn.org/1.6/modules/generated/sklearn.model_selection.GridSearchCV.html\">?<span>Documentation for GridSearchCV</span></a><span class=\"sk-estimator-doc-link fitted\">i<span>Fitted</span></span></div></label><div class=\"sk-toggleable__content fitted\"><pre>GridSearchCV(cv=ShuffleSplit(n_splits=10, random_state=42, test_size=0.2, train_size=None),\n",
       "             estimator=Pipeline(steps=[(&#x27;poly&#x27;, PolynomialFeatures()),\n",
       "                                       (&#x27;feature_scaling&#x27;, StandardScaler()),\n",
       "                                       (&#x27;lasso&#x27;, Lasso())]),\n",
       "             n_jobs=2,\n",
       "             param_grid={&#x27;lasso__alpha&#x27;: array([1.00000000e-04, 1.62377674e-04, 2.63665090e-04, 4.28133240e-04,\n",
       "       6.95192796e-04, 1.12883789e-03, 1.83298071e-03, 2.97635144e-03,\n",
       "       4.83293024e-03, 7.84759970e-03, 1.27427499e-02, 2.06913808e-02,\n",
       "       3.35981829e-02, 5.45559478e-02, 8.85866790e-02, 1.43844989e-01,\n",
       "       2.33572147e-01, 3.79269019e-01, 6.15848211e-01, 1.00000000e+00]),\n",
       "                         &#x27;poly__degree&#x27;: (1, 2, 3)},\n",
       "             return_train_score=True, scoring=&#x27;neg_mean_absolute_error&#x27;)</pre></div> </div></div><div class=\"sk-parallel\"><div class=\"sk-parallel-item\"><div class=\"sk-item\"><div class=\"sk-label-container\"><div class=\"sk-label fitted sk-toggleable\"><input class=\"sk-toggleable__control sk-hidden--visually\" id=\"sk-estimator-id-7\" type=\"checkbox\" ><label for=\"sk-estimator-id-7\" class=\"sk-toggleable__label fitted sk-toggleable__label-arrow\"><div><div>best_estimator_: Pipeline</div></div></label><div class=\"sk-toggleable__content fitted\"><pre>Pipeline(steps=[(&#x27;poly&#x27;, PolynomialFeatures(degree=3)),\n",
       "                (&#x27;feature_scaling&#x27;, StandardScaler()),\n",
       "                (&#x27;lasso&#x27;, Lasso(alpha=0.0001))])</pre></div> </div></div><div class=\"sk-serial\"><div class=\"sk-item\"><div class=\"sk-serial\"><div class=\"sk-item\"><div class=\"sk-estimator fitted sk-toggleable\"><input class=\"sk-toggleable__control sk-hidden--visually\" id=\"sk-estimator-id-8\" type=\"checkbox\" ><label for=\"sk-estimator-id-8\" class=\"sk-toggleable__label fitted sk-toggleable__label-arrow\"><div><div>PolynomialFeatures</div></div><div><a class=\"sk-estimator-doc-link fitted\" rel=\"noreferrer\" target=\"_blank\" href=\"https://scikit-learn.org/1.6/modules/generated/sklearn.preprocessing.PolynomialFeatures.html\">?<span>Documentation for PolynomialFeatures</span></a></div></label><div class=\"sk-toggleable__content fitted\"><pre>PolynomialFeatures(degree=3)</pre></div> </div></div><div class=\"sk-item\"><div class=\"sk-estimator fitted sk-toggleable\"><input class=\"sk-toggleable__control sk-hidden--visually\" id=\"sk-estimator-id-9\" type=\"checkbox\" ><label for=\"sk-estimator-id-9\" class=\"sk-toggleable__label fitted sk-toggleable__label-arrow\"><div><div>StandardScaler</div></div><div><a class=\"sk-estimator-doc-link fitted\" rel=\"noreferrer\" target=\"_blank\" href=\"https://scikit-learn.org/1.6/modules/generated/sklearn.preprocessing.StandardScaler.html\">?<span>Documentation for StandardScaler</span></a></div></label><div class=\"sk-toggleable__content fitted\"><pre>StandardScaler()</pre></div> </div></div><div class=\"sk-item\"><div class=\"sk-estimator fitted sk-toggleable\"><input class=\"sk-toggleable__control sk-hidden--visually\" id=\"sk-estimator-id-10\" type=\"checkbox\" ><label for=\"sk-estimator-id-10\" class=\"sk-toggleable__label fitted sk-toggleable__label-arrow\"><div><div>Lasso</div></div><div><a class=\"sk-estimator-doc-link fitted\" rel=\"noreferrer\" target=\"_blank\" href=\"https://scikit-learn.org/1.6/modules/generated/sklearn.linear_model.Lasso.html\">?<span>Documentation for Lasso</span></a></div></label><div class=\"sk-toggleable__content fitted\"><pre>Lasso(alpha=0.0001)</pre></div> </div></div></div></div></div></div></div></div></div></div></div>"
      ],
      "text/plain": [
       "GridSearchCV(cv=ShuffleSplit(n_splits=10, random_state=42, test_size=0.2, train_size=None),\n",
       "             estimator=Pipeline(steps=[('poly', PolynomialFeatures()),\n",
       "                                       ('feature_scaling', StandardScaler()),\n",
       "                                       ('lasso', Lasso())]),\n",
       "             n_jobs=2,\n",
       "             param_grid={'lasso__alpha': array([1.00000000e-04, 1.62377674e-04, 2.63665090e-04, 4.28133240e-04,\n",
       "       6.95192796e-04, 1.12883789e-03, 1.83298071e-03, 2.97635144e-03,\n",
       "       4.83293024e-03, 7.84759970e-03, 1.27427499e-02, 2.06913808e-02,\n",
       "       3.35981829e-02, 5.45559478e-02, 8.85866790e-02, 1.43844989e-01,\n",
       "       2.33572147e-01, 3.79269019e-01, 6.15848211e-01, 1.00000000e+00]),\n",
       "                         'poly__degree': (1, 2, 3)},\n",
       "             return_train_score=True, scoring='neg_mean_absolute_error')"
      ]
     },
     "execution_count": 47,
     "metadata": {},
     "output_type": "execute_result"
    }
   ],
   "source": [
    "lasso_grid_pipeline = Pipeline([(\"poly\", PolynomialFeatures()),\n",
    "                              (\"feature_scaling\", StandardScaler()),\n",
    "                              (\"lasso\", Lasso())])\n",
    "\n",
    "param_grid = {'poly__degree': (1, 2, 3),\n",
    "              'lasso__alpha': np.logspace(-4, 0, num=20)}\n",
    "lasso_grid_search = GridSearchCV(lasso_grid_pipeline,\n",
    "                                 param_grid=param_grid,\n",
    "                                 n_jobs=2,\n",
    "                                 cv=cv,\n",
    "                                 scoring=\"neg_mean_absolute_error\",\n",
    "                                 return_train_score=True)\n",
    "lasso_grid_search.fit(com_train_features, com_train_labels)"
   ]
  },
  {
   "cell_type": "code",
   "execution_count": 48,
   "metadata": {
    "execution": {
     "iopub.execute_input": "2024-08-11T20:52:51.340815Z",
     "iopub.status.busy": "2024-08-11T20:52:51.339993Z",
     "iopub.status.idle": "2024-08-11T20:52:51.353855Z",
     "shell.execute_reply": "2024-08-11T20:52:51.352506Z",
     "shell.execute_reply.started": "2024-08-11T20:52:51.340758Z"
    },
    "trusted": true
   },
   "outputs": [
    {
     "name": "stdout",
     "output_type": "stream",
     "text": [
      "Best Mean absolute error of polynomial ridge regression model on the train set:\n",
      "0.462 +/- 0.003\n",
      "Mean absolute error of polynomial ridge regression model on the test set:\n",
      "0.488 +/- 0.003\n"
     ]
    }
   ],
   "source": [
    "mean_train_error = -1*lasso_grid_search.cv_results_['mean_train_score'][lasso_grid_search.best_index_]\n",
    "mean_test_error = -1*lasso_grid_search.cv_results_['mean_test_score'][lasso_grid_search.best_index_]\n",
    "std_train_error = lasso_grid_search.cv_results_['std_train_score'][lasso_grid_search.best_index_]\n",
    "std_test_error = lasso_grid_search.cv_results_['std_train_score'][lasso_grid_search.best_index_]\n",
    "\n",
    "print(f\"Best Mean absolute error of polynomial ridge regression model on the train set:\\n\"\n",
    "      f\"{mean_train_error:.3f} +/- {std_train_error:.3f}\")\n",
    "print(f\"Mean absolute error of polynomial ridge regression model on the test set:\\n\"\n",
    "      f\"{mean_test_error:.3f} +/- {std_test_error:.3f}\")"
   ]
  },
  {
   "cell_type": "code",
   "execution_count": 49,
   "metadata": {
    "execution": {
     "iopub.execute_input": "2024-08-11T20:52:51.357541Z",
     "iopub.status.busy": "2024-08-11T20:52:51.356313Z",
     "iopub.status.idle": "2024-08-11T20:52:51.366953Z",
     "shell.execute_reply": "2024-08-11T20:52:51.364993Z",
     "shell.execute_reply.started": "2024-08-11T20:52:51.357484Z"
    },
    "trusted": true
   },
   "outputs": [
    {
     "name": "stdout",
     "output_type": "stream",
     "text": [
      "Mean cross validated score of the best estimator is:  -0.48798304453391284\n"
     ]
    }
   ],
   "source": [
    "print (\"Mean cross validated score of the best estimator is: \", lasso_grid_search.best_score_)"
   ]
  },
  {
   "cell_type": "code",
   "execution_count": 50,
   "metadata": {
    "execution": {
     "iopub.execute_input": "2024-08-11T20:52:51.370294Z",
     "iopub.status.busy": "2024-08-11T20:52:51.369622Z",
     "iopub.status.idle": "2024-08-11T20:52:51.378258Z",
     "shell.execute_reply": "2024-08-11T20:52:51.376907Z",
     "shell.execute_reply.started": "2024-08-11T20:52:51.370252Z"
    },
    "trusted": true
   },
   "outputs": [
    {
     "name": "stdout",
     "output_type": "stream",
     "text": [
      "The best parameter value is: {'lasso__alpha': 0.0001, 'poly__degree': 3}\n"
     ]
    }
   ],
   "source": [
    "print (\"The best parameter value is:\", lasso_grid_search.best_params_)"
   ]
  },
  {
   "cell_type": "markdown",
   "metadata": {},
   "source": [
    "<a id=\"sgd-regularization-hpt\"></a>\n",
    "\n",
    "<div style=\"background-color: #e3f2fd; font-size:150%; text-align:left; border: 7px solid #0288d1; text-shadow: 2px 2px 4px rgba(0, 0, 0, 0.3); font-family: Calibri; border-radius: 20px; padding: 10px; width:95%\">\n",
    "<h1 align=\"center\"><font color=#0277bd><strong>SGD REGRESSION: REGULARIZATION AND HYPERPARAMETER TUNING</strong></font></h1>\n",
    "<p style=\"font-family: Calibri; color: #0277bd; text-shadow: 2px 2px 4px rgba(0, 0, 0, 0.3); text-align: left; font-size: 110%\">\n",
    "    Stochastic Gradient Descent (SGD) is another method for regularization in linear regression. Unlike standard Linear Regression, SGDRegressor includes additional hyperparameters that need careful tuning to match or exceed the performance of other regression models."
   ]
  },
  {
   "cell_type": "code",
   "execution_count": 51,
   "metadata": {
    "execution": {
     "iopub.execute_input": "2024-08-11T20:52:51.381645Z",
     "iopub.status.busy": "2024-08-11T20:52:51.380627Z",
     "iopub.status.idle": "2024-08-11T20:52:52.796014Z",
     "shell.execute_reply": "2024-08-11T20:52:52.79459Z",
     "shell.execute_reply.started": "2024-08-11T20:52:51.38159Z"
    },
    "trusted": true
   },
   "outputs": [
    {
     "name": "stdout",
     "output_type": "stream",
     "text": [
      "Mean absolute error of linear regression model on the train set:\n",
      "10824283052.546 +/- 4423288211.832\n",
      "Mean absolute error of linear regression model on the test set:\n",
      "10946788540.250 +/- 5396536227.703\n"
     ]
    }
   ],
   "source": [
    "poly_sgd_pipeline = Pipeline([(\"poly\", PolynomialFeatures()),\n",
    "                              (\"feature_scaling\", StandardScaler()),\n",
    "                              (\"sgd_reg\", SGDRegressor(\n",
    "                                 penalty='elasticnet',\n",
    "                                 random_state=42))])\n",
    "poly_sgd_cv_results = cross_validate(poly_sgd_pipeline,\n",
    "                                    com_train_features,\n",
    "                                    com_train_labels,\n",
    "                                    cv=cv,\n",
    "                                    scoring=\"neg_mean_absolute_error\",\n",
    "                                    return_train_score=True,\n",
    "                                    return_estimator=True)\n",
    "\n",
    "poly_sgd_train_error = -1 * poly_sgd_cv_results['train_score']\n",
    "poly_sgd_test_error = -1 * poly_sgd_cv_results['test_score']\n",
    "\n",
    "print(f\"Mean absolute error of linear regression model on the train set:\\n\"\n",
    "      f\"{poly_sgd_train_error.mean():.3f} +/- {poly_sgd_train_error.std():.3f}\")\n",
    "print(f\"Mean absolute error of linear regression model on the test set:\\n\"\n",
    "      f\"{poly_sgd_test_error.mean():.3f} +/- {poly_sgd_test_error.std():.3f}\")"
   ]
  },
  {
   "cell_type": "markdown",
   "metadata": {},
   "source": [
    "<a id=\"search-best-parameters-randomizedsearchcv\"></a>\n",
    "\n",
    "<div style=\"background-color: #e3f2fd; font-size:150%; text-align:left; border: 7px solid #0288d1; text-shadow: 2px 2px 4px rgba(0, 0, 0, 0.3); font-family: Calibri; border-radius: 20px; padding: 10px; width:95%\">\n",
    "<h1 align=\"center\"><font color=#0277bd><strong>SEARCHING FOR BEST PARAMETERS WITH RANDOMIZEDSEARCHCV</strong></font></h1>\n",
    "<p style=\"font-family: Calibri; color: #0277bd; text-shadow: 2px 2px 4px rgba(0, 0, 0, 0.3); text-align: left; font-size: 110%\">\n",
    "    To find the optimal set of parameters for the Polynomial + SGD pipeline, we will use <code>RandomizedSearchCV</code>. This technique allows us to efficiently search through a range of hyperparameters to identify the best combination for our model."
   ]
  },
  {
   "cell_type": "code",
   "execution_count": 52,
   "metadata": {
    "execution": {
     "iopub.execute_input": "2024-08-11T20:52:52.799564Z",
     "iopub.status.busy": "2024-08-11T20:52:52.798483Z",
     "iopub.status.idle": "2024-08-11T20:52:52.809216Z",
     "shell.execute_reply": "2024-08-11T20:52:52.80777Z",
     "shell.execute_reply.started": "2024-08-11T20:52:52.799508Z"
    },
    "trusted": true
   },
   "outputs": [],
   "source": [
    "class uniform_int:\n",
    "    \"\"\"Integer valued version of the uniform distribution\"\"\"\n",
    "    def __init__(self, a, b):\n",
    "        self._distribution = uniform(a, b)\n",
    "\n",
    "    def rvs(self, *args, **kwargs):\n",
    "        \"\"\"Random variable sample\"\"\"\n",
    "        return self._distribution.rvs(*args, **kwargs).astype(int)"
   ]
  },
  {
   "cell_type": "markdown",
   "metadata": {},
   "source": [
    "**Let's specify RandomizedSearchCV set up.**"
   ]
  },
  {
   "cell_type": "code",
   "execution_count": 53,
   "metadata": {
    "execution": {
     "iopub.execute_input": "2024-08-11T20:52:52.812822Z",
     "iopub.status.busy": "2024-08-11T20:52:52.811766Z",
     "iopub.status.idle": "2024-08-11T20:53:31.353228Z",
     "shell.execute_reply": "2024-08-11T20:53:31.352089Z",
     "shell.execute_reply.started": "2024-08-11T20:52:52.812767Z"
    },
    "trusted": true
   },
   "outputs": [
    {
     "name": "stdout",
     "output_type": "stream",
     "text": [
      "Fitting 10 folds for each of 10 candidates, totalling 100 fits\n"
     ]
    },
    {
     "data": {
      "text/html": [
       "<style>#sk-container-id-3 {\n",
       "  /* Definition of color scheme common for light and dark mode */\n",
       "  --sklearn-color-text: #000;\n",
       "  --sklearn-color-text-muted: #666;\n",
       "  --sklearn-color-line: gray;\n",
       "  /* Definition of color scheme for unfitted estimators */\n",
       "  --sklearn-color-unfitted-level-0: #fff5e6;\n",
       "  --sklearn-color-unfitted-level-1: #f6e4d2;\n",
       "  --sklearn-color-unfitted-level-2: #ffe0b3;\n",
       "  --sklearn-color-unfitted-level-3: chocolate;\n",
       "  /* Definition of color scheme for fitted estimators */\n",
       "  --sklearn-color-fitted-level-0: #f0f8ff;\n",
       "  --sklearn-color-fitted-level-1: #d4ebff;\n",
       "  --sklearn-color-fitted-level-2: #b3dbfd;\n",
       "  --sklearn-color-fitted-level-3: cornflowerblue;\n",
       "\n",
       "  /* Specific color for light theme */\n",
       "  --sklearn-color-text-on-default-background: var(--sg-text-color, var(--theme-code-foreground, var(--jp-content-font-color1, black)));\n",
       "  --sklearn-color-background: var(--sg-background-color, var(--theme-background, var(--jp-layout-color0, white)));\n",
       "  --sklearn-color-border-box: var(--sg-text-color, var(--theme-code-foreground, var(--jp-content-font-color1, black)));\n",
       "  --sklearn-color-icon: #696969;\n",
       "\n",
       "  @media (prefers-color-scheme: dark) {\n",
       "    /* Redefinition of color scheme for dark theme */\n",
       "    --sklearn-color-text-on-default-background: var(--sg-text-color, var(--theme-code-foreground, var(--jp-content-font-color1, white)));\n",
       "    --sklearn-color-background: var(--sg-background-color, var(--theme-background, var(--jp-layout-color0, #111)));\n",
       "    --sklearn-color-border-box: var(--sg-text-color, var(--theme-code-foreground, var(--jp-content-font-color1, white)));\n",
       "    --sklearn-color-icon: #878787;\n",
       "  }\n",
       "}\n",
       "\n",
       "#sk-container-id-3 {\n",
       "  color: var(--sklearn-color-text);\n",
       "}\n",
       "\n",
       "#sk-container-id-3 pre {\n",
       "  padding: 0;\n",
       "}\n",
       "\n",
       "#sk-container-id-3 input.sk-hidden--visually {\n",
       "  border: 0;\n",
       "  clip: rect(1px 1px 1px 1px);\n",
       "  clip: rect(1px, 1px, 1px, 1px);\n",
       "  height: 1px;\n",
       "  margin: -1px;\n",
       "  overflow: hidden;\n",
       "  padding: 0;\n",
       "  position: absolute;\n",
       "  width: 1px;\n",
       "}\n",
       "\n",
       "#sk-container-id-3 div.sk-dashed-wrapped {\n",
       "  border: 1px dashed var(--sklearn-color-line);\n",
       "  margin: 0 0.4em 0.5em 0.4em;\n",
       "  box-sizing: border-box;\n",
       "  padding-bottom: 0.4em;\n",
       "  background-color: var(--sklearn-color-background);\n",
       "}\n",
       "\n",
       "#sk-container-id-3 div.sk-container {\n",
       "  /* jupyter's `normalize.less` sets `[hidden] { display: none; }`\n",
       "     but bootstrap.min.css set `[hidden] { display: none !important; }`\n",
       "     so we also need the `!important` here to be able to override the\n",
       "     default hidden behavior on the sphinx rendered scikit-learn.org.\n",
       "     See: https://github.com/scikit-learn/scikit-learn/issues/21755 */\n",
       "  display: inline-block !important;\n",
       "  position: relative;\n",
       "}\n",
       "\n",
       "#sk-container-id-3 div.sk-text-repr-fallback {\n",
       "  display: none;\n",
       "}\n",
       "\n",
       "div.sk-parallel-item,\n",
       "div.sk-serial,\n",
       "div.sk-item {\n",
       "  /* draw centered vertical line to link estimators */\n",
       "  background-image: linear-gradient(var(--sklearn-color-text-on-default-background), var(--sklearn-color-text-on-default-background));\n",
       "  background-size: 2px 100%;\n",
       "  background-repeat: no-repeat;\n",
       "  background-position: center center;\n",
       "}\n",
       "\n",
       "/* Parallel-specific style estimator block */\n",
       "\n",
       "#sk-container-id-3 div.sk-parallel-item::after {\n",
       "  content: \"\";\n",
       "  width: 100%;\n",
       "  border-bottom: 2px solid var(--sklearn-color-text-on-default-background);\n",
       "  flex-grow: 1;\n",
       "}\n",
       "\n",
       "#sk-container-id-3 div.sk-parallel {\n",
       "  display: flex;\n",
       "  align-items: stretch;\n",
       "  justify-content: center;\n",
       "  background-color: var(--sklearn-color-background);\n",
       "  position: relative;\n",
       "}\n",
       "\n",
       "#sk-container-id-3 div.sk-parallel-item {\n",
       "  display: flex;\n",
       "  flex-direction: column;\n",
       "}\n",
       "\n",
       "#sk-container-id-3 div.sk-parallel-item:first-child::after {\n",
       "  align-self: flex-end;\n",
       "  width: 50%;\n",
       "}\n",
       "\n",
       "#sk-container-id-3 div.sk-parallel-item:last-child::after {\n",
       "  align-self: flex-start;\n",
       "  width: 50%;\n",
       "}\n",
       "\n",
       "#sk-container-id-3 div.sk-parallel-item:only-child::after {\n",
       "  width: 0;\n",
       "}\n",
       "\n",
       "/* Serial-specific style estimator block */\n",
       "\n",
       "#sk-container-id-3 div.sk-serial {\n",
       "  display: flex;\n",
       "  flex-direction: column;\n",
       "  align-items: center;\n",
       "  background-color: var(--sklearn-color-background);\n",
       "  padding-right: 1em;\n",
       "  padding-left: 1em;\n",
       "}\n",
       "\n",
       "\n",
       "/* Toggleable style: style used for estimator/Pipeline/ColumnTransformer box that is\n",
       "clickable and can be expanded/collapsed.\n",
       "- Pipeline and ColumnTransformer use this feature and define the default style\n",
       "- Estimators will overwrite some part of the style using the `sk-estimator` class\n",
       "*/\n",
       "\n",
       "/* Pipeline and ColumnTransformer style (default) */\n",
       "\n",
       "#sk-container-id-3 div.sk-toggleable {\n",
       "  /* Default theme specific background. It is overwritten whether we have a\n",
       "  specific estimator or a Pipeline/ColumnTransformer */\n",
       "  background-color: var(--sklearn-color-background);\n",
       "}\n",
       "\n",
       "/* Toggleable label */\n",
       "#sk-container-id-3 label.sk-toggleable__label {\n",
       "  cursor: pointer;\n",
       "  display: flex;\n",
       "  width: 100%;\n",
       "  margin-bottom: 0;\n",
       "  padding: 0.5em;\n",
       "  box-sizing: border-box;\n",
       "  text-align: center;\n",
       "  align-items: start;\n",
       "  justify-content: space-between;\n",
       "  gap: 0.5em;\n",
       "}\n",
       "\n",
       "#sk-container-id-3 label.sk-toggleable__label .caption {\n",
       "  font-size: 0.6rem;\n",
       "  font-weight: lighter;\n",
       "  color: var(--sklearn-color-text-muted);\n",
       "}\n",
       "\n",
       "#sk-container-id-3 label.sk-toggleable__label-arrow:before {\n",
       "  /* Arrow on the left of the label */\n",
       "  content: \"▸\";\n",
       "  float: left;\n",
       "  margin-right: 0.25em;\n",
       "  color: var(--sklearn-color-icon);\n",
       "}\n",
       "\n",
       "#sk-container-id-3 label.sk-toggleable__label-arrow:hover:before {\n",
       "  color: var(--sklearn-color-text);\n",
       "}\n",
       "\n",
       "/* Toggleable content - dropdown */\n",
       "\n",
       "#sk-container-id-3 div.sk-toggleable__content {\n",
       "  max-height: 0;\n",
       "  max-width: 0;\n",
       "  overflow: hidden;\n",
       "  text-align: left;\n",
       "  /* unfitted */\n",
       "  background-color: var(--sklearn-color-unfitted-level-0);\n",
       "}\n",
       "\n",
       "#sk-container-id-3 div.sk-toggleable__content.fitted {\n",
       "  /* fitted */\n",
       "  background-color: var(--sklearn-color-fitted-level-0);\n",
       "}\n",
       "\n",
       "#sk-container-id-3 div.sk-toggleable__content pre {\n",
       "  margin: 0.2em;\n",
       "  border-radius: 0.25em;\n",
       "  color: var(--sklearn-color-text);\n",
       "  /* unfitted */\n",
       "  background-color: var(--sklearn-color-unfitted-level-0);\n",
       "}\n",
       "\n",
       "#sk-container-id-3 div.sk-toggleable__content.fitted pre {\n",
       "  /* unfitted */\n",
       "  background-color: var(--sklearn-color-fitted-level-0);\n",
       "}\n",
       "\n",
       "#sk-container-id-3 input.sk-toggleable__control:checked~div.sk-toggleable__content {\n",
       "  /* Expand drop-down */\n",
       "  max-height: 200px;\n",
       "  max-width: 100%;\n",
       "  overflow: auto;\n",
       "}\n",
       "\n",
       "#sk-container-id-3 input.sk-toggleable__control:checked~label.sk-toggleable__label-arrow:before {\n",
       "  content: \"▾\";\n",
       "}\n",
       "\n",
       "/* Pipeline/ColumnTransformer-specific style */\n",
       "\n",
       "#sk-container-id-3 div.sk-label input.sk-toggleable__control:checked~label.sk-toggleable__label {\n",
       "  color: var(--sklearn-color-text);\n",
       "  background-color: var(--sklearn-color-unfitted-level-2);\n",
       "}\n",
       "\n",
       "#sk-container-id-3 div.sk-label.fitted input.sk-toggleable__control:checked~label.sk-toggleable__label {\n",
       "  background-color: var(--sklearn-color-fitted-level-2);\n",
       "}\n",
       "\n",
       "/* Estimator-specific style */\n",
       "\n",
       "/* Colorize estimator box */\n",
       "#sk-container-id-3 div.sk-estimator input.sk-toggleable__control:checked~label.sk-toggleable__label {\n",
       "  /* unfitted */\n",
       "  background-color: var(--sklearn-color-unfitted-level-2);\n",
       "}\n",
       "\n",
       "#sk-container-id-3 div.sk-estimator.fitted input.sk-toggleable__control:checked~label.sk-toggleable__label {\n",
       "  /* fitted */\n",
       "  background-color: var(--sklearn-color-fitted-level-2);\n",
       "}\n",
       "\n",
       "#sk-container-id-3 div.sk-label label.sk-toggleable__label,\n",
       "#sk-container-id-3 div.sk-label label {\n",
       "  /* The background is the default theme color */\n",
       "  color: var(--sklearn-color-text-on-default-background);\n",
       "}\n",
       "\n",
       "/* On hover, darken the color of the background */\n",
       "#sk-container-id-3 div.sk-label:hover label.sk-toggleable__label {\n",
       "  color: var(--sklearn-color-text);\n",
       "  background-color: var(--sklearn-color-unfitted-level-2);\n",
       "}\n",
       "\n",
       "/* Label box, darken color on hover, fitted */\n",
       "#sk-container-id-3 div.sk-label.fitted:hover label.sk-toggleable__label.fitted {\n",
       "  color: var(--sklearn-color-text);\n",
       "  background-color: var(--sklearn-color-fitted-level-2);\n",
       "}\n",
       "\n",
       "/* Estimator label */\n",
       "\n",
       "#sk-container-id-3 div.sk-label label {\n",
       "  font-family: monospace;\n",
       "  font-weight: bold;\n",
       "  display: inline-block;\n",
       "  line-height: 1.2em;\n",
       "}\n",
       "\n",
       "#sk-container-id-3 div.sk-label-container {\n",
       "  text-align: center;\n",
       "}\n",
       "\n",
       "/* Estimator-specific */\n",
       "#sk-container-id-3 div.sk-estimator {\n",
       "  font-family: monospace;\n",
       "  border: 1px dotted var(--sklearn-color-border-box);\n",
       "  border-radius: 0.25em;\n",
       "  box-sizing: border-box;\n",
       "  margin-bottom: 0.5em;\n",
       "  /* unfitted */\n",
       "  background-color: var(--sklearn-color-unfitted-level-0);\n",
       "}\n",
       "\n",
       "#sk-container-id-3 div.sk-estimator.fitted {\n",
       "  /* fitted */\n",
       "  background-color: var(--sklearn-color-fitted-level-0);\n",
       "}\n",
       "\n",
       "/* on hover */\n",
       "#sk-container-id-3 div.sk-estimator:hover {\n",
       "  /* unfitted */\n",
       "  background-color: var(--sklearn-color-unfitted-level-2);\n",
       "}\n",
       "\n",
       "#sk-container-id-3 div.sk-estimator.fitted:hover {\n",
       "  /* fitted */\n",
       "  background-color: var(--sklearn-color-fitted-level-2);\n",
       "}\n",
       "\n",
       "/* Specification for estimator info (e.g. \"i\" and \"?\") */\n",
       "\n",
       "/* Common style for \"i\" and \"?\" */\n",
       "\n",
       ".sk-estimator-doc-link,\n",
       "a:link.sk-estimator-doc-link,\n",
       "a:visited.sk-estimator-doc-link {\n",
       "  float: right;\n",
       "  font-size: smaller;\n",
       "  line-height: 1em;\n",
       "  font-family: monospace;\n",
       "  background-color: var(--sklearn-color-background);\n",
       "  border-radius: 1em;\n",
       "  height: 1em;\n",
       "  width: 1em;\n",
       "  text-decoration: none !important;\n",
       "  margin-left: 0.5em;\n",
       "  text-align: center;\n",
       "  /* unfitted */\n",
       "  border: var(--sklearn-color-unfitted-level-1) 1pt solid;\n",
       "  color: var(--sklearn-color-unfitted-level-1);\n",
       "}\n",
       "\n",
       ".sk-estimator-doc-link.fitted,\n",
       "a:link.sk-estimator-doc-link.fitted,\n",
       "a:visited.sk-estimator-doc-link.fitted {\n",
       "  /* fitted */\n",
       "  border: var(--sklearn-color-fitted-level-1) 1pt solid;\n",
       "  color: var(--sklearn-color-fitted-level-1);\n",
       "}\n",
       "\n",
       "/* On hover */\n",
       "div.sk-estimator:hover .sk-estimator-doc-link:hover,\n",
       ".sk-estimator-doc-link:hover,\n",
       "div.sk-label-container:hover .sk-estimator-doc-link:hover,\n",
       ".sk-estimator-doc-link:hover {\n",
       "  /* unfitted */\n",
       "  background-color: var(--sklearn-color-unfitted-level-3);\n",
       "  color: var(--sklearn-color-background);\n",
       "  text-decoration: none;\n",
       "}\n",
       "\n",
       "div.sk-estimator.fitted:hover .sk-estimator-doc-link.fitted:hover,\n",
       ".sk-estimator-doc-link.fitted:hover,\n",
       "div.sk-label-container:hover .sk-estimator-doc-link.fitted:hover,\n",
       ".sk-estimator-doc-link.fitted:hover {\n",
       "  /* fitted */\n",
       "  background-color: var(--sklearn-color-fitted-level-3);\n",
       "  color: var(--sklearn-color-background);\n",
       "  text-decoration: none;\n",
       "}\n",
       "\n",
       "/* Span, style for the box shown on hovering the info icon */\n",
       ".sk-estimator-doc-link span {\n",
       "  display: none;\n",
       "  z-index: 9999;\n",
       "  position: relative;\n",
       "  font-weight: normal;\n",
       "  right: .2ex;\n",
       "  padding: .5ex;\n",
       "  margin: .5ex;\n",
       "  width: min-content;\n",
       "  min-width: 20ex;\n",
       "  max-width: 50ex;\n",
       "  color: var(--sklearn-color-text);\n",
       "  box-shadow: 2pt 2pt 4pt #999;\n",
       "  /* unfitted */\n",
       "  background: var(--sklearn-color-unfitted-level-0);\n",
       "  border: .5pt solid var(--sklearn-color-unfitted-level-3);\n",
       "}\n",
       "\n",
       ".sk-estimator-doc-link.fitted span {\n",
       "  /* fitted */\n",
       "  background: var(--sklearn-color-fitted-level-0);\n",
       "  border: var(--sklearn-color-fitted-level-3);\n",
       "}\n",
       "\n",
       ".sk-estimator-doc-link:hover span {\n",
       "  display: block;\n",
       "}\n",
       "\n",
       "/* \"?\"-specific style due to the `<a>` HTML tag */\n",
       "\n",
       "#sk-container-id-3 a.estimator_doc_link {\n",
       "  float: right;\n",
       "  font-size: 1rem;\n",
       "  line-height: 1em;\n",
       "  font-family: monospace;\n",
       "  background-color: var(--sklearn-color-background);\n",
       "  border-radius: 1rem;\n",
       "  height: 1rem;\n",
       "  width: 1rem;\n",
       "  text-decoration: none;\n",
       "  /* unfitted */\n",
       "  color: var(--sklearn-color-unfitted-level-1);\n",
       "  border: var(--sklearn-color-unfitted-level-1) 1pt solid;\n",
       "}\n",
       "\n",
       "#sk-container-id-3 a.estimator_doc_link.fitted {\n",
       "  /* fitted */\n",
       "  border: var(--sklearn-color-fitted-level-1) 1pt solid;\n",
       "  color: var(--sklearn-color-fitted-level-1);\n",
       "}\n",
       "\n",
       "/* On hover */\n",
       "#sk-container-id-3 a.estimator_doc_link:hover {\n",
       "  /* unfitted */\n",
       "  background-color: var(--sklearn-color-unfitted-level-3);\n",
       "  color: var(--sklearn-color-background);\n",
       "  text-decoration: none;\n",
       "}\n",
       "\n",
       "#sk-container-id-3 a.estimator_doc_link.fitted:hover {\n",
       "  /* fitted */\n",
       "  background-color: var(--sklearn-color-fitted-level-3);\n",
       "}\n",
       "</style><div id=\"sk-container-id-3\" class=\"sk-top-container\"><div class=\"sk-text-repr-fallback\"><pre>RandomizedSearchCV(cv=ShuffleSplit(n_splits=10, random_state=42, test_size=0.2, train_size=None),\n",
       "                   estimator=Pipeline(steps=[(&#x27;poly&#x27;, PolynomialFeatures()),\n",
       "                                             (&#x27;feature_scaling&#x27;,\n",
       "                                              StandardScaler()),\n",
       "                                             (&#x27;sgd_reg&#x27;,\n",
       "                                              SGDRegressor(penalty=&#x27;elasticnet&#x27;,\n",
       "                                                           random_state=42))]),\n",
       "                   param_distributions={&#x27;poly__degree&#x27;: [1, 2, 3],\n",
       "                                        &#x27;sgd_reg__eta0&#x27;: &lt;scipy.stats._distn_infrastructure.rv_continuous_frozen object at 0x1681a6f90&gt;,\n",
       "                                        &#x27;sgd_reg__l1_ratio&#x27;: &lt;scipy.stats._distn_infrastructure.rv_continuous_frozen object at 0x16818ae90&gt;,\n",
       "                                        &#x27;sgd_reg__learning_rate&#x27;: [&#x27;constant&#x27;,\n",
       "                                                                   &#x27;adaptive&#x27;,\n",
       "                                                                   &#x27;invscaling&#x27;],\n",
       "                                        &#x27;sgd_reg__power_t&#x27;: &lt;scipy.stats._distn_infrastructure.rv_continuous_frozen object at 0x1681a4690&gt;},\n",
       "                   scoring=&#x27;neg_mean_absolute_error&#x27;, verbose=1)</pre><b>In a Jupyter environment, please rerun this cell to show the HTML representation or trust the notebook. <br />On GitHub, the HTML representation is unable to render, please try loading this page with nbviewer.org.</b></div><div class=\"sk-container\" hidden><div class=\"sk-item sk-dashed-wrapped\"><div class=\"sk-label-container\"><div class=\"sk-label fitted sk-toggleable\"><input class=\"sk-toggleable__control sk-hidden--visually\" id=\"sk-estimator-id-11\" type=\"checkbox\" ><label for=\"sk-estimator-id-11\" class=\"sk-toggleable__label fitted sk-toggleable__label-arrow\"><div><div>RandomizedSearchCV</div></div><div><a class=\"sk-estimator-doc-link fitted\" rel=\"noreferrer\" target=\"_blank\" href=\"https://scikit-learn.org/1.6/modules/generated/sklearn.model_selection.RandomizedSearchCV.html\">?<span>Documentation for RandomizedSearchCV</span></a><span class=\"sk-estimator-doc-link fitted\">i<span>Fitted</span></span></div></label><div class=\"sk-toggleable__content fitted\"><pre>RandomizedSearchCV(cv=ShuffleSplit(n_splits=10, random_state=42, test_size=0.2, train_size=None),\n",
       "                   estimator=Pipeline(steps=[(&#x27;poly&#x27;, PolynomialFeatures()),\n",
       "                                             (&#x27;feature_scaling&#x27;,\n",
       "                                              StandardScaler()),\n",
       "                                             (&#x27;sgd_reg&#x27;,\n",
       "                                              SGDRegressor(penalty=&#x27;elasticnet&#x27;,\n",
       "                                                           random_state=42))]),\n",
       "                   param_distributions={&#x27;poly__degree&#x27;: [1, 2, 3],\n",
       "                                        &#x27;sgd_reg__eta0&#x27;: &lt;scipy.stats._distn_infrastructure.rv_continuous_frozen object at 0x1681a6f90&gt;,\n",
       "                                        &#x27;sgd_reg__l1_ratio&#x27;: &lt;scipy.stats._distn_infrastructure.rv_continuous_frozen object at 0x16818ae90&gt;,\n",
       "                                        &#x27;sgd_reg__learning_rate&#x27;: [&#x27;constant&#x27;,\n",
       "                                                                   &#x27;adaptive&#x27;,\n",
       "                                                                   &#x27;invscaling&#x27;],\n",
       "                                        &#x27;sgd_reg__power_t&#x27;: &lt;scipy.stats._distn_infrastructure.rv_continuous_frozen object at 0x1681a4690&gt;},\n",
       "                   scoring=&#x27;neg_mean_absolute_error&#x27;, verbose=1)</pre></div> </div></div><div class=\"sk-parallel\"><div class=\"sk-parallel-item\"><div class=\"sk-item\"><div class=\"sk-label-container\"><div class=\"sk-label fitted sk-toggleable\"><input class=\"sk-toggleable__control sk-hidden--visually\" id=\"sk-estimator-id-12\" type=\"checkbox\" ><label for=\"sk-estimator-id-12\" class=\"sk-toggleable__label fitted sk-toggleable__label-arrow\"><div><div>best_estimator_: Pipeline</div></div></label><div class=\"sk-toggleable__content fitted\"><pre>Pipeline(steps=[(&#x27;poly&#x27;, PolynomialFeatures(degree=1)),\n",
       "                (&#x27;feature_scaling&#x27;, StandardScaler()),\n",
       "                (&#x27;sgd_reg&#x27;,\n",
       "                 SGDRegressor(eta0=0.00015476270108098552,\n",
       "                              l1_ratio=0.5485428561088888,\n",
       "                              learning_rate=&#x27;constant&#x27;, penalty=&#x27;elasticnet&#x27;,\n",
       "                              power_t=0.4907965441139148, random_state=42))])</pre></div> </div></div><div class=\"sk-serial\"><div class=\"sk-item\"><div class=\"sk-serial\"><div class=\"sk-item\"><div class=\"sk-estimator fitted sk-toggleable\"><input class=\"sk-toggleable__control sk-hidden--visually\" id=\"sk-estimator-id-13\" type=\"checkbox\" ><label for=\"sk-estimator-id-13\" class=\"sk-toggleable__label fitted sk-toggleable__label-arrow\"><div><div>PolynomialFeatures</div></div><div><a class=\"sk-estimator-doc-link fitted\" rel=\"noreferrer\" target=\"_blank\" href=\"https://scikit-learn.org/1.6/modules/generated/sklearn.preprocessing.PolynomialFeatures.html\">?<span>Documentation for PolynomialFeatures</span></a></div></label><div class=\"sk-toggleable__content fitted\"><pre>PolynomialFeatures(degree=1)</pre></div> </div></div><div class=\"sk-item\"><div class=\"sk-estimator fitted sk-toggleable\"><input class=\"sk-toggleable__control sk-hidden--visually\" id=\"sk-estimator-id-14\" type=\"checkbox\" ><label for=\"sk-estimator-id-14\" class=\"sk-toggleable__label fitted sk-toggleable__label-arrow\"><div><div>StandardScaler</div></div><div><a class=\"sk-estimator-doc-link fitted\" rel=\"noreferrer\" target=\"_blank\" href=\"https://scikit-learn.org/1.6/modules/generated/sklearn.preprocessing.StandardScaler.html\">?<span>Documentation for StandardScaler</span></a></div></label><div class=\"sk-toggleable__content fitted\"><pre>StandardScaler()</pre></div> </div></div><div class=\"sk-item\"><div class=\"sk-estimator fitted sk-toggleable\"><input class=\"sk-toggleable__control sk-hidden--visually\" id=\"sk-estimator-id-15\" type=\"checkbox\" ><label for=\"sk-estimator-id-15\" class=\"sk-toggleable__label fitted sk-toggleable__label-arrow\"><div><div>SGDRegressor</div></div><div><a class=\"sk-estimator-doc-link fitted\" rel=\"noreferrer\" target=\"_blank\" href=\"https://scikit-learn.org/1.6/modules/generated/sklearn.linear_model.SGDRegressor.html\">?<span>Documentation for SGDRegressor</span></a></div></label><div class=\"sk-toggleable__content fitted\"><pre>SGDRegressor(eta0=0.00015476270108098552, l1_ratio=0.5485428561088888,\n",
       "             learning_rate=&#x27;constant&#x27;, penalty=&#x27;elasticnet&#x27;,\n",
       "             power_t=0.4907965441139148, random_state=42)</pre></div> </div></div></div></div></div></div></div></div></div></div></div>"
      ],
      "text/plain": [
       "RandomizedSearchCV(cv=ShuffleSplit(n_splits=10, random_state=42, test_size=0.2, train_size=None),\n",
       "                   estimator=Pipeline(steps=[('poly', PolynomialFeatures()),\n",
       "                                             ('feature_scaling',\n",
       "                                              StandardScaler()),\n",
       "                                             ('sgd_reg',\n",
       "                                              SGDRegressor(penalty='elasticnet',\n",
       "                                                           random_state=42))]),\n",
       "                   param_distributions={'poly__degree': [1, 2, 3],\n",
       "                                        'sgd_reg__eta0': <scipy.stats._distn_infrastructure.rv_continuous_frozen object at 0x1681a6f90>,\n",
       "                                        'sgd_reg__l1_ratio': <scipy.stats._distn_infrastructure.rv_continuous_frozen object at 0x16818ae90>,\n",
       "                                        'sgd_reg__learning_rate': ['constant',\n",
       "                                                                   'adaptive',\n",
       "                                                                   'invscaling'],\n",
       "                                        'sgd_reg__power_t': <scipy.stats._distn_infrastructure.rv_continuous_frozen object at 0x1681a4690>},\n",
       "                   scoring='neg_mean_absolute_error', verbose=1)"
      ]
     },
     "execution_count": 53,
     "metadata": {},
     "output_type": "execute_result"
    }
   ],
   "source": [
    "param_distributions = {\n",
    "    'poly__degree': [1, 2, 3],\n",
    "    'sgd_reg__learning_rate': ['constant', 'adaptive', 'invscaling'],\n",
    "    'sgd_reg__l1_ratio': uniform(0, 1),\n",
    "    'sgd_reg__eta0': loguniform(1e-5, 1),\n",
    "    'sgd_reg__power_t': uniform(0, 1)\n",
    "}\n",
    "\n",
    "poly_sgd_random_search = RandomizedSearchCV(\n",
    "    poly_sgd_pipeline, param_distributions=param_distributions,\n",
    "    n_iter=10, cv=cv, verbose=1, scoring='neg_mean_absolute_error'\n",
    ")\n",
    "poly_sgd_random_search.fit(com_train_features, com_train_labels)"
   ]
  },
  {
   "cell_type": "code",
   "execution_count": 54,
   "metadata": {
    "execution": {
     "iopub.execute_input": "2024-08-11T20:53:31.35483Z",
     "iopub.status.busy": "2024-08-11T20:53:31.354476Z",
     "iopub.status.idle": "2024-08-11T20:53:31.362213Z",
     "shell.execute_reply": "2024-08-11T20:53:31.361036Z",
     "shell.execute_reply.started": "2024-08-11T20:53:31.354801Z"
    },
    "trusted": true
   },
   "outputs": [
    {
     "data": {
      "text/plain": [
       "-0.5273014585580171"
      ]
     },
     "execution_count": 54,
     "metadata": {},
     "output_type": "execute_result"
    }
   ],
   "source": [
    "poly_sgd_random_search.best_score_"
   ]
  },
  {
   "cell_type": "code",
   "execution_count": 55,
   "metadata": {
    "execution": {
     "iopub.execute_input": "2024-08-11T20:53:31.364096Z",
     "iopub.status.busy": "2024-08-11T20:53:31.363683Z",
     "iopub.status.idle": "2024-08-11T20:53:31.3732Z",
     "shell.execute_reply": "2024-08-11T20:53:31.372038Z",
     "shell.execute_reply.started": "2024-08-11T20:53:31.364059Z"
    },
    "trusted": true
   },
   "outputs": [
    {
     "data": {
      "text/plain": [
       "{'poly__degree': 1,\n",
       " 'sgd_reg__eta0': 0.00015476270108098552,\n",
       " 'sgd_reg__l1_ratio': 0.5485428561088888,\n",
       " 'sgd_reg__learning_rate': 'constant',\n",
       " 'sgd_reg__power_t': 0.4907965441139148}"
      ]
     },
     "execution_count": 55,
     "metadata": {},
     "output_type": "execute_result"
    }
   ],
   "source": [
    "poly_sgd_random_search.best_params_"
   ]
  },
  {
   "cell_type": "markdown",
   "metadata": {},
   "source": [
    "**And the best estimator can be accessed with best_estimator_ member variable.**"
   ]
  },
  {
   "cell_type": "markdown",
   "metadata": {},
   "source": [
    "<a id=\"comparison-of-weight-vectors\"></a>\n",
    "\n",
    "<div style=\"background-color: #e3f2fd; font-size:150%; text-align:left; border: 7px solid #0288d1; text-shadow: 2px 2px 4px rgba(0, 0, 0, 0.3); font-family: Calibri; border-radius: 20px; padding: 10px; width:95%\">\n",
    "<h1 align=\"center\"><font color=#0277bd><strong>COMPARISON OF WEIGHT VECTORS</strong></font></h1>\n",
    "<p style=\"font-family: Calibri; color: #0277bd; text-shadow: 2px 2px 4px rgba(0, 0, 0, 0.3); text-align: left; font-size: 110%\">\n",
    "    In this section, we will compare the weight vectors produced by different regression models. The weight vectors provide insights into the importance of each feature in predicting the target variable."
   ]
  },
  {
   "cell_type": "code",
   "execution_count": 56,
   "metadata": {
    "execution": {
     "iopub.execute_input": "2024-08-11T20:53:31.375389Z",
     "iopub.status.busy": "2024-08-11T20:53:31.37495Z",
     "iopub.status.idle": "2024-08-11T20:53:31.386147Z",
     "shell.execute_reply": "2024-08-11T20:53:31.384985Z",
     "shell.execute_reply.started": "2024-08-11T20:53:31.375351Z"
    },
    "trusted": true
   },
   "outputs": [
    {
     "data": {
      "text/plain": [
       "array(['1', 'MedInc', 'HouseAge', 'AveRooms', 'AveBedrms', 'Population',\n",
       "       'AveOccup', 'Latitude', 'Longitude', 'MedInc HouseAge',\n",
       "       'MedInc AveRooms', 'MedInc AveBedrms', 'MedInc Population',\n",
       "       'MedInc AveOccup', 'MedInc Latitude', 'MedInc Longitude',\n",
       "       'HouseAge AveRooms', 'HouseAge AveBedrms', 'HouseAge Population',\n",
       "       'HouseAge AveOccup', 'HouseAge Latitude', 'HouseAge Longitude',\n",
       "       'AveRooms AveBedrms', 'AveRooms Population', 'AveRooms AveOccup',\n",
       "       'AveRooms Latitude', 'AveRooms Longitude', 'AveBedrms Population',\n",
       "       'AveBedrms AveOccup', 'AveBedrms Latitude', 'AveBedrms Longitude',\n",
       "       'Population AveOccup', 'Population Latitude',\n",
       "       'Population Longitude', 'AveOccup Latitude', 'AveOccup Longitude',\n",
       "       'Latitude Longitude'], dtype=object)"
      ]
     },
     "execution_count": 56,
     "metadata": {},
     "output_type": "execute_result"
    }
   ],
   "source": [
    "feature_names = poly_reg_cv_results[\"estimator\"][0][0].get_feature_names_out(\n",
    "    input_features=train_features.columns)\n",
    "feature_names"
   ]
  },
  {
   "cell_type": "code",
   "execution_count": 57,
   "metadata": {
    "execution": {
     "iopub.execute_input": "2024-08-11T20:53:31.388467Z",
     "iopub.status.busy": "2024-08-11T20:53:31.388018Z",
     "iopub.status.idle": "2024-08-11T20:53:31.401372Z",
     "shell.execute_reply": "2024-08-11T20:53:31.400074Z",
     "shell.execute_reply.started": "2024-08-11T20:53:31.388427Z"
    },
    "trusted": true
   },
   "outputs": [],
   "source": [
    "coefs = [est[-1].coef_ for est in poly_reg_cv_results[\"estimator\"]]\n",
    "weights_polynomial_regression = pd.DataFrame(coefs, columns=feature_names)"
   ]
  },
  {
   "cell_type": "code",
   "execution_count": 58,
   "metadata": {
    "execution": {
     "iopub.execute_input": "2024-08-11T20:53:31.403311Z",
     "iopub.status.busy": "2024-08-11T20:53:31.402823Z",
     "iopub.status.idle": "2024-08-11T20:53:32.616362Z",
     "shell.execute_reply": "2024-08-11T20:53:32.615191Z",
     "shell.execute_reply.started": "2024-08-11T20:53:31.403281Z"
    },
    "trusted": true
   },
   "outputs": [
    {
     "data": {
      "image/png": "[encoded data removed]",
      "text/plain": [
       "<Figure size 600x1600 with 1 Axes>"
      ]
     },
     "metadata": {},
     "output_type": "display_data"
    }
   ],
   "source": [
    "color = {\"whiskers\": \"black\", \"medians\": \"black\", \"caps\": \"black\"}\n",
    "weights_polynomial_regression.plot.box(color=color, vert=False, figsize=(6, 16))\n",
    "_ = plt.title(\"Polynomial regression coefficients\")"
   ]
  },
  {
   "cell_type": "code",
   "execution_count": 59,
   "metadata": {
    "execution": {
     "iopub.execute_input": "2024-08-11T20:53:32.618276Z",
     "iopub.status.busy": "2024-08-11T20:53:32.617887Z",
     "iopub.status.idle": "2024-08-11T20:53:32.627821Z",
     "shell.execute_reply": "2024-08-11T20:53:32.626809Z",
     "shell.execute_reply.started": "2024-08-11T20:53:32.618235Z"
    },
    "trusted": true
   },
   "outputs": [
    {
     "data": {
      "text/plain": [
       "array(['1', 'MedInc', 'HouseAge', 'AveRooms', 'AveBedrms', 'Population',\n",
       "       'AveOccup', 'Latitude', 'Longitude', 'MedInc^2', 'MedInc HouseAge',\n",
       "       'MedInc AveRooms', 'MedInc AveBedrms', 'MedInc Population',\n",
       "       'MedInc AveOccup', 'MedInc Latitude', 'MedInc Longitude',\n",
       "       'HouseAge^2', 'HouseAge AveRooms', 'HouseAge AveBedrms',\n",
       "       'HouseAge Population', 'HouseAge AveOccup', 'HouseAge Latitude',\n",
       "       'HouseAge Longitude', 'AveRooms^2', 'AveRooms AveBedrms',\n",
       "       'AveRooms Population', 'AveRooms AveOccup', 'AveRooms Latitude',\n",
       "       'AveRooms Longitude', 'AveBedrms^2', 'AveBedrms Population',\n",
       "       'AveBedrms AveOccup', 'AveBedrms Latitude', 'AveBedrms Longitude',\n",
       "       'Population^2', 'Population AveOccup', 'Population Latitude',\n",
       "       'Population Longitude', 'AveOccup^2', 'AveOccup Latitude',\n",
       "       'AveOccup Longitude', 'Latitude^2', 'Latitude Longitude',\n",
       "       'Longitude^2'], dtype=object)"
      ]
     },
     "execution_count": 59,
     "metadata": {},
     "output_type": "execute_result"
    }
   ],
   "source": [
    "feature_names = ridge_reg_cv_results[\"estimator\"][0][0].get_feature_names_out(\n",
    "    input_features=train_features.columns)\n",
    "feature_names"
   ]
  },
  {
   "cell_type": "code",
   "execution_count": 60,
   "metadata": {
    "execution": {
     "iopub.execute_input": "2024-08-11T20:53:32.629639Z",
     "iopub.status.busy": "2024-08-11T20:53:32.629253Z",
     "iopub.status.idle": "2024-08-11T20:53:32.637174Z",
     "shell.execute_reply": "2024-08-11T20:53:32.636192Z",
     "shell.execute_reply.started": "2024-08-11T20:53:32.62959Z"
    },
    "trusted": true
   },
   "outputs": [],
   "source": [
    "coefs = [est[-1].coef_ for est in ridge_reg_cv_results[\"estimator\"]]\n",
    "weights_ridge_regression = pd.DataFrame(coefs, columns=feature_names)"
   ]
  },
  {
   "cell_type": "code",
   "execution_count": 61,
   "metadata": {
    "execution": {
     "iopub.execute_input": "2024-08-11T20:53:32.63886Z",
     "iopub.status.busy": "2024-08-11T20:53:32.638499Z",
     "iopub.status.idle": "2024-08-11T20:53:33.696425Z",
     "shell.execute_reply": "2024-08-11T20:53:33.695134Z",
     "shell.execute_reply.started": "2024-08-11T20:53:32.638832Z"
    },
    "trusted": true
   },
   "outputs": [
    {
     "data": {
      "image/png": "[encoded data removed]",
      "text/plain": [
       "<Figure size 600x1600 with 1 Axes>"
      ]
     },
     "metadata": {},
     "output_type": "display_data"
    }
   ],
   "source": [
    "color = {\"whiskers\": \"black\", \"medians\": \"black\", \"caps\": \"black\"}\n",
    "weights_ridge_regression.plot.box(color=color, vert=False, figsize=(6, 16))\n",
    "_ = plt.title(\"Polynomial regression coefficients\")"
   ]
  },
  {
   "cell_type": "markdown",
   "metadata": {},
   "source": [
    "<a id=\"performance-on-the-test-set\"></a>\n",
    "\n",
    "<div style=\"background-color: #e3f2fd; font-size:150%; text-align:left; border: 7px solid #0288d1; text-shadow: 2px 2px 4px rgba(0, 0, 0, 0.3); font-family: Calibri; border-radius: 20px; padding: 10px; width:95%\">\n",
    "<h1 align=\"center\"><font color=#0277bd><strong>PERFORMANCE ON THE TEST SET</strong></font></h1>\n",
    "<p style=\"font-family: Calibri; color: #0277bd; text-shadow: 2px 2px 4px rgba(0, 0, 0, 0.3); text-align: left; font-size: 110%\">"
   ]
  },
  {
   "cell_type": "markdown",
   "metadata": {},
   "source": [
    "<a id=\"baseline\"></a>\n",
    "\n",
    "<div style=\"background-color: #e3f2fd; font-size:150%; text-align:left; border: 7px solid #0288d1; text-shadow: 2px 2px 4px rgba(0, 0, 0, 0.3); font-family: Calibri; border-radius: 20px; padding: 10px; width:95%\">\n",
    "<h1 align=\"center\"><font color=#0277bd><strong>BASELINE</strong></font></h1>\n",
    "<p style=\"font-family: Calibri; color: #0277bd; text-shadow: 2px 2px 4px rgba(0, 0, 0, 0.3); text-align: left; font-size: 110%\">"
   ]
  },
  {
   "cell_type": "code",
   "execution_count": 62,
   "metadata": {
    "execution": {
     "iopub.execute_input": "2024-08-11T20:53:33.698538Z",
     "iopub.status.busy": "2024-08-11T20:53:33.69813Z",
     "iopub.status.idle": "2024-08-11T20:53:33.71057Z",
     "shell.execute_reply": "2024-08-11T20:53:33.709347Z",
     "shell.execute_reply.started": "2024-08-11T20:53:33.6985Z"
    },
    "trusted": true
   },
   "outputs": [
    {
     "data": {
      "text/plain": [
       "0.5348927548151625"
      ]
     },
     "execution_count": 62,
     "metadata": {},
     "output_type": "execute_result"
    }
   ],
   "source": [
    "baseline_model_median = DummyRegressor(strategy='median')\n",
    "baseline_model_median.fit(train_features, train_labels)\n",
    "mean_absolute_percentage_error(test_labels,\n",
    "                               baseline_model_median.predict(test_features))"
   ]
  },
  {
   "cell_type": "markdown",
   "metadata": {},
   "source": [
    "\n",
    "<a id=\"linear-regression-with-normal-equation\"></a>\n",
    "\n",
    "<div style=\"background-color: #e3f2fd; font-size:150%; text-align:left; border: 7px solid #0288d1; text-shadow: 2px 2px 4px rgba(0, 0, 0, 0.3); font-family: Calibri; border-radius: 20px; padding: 10px; width:95%\">\n",
    "<h1 align=\"center\"><font color=#0277bd><strong>LINEAR REGRESSION WITH NORMAL EQUATION</strong></font></h1>\n",
    "<p style=\"font-family: Calibri; color: #0277bd; text-shadow: 2px 2px 4px rgba(0, 0, 0, 0.3); text-align: left; font-size: 110%\">"
   ]
  },
  {
   "cell_type": "code",
   "execution_count": 63,
   "metadata": {
    "execution": {
     "iopub.execute_input": "2024-08-11T20:53:33.712706Z",
     "iopub.status.busy": "2024-08-11T20:53:33.712074Z",
     "iopub.status.idle": "2024-08-11T20:53:33.72744Z",
     "shell.execute_reply": "2024-08-11T20:53:33.725918Z",
     "shell.execute_reply.started": "2024-08-11T20:53:33.712674Z"
    },
    "trusted": true
   },
   "outputs": [
    {
     "data": {
      "text/plain": [
       "0.3212047217548291"
      ]
     },
     "execution_count": 63,
     "metadata": {},
     "output_type": "execute_result"
    }
   ],
   "source": [
    "mean_absolute_percentage_error(test_labels,\n",
    "                               lin_reg_cv_results['estimator'][0].predict(\n",
    "                                   test_features))"
   ]
  },
  {
   "cell_type": "code",
   "execution_count": 64,
   "metadata": {
    "execution": {
     "iopub.execute_input": "2024-08-11T20:53:33.730569Z",
     "iopub.status.busy": "2024-08-11T20:53:33.729744Z",
     "iopub.status.idle": "2024-08-11T20:53:33.747695Z",
     "shell.execute_reply": "2024-08-11T20:53:33.74624Z",
     "shell.execute_reply.started": "2024-08-11T20:53:33.730515Z"
    },
    "trusted": true
   },
   "outputs": [
    {
     "data": {
      "text/plain": [
       "0.31853708738268743"
      ]
     },
     "execution_count": 64,
     "metadata": {},
     "output_type": "execute_result"
    }
   ],
   "source": [
    "mean_absolute_percentage_error(test_labels,\n",
    "                               poly_sgd_random_search.best_estimator_.predict(\n",
    "                                   test_features))"
   ]
  },
  {
   "cell_type": "markdown",
   "metadata": {},
   "source": [
    "\n",
    "<a id=\"polynomial-regression\"></a>\n",
    "\n",
    "<div style=\"background-color: #e3f2fd; font-size:150%; text-align:left; border: 7px solid #0288d1; text-shadow: 2px 2px 4px rgba(0, 0, 0, 0.3); font-family: Calibri; border-radius: 20px; padding: 10px; width:95%\">\n",
    "<h1 align=\"center\"><font color=#0277bd><strong>POLYNOMIAL REGRESSION</strong></font></h1>\n",
    "<p style=\"font-family: Calibri; color: #0277bd; text-shadow: 2px 2px 4px rgba(0, 0, 0, 0.3); text-align: left; font-size: 110%\">"
   ]
  },
  {
   "cell_type": "code",
   "execution_count": 65,
   "metadata": {
    "execution": {
     "iopub.execute_input": "2024-08-11T20:53:33.761534Z",
     "iopub.status.busy": "2024-08-11T20:53:33.760508Z",
     "iopub.status.idle": "2024-08-11T20:53:33.85706Z",
     "shell.execute_reply": "2024-08-11T20:53:33.855621Z",
     "shell.execute_reply.started": "2024-08-11T20:53:33.761473Z"
    },
    "trusted": true
   },
   "outputs": [
    {
     "data": {
      "text/plain": [
       "0.2819975908265792"
      ]
     },
     "execution_count": 65,
     "metadata": {},
     "output_type": "execute_result"
    }
   ],
   "source": [
    "poly_reg_pipeline.fit(com_train_features, com_train_labels)\n",
    "mean_absolute_percentage_error(test_labels,\n",
    "                               poly_reg_pipeline.predict(test_features))"
   ]
  },
  {
   "cell_type": "markdown",
   "metadata": {},
   "source": [
    "<a id=\"ridge-regression\"></a>\n",
    "\n",
    "<div style=\"background-color: #e3f2fd; font-size:150%; text-align:left; border: 7px solid #0288d1; text-shadow: 2px 2px 4px rgba(0, 0, 0, 0.3); font-family: Calibri; border-radius: 20px; padding: 10px; width:95%\">\n",
    "<h1 align=\"center\"><font color=#0277bd><strong>RIDGE REGRESSION</strong></font></h1>\n",
    "<p style=\"font-family: Calibri; color: #0277bd; text-shadow: 2px 2px 4px rgba(0, 0, 0, 0.3); text-align: left; font-size: 110%\">"
   ]
  },
  {
   "cell_type": "code",
   "execution_count": 66,
   "metadata": {
    "execution": {
     "iopub.execute_input": "2024-08-11T20:53:33.860111Z",
     "iopub.status.busy": "2024-08-11T20:53:33.859227Z",
     "iopub.status.idle": "2024-08-11T20:53:33.900578Z",
     "shell.execute_reply": "2024-08-11T20:53:33.899157Z",
     "shell.execute_reply.started": "2024-08-11T20:53:33.860058Z"
    },
    "trusted": true
   },
   "outputs": [
    {
     "data": {
      "text/plain": [
       "0.27110336451477224"
      ]
     },
     "execution_count": 66,
     "metadata": {},
     "output_type": "execute_result"
    }
   ],
   "source": [
    "mean_absolute_percentage_error(test_labels,\n",
    "                               ridge_grid_search.best_estimator_.predict(test_features))"
   ]
  },
  {
   "cell_type": "markdown",
   "metadata": {},
   "source": [
    "<a id=\"lasso-regression\"></a>\n",
    "\n",
    "<div style=\"background-color: #e3f2fd; font-size:150%; text-align:left; border: 7px solid #0288d1; text-shadow: 2px 2px 4px rgba(0, 0, 0, 0.3); font-family: Calibri; border-radius: 20px; padding: 10px; width:95%\">\n",
    "<h1 align=\"center\"><font color=#0277bd><strong>LASSO REGRESSION</strong></font></h1>\n",
    "<p style=\"font-family: Calibri; color: #0277bd; text-shadow: 2px 2px 4px rgba(0, 0, 0, 0.3); text-align: left; font-size: 110%\">\n",
    "    We will retrain the Lasso regression model using the optimal <code>alpha</code> value identified through hyperparameter tuning. After retraining the model, we will evaluate its performance on the test data to assess its effectiveness.\n",
    "</p>\n",
    "</div>"
   ]
  },
  {
   "cell_type": "code",
   "execution_count": 67,
   "metadata": {
    "execution": {
     "iopub.execute_input": "2024-08-11T20:53:33.90376Z",
     "iopub.status.busy": "2024-08-11T20:53:33.902827Z",
     "iopub.status.idle": "2024-08-11T20:53:33.964867Z",
     "shell.execute_reply": "2024-08-11T20:53:33.963377Z",
     "shell.execute_reply.started": "2024-08-11T20:53:33.903693Z"
    },
    "trusted": true
   },
   "outputs": [
    {
     "data": {
      "text/plain": [
       "0.280749692638101"
      ]
     },
     "execution_count": 67,
     "metadata": {},
     "output_type": "execute_result"
    }
   ],
   "source": [
    "mean_absolute_percentage_error(test_labels,\n",
    "                               lasso_grid_search.best_estimator_.predict(test_features))"
   ]
  },
  {
   "cell_type": "markdown",
   "metadata": {},
   "source": [
    "<a id=\"summary\"></a>\n",
    "\n",
    "<div style=\"background-color: #e3f2fd; font-size:150%; text-align:left; border: 7px solid #0288d1; text-shadow: 2px 2px 4px rgba(0, 0, 0, 0.3); font-family: Calibri; border-radius: 20px; padding: 10px; width:95%\">\n",
    "<h1 align=\"center\"><font color=#0277bd><strong>SUMMARY</strong></font></h1>\n",
    "<p style=\"font-family: Calibri; color: #0277bd; text-shadow: 2px 2px 4px rgba(0, 0, 0, 0.3); text-align: left; font-size: 110%\">\n",
    "    We trained multiple linear regression models on the housing dataset, optimizing their hyperparameters through systematic hyperparameter tuning. After identifying the best hyperparameters, we retrained the models and evaluated their performance on a test set that was reserved for final assessment.\n",
    "    <br><br>\n",
    "    This approach mirrors how real-world problems are typically addressed, starting with simple models and progressively advancing to more sophisticated techniques as needed.\n",
    "</p>\n",
    "</div>"
   ]
  }
 ],
 "metadata": {
  "kaggle": {
   "accelerator": "none",
   "dataSources": [
    {
     "databundleVersionId": 4856522,
     "sourceId": 44629,
     "sourceType": "competition"
    },
    {
     "datasetId": 5227,
     "sourceId": 7876,
     "sourceType": "datasetVersion"
    },
    {
     "datasetId": 24824,
     "sourceId": 33185,
     "sourceType": "datasetVersion"
    },
    {
     "datasetId": 1446091,
     "sourceId": 2391843,
     "sourceType": "datasetVersion"
    },
    {
     "datasetId": 2438863,
     "sourceId": 4127308,
     "sourceType": "datasetVersion"
    }
   ],
   "dockerImageVersionId": 30746,
   "isGpuEnabled": false,
   "isInternetEnabled": true,
   "language": "python",
   "sourceType": "notebook"
  },
  "kernelspec": {
   "display_name": "Python 3",
   "language": "python",
   "name": "python3"
  },
  "language_info": {
   "codemirror_mode": {
    "name": "ipython",
    "version": 3
   },
   "file_extension": ".py",
   "mimetype": "text/x-python",
   "name": "python",
   "nbconvert_exporter": "python",
   "pygments_lexer": "ipython3",
   "version": "3.11.11"
  }
 },
 "nbformat": 4,
 "nbformat_minor": 4
}
