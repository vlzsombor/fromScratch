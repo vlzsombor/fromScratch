{
 "cells": [
  {
   "cell_type": "code",
   "execution_count": 34,
   "id": "1e567cba",
   "metadata": {
    "_cell_guid": "b1076dfc-b9ad-4769-8c92-a6c4dae69d19",
    "_uuid": "8f2839f25d086af736a60e9eeb907d3b93b6e0e5",
    "execution": {
     "iopub.execute_input": "2024-05-11T09:14:43.303034Z",
     "iopub.status.busy": "2024-05-11T09:14:43.302605Z",
     "iopub.status.idle": "2024-05-11T09:14:44.412872Z",
     "shell.execute_reply": "2024-05-11T09:14:44.410084Z"
    },
    "papermill": {
     "duration": 1.126522,
     "end_time": "2024-05-11T09:14:44.416175",
     "exception": false,
     "start_time": "2024-05-11T09:14:43.289653",
     "status": "completed"
    },
    "tags": []
   },
   "outputs": [],
   "source": [
    "# This Python 3 environment comes with many helpful analytics libraries installed\n",
    "# It is defined by the kaggle/python Docker image: https://github.com/kaggle/docker-python\n",
    "# For example, here's several helpful packages to load\n",
    "\n",
    "import numpy as np # linear algebra\n",
    "import pandas as pd # data processing, CSV file I/O (e.g. pd.read_csv)\n",
    "\n",
    "# Input data files are available in the read-only \"../input/\" directory\n",
    "# For example, running this (by clicking run or pressing Shift+Enter) will list all files under the input directory\n",
    "\n",
    "import os\n",
    "for dirname, _, filenames in os.walk('/kaggle/input'):\n",
    "    for filename in filenames:\n",
    "        print(os.path.join(dirname, filename))\n",
    "\n",
    "# You can write up to 20GB to the current directory (/kaggle/working/) that gets preserved as output when you create a version using \"Save & Run All\" \n",
    "# You can also write temporary files to /kaggle/temp/, but they won't be saved outside of the current session"
   ]
  },
  {
   "cell_type": "code",
   "execution_count": 35,
   "id": "cf524dea",
   "metadata": {
    "execution": {
     "iopub.execute_input": "2024-05-11T09:14:44.440152Z",
     "iopub.status.busy": "2024-05-11T09:14:44.439562Z",
     "iopub.status.idle": "2024-05-11T09:14:44.463334Z",
     "shell.execute_reply": "2024-05-11T09:14:44.462103Z"
    },
    "papermill": {
     "duration": 0.038605,
     "end_time": "2024-05-11T09:14:44.466000",
     "exception": false,
     "start_time": "2024-05-11T09:14:44.427395",
     "status": "completed"
    },
    "tags": []
   },
   "outputs": [],
   "source": [
    "df=pd.read_csv('Salary Data.csv')"
   ]
  },
  {
   "cell_type": "code",
   "execution_count": 36,
   "id": "1de8167f",
   "metadata": {
    "execution": {
     "iopub.execute_input": "2024-05-11T09:14:44.490549Z",
     "iopub.status.busy": "2024-05-11T09:14:44.490149Z",
     "iopub.status.idle": "2024-05-11T09:14:44.520414Z",
     "shell.execute_reply": "2024-05-11T09:14:44.519272Z"
    },
    "papermill": {
     "duration": 0.045356,
     "end_time": "2024-05-11T09:14:44.523060",
     "exception": false,
     "start_time": "2024-05-11T09:14:44.477704",
     "status": "completed"
    },
    "tags": []
   },
   "outputs": [
    {
     "data": {
      "text/html": [
       "<div>\n",
       "<style scoped>\n",
       "    .dataframe tbody tr th:only-of-type {\n",
       "        vertical-align: middle;\n",
       "    }\n",
       "\n",
       "    .dataframe tbody tr th {\n",
       "        vertical-align: top;\n",
       "    }\n",
       "\n",
       "    .dataframe thead th {\n",
       "        text-align: right;\n",
       "    }\n",
       "</style>\n",
       "<table border=\"1\" class=\"dataframe\">\n",
       "  <thead>\n",
       "    <tr style=\"text-align: right;\">\n",
       "      <th></th>\n",
       "      <th>Age</th>\n",
       "      <th>Gender</th>\n",
       "      <th>Education Level</th>\n",
       "      <th>Job Title</th>\n",
       "      <th>Years of Experience</th>\n",
       "      <th>Salary</th>\n",
       "    </tr>\n",
       "  </thead>\n",
       "  <tbody>\n",
       "    <tr>\n",
       "      <th>0</th>\n",
       "      <td>32.0</td>\n",
       "      <td>Male</td>\n",
       "      <td>Bachelor's</td>\n",
       "      <td>Software Engineer</td>\n",
       "      <td>5.0</td>\n",
       "      <td>90000.0</td>\n",
       "    </tr>\n",
       "    <tr>\n",
       "      <th>1</th>\n",
       "      <td>28.0</td>\n",
       "      <td>Female</td>\n",
       "      <td>Master's</td>\n",
       "      <td>Data Analyst</td>\n",
       "      <td>3.0</td>\n",
       "      <td>65000.0</td>\n",
       "    </tr>\n",
       "    <tr>\n",
       "      <th>2</th>\n",
       "      <td>45.0</td>\n",
       "      <td>Male</td>\n",
       "      <td>PhD</td>\n",
       "      <td>Senior Manager</td>\n",
       "      <td>15.0</td>\n",
       "      <td>150000.0</td>\n",
       "    </tr>\n",
       "    <tr>\n",
       "      <th>3</th>\n",
       "      <td>36.0</td>\n",
       "      <td>Female</td>\n",
       "      <td>Bachelor's</td>\n",
       "      <td>Sales Associate</td>\n",
       "      <td>7.0</td>\n",
       "      <td>60000.0</td>\n",
       "    </tr>\n",
       "    <tr>\n",
       "      <th>4</th>\n",
       "      <td>52.0</td>\n",
       "      <td>Male</td>\n",
       "      <td>Master's</td>\n",
       "      <td>Director</td>\n",
       "      <td>20.0</td>\n",
       "      <td>200000.0</td>\n",
       "    </tr>\n",
       "  </tbody>\n",
       "</table>\n",
       "</div>"
      ],
      "text/plain": [
       "    Age  Gender Education Level          Job Title  Years of Experience  \\\n",
       "0  32.0    Male      Bachelor's  Software Engineer                  5.0   \n",
       "1  28.0  Female        Master's       Data Analyst                  3.0   \n",
       "2  45.0    Male             PhD     Senior Manager                 15.0   \n",
       "3  36.0  Female      Bachelor's    Sales Associate                  7.0   \n",
       "4  52.0    Male        Master's           Director                 20.0   \n",
       "\n",
       "     Salary  \n",
       "0   90000.0  \n",
       "1   65000.0  \n",
       "2  150000.0  \n",
       "3   60000.0  \n",
       "4  200000.0  "
      ]
     },
     "execution_count": 36,
     "metadata": {},
     "output_type": "execute_result"
    }
   ],
   "source": [
    "# to display the first 5 data's\n",
    "df.head()"
   ]
  },
  {
   "cell_type": "code",
   "execution_count": 37,
   "id": "cd3c97ad",
   "metadata": {
    "execution": {
     "iopub.execute_input": "2024-05-11T09:14:44.547317Z",
     "iopub.status.busy": "2024-05-11T09:14:44.546893Z",
     "iopub.status.idle": "2024-05-11T09:14:44.553807Z",
     "shell.execute_reply": "2024-05-11T09:14:44.552732Z"
    },
    "papermill": {
     "duration": 0.02181,
     "end_time": "2024-05-11T09:14:44.556273",
     "exception": false,
     "start_time": "2024-05-11T09:14:44.534463",
     "status": "completed"
    },
    "tags": []
   },
   "outputs": [
    {
     "data": {
      "text/plain": [
       "(375, 6)"
      ]
     },
     "execution_count": 37,
     "metadata": {},
     "output_type": "execute_result"
    }
   ],
   "source": [
    "# to display about the total number of rows and columns in the dataset\n",
    "df.shape"
   ]
  },
  {
   "cell_type": "code",
   "execution_count": 38,
   "id": "9d396d6c",
   "metadata": {
    "execution": {
     "iopub.execute_input": "2024-05-11T09:14:44.581385Z",
     "iopub.status.busy": "2024-05-11T09:14:44.580976Z",
     "iopub.status.idle": "2024-05-11T09:14:44.610873Z",
     "shell.execute_reply": "2024-05-11T09:14:44.609786Z"
    },
    "papermill": {
     "duration": 0.045176,
     "end_time": "2024-05-11T09:14:44.613315",
     "exception": false,
     "start_time": "2024-05-11T09:14:44.568139",
     "status": "completed"
    },
    "tags": []
   },
   "outputs": [
    {
     "name": "stdout",
     "output_type": "stream",
     "text": [
      "<class 'pandas.core.frame.DataFrame'>\n",
      "RangeIndex: 375 entries, 0 to 374\n",
      "Data columns (total 6 columns):\n",
      " #   Column               Non-Null Count  Dtype  \n",
      "---  ------               --------------  -----  \n",
      " 0   Age                  373 non-null    float64\n",
      " 1   Gender               373 non-null    object \n",
      " 2   Education Level      373 non-null    object \n",
      " 3   Job Title            373 non-null    object \n",
      " 4   Years of Experience  373 non-null    float64\n",
      " 5   Salary               373 non-null    float64\n",
      "dtypes: float64(3), object(3)\n",
      "memory usage: 17.7+ KB\n"
     ]
    }
   ],
   "source": [
    "# to get detail information about the datset\n",
    "df.info()"
   ]
  },
  {
   "cell_type": "code",
   "execution_count": 39,
   "id": "e9656a20",
   "metadata": {
    "execution": {
     "iopub.execute_input": "2024-05-11T09:14:44.638090Z",
     "iopub.status.busy": "2024-05-11T09:14:44.637657Z",
     "iopub.status.idle": "2024-05-11T09:14:44.647057Z",
     "shell.execute_reply": "2024-05-11T09:14:44.645940Z"
    },
    "papermill": {
     "duration": 0.024663,
     "end_time": "2024-05-11T09:14:44.649504",
     "exception": false,
     "start_time": "2024-05-11T09:14:44.624841",
     "status": "completed"
    },
    "tags": []
   },
   "outputs": [
    {
     "data": {
      "text/plain": [
       "Age                    2\n",
       "Gender                 2\n",
       "Education Level        2\n",
       "Job Title              2\n",
       "Years of Experience    2\n",
       "Salary                 2\n",
       "dtype: int64"
      ]
     },
     "execution_count": 39,
     "metadata": {},
     "output_type": "execute_result"
    }
   ],
   "source": [
    "# to know about how may data's are null in the dataframe\n",
    "df.isnull().sum()"
   ]
  },
  {
   "cell_type": "code",
   "execution_count": 40,
   "id": "c5cdea76",
   "metadata": {
    "execution": {
     "iopub.execute_input": "2024-05-11T09:14:44.675416Z",
     "iopub.status.busy": "2024-05-11T09:14:44.674977Z",
     "iopub.status.idle": "2024-05-11T09:14:44.699499Z",
     "shell.execute_reply": "2024-05-11T09:14:44.698292Z"
    },
    "papermill": {
     "duration": 0.039989,
     "end_time": "2024-05-11T09:14:44.701972",
     "exception": false,
     "start_time": "2024-05-11T09:14:44.661983",
     "status": "completed"
    },
    "tags": []
   },
   "outputs": [
    {
     "data": {
      "text/html": [
       "<div>\n",
       "<style scoped>\n",
       "    .dataframe tbody tr th:only-of-type {\n",
       "        vertical-align: middle;\n",
       "    }\n",
       "\n",
       "    .dataframe tbody tr th {\n",
       "        vertical-align: top;\n",
       "    }\n",
       "\n",
       "    .dataframe thead th {\n",
       "        text-align: right;\n",
       "    }\n",
       "</style>\n",
       "<table border=\"1\" class=\"dataframe\">\n",
       "  <thead>\n",
       "    <tr style=\"text-align: right;\">\n",
       "      <th></th>\n",
       "      <th>Age</th>\n",
       "      <th>Years of Experience</th>\n",
       "      <th>Salary</th>\n",
       "    </tr>\n",
       "  </thead>\n",
       "  <tbody>\n",
       "    <tr>\n",
       "      <th>count</th>\n",
       "      <td>373.000000</td>\n",
       "      <td>373.000000</td>\n",
       "      <td>373.000000</td>\n",
       "    </tr>\n",
       "    <tr>\n",
       "      <th>mean</th>\n",
       "      <td>37.431635</td>\n",
       "      <td>10.030831</td>\n",
       "      <td>100577.345845</td>\n",
       "    </tr>\n",
       "    <tr>\n",
       "      <th>std</th>\n",
       "      <td>7.069073</td>\n",
       "      <td>6.557007</td>\n",
       "      <td>48240.013482</td>\n",
       "    </tr>\n",
       "    <tr>\n",
       "      <th>min</th>\n",
       "      <td>23.000000</td>\n",
       "      <td>0.000000</td>\n",
       "      <td>350.000000</td>\n",
       "    </tr>\n",
       "    <tr>\n",
       "      <th>25%</th>\n",
       "      <td>31.000000</td>\n",
       "      <td>4.000000</td>\n",
       "      <td>55000.000000</td>\n",
       "    </tr>\n",
       "    <tr>\n",
       "      <th>50%</th>\n",
       "      <td>36.000000</td>\n",
       "      <td>9.000000</td>\n",
       "      <td>95000.000000</td>\n",
       "    </tr>\n",
       "    <tr>\n",
       "      <th>75%</th>\n",
       "      <td>44.000000</td>\n",
       "      <td>15.000000</td>\n",
       "      <td>140000.000000</td>\n",
       "    </tr>\n",
       "    <tr>\n",
       "      <th>max</th>\n",
       "      <td>53.000000</td>\n",
       "      <td>25.000000</td>\n",
       "      <td>250000.000000</td>\n",
       "    </tr>\n",
       "  </tbody>\n",
       "</table>\n",
       "</div>"
      ],
      "text/plain": [
       "              Age  Years of Experience         Salary\n",
       "count  373.000000           373.000000     373.000000\n",
       "mean    37.431635            10.030831  100577.345845\n",
       "std      7.069073             6.557007   48240.013482\n",
       "min     23.000000             0.000000     350.000000\n",
       "25%     31.000000             4.000000   55000.000000\n",
       "50%     36.000000             9.000000   95000.000000\n",
       "75%     44.000000            15.000000  140000.000000\n",
       "max     53.000000            25.000000  250000.000000"
      ]
     },
     "execution_count": 40,
     "metadata": {},
     "output_type": "execute_result"
    }
   ],
   "source": [
    "df.describe()"
   ]
  },
  {
   "cell_type": "code",
   "execution_count": 41,
   "id": "5d61ecca",
   "metadata": {
    "execution": {
     "iopub.execute_input": "2024-05-11T09:14:44.727976Z",
     "iopub.status.busy": "2024-05-11T09:14:44.727569Z",
     "iopub.status.idle": "2024-05-11T09:14:44.735375Z",
     "shell.execute_reply": "2024-05-11T09:14:44.734268Z"
    },
    "papermill": {
     "duration": 0.023838,
     "end_time": "2024-05-11T09:14:44.737767",
     "exception": false,
     "start_time": "2024-05-11T09:14:44.713929",
     "status": "completed"
    },
    "tags": []
   },
   "outputs": [
    {
     "data": {
      "text/plain": [
       "Index(['Age', 'Gender', 'Education Level', 'Job Title', 'Years of Experience',\n",
       "       'Salary'],\n",
       "      dtype='object')"
      ]
     },
     "execution_count": 41,
     "metadata": {},
     "output_type": "execute_result"
    }
   ],
   "source": [
    "# to choose the columns which one will be our Feature and Target\n",
    "df.columns"
   ]
  },
  {
   "cell_type": "code",
   "execution_count": 42,
   "id": "bd5d7054",
   "metadata": {
    "execution": {
     "iopub.execute_input": "2024-05-11T09:14:44.763705Z",
     "iopub.status.busy": "2024-05-11T09:14:44.763324Z",
     "iopub.status.idle": "2024-05-11T09:14:44.776497Z",
     "shell.execute_reply": "2024-05-11T09:14:44.775298Z"
    },
    "papermill": {
     "duration": 0.029224,
     "end_time": "2024-05-11T09:14:44.779079",
     "exception": false,
     "start_time": "2024-05-11T09:14:44.749855",
     "status": "completed"
    },
    "tags": []
   },
   "outputs": [
    {
     "data": {
      "text/plain": [
       "Age                    0\n",
       "Gender                 0\n",
       "Education Level        0\n",
       "Job Title              0\n",
       "Years of Experience    0\n",
       "Salary                 0\n",
       "dtype: int64"
      ]
     },
     "execution_count": 42,
     "metadata": {},
     "output_type": "execute_result"
    }
   ],
   "source": [
    "# dropping all the null values from the dataset\n",
    "df1 = df.dropna()\n",
    "df1.isnull().sum()"
   ]
  },
  {
   "cell_type": "code",
   "execution_count": 43,
   "id": "49f061e1",
   "metadata": {
    "execution": {
     "iopub.execute_input": "2024-05-11T09:14:44.805580Z",
     "iopub.status.busy": "2024-05-11T09:14:44.805184Z",
     "iopub.status.idle": "2024-05-11T09:14:44.815369Z",
     "shell.execute_reply": "2024-05-11T09:14:44.814061Z"
    },
    "papermill": {
     "duration": 0.026254,
     "end_time": "2024-05-11T09:14:44.817698",
     "exception": false,
     "start_time": "2024-05-11T09:14:44.791444",
     "status": "completed"
    },
    "tags": []
   },
   "outputs": [
    {
     "data": {
      "text/plain": [
       "array([32., 28., 45., 36., 52., 29., 42., 31., 26., 38., 48., 35., 40.,\n",
       "       27., 44., 33., 39., 25., 51., 34., 47., 30., 41., 37., 24., 43.,\n",
       "       50., 46., 49., 23., 53.])"
      ]
     },
     "execution_count": 43,
     "metadata": {},
     "output_type": "execute_result"
    }
   ],
   "source": [
    "df1['Age'].unique()"
   ]
  },
  {
   "cell_type": "code",
   "execution_count": 44,
   "id": "a93cd7c2",
   "metadata": {
    "execution": {
     "iopub.execute_input": "2024-05-11T09:14:44.844232Z",
     "iopub.status.busy": "2024-05-11T09:14:44.843807Z",
     "iopub.status.idle": "2024-05-11T09:14:44.851385Z",
     "shell.execute_reply": "2024-05-11T09:14:44.850289Z"
    },
    "papermill": {
     "duration": 0.023608,
     "end_time": "2024-05-11T09:14:44.853884",
     "exception": false,
     "start_time": "2024-05-11T09:14:44.830276",
     "status": "completed"
    },
    "tags": []
   },
   "outputs": [
    {
     "data": {
      "text/plain": [
       "array(['Male', 'Female'], dtype=object)"
      ]
     },
     "execution_count": 44,
     "metadata": {},
     "output_type": "execute_result"
    }
   ],
   "source": [
    "df1['Gender'].unique()"
   ]
  },
  {
   "cell_type": "code",
   "execution_count": 45,
   "id": "229cb42b",
   "metadata": {
    "execution": {
     "iopub.execute_input": "2024-05-11T09:14:44.880323Z",
     "iopub.status.busy": "2024-05-11T09:14:44.879932Z",
     "iopub.status.idle": "2024-05-11T09:14:44.887364Z",
     "shell.execute_reply": "2024-05-11T09:14:44.886279Z"
    },
    "papermill": {
     "duration": 0.023629,
     "end_time": "2024-05-11T09:14:44.889877",
     "exception": false,
     "start_time": "2024-05-11T09:14:44.866248",
     "status": "completed"
    },
    "tags": []
   },
   "outputs": [
    {
     "data": {
      "text/plain": [
       "array([\"Bachelor's\", \"Master's\", 'PhD'], dtype=object)"
      ]
     },
     "execution_count": 45,
     "metadata": {},
     "output_type": "execute_result"
    }
   ],
   "source": [
    "df1['Education Level'].unique()"
   ]
  },
  {
   "cell_type": "code",
   "execution_count": 46,
   "id": "df49e7cf",
   "metadata": {
    "execution": {
     "iopub.execute_input": "2024-05-11T09:14:44.916897Z",
     "iopub.status.busy": "2024-05-11T09:14:44.916509Z",
     "iopub.status.idle": "2024-05-11T09:14:44.925773Z",
     "shell.execute_reply": "2024-05-11T09:14:44.924680Z"
    },
    "papermill": {
     "duration": 0.025608,
     "end_time": "2024-05-11T09:14:44.928054",
     "exception": false,
     "start_time": "2024-05-11T09:14:44.902446",
     "status": "completed"
    },
    "tags": []
   },
   "outputs": [
    {
     "data": {
      "text/plain": [
       "array(['Software Engineer', 'Data Analyst', 'Senior Manager',\n",
       "       'Sales Associate', 'Director', 'Marketing Analyst',\n",
       "       'Product Manager', 'Sales Manager', 'Marketing Coordinator',\n",
       "       'Senior Scientist', 'Software Developer', 'HR Manager',\n",
       "       'Financial Analyst', 'Project Manager', 'Customer Service Rep',\n",
       "       'Operations Manager', 'Marketing Manager', 'Senior Engineer',\n",
       "       'Data Entry Clerk', 'Sales Director', 'Business Analyst',\n",
       "       'VP of Operations', 'IT Support', 'Recruiter', 'Financial Manager',\n",
       "       'Social Media Specialist', 'Software Manager', 'Junior Developer',\n",
       "       'Senior Consultant', 'Product Designer', 'CEO', 'Accountant',\n",
       "       'Data Scientist', 'Marketing Specialist', 'Technical Writer',\n",
       "       'HR Generalist', 'Project Engineer', 'Customer Success Rep',\n",
       "       'Sales Executive', 'UX Designer', 'Operations Director',\n",
       "       'Network Engineer', 'Administrative Assistant',\n",
       "       'Strategy Consultant', 'Copywriter', 'Account Manager',\n",
       "       'Director of Marketing', 'Help Desk Analyst',\n",
       "       'Customer Service Manager', 'Business Intelligence Analyst',\n",
       "       'Event Coordinator', 'VP of Finance', 'Graphic Designer',\n",
       "       'UX Researcher', 'Social Media Manager', 'Director of Operations',\n",
       "       'Senior Data Scientist', 'Junior Accountant',\n",
       "       'Digital Marketing Manager', 'IT Manager',\n",
       "       'Customer Service Representative', 'Business Development Manager',\n",
       "       'Senior Financial Analyst', 'Web Developer', 'Research Director',\n",
       "       'Technical Support Specialist', 'Creative Director',\n",
       "       'Senior Software Engineer', 'Human Resources Director',\n",
       "       'Content Marketing Manager', 'Technical Recruiter',\n",
       "       'Sales Representative', 'Chief Technology Officer',\n",
       "       'Junior Designer', 'Financial Advisor', 'Junior Account Manager',\n",
       "       'Senior Project Manager', 'Principal Scientist',\n",
       "       'Supply Chain Manager', 'Senior Marketing Manager',\n",
       "       'Training Specialist', 'Research Scientist',\n",
       "       'Junior Software Developer', 'Public Relations Manager',\n",
       "       'Operations Analyst', 'Product Marketing Manager',\n",
       "       'Senior HR Manager', 'Junior Web Developer',\n",
       "       'Senior Project Coordinator', 'Chief Data Officer',\n",
       "       'Digital Content Producer', 'IT Support Specialist',\n",
       "       'Senior Marketing Analyst', 'Customer Success Manager',\n",
       "       'Senior Graphic Designer', 'Software Project Manager',\n",
       "       'Supply Chain Analyst', 'Senior Business Analyst',\n",
       "       'Junior Marketing Analyst', 'Office Manager', 'Principal Engineer',\n",
       "       'Junior HR Generalist', 'Senior Product Manager',\n",
       "       'Junior Operations Analyst', 'Senior HR Generalist',\n",
       "       'Sales Operations Manager', 'Senior Software Developer',\n",
       "       'Junior Web Designer', 'Senior Training Specialist',\n",
       "       'Senior Research Scientist', 'Junior Sales Representative',\n",
       "       'Junior Marketing Manager', 'Junior Data Analyst',\n",
       "       'Senior Product Marketing Manager', 'Junior Business Analyst',\n",
       "       'Senior Sales Manager', 'Junior Marketing Specialist',\n",
       "       'Junior Project Manager', 'Senior Accountant', 'Director of Sales',\n",
       "       'Junior Recruiter', 'Senior Business Development Manager',\n",
       "       'Senior Product Designer', 'Junior Customer Support Specialist',\n",
       "       'Senior IT Support Specialist', 'Junior Financial Analyst',\n",
       "       'Senior Operations Manager', 'Director of Human Resources',\n",
       "       'Junior Software Engineer', 'Senior Sales Representative',\n",
       "       'Director of Product Management', 'Junior Copywriter',\n",
       "       'Senior Marketing Coordinator', 'Senior Human Resources Manager',\n",
       "       'Junior Business Development Associate', 'Senior Account Manager',\n",
       "       'Senior Researcher', 'Junior HR Coordinator',\n",
       "       'Director of Finance', 'Junior Marketing Coordinator',\n",
       "       'Junior Data Scientist', 'Senior Operations Analyst',\n",
       "       'Senior Human Resources Coordinator', 'Senior UX Designer',\n",
       "       'Junior Product Manager', 'Senior Marketing Specialist',\n",
       "       'Senior IT Project Manager', 'Senior Quality Assurance Analyst',\n",
       "       'Director of Sales and Marketing', 'Senior Account Executive',\n",
       "       'Director of Business Development', 'Junior Social Media Manager',\n",
       "       'Senior Human Resources Specialist', 'Senior Data Analyst',\n",
       "       'Director of Human Capital', 'Junior Advertising Coordinator',\n",
       "       'Junior UX Designer', 'Senior Marketing Director',\n",
       "       'Senior IT Consultant', 'Senior Financial Advisor',\n",
       "       'Junior Business Operations Analyst',\n",
       "       'Junior Social Media Specialist',\n",
       "       'Senior Product Development Manager', 'Junior Operations Manager',\n",
       "       'Senior Software Architect', 'Junior Research Scientist',\n",
       "       'Senior Financial Manager', 'Senior HR Specialist',\n",
       "       'Senior Data Engineer', 'Junior Operations Coordinator',\n",
       "       'Director of HR', 'Senior Operations Coordinator',\n",
       "       'Junior Financial Advisor', 'Director of Engineering'],\n",
       "      dtype=object)"
      ]
     },
     "execution_count": 46,
     "metadata": {},
     "output_type": "execute_result"
    }
   ],
   "source": [
    "df1['Job Title'].unique()"
   ]
  },
  {
   "cell_type": "code",
   "execution_count": 47,
   "id": "6222ea8c",
   "metadata": {
    "execution": {
     "iopub.execute_input": "2024-05-11T09:14:44.957274Z",
     "iopub.status.busy": "2024-05-11T09:14:44.956102Z",
     "iopub.status.idle": "2024-05-11T09:14:44.963547Z",
     "shell.execute_reply": "2024-05-11T09:14:44.962512Z"
    },
    "papermill": {
     "duration": 0.024109,
     "end_time": "2024-05-11T09:14:44.965778",
     "exception": false,
     "start_time": "2024-05-11T09:14:44.941669",
     "status": "completed"
    },
    "tags": []
   },
   "outputs": [
    {
     "data": {
      "text/plain": [
       "Index(['Age', 'Gender', 'Education Level', 'Job Title', 'Years of Experience',\n",
       "       'Salary'],\n",
       "      dtype='object')"
      ]
     },
     "execution_count": 47,
     "metadata": {},
     "output_type": "execute_result"
    }
   ],
   "source": [
    "df1.columns"
   ]
  },
  {
   "cell_type": "code",
   "execution_count": 48,
   "id": "1d50bcaf",
   "metadata": {
    "execution": {
     "iopub.execute_input": "2024-05-11T09:14:44.994237Z",
     "iopub.status.busy": "2024-05-11T09:14:44.993371Z",
     "iopub.status.idle": "2024-05-11T09:14:45.011133Z",
     "shell.execute_reply": "2024-05-11T09:14:45.010073Z"
    },
    "papermill": {
     "duration": 0.034622,
     "end_time": "2024-05-11T09:14:45.013436",
     "exception": false,
     "start_time": "2024-05-11T09:14:44.978814",
     "status": "completed"
    },
    "tags": []
   },
   "outputs": [
    {
     "data": {
      "text/html": [
       "<div>\n",
       "<style scoped>\n",
       "    .dataframe tbody tr th:only-of-type {\n",
       "        vertical-align: middle;\n",
       "    }\n",
       "\n",
       "    .dataframe tbody tr th {\n",
       "        vertical-align: top;\n",
       "    }\n",
       "\n",
       "    .dataframe thead th {\n",
       "        text-align: right;\n",
       "    }\n",
       "</style>\n",
       "<table border=\"1\" class=\"dataframe\">\n",
       "  <thead>\n",
       "    <tr style=\"text-align: right;\">\n",
       "      <th></th>\n",
       "      <th>Education Level</th>\n",
       "      <th>Years of Experience</th>\n",
       "      <th>Salary</th>\n",
       "    </tr>\n",
       "  </thead>\n",
       "  <tbody>\n",
       "    <tr>\n",
       "      <th>0</th>\n",
       "      <td>Bachelor's</td>\n",
       "      <td>5.0</td>\n",
       "      <td>90000.0</td>\n",
       "    </tr>\n",
       "    <tr>\n",
       "      <th>1</th>\n",
       "      <td>Master's</td>\n",
       "      <td>3.0</td>\n",
       "      <td>65000.0</td>\n",
       "    </tr>\n",
       "    <tr>\n",
       "      <th>2</th>\n",
       "      <td>PhD</td>\n",
       "      <td>15.0</td>\n",
       "      <td>150000.0</td>\n",
       "    </tr>\n",
       "    <tr>\n",
       "      <th>3</th>\n",
       "      <td>Bachelor's</td>\n",
       "      <td>7.0</td>\n",
       "      <td>60000.0</td>\n",
       "    </tr>\n",
       "    <tr>\n",
       "      <th>4</th>\n",
       "      <td>Master's</td>\n",
       "      <td>20.0</td>\n",
       "      <td>200000.0</td>\n",
       "    </tr>\n",
       "    <tr>\n",
       "      <th>5</th>\n",
       "      <td>Bachelor's</td>\n",
       "      <td>2.0</td>\n",
       "      <td>55000.0</td>\n",
       "    </tr>\n",
       "    <tr>\n",
       "      <th>6</th>\n",
       "      <td>Master's</td>\n",
       "      <td>12.0</td>\n",
       "      <td>120000.0</td>\n",
       "    </tr>\n",
       "    <tr>\n",
       "      <th>7</th>\n",
       "      <td>Bachelor's</td>\n",
       "      <td>4.0</td>\n",
       "      <td>80000.0</td>\n",
       "    </tr>\n",
       "    <tr>\n",
       "      <th>8</th>\n",
       "      <td>Bachelor's</td>\n",
       "      <td>1.0</td>\n",
       "      <td>45000.0</td>\n",
       "    </tr>\n",
       "    <tr>\n",
       "      <th>9</th>\n",
       "      <td>PhD</td>\n",
       "      <td>10.0</td>\n",
       "      <td>110000.0</td>\n",
       "    </tr>\n",
       "  </tbody>\n",
       "</table>\n",
       "</div>"
      ],
      "text/plain": [
       "  Education Level  Years of Experience    Salary\n",
       "0      Bachelor's                  5.0   90000.0\n",
       "1        Master's                  3.0   65000.0\n",
       "2             PhD                 15.0  150000.0\n",
       "3      Bachelor's                  7.0   60000.0\n",
       "4        Master's                 20.0  200000.0\n",
       "5      Bachelor's                  2.0   55000.0\n",
       "6        Master's                 12.0  120000.0\n",
       "7      Bachelor's                  4.0   80000.0\n",
       "8      Bachelor's                  1.0   45000.0\n",
       "9             PhD                 10.0  110000.0"
      ]
     },
     "execution_count": 48,
     "metadata": {},
     "output_type": "execute_result"
    }
   ],
   "source": [
    "# Choosing only the features that is relevant for the prediction\n",
    "# You can also keep 'Job Title' in the dataframe but i haven't kept it\n",
    "df2= df1.drop( ['Age', 'Gender','Job Title'], axis=1)\n",
    "df2.head(10)"
   ]
  },
  {
   "cell_type": "code",
   "execution_count": 49,
   "id": "39fadf3c",
   "metadata": {
    "execution": {
     "iopub.execute_input": "2024-05-11T09:14:45.042446Z",
     "iopub.status.busy": "2024-05-11T09:14:45.041348Z",
     "iopub.status.idle": "2024-05-11T09:14:46.538949Z",
     "shell.execute_reply": "2024-05-11T09:14:46.537856Z"
    },
    "papermill": {
     "duration": 1.514663,
     "end_time": "2024-05-11T09:14:46.541447",
     "exception": false,
     "start_time": "2024-05-11T09:14:45.026784",
     "status": "completed"
    },
    "tags": []
   },
   "outputs": [
    {
     "data": {
      "text/html": [
       "<div>\n",
       "<style scoped>\n",
       "    .dataframe tbody tr th:only-of-type {\n",
       "        vertical-align: middle;\n",
       "    }\n",
       "\n",
       "    .dataframe tbody tr th {\n",
       "        vertical-align: top;\n",
       "    }\n",
       "\n",
       "    .dataframe thead th {\n",
       "        text-align: right;\n",
       "    }\n",
       "</style>\n",
       "<table border=\"1\" class=\"dataframe\">\n",
       "  <thead>\n",
       "    <tr style=\"text-align: right;\">\n",
       "      <th></th>\n",
       "      <th>Education Level</th>\n",
       "      <th>Years of Experience</th>\n",
       "      <th>Salary</th>\n",
       "    </tr>\n",
       "  </thead>\n",
       "  <tbody>\n",
       "    <tr>\n",
       "      <th>0</th>\n",
       "      <td>0</td>\n",
       "      <td>5.0</td>\n",
       "      <td>90000.0</td>\n",
       "    </tr>\n",
       "    <tr>\n",
       "      <th>1</th>\n",
       "      <td>1</td>\n",
       "      <td>3.0</td>\n",
       "      <td>65000.0</td>\n",
       "    </tr>\n",
       "    <tr>\n",
       "      <th>2</th>\n",
       "      <td>2</td>\n",
       "      <td>15.0</td>\n",
       "      <td>150000.0</td>\n",
       "    </tr>\n",
       "    <tr>\n",
       "      <th>3</th>\n",
       "      <td>0</td>\n",
       "      <td>7.0</td>\n",
       "      <td>60000.0</td>\n",
       "    </tr>\n",
       "    <tr>\n",
       "      <th>4</th>\n",
       "      <td>1</td>\n",
       "      <td>20.0</td>\n",
       "      <td>200000.0</td>\n",
       "    </tr>\n",
       "  </tbody>\n",
       "</table>\n",
       "</div>"
      ],
      "text/plain": [
       "   Education Level  Years of Experience    Salary\n",
       "0                0                  5.0   90000.0\n",
       "1                1                  3.0   65000.0\n",
       "2                2                 15.0  150000.0\n",
       "3                0                  7.0   60000.0\n",
       "4                1                 20.0  200000.0"
      ]
     },
     "execution_count": 49,
     "metadata": {},
     "output_type": "execute_result"
    }
   ],
   "source": [
    "# Converting the Categorial data into numbers\n",
    "from sklearn.preprocessing import LabelEncoder\n",
    "label_encoder = LabelEncoder()\n",
    "df2['Education Level'] = label_encoder.fit_transform(df2['Education Level'])\n",
    "df2.head()"
   ]
  },
  {
   "cell_type": "code",
   "execution_count": 50,
   "id": "6feb5b29",
   "metadata": {
    "execution": {
     "iopub.execute_input": "2024-05-11T09:14:46.570993Z",
     "iopub.status.busy": "2024-05-11T09:14:46.570033Z",
     "iopub.status.idle": "2024-05-11T09:14:46.578858Z",
     "shell.execute_reply": "2024-05-11T09:14:46.577757Z"
    },
    "papermill": {
     "duration": 0.026221,
     "end_time": "2024-05-11T09:14:46.581219",
     "exception": false,
     "start_time": "2024-05-11T09:14:46.554998",
     "status": "completed"
    },
    "tags": []
   },
   "outputs": [
    {
     "data": {
      "text/plain": [
       "(373, 1)"
      ]
     },
     "execution_count": 50,
     "metadata": {},
     "output_type": "execute_result"
    }
   ],
   "source": [
    "# Splitting the data into x and y for training and testing purpose\n",
    "x=df2[['Years of Experience']]\n",
    "x.shape"
   ]
  },
  {
   "cell_type": "code",
   "execution_count": 51,
   "id": "1e5504c8",
   "metadata": {
    "execution": {
     "iopub.execute_input": "2024-05-11T09:14:46.610815Z",
     "iopub.status.busy": "2024-05-11T09:14:46.609826Z",
     "iopub.status.idle": "2024-05-11T09:14:46.621634Z",
     "shell.execute_reply": "2024-05-11T09:14:46.620517Z"
    },
    "papermill": {
     "duration": 0.029148,
     "end_time": "2024-05-11T09:14:46.624079",
     "exception": false,
     "start_time": "2024-05-11T09:14:46.594931",
     "status": "completed"
    },
    "tags": []
   },
   "outputs": [
    {
     "data": {
      "text/html": [
       "<div>\n",
       "<style scoped>\n",
       "    .dataframe tbody tr th:only-of-type {\n",
       "        vertical-align: middle;\n",
       "    }\n",
       "\n",
       "    .dataframe tbody tr th {\n",
       "        vertical-align: top;\n",
       "    }\n",
       "\n",
       "    .dataframe thead th {\n",
       "        text-align: right;\n",
       "    }\n",
       "</style>\n",
       "<table border=\"1\" class=\"dataframe\">\n",
       "  <thead>\n",
       "    <tr style=\"text-align: right;\">\n",
       "      <th></th>\n",
       "      <th>Years of Experience</th>\n",
       "    </tr>\n",
       "  </thead>\n",
       "  <tbody>\n",
       "    <tr>\n",
       "      <th>0</th>\n",
       "      <td>5.0</td>\n",
       "    </tr>\n",
       "    <tr>\n",
       "      <th>1</th>\n",
       "      <td>3.0</td>\n",
       "    </tr>\n",
       "    <tr>\n",
       "      <th>2</th>\n",
       "      <td>15.0</td>\n",
       "    </tr>\n",
       "    <tr>\n",
       "      <th>3</th>\n",
       "      <td>7.0</td>\n",
       "    </tr>\n",
       "    <tr>\n",
       "      <th>4</th>\n",
       "      <td>20.0</td>\n",
       "    </tr>\n",
       "  </tbody>\n",
       "</table>\n",
       "</div>"
      ],
      "text/plain": [
       "   Years of Experience\n",
       "0                  5.0\n",
       "1                  3.0\n",
       "2                 15.0\n",
       "3                  7.0\n",
       "4                 20.0"
      ]
     },
     "execution_count": 51,
     "metadata": {},
     "output_type": "execute_result"
    }
   ],
   "source": [
    "x.head(5)"
   ]
  },
  {
   "cell_type": "code",
   "execution_count": 52,
   "id": "98405b5b",
   "metadata": {
    "execution": {
     "iopub.execute_input": "2024-05-11T09:14:46.654130Z",
     "iopub.status.busy": "2024-05-11T09:14:46.653673Z",
     "iopub.status.idle": "2024-05-11T09:14:46.665190Z",
     "shell.execute_reply": "2024-05-11T09:14:46.664168Z"
    },
    "papermill": {
     "duration": 0.029294,
     "end_time": "2024-05-11T09:14:46.667523",
     "exception": false,
     "start_time": "2024-05-11T09:14:46.638229",
     "status": "completed"
    },
    "tags": []
   },
   "outputs": [
    {
     "data": {
      "text/html": [
       "<div>\n",
       "<style scoped>\n",
       "    .dataframe tbody tr th:only-of-type {\n",
       "        vertical-align: middle;\n",
       "    }\n",
       "\n",
       "    .dataframe tbody tr th {\n",
       "        vertical-align: top;\n",
       "    }\n",
       "\n",
       "    .dataframe thead th {\n",
       "        text-align: right;\n",
       "    }\n",
       "</style>\n",
       "<table border=\"1\" class=\"dataframe\">\n",
       "  <thead>\n",
       "    <tr style=\"text-align: right;\">\n",
       "      <th></th>\n",
       "      <th>Salary</th>\n",
       "    </tr>\n",
       "  </thead>\n",
       "  <tbody>\n",
       "    <tr>\n",
       "      <th>0</th>\n",
       "      <td>90000.0</td>\n",
       "    </tr>\n",
       "    <tr>\n",
       "      <th>1</th>\n",
       "      <td>65000.0</td>\n",
       "    </tr>\n",
       "    <tr>\n",
       "      <th>2</th>\n",
       "      <td>150000.0</td>\n",
       "    </tr>\n",
       "    <tr>\n",
       "      <th>3</th>\n",
       "      <td>60000.0</td>\n",
       "    </tr>\n",
       "    <tr>\n",
       "      <th>4</th>\n",
       "      <td>200000.0</td>\n",
       "    </tr>\n",
       "  </tbody>\n",
       "</table>\n",
       "</div>"
      ],
      "text/plain": [
       "     Salary\n",
       "0   90000.0\n",
       "1   65000.0\n",
       "2  150000.0\n",
       "3   60000.0\n",
       "4  200000.0"
      ]
     },
     "execution_count": 52,
     "metadata": {},
     "output_type": "execute_result"
    }
   ],
   "source": [
    "y=df2[['Salary']]\n",
    "y.head(5)"
   ]
  },
  {
   "cell_type": "code",
   "execution_count": 53,
   "id": "237342dc",
   "metadata": {
    "execution": {
     "iopub.execute_input": "2024-05-11T09:14:46.697418Z",
     "iopub.status.busy": "2024-05-11T09:14:46.697000Z",
     "iopub.status.idle": "2024-05-11T09:14:46.843283Z",
     "shell.execute_reply": "2024-05-11T09:14:46.842077Z"
    },
    "papermill": {
     "duration": 0.164303,
     "end_time": "2024-05-11T09:14:46.845903",
     "exception": false,
     "start_time": "2024-05-11T09:14:46.681600",
     "status": "completed"
    },
    "tags": []
   },
   "outputs": [],
   "source": [
    "# Splitting the above data into training and testing data\n",
    "from sklearn.model_selection import train_test_split\n",
    "x_train,x_test,y_train,y_test = train_test_split(x,y,test_size= 0.2,random_state = 9598)"
   ]
  },
  {
   "cell_type": "code",
   "execution_count": 54,
   "id": "83ec11d6",
   "metadata": {
    "execution": {
     "iopub.execute_input": "2024-05-11T09:14:46.875966Z",
     "iopub.status.busy": "2024-05-11T09:14:46.875539Z",
     "iopub.status.idle": "2024-05-11T09:14:46.882181Z",
     "shell.execute_reply": "2024-05-11T09:14:46.880965Z"
    },
    "papermill": {
     "duration": 0.024439,
     "end_time": "2024-05-11T09:14:46.884578",
     "exception": false,
     "start_time": "2024-05-11T09:14:46.860139",
     "status": "completed"
    },
    "tags": []
   },
   "outputs": [
    {
     "name": "stdout",
     "output_type": "stream",
     "text": [
      "(298, 1)\n",
      "(75, 1)\n",
      "(298, 1)\n",
      "(75, 1)\n"
     ]
    }
   ],
   "source": [
    "# to know about the shape of traing and testing data\n",
    "\n",
    "print(x_train.shape)\n",
    "print(x_test.shape)\n",
    "print(y_train.shape)\n",
    "print(y_test.shape)"
   ]
  },
  {
   "cell_type": "code",
   "execution_count": 55,
   "id": "f8e2209e",
   "metadata": {
    "execution": {
     "iopub.execute_input": "2024-05-11T09:14:46.914962Z",
     "iopub.status.busy": "2024-05-11T09:14:46.914483Z",
     "iopub.status.idle": "2024-05-11T09:14:47.046573Z",
     "shell.execute_reply": "2024-05-11T09:14:47.045544Z"
    },
    "papermill": {
     "duration": 0.150559,
     "end_time": "2024-05-11T09:14:47.049391",
     "exception": false,
     "start_time": "2024-05-11T09:14:46.898832",
     "status": "completed"
    },
    "tags": []
   },
   "outputs": [],
   "source": [
    "# As it is the Regrssion Problem lets try all the Regression Algorith to get the best accuracy\n",
    "from sklearn.linear_model import LinearRegression\n",
    "model = LinearRegression()"
   ]
  },
  {
   "cell_type": "code",
   "execution_count": 56,
   "id": "dc690877",
   "metadata": {
    "execution": {
     "iopub.execute_input": "2024-05-11T09:14:47.079754Z",
     "iopub.status.busy": "2024-05-11T09:14:47.079361Z",
     "iopub.status.idle": "2024-05-11T09:14:47.115881Z",
     "shell.execute_reply": "2024-05-11T09:14:47.114753Z"
    },
    "papermill": {
     "duration": 0.054698,
     "end_time": "2024-05-11T09:14:47.118495",
     "exception": false,
     "start_time": "2024-05-11T09:14:47.063797",
     "status": "completed"
    },
    "tags": []
   },
   "outputs": [
    {
     "name": "stdout",
     "output_type": "stream",
     "text": [
      "[[6800.20005631]] [32148.13902625]\n"
     ]
    }
   ],
   "source": [
    "# To train and fit the model\n",
    "model.fit(x_train,y_train)\n",
    "print(f\"{model.coef_} {model.intercept_}\")"
   ]
  },
  {
   "cell_type": "code",
   "execution_count": 57,
   "id": "1fb0284b",
   "metadata": {},
   "outputs": [],
   "source": [
    "#######################\n",
    "\n",
    "def predict(x, w1, w0):\n",
    "    return w1 * x + w0\n",
    "def compute_coefficient(x, y):\n",
    "    n = len(x)\n",
    "    x_mean = np.mean(x)\n",
    "    y_mean = np.mean(y)\n",
    "\n",
    "    numerator = 0\n",
    "    denominator = 0\n",
    "\n",
    "    for i in range(n):\n",
    "        numerator += (x.iloc[i].iloc[0] - x_mean) * (y.iloc[i].iloc[0] - y_mean)\n",
    "        denominator += (x.iloc[i].iloc[0] - x_mean) ** 2\n",
    "\n",
    "    # Calculate coefficients\n",
    "    slope = numerator / denominator\n",
    "    intercept = y_mean - slope * x_mean\n",
    "\n",
    "    return slope, intercept\n",
    "\n",
    "#####################"
   ]
  },
  {
   "cell_type": "code",
   "execution_count": 58,
   "id": "da3d0fee",
   "metadata": {},
   "outputs": [
    {
     "name": "stdout",
     "output_type": "stream",
     "text": [
      "6800.200056312714 32148.139026251607\n"
     ]
    }
   ],
   "source": [
    "w1, w0 = compute_coefficient(x_train,y_train)\n",
    "# display the value of predicted coefficients\n",
    "print(w1, w0)\n"
   ]
  },
  {
   "cell_type": "code",
   "execution_count": 59,
   "id": "6903ccfb",
   "metadata": {
    "execution": {
     "iopub.execute_input": "2024-05-11T09:14:47.149225Z",
     "iopub.status.busy": "2024-05-11T09:14:47.148778Z",
     "iopub.status.idle": "2024-05-11T09:14:47.159850Z",
     "shell.execute_reply": "2024-05-11T09:14:47.158731Z"
    },
    "papermill": {
     "duration": 0.029382,
     "end_time": "2024-05-11T09:14:47.162380",
     "exception": false,
     "start_time": "2024-05-11T09:14:47.132998",
     "status": "completed"
    },
    "tags": []
   },
   "outputs": [
    {
     "data": {
      "text/plain": [
       "array([[127350.93981463],\n",
       "       [188552.74032144],\n",
       "       [ 72949.33936413],\n",
       "       [ 45748.53913888],\n",
       "       [127350.93981463],\n",
       "       [ 86549.73947675],\n",
       "       [120550.73975832],\n",
       "       [ 59348.9392515 ],\n",
       "       [140951.33992726],\n",
       "       [ 59348.9392515 ],\n",
       "       [ 52548.73919519],\n",
       "       [ 79749.53942044],\n",
       "       [ 93349.93953307],\n",
       "       [100150.13958938],\n",
       "       [106950.33964569],\n",
       "       [181752.54026513],\n",
       "       [ 66149.13930782],\n",
       "       [ 45748.53913888],\n",
       "       [161351.94009619],\n",
       "       [ 32148.13902625],\n",
       "       [ 45748.53913888],\n",
       "       [ 66149.13930782],\n",
       "       [ 45748.53913888],\n",
       "       [ 86549.73947675],\n",
       "       [134151.13987094],\n",
       "       [100150.13958938],\n",
       "       [134151.13987094],\n",
       "       [ 66149.13930782],\n",
       "       [100150.13958938],\n",
       "       [ 72949.33936413],\n",
       "       [ 66149.13930782],\n",
       "       [ 79749.53942044],\n",
       "       [ 59348.9392515 ],\n",
       "       [ 38948.33908256],\n",
       "       [ 52548.73919519],\n",
       "       [ 52548.73919519],\n",
       "       [140951.33992726],\n",
       "       [ 79749.53942044],\n",
       "       [ 86549.73947675],\n",
       "       [ 86549.73947675],\n",
       "       [ 79749.53942044],\n",
       "       [ 66149.13930782],\n",
       "       [ 79749.53942044],\n",
       "       [106950.33964569],\n",
       "       [168152.14015251],\n",
       "       [ 45748.53913888],\n",
       "       [ 93349.93953307],\n",
       "       [ 79749.53942044],\n",
       "       [ 52548.73919519],\n",
       "       [ 52548.73919519],\n",
       "       [106950.33964569],\n",
       "       [ 86549.73947675],\n",
       "       [140951.33992726],\n",
       "       [127350.93981463],\n",
       "       [ 59348.9392515 ],\n",
       "       [174952.34020882],\n",
       "       [ 42348.43911072],\n",
       "       [174952.34020882],\n",
       "       [113750.539702  ],\n",
       "       [100150.13958938],\n",
       "       [181752.54026513],\n",
       "       [134151.13987094],\n",
       "       [ 52548.73919519],\n",
       "       [127350.93981463],\n",
       "       [127350.93981463],\n",
       "       [ 86549.73947675],\n",
       "       [147751.53998357],\n",
       "       [188552.74032144],\n",
       "       [106950.33964569],\n",
       "       [120550.73975832],\n",
       "       [ 93349.93953307],\n",
       "       [ 52548.73919519],\n",
       "       [ 59348.9392515 ],\n",
       "       [168152.14015251],\n",
       "       [161351.94009619]])"
      ]
     },
     "execution_count": 59,
     "metadata": {},
     "output_type": "execute_result"
    }
   ],
   "source": [
    "# to predict the data\n",
    "y_pred = model.predict(x_test)\n",
    "y_pred"
   ]
  },
  {
   "cell_type": "code",
   "execution_count": 60,
   "id": "ce00678a",
   "metadata": {
    "execution": {
     "iopub.execute_input": "2024-05-11T09:14:47.193778Z",
     "iopub.status.busy": "2024-05-11T09:14:47.193384Z",
     "iopub.status.idle": "2024-05-11T09:14:47.205947Z",
     "shell.execute_reply": "2024-05-11T09:14:47.204702Z"
    },
    "papermill": {
     "duration": 0.030781,
     "end_time": "2024-05-11T09:14:47.208202",
     "exception": false,
     "start_time": "2024-05-11T09:14:47.177421",
     "status": "completed"
    },
    "tags": []
   },
   "outputs": [
    {
     "data": {
      "text/html": [
       "<div>\n",
       "<style scoped>\n",
       "    .dataframe tbody tr th:only-of-type {\n",
       "        vertical-align: middle;\n",
       "    }\n",
       "\n",
       "    .dataframe tbody tr th {\n",
       "        vertical-align: top;\n",
       "    }\n",
       "\n",
       "    .dataframe thead th {\n",
       "        text-align: right;\n",
       "    }\n",
       "</style>\n",
       "<table border=\"1\" class=\"dataframe\">\n",
       "  <thead>\n",
       "    <tr style=\"text-align: right;\">\n",
       "      <th></th>\n",
       "      <th>Salary</th>\n",
       "    </tr>\n",
       "  </thead>\n",
       "  <tbody>\n",
       "    <tr>\n",
       "      <th>74</th>\n",
       "      <td>120000.0</td>\n",
       "    </tr>\n",
       "    <tr>\n",
       "      <th>60</th>\n",
       "      <td>170000.0</td>\n",
       "    </tr>\n",
       "    <tr>\n",
       "      <th>89</th>\n",
       "      <td>55000.0</td>\n",
       "    </tr>\n",
       "    <tr>\n",
       "      <th>22</th>\n",
       "      <td>50000.0</td>\n",
       "    </tr>\n",
       "    <tr>\n",
       "      <th>343</th>\n",
       "      <td>150000.0</td>\n",
       "    </tr>\n",
       "    <tr>\n",
       "      <th>...</th>\n",
       "      <td>...</td>\n",
       "    </tr>\n",
       "    <tr>\n",
       "      <th>111</th>\n",
       "      <td>95000.0</td>\n",
       "    </tr>\n",
       "    <tr>\n",
       "      <th>307</th>\n",
       "      <td>50000.0</td>\n",
       "    </tr>\n",
       "    <tr>\n",
       "      <th>31</th>\n",
       "      <td>55000.0</td>\n",
       "    </tr>\n",
       "    <tr>\n",
       "      <th>249</th>\n",
       "      <td>170000.0</td>\n",
       "    </tr>\n",
       "    <tr>\n",
       "      <th>102</th>\n",
       "      <td>150000.0</td>\n",
       "    </tr>\n",
       "  </tbody>\n",
       "</table>\n",
       "<p>75 rows × 1 columns</p>\n",
       "</div>"
      ],
      "text/plain": [
       "       Salary\n",
       "74   120000.0\n",
       "60   170000.0\n",
       "89    55000.0\n",
       "22    50000.0\n",
       "343  150000.0\n",
       "..        ...\n",
       "111   95000.0\n",
       "307   50000.0\n",
       "31    55000.0\n",
       "249  170000.0\n",
       "102  150000.0\n",
       "\n",
       "[75 rows x 1 columns]"
      ]
     },
     "execution_count": 60,
     "metadata": {},
     "output_type": "execute_result"
    }
   ],
   "source": [
    "# to know what the orignal prediction was for the testing data\n",
    "y_test"
   ]
  },
  {
   "cell_type": "code",
   "execution_count": 61,
   "id": "66237a7c",
   "metadata": {
    "execution": {
     "iopub.execute_input": "2024-05-11T09:14:47.241484Z",
     "iopub.status.busy": "2024-05-11T09:14:47.240639Z",
     "iopub.status.idle": "2024-05-11T09:14:47.245933Z",
     "shell.execute_reply": "2024-05-11T09:14:47.244888Z"
    },
    "papermill": {
     "duration": 0.023689,
     "end_time": "2024-05-11T09:14:47.248161",
     "exception": false,
     "start_time": "2024-05-11T09:14:47.224472",
     "status": "completed"
    },
    "tags": []
   },
   "outputs": [],
   "source": [
    "# to Calculate the Accuracy of the Model\n",
    "from sklearn.metrics import mean_absolute_error, mean_absolute_percentage_error,mean_squared_error"
   ]
  },
  {
   "cell_type": "code",
   "execution_count": 62,
   "id": "26926e74",
   "metadata": {
    "execution": {
     "iopub.execute_input": "2024-05-11T09:14:47.280166Z",
     "iopub.status.busy": "2024-05-11T09:14:47.279737Z",
     "iopub.status.idle": "2024-05-11T09:14:47.288870Z",
     "shell.execute_reply": "2024-05-11T09:14:47.287774Z"
    },
    "papermill": {
     "duration": 0.027794,
     "end_time": "2024-05-11T09:14:47.291196",
     "exception": false,
     "start_time": "2024-05-11T09:14:47.263402",
     "status": "completed"
    },
    "tags": []
   },
   "outputs": [
    {
     "data": {
      "text/plain": [
       "10163.288574724103"
      ]
     },
     "execution_count": 62,
     "metadata": {},
     "output_type": "execute_result"
    }
   ],
   "source": [
    "# to print the mean absolute error\n",
    "mean_absolute_error(y_test,y_pred)"
   ]
  },
  {
   "cell_type": "code",
   "execution_count": 63,
   "id": "8cb99b7f",
   "metadata": {
    "execution": {
     "iopub.execute_input": "2024-05-11T09:14:47.323260Z",
     "iopub.status.busy": "2024-05-11T09:14:47.322776Z",
     "iopub.status.idle": "2024-05-11T09:14:47.332701Z",
     "shell.execute_reply": "2024-05-11T09:14:47.331519Z"
    },
    "papermill": {
     "duration": 0.028775,
     "end_time": "2024-05-11T09:14:47.335197",
     "exception": false,
     "start_time": "2024-05-11T09:14:47.306422",
     "status": "completed"
    },
    "tags": []
   },
   "outputs": [
    {
     "data": {
      "text/plain": [
       "0.11579235677688739"
      ]
     },
     "execution_count": 63,
     "metadata": {},
     "output_type": "execute_result"
    }
   ],
   "source": [
    "# to print the mean absolute percentage\n",
    "per_e = mean_absolute_percentage_error(y_test,y_pred)\n",
    "per_e"
   ]
  },
  {
   "cell_type": "code",
   "execution_count": 64,
   "id": "3006eaab",
   "metadata": {
    "execution": {
     "iopub.execute_input": "2024-05-11T09:14:47.368703Z",
     "iopub.status.busy": "2024-05-11T09:14:47.367401Z",
     "iopub.status.idle": "2024-05-11T09:14:47.375226Z",
     "shell.execute_reply": "2024-05-11T09:14:47.374155Z"
    },
    "papermill": {
     "duration": 0.026792,
     "end_time": "2024-05-11T09:14:47.377606",
     "exception": false,
     "start_time": "2024-05-11T09:14:47.350814",
     "status": "completed"
    },
    "tags": []
   },
   "outputs": [
    {
     "data": {
      "text/plain": [
       "88.42076432231126"
      ]
     },
     "execution_count": 64,
     "metadata": {},
     "output_type": "execute_result"
    }
   ],
   "source": [
    "# to print the accuracy in percentage\n",
    "acc1 = (1-per_e)*100\n",
    "acc1"
   ]
  },
  {
   "cell_type": "code",
   "execution_count": 65,
   "id": "52277245",
   "metadata": {
    "execution": {
     "iopub.execute_input": "2024-05-11T09:14:47.410670Z",
     "iopub.status.busy": "2024-05-11T09:14:47.410249Z",
     "iopub.status.idle": "2024-05-11T09:14:47.590521Z",
     "shell.execute_reply": "2024-05-11T09:14:47.589099Z"
    },
    "papermill": {
     "duration": 0.199793,
     "end_time": "2024-05-11T09:14:47.593125",
     "exception": false,
     "start_time": "2024-05-11T09:14:47.393332",
     "status": "completed"
    },
    "tags": []
   },
   "outputs": [
    {
     "data": {
      "text/plain": [
       "88.1623043414307"
      ]
     },
     "execution_count": 65,
     "metadata": {},
     "output_type": "execute_result"
    }
   ],
   "source": [
    "# Trying other Algorhithms to check which gives the best accuracy\n",
    "\n",
    "# KNeighbors Regressor\n",
    "\n",
    "from sklearn.neighbors import KNeighborsRegressor\n",
    "model2 = KNeighborsRegressor() \n",
    "model2.fit(x_train,y_train)\n",
    "y_pred2 = model2.predict(x_test)\n",
    "error2 = mean_absolute_percentage_error(y_test,y_pred2)\n",
    "acc2 = (1-error2)*100\n",
    "acc2"
   ]
  },
  {
   "cell_type": "code",
   "execution_count": 66,
   "id": "1539e79a",
   "metadata": {
    "execution": {
     "iopub.execute_input": "2024-05-11T09:14:47.626758Z",
     "iopub.status.busy": "2024-05-11T09:14:47.626341Z",
     "iopub.status.idle": "2024-05-11T09:14:47.685478Z",
     "shell.execute_reply": "2024-05-11T09:14:47.684300Z"
    },
    "papermill": {
     "duration": 0.079144,
     "end_time": "2024-05-11T09:14:47.687955",
     "exception": false,
     "start_time": "2024-05-11T09:14:47.608811",
     "status": "completed"
    },
    "tags": []
   },
   "outputs": [
    {
     "data": {
      "text/plain": [
       "87.9366120986718"
      ]
     },
     "execution_count": 66,
     "metadata": {},
     "output_type": "execute_result"
    }
   ],
   "source": [
    "# DecisionTree Regressor\n",
    "\n",
    "from sklearn.tree import DecisionTreeRegressor\n",
    "model3 = DecisionTreeRegressor()\n",
    "model3.fit(x_train,y_train)\n",
    "y_pred3 = model3.predict(x_test)\n",
    "error3 = mean_absolute_percentage_error(y_test,y_pred3)\n",
    "acc3 = (1-error3)*100\n",
    "acc3"
   ]
  },
  {
   "cell_type": "code",
   "execution_count": 67,
   "id": "7ae95ca2",
   "metadata": {
    "execution": {
     "iopub.execute_input": "2024-05-11T09:14:47.721812Z",
     "iopub.status.busy": "2024-05-11T09:14:47.721108Z",
     "iopub.status.idle": "2024-05-11T09:14:48.028593Z",
     "shell.execute_reply": "2024-05-11T09:14:48.027398Z"
    },
    "papermill": {
     "duration": 0.327454,
     "end_time": "2024-05-11T09:14:48.031379",
     "exception": false,
     "start_time": "2024-05-11T09:14:47.703925",
     "status": "completed"
    },
    "tags": []
   },
   "outputs": [
    {
     "name": "stderr",
     "output_type": "stream",
     "text": [
      "c:\\Users\\ZsomborVeres-Lakos\\anaconda3\\Lib\\site-packages\\sklearn\\base.py:1473: DataConversionWarning: A column-vector y was passed when a 1d array was expected. Please change the shape of y to (n_samples,), for example using ravel().\n",
      "  return fit_method(estimator, *args, **kwargs)\n"
     ]
    },
    {
     "data": {
      "text/plain": [
       "87.86971879351088"
      ]
     },
     "execution_count": 67,
     "metadata": {},
     "output_type": "execute_result"
    }
   ],
   "source": [
    "# RandomForest Regressor\n",
    "\n",
    "from sklearn.ensemble import RandomForestRegressor\n",
    "model4 = RandomForestRegressor()\n",
    "model4.fit(x_train,y_train)\n",
    "y_pred4 = model4.predict(x_test)\n",
    "error4 = mean_absolute_percentage_error(y_test,y_pred4)\n",
    "acc4 = (1-error4)*100\n",
    "acc4"
   ]
  },
  {
   "cell_type": "code",
   "execution_count": 68,
   "id": "7034449c",
   "metadata": {
    "execution": {
     "iopub.execute_input": "2024-05-11T09:14:48.066672Z",
     "iopub.status.busy": "2024-05-11T09:14:48.066247Z",
     "iopub.status.idle": "2024-05-11T09:14:48.072877Z",
     "shell.execute_reply": "2024-05-11T09:14:48.071512Z"
    },
    "papermill": {
     "duration": 0.027412,
     "end_time": "2024-05-11T09:14:48.075980",
     "exception": false,
     "start_time": "2024-05-11T09:14:48.048568",
     "status": "completed"
    },
    "tags": []
   },
   "outputs": [
    {
     "name": "stdout",
     "output_type": "stream",
     "text": [
      "The Acuuracy of Linear Regressor is  88.42076432231126\n",
      "The Acuuracy of KNeighbors Regressor is  88.1623043414307\n",
      "The Acuuracy of DecisionTree Regressor is  87.9366120986718\n",
      "The Acuuracy of RandomForest Regressor is  87.86971879351088\n"
     ]
    }
   ],
   "source": [
    "print(\"The Acuuracy of Linear Regressor is \",acc1)\n",
    "print(\"The Acuuracy of KNeighbors Regressor is \",acc2)\n",
    "print(\"The Acuuracy of DecisionTree Regressor is \",acc3)\n",
    "print(\"The Acuuracy of RandomForest Regressor is \",acc4)"
   ]
  }
 ],
 "metadata": {
  "kaggle": {
   "accelerator": "none",
   "dataSources": [
    {
     "datasetId": 2973025,
     "sourceId": 5119031,
     "sourceType": "datasetVersion"
    }
   ],
   "dockerImageVersionId": 30698,
   "isGpuEnabled": false,
   "isInternetEnabled": true,
   "language": "python",
   "sourceType": "notebook"
  },
  "kernelspec": {
   "display_name": "base",
   "language": "python",
   "name": "python3"
  },
  "language_info": {
   "codemirror_mode": {
    "name": "ipython",
    "version": 3
   },
   "file_extension": ".py",
   "mimetype": "text/x-python",
   "name": "python",
   "nbconvert_exporter": "python",
   "pygments_lexer": "ipython3",
   "version": "3.12.7"
  },
  "papermill": {
   "default_parameters": {},
   "duration": 8.728467,
   "end_time": "2024-05-11T09:14:48.814609",
   "environment_variables": {},
   "exception": null,
   "input_path": "__notebook__.ipynb",
   "output_path": "__notebook__.ipynb",
   "parameters": {},
   "start_time": "2024-05-11T09:14:40.086142",
   "version": "2.5.0"
  }
 },
 "nbformat": 4,
 "nbformat_minor": 5
}
