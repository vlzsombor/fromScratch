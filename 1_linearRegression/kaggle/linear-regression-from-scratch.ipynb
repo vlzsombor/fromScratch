{
 "cells": [
  {
   "cell_type": "markdown",
   "id": "adb6a832",
   "metadata": {
    "papermill": {
     "duration": 0.007659,
     "end_time": "2023-09-29T06:12:55.783781",
     "exception": false,
     "start_time": "2023-09-29T06:12:55.776122",
     "status": "completed"
    },
    "tags": []
   },
   "source": [
    "\n",
    "<div style=\"padding:10px; \n",
    "            color:black;\n",
    "            margin:10px;\n",
    "            font-size:150%;\n",
    "            display:block;\n",
    "            border-radius:1px;\n",
    "            border-style: solid;\n",
    "            border-color:skyblue;\n",
    "            background-color:#00EFFF;\n",
    "            overflow:hidden;\">\n",
    "    <center>\n",
    "        <a id='top'></a>\n",
    "        <b style=\"color:black\">Table of Contents</b>\n",
    "    </center>\n",
    "    <ul>\n",
    "        <li>\n",
    "            <a href=\"#1\" style=\"color:black\">1 -  Overview</a>\n",
    "        </li>\n",
    "        <li>\n",
    "            <a href=\"#2\" style=\"color:black\">2 -  Imports</a>\n",
    "        </li>\n",
    "        <li>\n",
    "            <a href=\"#3\" style=\"color:black\">3 - Data Loading and Analysis</a>\n",
    "        </li>\n",
    "         <li>\n",
    "            <a href=\"#4\" style=\"color:black\">4 - Data Preprocessing</a>\n",
    "        </li>\n",
    "            <li>\n",
    "            <a href=\"#5\" style=\"color:black\">5 - Model Implementation </a>\n",
    "        </li>\n",
    "        <li>\n",
    "            <a href=\"#6\" style=\"color:black\">6 - Evaluation</a>\n",
    "        </li>\n",
    "        <li>\n",
    "            <a href=\"#7\" style=\"color:black\">7 - Thank you</a>\n",
    "        </li>\n",
    "    </ul>\n",
    "</div>\n",
    "\n",
    "\n",
    "<a id=\"1\"></a>\n",
    "<h1 style='background:#00EFFF;border:0; color:black;\n",
    "    box-shadow: 10px 10px 5px 0px rgba(0,0,0,0.75);\n",
    "    transform: rotateX(10deg);\n",
    "    '><center style='color: #000000;'>Overview</center></h1>\n",
    "\n",
    "\n",
    "# Overview\n",
    "\n",
    "## Implementing Machine and Deep Learning Algorithms from Scratch\n",
    "\n",
    "**In this series of notebooks, we'll be implementing Machine and Deep Learning algorithms from scratch. We will strive to avoid using for loops and instead utilize [Vectorized Implementations](https://www.kaggle.com/code/fareselmenshawii/vectorization).**\n",
    "\n",
    "**We will primarily rely on the following libraries:**\n",
    "- **NumPy for Linear Algebra**\n",
    "- **Pandas for Data Analysis**\n",
    "- **Plotly for visualization**\n",
    "\n",
    "**The first learning algorithm we'll explore is Linear Regression.**\n",
    "**Let's get started!**"
   ]
  },
  {
   "cell_type": "markdown",
   "id": "c13340cc",
   "metadata": {},
   "source": []
  },
  {
   "cell_type": "markdown",
   "id": "86e250f4",
   "metadata": {
    "papermill": {
     "duration": 0.005711,
     "end_time": "2023-09-29T06:12:55.795998",
     "exception": false,
     "start_time": "2023-09-29T06:12:55.790287",
     "status": "completed"
    },
    "tags": []
   },
   "source": [
    "<a id=\"2\"></a>\n",
    "<h1 style='background:#00EFFF;border:0; color:black;\n",
    "    box-shadow: 10px 10px 5px 0px rgba(0,0,0,0.75);\n",
    "    transform: rotateX(10deg);\n",
    "    '><center style='color: #000000;'>Imports</center></h1>\n",
    "\n",
    "# Imports"
   ]
  },
  {
   "cell_type": "code",
   "execution_count": null,
   "id": "bcbbc819",
   "metadata": {
    "execution": {
     "iopub.execute_input": "2023-09-29T06:12:55.812120Z",
     "iopub.status.busy": "2023-09-29T06:12:55.811398Z",
     "iopub.status.idle": "2023-09-29T06:12:57.521132Z",
     "shell.execute_reply": "2023-09-29T06:12:57.519314Z"
    },
    "papermill": {
     "duration": 1.721101,
     "end_time": "2023-09-29T06:12:57.524612",
     "exception": false,
     "start_time": "2023-09-29T06:12:55.803511",
     "status": "completed"
    },
    "tags": []
   },
   "outputs": [],
   "source": [
    "import math\n",
    "import numpy as np\n",
    "import pandas as pd\n",
    "import plotly.express as px\n",
    "import pickle"
   ]
  },
  {
   "cell_type": "code",
   "execution_count": null,
   "id": "2b8672aa",
   "metadata": {},
   "outputs": [],
   "source": [
    "print(\"hello\")"
   ]
  },
  {
   "cell_type": "markdown",
   "id": "2b0656d4",
   "metadata": {
    "papermill": {
     "duration": 0.006087,
     "end_time": "2023-09-29T06:12:57.536728",
     "exception": false,
     "start_time": "2023-09-29T06:12:57.530641",
     "status": "completed"
    },
    "tags": []
   },
   "source": [
    "<a id=\"3\"></a>\n",
    "<h1 style='background:#00EFFF;border:0; color:black;\n",
    "    box-shadow: 10px 10px 5px 0px rgba(0,0,0,0.75);\n",
    "    transform: rotateX(10deg);\n",
    "    '><center style='color: #000000;'>Data Loading and Analysis</center></h1>\n",
    "\n",
    "# Data Loading and Analysis"
   ]
  },
  {
   "cell_type": "code",
   "execution_count": null,
   "id": "9f3d23f5",
   "metadata": {
    "execution": {
     "iopub.execute_input": "2023-09-29T06:12:57.550996Z",
     "iopub.status.busy": "2023-09-29T06:12:57.550168Z",
     "iopub.status.idle": "2023-09-29T06:12:57.590638Z",
     "shell.execute_reply": "2023-09-29T06:12:57.589180Z"
    },
    "papermill": {
     "duration": 0.050847,
     "end_time": "2023-09-29T06:12:57.593600",
     "exception": false,
     "start_time": "2023-09-29T06:12:57.542753",
     "status": "completed"
    },
    "tags": []
   },
   "outputs": [],
   "source": [
    "# Load the training and test datasets\n",
    "train_data = pd.read_csv('train.csv')\n",
    "test_data = pd.read_csv('test.csv')\n",
    "\n",
    "# Remove rows with missing values\n",
    "train_data = train_data.dropna()\n",
    "test_data = test_data.dropna()"
   ]
  },
  {
   "cell_type": "code",
   "execution_count": null,
   "id": "65214d47",
   "metadata": {
    "execution": {
     "iopub.execute_input": "2023-09-29T06:12:57.608529Z",
     "iopub.status.busy": "2023-09-29T06:12:57.607643Z",
     "iopub.status.idle": "2023-09-29T06:12:57.627558Z",
     "shell.execute_reply": "2023-09-29T06:12:57.626223Z"
    },
    "papermill": {
     "duration": 0.031853,
     "end_time": "2023-09-29T06:12:57.631372",
     "exception": false,
     "start_time": "2023-09-29T06:12:57.599519",
     "status": "completed"
    },
    "tags": []
   },
   "outputs": [],
   "source": [
    "train_data.head()"
   ]
  },
  {
   "cell_type": "code",
   "execution_count": null,
   "id": "4a164650",
   "metadata": {
    "execution": {
     "iopub.execute_input": "2023-09-29T06:12:57.647812Z",
     "iopub.status.busy": "2023-09-29T06:12:57.646947Z",
     "iopub.status.idle": "2023-09-29T06:12:58.928388Z",
     "shell.execute_reply": "2023-09-29T06:12:58.927399Z"
    },
    "papermill": {
     "duration": 1.293896,
     "end_time": "2023-09-29T06:12:58.931187",
     "exception": false,
     "start_time": "2023-09-29T06:12:57.637291",
     "status": "completed"
    },
    "tags": []
   },
   "outputs": [],
   "source": [
    "px.scatter(x=train_data['x'], y=train_data['y'],template='seaborn')"
   ]
  },
  {
   "cell_type": "markdown",
   "id": "f4c04370",
   "metadata": {
    "papermill": {
     "duration": 0.006158,
     "end_time": "2023-09-29T06:12:58.944342",
     "exception": false,
     "start_time": "2023-09-29T06:12:58.938184",
     "status": "completed"
    },
    "tags": []
   },
   "source": [
    "**The data appears to be well-suited for a Linear model, such as LinearRegression.**"
   ]
  },
  {
   "cell_type": "markdown",
   "id": "89b767a9",
   "metadata": {
    "papermill": {
     "duration": 0.005931,
     "end_time": "2023-09-29T06:12:58.956711",
     "exception": false,
     "start_time": "2023-09-29T06:12:58.950780",
     "status": "completed"
    },
    "tags": []
   },
   "source": [
    "<a id=\"4\"></a>\n",
    "<h1 style='background:#00EFFF;border:0; color:black;\n",
    "    box-shadow: 10px 10px 5px 0px rgba(0,0,0,0.75);\n",
    "    transform: rotateX(10deg);\n",
    "    '><center style='color: #000000;'>Data Preprocessing</center></h1>\n",
    "\n",
    "# Data Preprocessing"
   ]
  },
  {
   "cell_type": "code",
   "execution_count": null,
   "id": "5cfe1509",
   "metadata": {
    "execution": {
     "iopub.execute_input": "2023-09-29T06:12:58.971889Z",
     "iopub.status.busy": "2023-09-29T06:12:58.971394Z",
     "iopub.status.idle": "2023-09-29T06:12:58.977633Z",
     "shell.execute_reply": "2023-09-29T06:12:58.976503Z"
    },
    "papermill": {
     "duration": 0.016752,
     "end_time": "2023-09-29T06:12:58.979968",
     "exception": false,
     "start_time": "2023-09-29T06:12:58.963216",
     "status": "completed"
    },
    "tags": []
   },
   "outputs": [],
   "source": [
    "# Set training data and target\n",
    "X_train = train_data['x'].values\n",
    "y_train = train_data['y'].values\n",
    "\n",
    "# Set testing data and target\n",
    "X_test = test_data['x'].values\n",
    "y_test = test_data['y'].values"
   ]
  },
  {
   "cell_type": "markdown",
   "id": "a9a0e356",
   "metadata": {
    "papermill": {
     "duration": 0.007414,
     "end_time": "2023-09-29T06:12:58.993854",
     "exception": false,
     "start_time": "2023-09-29T06:12:58.986440",
     "status": "completed"
    },
    "tags": []
   },
   "source": [
    "## Standardize the data\n",
    "\n",
    "Standardization is a preprocessing technique used in machine learning to rescale and transform the features (variables) of a dataset to have a mean of 0 and a standard deviation of 1. It is also known as \"z-score normalization\" or \"z-score scaling.\" Standardization is an essential step in the data preprocessing pipeline for various reasons:\n",
    "\n",
    "### Why Use Standardization in Machine Learning?\n",
    "\n",
    "1. **Mean Centering**: Standardization centers the data by subtracting the mean from each feature. This ensures that the transformed data has a mean of 0. Mean centering is crucial because it helps in capturing the relative variations in the data.\n",
    "\n",
    "2. **Scale Invariance**: Standardization scales the data by dividing each feature by its standard deviation. This makes the data scale-invariant, meaning that the scale of the features no longer affects the performance of many machine learning algorithms. Without standardization, features with larger scales may dominate the learning process.\n",
    "\n",
    "3. **Improved Convergence**: Many machine learning algorithms, such as gradient-based optimization algorithms (e.g., gradient descent), converge faster when the features are standardized. It reduces the potential for numerical instability and overflow/underflow issues during training.\n",
    "\n",
    "4. **Comparability**: Standardizing the features makes it easier to compare and interpret the importance of each feature. This is especially important in models like linear regression, where the coefficients represent the feature's impact on the target variable.\n",
    "\n",
    "5. **Regularization**: In regularization techniques like Ridge and Lasso regression, the regularization strength is applied uniformly to all features. Standardization ensures that the regularization term applies fairly to all features.\n",
    "\n",
    "### How to Standardize Data\n",
    "\n",
    "The standardization process involves the following steps:\n",
    "\n",
    "1. Calculate the mean ($\\mu$) and standard deviation ($\\sigma$) for each feature in the dataset.\n",
    "2. For each data point (sample), subtract the mean ($\\mu$) of the feature and then divide by the standard deviation ($\\sigma$) of the feature.\n",
    "\n",
    "Mathematically, the standardized value for a feature `x` in a dataset is calculated as:\n",
    "\n",
    "$$\n",
    "\\text{Standardized value} = \\frac{x - \\mu}{\\sigma}\n",
    "$$\n",
    "\n",
    "Here, `x` is the original value of the feature, $\\mu$ is the mean of the feature, and $\\sigma$ is the standard deviation of the feature.\n"
   ]
  },
  {
   "cell_type": "code",
   "execution_count": null,
   "id": "65d33064",
   "metadata": {
    "execution": {
     "iopub.execute_input": "2023-09-29T06:12:59.009631Z",
     "iopub.status.busy": "2023-09-29T06:12:59.009141Z",
     "iopub.status.idle": "2023-09-29T06:12:59.016356Z",
     "shell.execute_reply": "2023-09-29T06:12:59.015379Z"
    },
    "papermill": {
     "duration": 0.01774,
     "end_time": "2023-09-29T06:12:59.018509",
     "exception": false,
     "start_time": "2023-09-29T06:12:59.000769",
     "status": "completed"
    },
    "tags": []
   },
   "outputs": [],
   "source": [
    "def standardize_data(X_train, X_test):\n",
    "    \"\"\"\n",
    "    Standardizes the input data using mean and standard deviation.\n",
    "\n",
    "    Parameters:\n",
    "        X_train (numpy.ndarray): Training data.\n",
    "        X_test (numpy.ndarray): Testing data.\n",
    "\n",
    "    Returns:\n",
    "        Tuple of standardized training and testing data.\n",
    "    \"\"\"\n",
    "    # Calculate the mean and standard deviation using the training data\n",
    "    mean = np.mean(X_train, axis=0)\n",
    "    std = np.std(X_train, axis=0)\n",
    "    \n",
    "    # Standardize the data\n",
    "    X_train = (X_train - mean) / std\n",
    "    X_test = (X_test - mean) / std\n",
    "    \n",
    "    return X_train, X_test\n",
    "\n",
    "X_train, X_test = standardize_data(X_train, X_test)"
   ]
  },
  {
   "cell_type": "markdown",
   "id": "dca5df04",
   "metadata": {
    "papermill": {
     "duration": 0.005857,
     "end_time": "2023-09-29T06:12:59.032384",
     "exception": false,
     "start_time": "2023-09-29T06:12:59.026527",
     "status": "completed"
    },
    "tags": []
   },
   "source": [
    "## Reshaping data for the correct shape for the model"
   ]
  },
  {
   "cell_type": "code",
   "execution_count": null,
   "id": "647e82d6",
   "metadata": {
    "execution": {
     "iopub.execute_input": "2023-09-29T06:12:59.047808Z",
     "iopub.status.busy": "2023-09-29T06:12:59.046985Z",
     "iopub.status.idle": "2023-09-29T06:12:59.052231Z",
     "shell.execute_reply": "2023-09-29T06:12:59.051335Z"
    },
    "papermill": {
     "duration": 0.015738,
     "end_time": "2023-09-29T06:12:59.054487",
     "exception": false,
     "start_time": "2023-09-29T06:12:59.038749",
     "status": "completed"
    },
    "tags": []
   },
   "outputs": [],
   "source": [
    "X_train = np.expand_dims(X_train, axis=-1)\n",
    "X_test = np.expand_dims(X_test, axis=-1)"
   ]
  },
  {
   "cell_type": "markdown",
   "id": "1d0601c0",
   "metadata": {
    "papermill": {
     "duration": 0.006182,
     "end_time": "2023-09-29T06:12:59.067302",
     "exception": false,
     "start_time": "2023-09-29T06:12:59.061120",
     "status": "completed"
    },
    "tags": []
   },
   "source": [
    "<a id=\"5\"></a>\n",
    "<h1 style='background:#00EFFF;border:0; color:black;\n",
    "    box-shadow: 10px 10px 5px 0px rgba(0,0,0,0.75);\n",
    "    transform: rotateX(10deg);\n",
    "    '><center style='color: #000000;'>Model Implementation</center></h1>\n",
    "\n",
    "# Model Implementation"
   ]
  },
  {
   "cell_type": "markdown",
   "id": "858b89ec",
   "metadata": {
    "papermill": {
     "duration": 0.006194,
     "end_time": "2023-09-29T06:12:59.079878",
     "exception": false,
     "start_time": "2023-09-29T06:12:59.073684",
     "status": "completed"
    },
    "tags": []
   },
   "source": [
    "# Linear Regression Model\n",
    "\n",
    "Linear regression is a fundamental model in machine learning used for predicting a continuous output variable based on input features. The model function for linear regression is represented as:\n",
    "\n",
    "$$f_{w,b}(x) = wx + b$$\n",
    "\n",
    "In this equation, $f_{w,b}(x)$ represents the predicted output, $w$ is the weight parameter, $b$ is the bias parameter, and $x$ is the input feature.\n",
    "\n",
    "## Model Training\n",
    "\n",
    "To train a linear regression model, we aim to find the best values for the parameters $(w, b)$ that best fit our dataset.\n",
    "\n",
    "### Forward Pass\n",
    "\n",
    "The forward pass is a step where we compute the linear regression output for the input data $X$ using the current weights and biases. It's essentially applying our model to the input data.\n",
    "\n",
    "### Cost Function\n",
    "\n",
    "The cost function is used to measure how well our model is performing. It quantifies the difference between the predicted values and the actual values in our dataset. The cost function is defined as:\n",
    "\n",
    "$$J(w,b) = \\frac{1}{2m} \\sum_{i=1}^{m}(f_{w,b}(x^{(i)}) - y^{(i)})^2$$\n",
    "\n",
    "Here, $J(w, b)$ is the cost, $m$ is the number of training examples, $x^{(i)}$ is the input data for the $i$-th example, $y^{(i)}$ is the actual output for the $i$-th example, and $w$ and $b$ are the weight and bias parameters, respectively.\n",
    "\n",
    "### Backward Pass (Gradient Computation)\n",
    "\n",
    "The backward pass computes the gradients of the cost function with respect to the weights and biases. These gradients are crucial for updating the model parameters during training. The gradient formulas are as follows:\n",
    "\n",
    "$$\n",
    "\\frac{\\partial J(w,b)}{\\partial b} = \\frac{1}{m} \\sum_{i=0}^{m-1} (f_{w,b}(X^{(i)}) - y^{(i)})\n",
    "$$\n",
    "\n",
    "$$\n",
    "\\frac{\\partial J(w,b)}{\\partial w} = \\frac{1}{m} \\sum_{i=0}^{m-1} (f_{w,b}(X^{(i)}) - y^{(i)})X^{(i)}\n",
    "$$\n",
    "\n",
    "## Training Process\n",
    "\n",
    "The training process involves iteratively updating the weights and biases to minimize the cost function. This is typically done through an optimization algorithm like gradient descent. The update equations for parameters are:\n",
    "\n",
    "$$w \\leftarrow w - \\alpha \\frac{\\partial J}{\\partial w}$$\n",
    "\n",
    "$$b \\leftarrow b - \\alpha \\frac{\\partial J}{\\partial b}$$\n",
    "\n",
    "Here, $\\alpha$ represents the learning rate, which controls the step size during parameter updates.\n",
    "\n",
    "By iteratively performing the forward pass, computing the cost, performing the backward pass, and updating the parameters, the model learns to make better predictions and fit the data.\n"
   ]
  },
  {
   "cell_type": "markdown",
   "id": "cb292d3c",
   "metadata": {},
   "source": []
  },
  {
   "cell_type": "code",
   "execution_count": null,
   "id": "bfc74ecb",
   "metadata": {
    "execution": {
     "iopub.execute_input": "2023-09-29T06:12:59.095795Z",
     "iopub.status.busy": "2023-09-29T06:12:59.094892Z",
     "iopub.status.idle": "2023-09-29T06:12:59.115882Z",
     "shell.execute_reply": "2023-09-29T06:12:59.114721Z"
    },
    "papermill": {
     "duration": 0.032422,
     "end_time": "2023-09-29T06:12:59.118771",
     "exception": false,
     "start_time": "2023-09-29T06:12:59.086349",
     "status": "completed"
    },
    "tags": []
   },
   "outputs": [],
   "source": [
    "class LinearRegression:\n",
    "    \"\"\"\n",
    "    Linear Regression Model with Gradient Descent\n",
    "\n",
    "    Linear regression is a supervised machine learning algorithm used for modeling the relationship\n",
    "    between a dependent variable (target) and one or more independent variables (features) by fitting\n",
    "    a linear equation to the observed data.\n",
    "\n",
    "    This class implements a linear regression model using gradient descent optimization for training.\n",
    "    It provides methods for model initialization, training, prediction, and model persistence.\n",
    "\n",
    "    Parameters:\n",
    "        learning_rate (float): The learning rate used in gradient descent.\n",
    "        convergence_tol (float, optional): The tolerance for convergence (stopping criterion). Defaults to 1e-6.\n",
    "\n",
    "    Attributes:\n",
    "        W (numpy.ndarray): Coefficients (weights) for the linear regression model.\n",
    "        b (float): Intercept (bias) for the linear regression model.\n",
    "\n",
    "    Methods:\n",
    "        initialize_parameters(n_features): Initialize model parameters.\n",
    "        forward(X): Compute the forward pass of the linear regression model.\n",
    "        compute_cost(predictions): Compute the mean squared error cost.\n",
    "        backward(predictions): Compute gradients for model parameters.\n",
    "        fit(X, y, iterations, plot_cost=True): Fit the linear regression model to training data.\n",
    "        predict(X): Predict target values for new input data.\n",
    "        save_model(filename=None): Save the trained model to a file using pickle.\n",
    "        load_model(filename): Load a trained model from a file using pickle.\n",
    "\n",
    "    Examples:\n",
    "        >>> from linear_regression import LinearRegression\n",
    "        >>> model = LinearRegression(learning_rate=0.01)\n",
    "        >>> model.fit(X_train, y_train, iterations=1000)\n",
    "        >>> predictions = model.predict(X_test)\n",
    "    \"\"\"\n",
    "\n",
    "    def __init__(self, learning_rate, convergence_tol=1e-6):\n",
    "        self.learning_rate = learning_rate\n",
    "        self.convergence_tol = convergence_tol\n",
    "        self.W = None\n",
    "        self.b = None\n",
    "\n",
    "    def initialize_parameters(self, n_features):\n",
    "        \"\"\"\n",
    "        Initialize model parameters.\n",
    "\n",
    "        Parameters:\n",
    "            n_features (int): The number of features in the input data.\n",
    "        \"\"\"\n",
    "        self.W = np.random.randn(n_features) * 0.01\n",
    "        self.b = 0\n",
    "\n",
    "    def forward(self, X):\n",
    "        \"\"\"\n",
    "        Compute the forward pass of the linear regression model.\n",
    "\n",
    "        Parameters:\n",
    "            X (numpy.ndarray): Input data of shape (m, n_features).\n",
    "\n",
    "        Returns:\n",
    "            numpy.ndarray: Predictions of shape (m,).\n",
    "        \"\"\"\n",
    "        return np.dot(X, self.W) + self.b\n",
    "\n",
    "    def compute_cost(self, predictions):\n",
    "        \"\"\"\n",
    "        Compute the mean squared error cost.\n",
    "\n",
    "        Parameters:\n",
    "            predictions (numpy.ndarray): Predictions of shape (m,).\n",
    "\n",
    "        Returns:\n",
    "            float: Mean squared error cost.\n",
    "        \"\"\"\n",
    "        m = len(predictions)\n",
    "        cost = np.sum(np.square(predictions - self.y)) / (2 * m)\n",
    "        return cost\n",
    "\n",
    "    def backward(self, predictions):\n",
    "        \"\"\"\n",
    "        Compute gradients for model parameters.\n",
    "\n",
    "        Parameters:\n",
    "            predictions (numpy.ndarray): Predictions of shape (m,).\n",
    "\n",
    "        Updates:\n",
    "            numpy.ndarray: Gradient of W.\n",
    "            float: Gradient of b.\n",
    "        \"\"\"\n",
    "        m = len(predictions)\n",
    "        self.dW = np.dot(predictions - self.y, self.X) / m\n",
    "        self.db = np.sum(predictions - self.y) / m\n",
    "\n",
    "    def fit(self, X, y, iterations, plot_cost=True):\n",
    "        \"\"\"\n",
    "        Fit the linear regression model to the training data.\n",
    "\n",
    "        Parameters:\n",
    "            X (numpy.ndarray): Training input data of shape (m, n_features).\n",
    "            y (numpy.ndarray): Training labels of shape (m,).\n",
    "            iterations (int): The number of iterations for gradient descent.\n",
    "            plot_cost (bool, optional): Whether to plot the cost during training. Defaults to True.\n",
    "\n",
    "        Raises:\n",
    "            AssertionError: If input data and labels are not NumPy arrays or have mismatched shapes.\n",
    "\n",
    "        Plots:\n",
    "            Plotly line chart showing cost vs. iteration (if plot_cost is True).\n",
    "        \"\"\"\n",
    "        assert isinstance(X, np.ndarray), \"X must be a NumPy array\"\n",
    "        assert isinstance(y, np.ndarray), \"y must be a NumPy array\"\n",
    "        assert X.shape[0] == y.shape[0], \"X and y must have the same number of samples\"\n",
    "        assert iterations > 0, \"Iterations must be greater than 0\"\n",
    "\n",
    "        self.X = X\n",
    "        self.y = y\n",
    "        self.initialize_parameters(X.shape[1])\n",
    "        costs = []\n",
    "\n",
    "        for i in range(iterations):\n",
    "            predictions = self.forward(X)\n",
    "            cost = self.compute_cost(predictions)\n",
    "            self.backward(predictions)\n",
    "            self.W -= self.learning_rate * self.dW\n",
    "            self.b -= self.learning_rate * self.db\n",
    "            costs.append(cost)\n",
    "\n",
    "            if i % 100 == 0:\n",
    "                print(f'Iteration: {i}, Cost: {cost}')\n",
    "\n",
    "            if i > 0 and abs(costs[-1] - costs[-2]) < self.convergence_tol:\n",
    "                print(f'Converged after {i} iterations.')\n",
    "                break\n",
    "\n",
    "        if plot_cost:\n",
    "            fig = px.line(y=costs, title=\"Cost vs Iteration\", template=\"plotly_dark\")\n",
    "            fig.update_layout(\n",
    "                title_font_color=\"#41BEE9\",\n",
    "                xaxis=dict(color=\"#41BEE9\", title=\"Iterations\"),\n",
    "                yaxis=dict(color=\"#41BEE9\", title=\"Cost\")\n",
    "            )\n",
    "\n",
    "            fig.show()\n",
    "\n",
    "    def predict(self, X):\n",
    "        \"\"\"\n",
    "        Predict target values for new input data.\n",
    "\n",
    "        Parameters:\n",
    "            X (numpy.ndarray): Input data of shape (m, n_features).\n",
    "\n",
    "        Returns:\n",
    "            numpy.ndarray: Predicted target values of shape (m,).\n",
    "        \"\"\"\n",
    "        return self.forward(X)\n",
    "    \n",
    "\n",
    "    def save_model(self, filename=None):\n",
    "        \"\"\"\n",
    "        Save the trained model to a file using pickle.\n",
    "\n",
    "        Parameters:\n",
    "            filename (str): The name of the file to save the model to.\n",
    "        \"\"\"\n",
    "        model_data = {\n",
    "            'learning_rate': self.learning_rate,\n",
    "            'convergence_tol': self.convergence_tol,\n",
    "            'W': self.W,\n",
    "            'b': self.b\n",
    "        }\n",
    "\n",
    "        with open(filename, 'wb') as file:\n",
    "            pickle.dump(model_data, file)\n",
    "\n",
    "    @classmethod\n",
    "    def load_model(cls, filename):\n",
    "        \"\"\"\n",
    "        Load a trained model from a file using pickle.\n",
    "\n",
    "        Parameters:\n",
    "            filename (str): The name of the file to load the model from.\n",
    "\n",
    "        Returns:\n",
    "            LinearRegression: An instance of the LinearRegression class with loaded parameters.\n",
    "        \"\"\"\n",
    "        with open(filename, 'rb') as file:\n",
    "            model_data = pickle.load(file)\n",
    "\n",
    "        # Create a new instance of the class and initialize it with the loaded parameters\n",
    "        loaded_model = cls(model_data['learning_rate'], model_data['convergence_tol'])\n",
    "        loaded_model.W = model_data['W']\n",
    "        loaded_model.b = model_data['b']\n",
    "\n",
    "        return loaded_model"
   ]
  },
  {
   "cell_type": "code",
   "execution_count": null,
   "id": "83a805ba",
   "metadata": {
    "execution": {
     "iopub.execute_input": "2023-09-29T06:12:59.135445Z",
     "iopub.status.busy": "2023-09-29T06:12:59.134598Z",
     "iopub.status.idle": "2023-09-29T06:12:59.284274Z",
     "shell.execute_reply": "2023-09-29T06:12:59.282674Z"
    },
    "papermill": {
     "duration": 0.161243,
     "end_time": "2023-09-29T06:12:59.287070",
     "exception": false,
     "start_time": "2023-09-29T06:12:59.125827",
     "status": "completed"
    },
    "tags": []
   },
   "outputs": [],
   "source": [
    "lr = LinearRegression(0.01)\n",
    "lr.fit(X_train, y_train, 10000)"
   ]
  },
  {
   "cell_type": "code",
   "execution_count": null,
   "id": "9ce1a38e",
   "metadata": {},
   "outputs": [],
   "source": [
    "# testX = np.array([[1,2]])\n",
    "# testY = np.array([2,3])\n",
    "\n",
    "\n",
    "\n",
    "\n",
    "# from sklearn.linear_model import SGDRegressor\n",
    "# import matplotlib.pyplot as plt \n",
    "\n",
    "# # Create and fit the model using Gradient Descent\n",
    "# sgd_model = SGDRegressor(max_iter=1000, tol=1e-3)\n",
    "# sgd_model.fit(testX, testY)  # y needs to be flattened\n",
    "\n",
    "# # Make predictions\n",
    "# y_sgd_pred = sgd_model.predict(testX)\n",
    "\n",
    "# # Visualize the result\n",
    "# plt.scatter(testX, testY, color='blue', label='Data points')\n",
    "# plt.plot(testX, y_sgd_pred, color='green', label='GD Fit')\n",
    "# plt.xlabel('X')\n",
    "# plt.ylabel('y')\n",
    "# plt.legend()\n",
    "# plt.show()\n",
    "\n",
    "# # Print out the coefficients\n",
    "# print(f'Intercept: {sgd_model.intercept_}')\n",
    "# print(f'Coefficient: {sgd_model.coef_}')\n"
   ]
  },
  {
   "cell_type": "code",
   "execution_count": null,
   "id": "ae4fe913",
   "metadata": {},
   "outputs": [],
   "source": [
    "import numpy as np\n",
    "import matplotlib.pyplot as plt\n",
    "from sklearn.datasets import fetch_california_housing\n",
    "from sklearn.linear_model import SGDRegressor\n",
    "from sklearn.model_selection import train_test_split\n",
    "from sklearn.preprocessing import StandardScaler\n",
    "from sklearn.metrics import mean_squared_error\n",
    "california = fetch_california_housing()\n",
    "X = california.data\n",
    "y = california.target"
   ]
  },
  {
   "cell_type": "code",
   "execution_count": null,
   "id": "11b81cb1",
   "metadata": {},
   "outputs": [],
   "source": [
    "california"
   ]
  },
  {
   "cell_type": "code",
   "execution_count": null,
   "id": "f59d0c49",
   "metadata": {},
   "outputs": [],
   "source": [
    "#######################\n",
    "\n",
    "def predict(x, w1, w0):\n",
    "    return w1 * x + w0\n",
    "def compute_coefficient(x, y):\n",
    "    n = len(x)\n",
    "    x_mean = np.mean(x)\n",
    "    y_mean = np.mean(y)\n",
    "\n",
    "    numerator = 0\n",
    "    denominator = 0\n",
    "\n",
    "    for i in range(n):\n",
    "        numerator += (x[i] - x_mean) * (y[i] - y_mean)\n",
    "        denominator += (x[i] - x_mean) ** 2\n",
    "\n",
    "    # Calculate coefficients\n",
    "    slope = numerator / denominator\n",
    "    intercept = y_mean - slope * x_mean\n",
    "\n",
    "    return slope, intercept\n",
    "\n",
    "\n",
    "w1, w0 = compute_coefficient(X_train, y_train)\n",
    "# display the value of predicted coefficients\n",
    "print(w1,w0)\n",
    "\n",
    "#####################"
   ]
  },
  {
   "cell_type": "code",
   "execution_count": null,
   "id": "d2df5e71",
   "metadata": {},
   "outputs": [],
   "source": [
    "y_train.size\n"
   ]
  },
  {
   "cell_type": "code",
   "execution_count": null,
   "id": "8bd264dc",
   "metadata": {
    "execution": {
     "iopub.execute_input": "2023-09-29T06:12:59.304828Z",
     "iopub.status.busy": "2023-09-29T06:12:59.303139Z",
     "iopub.status.idle": "2023-09-29T06:12:59.310404Z",
     "shell.execute_reply": "2023-09-29T06:12:59.309078Z"
    },
    "papermill": {
     "duration": 0.018791,
     "end_time": "2023-09-29T06:12:59.313354",
     "exception": false,
     "start_time": "2023-09-29T06:12:59.294563",
     "status": "completed"
    },
    "tags": []
   },
   "outputs": [],
   "source": [
    "lr.save_model('model.pkl')"
   ]
  },
  {
   "cell_type": "markdown",
   "id": "9e882061",
   "metadata": {
    "papermill": {
     "duration": 0.006781,
     "end_time": "2023-09-29T06:12:59.327962",
     "exception": false,
     "start_time": "2023-09-29T06:12:59.321181",
     "status": "completed"
    },
    "tags": []
   },
   "source": [
    "<a id=\"6\"></a>\n",
    "<h1 style='background:#00EFFF;border:0; color:black;\n",
    "    box-shadow: 10px 10px 5px 0px rgba(0,0,0,0.75);\n",
    "    transform: rotateX(10deg);\n",
    "    '><center style='color: #000000;'>Evaluation</center></h1>\n",
    "    \n",
    "    \n",
    "    \n",
    "# Evaluation\n",
    "\n"
   ]
  },
  {
   "cell_type": "code",
   "execution_count": null,
   "id": "5a8adb5b",
   "metadata": {
    "execution": {
     "iopub.execute_input": "2023-09-29T06:12:59.344846Z",
     "iopub.status.busy": "2023-09-29T06:12:59.344365Z",
     "iopub.status.idle": "2023-09-29T06:12:59.349982Z",
     "shell.execute_reply": "2023-09-29T06:12:59.348818Z"
    },
    "papermill": {
     "duration": 0.017301,
     "end_time": "2023-09-29T06:12:59.352514",
     "exception": false,
     "start_time": "2023-09-29T06:12:59.335213",
     "status": "completed"
    },
    "tags": []
   },
   "outputs": [],
   "source": [
    "model = LinearRegression.load_model(\"model.pkl\")"
   ]
  },
  {
   "cell_type": "code",
   "execution_count": null,
   "id": "c79e7a43",
   "metadata": {},
   "outputs": [],
   "source": [
    "print(model.W)\n",
    "print(model.b)"
   ]
  },
  {
   "cell_type": "markdown",
   "id": "df37a304",
   "metadata": {
    "papermill": {
     "duration": 0.006837,
     "end_time": "2023-09-29T06:12:59.366482",
     "exception": false,
     "start_time": "2023-09-29T06:12:59.359645",
     "status": "completed"
    },
    "tags": []
   },
   "source": [
    "### 1. Mean Squared Error (MSE)\n",
    "\n",
    "**Formula:**\n",
    "$$\n",
    "\\text{MSE} = \\frac{1}{n} \\sum_{i=1}^{n} (y_{\\text{true}_i} - y_{\\text{pred}_i})^2\n",
    "$$\n",
    "\n",
    "**Description:**\n",
    "- **Mean Squared Error (MSE)** is a widely used metric for evaluating the accuracy of regression models.\n",
    "- It measures the average squared difference between the predicted values ($y_{\\text{pred}}$) and the actual target values ($y_{\\text{true}}$).\n",
    "- The squared differences are averaged across all data points in the dataset.\n",
    "\n",
    "**Interpretation:**\n",
    "- A lower MSE indicates a better fit of the model to the data, as it means the model's predictions are closer to the actual values.\n",
    "- MSE is sensitive to outliers because the squared differences magnify the impact of large errors.\n",
    "\n",
    "### 2. Root Mean Squared Error (RMSE)\n",
    "\n",
    "**Formula:**\n",
    "$$\n",
    "\\text{RMSE} = \\sqrt{\\text{MSE}}\n",
    "$$\n",
    "\n",
    "**Description:**\n",
    "- **Root Mean Squared Error (RMSE)** is a variant of MSE that provides the square root of the average squared difference between predicted and actual values.\n",
    "- It is often preferred because it is in the same unit as the target variable, making it more interpretable.\n",
    "\n",
    "**Interpretation:**\n",
    "- Like MSE, a lower RMSE indicates a better fit of the model to the data.\n",
    "- RMSE is also sensitive to outliers due to the square root operation.\n",
    "\n",
    "### 3. R-squared ($R^2$)\n",
    "\n",
    "**Formula:**\n",
    "$$\n",
    "R^2 = 1 - \\frac{\\text{SSR}}{\\text{SST}}\n",
    "$$\n",
    "\n",
    "**Description:**\n",
    "- **R-squared ($R^2$)**, also known as the coefficient of determination, measures the proportion of the variance in the dependent variable ($y_{\\text{true}}$) that is predictable from the independent variable(s) ($y_{\\text{pred}}$) in a regression model.\n",
    "- It ranges from 0 to 1, where 0 indicates that the model does not explain any variance, and 1 indicates a perfect fit.\n",
    "\n",
    "**Interpretation:**\n",
    "- A higher $R^2$ value suggests that the model explains a larger proportion of the variance in the target variable.\n",
    "- However, $R^2$ does not provide information about the goodness of individual predictions or whether the model is overfitting or underfitting.\n"
   ]
  },
  {
   "cell_type": "code",
   "execution_count": null,
   "id": "c3f678e6",
   "metadata": {
    "execution": {
     "iopub.execute_input": "2023-09-29T06:12:59.383865Z",
     "iopub.status.busy": "2023-09-29T06:12:59.383391Z",
     "iopub.status.idle": "2023-09-29T06:12:59.393023Z",
     "shell.execute_reply": "2023-09-29T06:12:59.391558Z"
    },
    "papermill": {
     "duration": 0.021248,
     "end_time": "2023-09-29T06:12:59.395535",
     "exception": false,
     "start_time": "2023-09-29T06:12:59.374287",
     "status": "completed"
    },
    "tags": []
   },
   "outputs": [],
   "source": [
    "class RegressionMetrics:\n",
    "    @staticmethod\n",
    "    def mean_squared_error(y_true, y_pred):\n",
    "        \"\"\"\n",
    "        Calculate the Mean Squared Error (MSE).\n",
    "\n",
    "        Args:\n",
    "            y_true (numpy.ndarray): The true target values.\n",
    "            y_pred (numpy.ndarray): The predicted target values.\n",
    "\n",
    "        Returns:\n",
    "            float: The Mean Squared Error.\n",
    "        \"\"\"\n",
    "        assert len(y_true) == len(y_pred), \"Input arrays must have the same length.\"\n",
    "        mse = np.mean((y_true - y_pred) ** 2)\n",
    "        return mse\n",
    "    @staticmethod\n",
    "    def root_mean_squared_error(y_true, y_pred):\n",
    "        \"\"\"\n",
    "        Calculate the Root Mean Squared Error (RMSE).\n",
    "\n",
    "        Args:\n",
    "            y_true (numpy.ndarray): The true target values.\n",
    "            y_pred (numpy.ndarray): The predicted target values.\n",
    "\n",
    "        Returns:\n",
    "            float: The Root Mean Squared Error.\n",
    "        \"\"\"\n",
    "        assert len(y_true) == len(y_pred), \"Input arrays must have the same length.\"\n",
    "        mse = RegressionMetrics.mean_squared_error(y_true, y_pred)\n",
    "        rmse = np.sqrt(mse)\n",
    "        return rmse\n",
    "\n",
    "    @staticmethod\n",
    "    def r_squared(y_true, y_pred):\n",
    "        \"\"\"\n",
    "        Calculate the R-squared (R^2) coefficient of determination.\n",
    "\n",
    "        Args:\n",
    "            y_true (numpy.ndarray): The true target values.\n",
    "            y_pred (numpy.ndarray): The predicted target values.\n",
    "\n",
    "        Returns:\n",
    "            float: The R-squared (R^2) value.\n",
    "        \"\"\"\n",
    "        assert len(y_true) == len(y_pred), \"Input arrays must have the same length.\"\n",
    "        mean_y = np.mean(y_true)\n",
    "        ss_total = np.sum((y_true - mean_y) ** 2)\n",
    "        ss_residual = np.sum((y_true - y_pred) ** 2)\n",
    "        r2 = 1 - (ss_residual / ss_total)\n",
    "        return r2\n"
   ]
  },
  {
   "cell_type": "code",
   "execution_count": null,
   "id": "a607083c",
   "metadata": {
    "execution": {
     "iopub.execute_input": "2023-09-29T06:12:59.411638Z",
     "iopub.status.busy": "2023-09-29T06:12:59.411089Z",
     "iopub.status.idle": "2023-09-29T06:12:59.419589Z",
     "shell.execute_reply": "2023-09-29T06:12:59.417959Z"
    },
    "papermill": {
     "duration": 0.020038,
     "end_time": "2023-09-29T06:12:59.422700",
     "exception": false,
     "start_time": "2023-09-29T06:12:59.402662",
     "status": "completed"
    },
    "tags": []
   },
   "outputs": [],
   "source": [
    "y_pred = model.predict(X_test)\n",
    "mse_value = RegressionMetrics.mean_squared_error(y_test, y_pred)\n",
    "rmse_value = RegressionMetrics.root_mean_squared_error(y_test, y_pred)\n",
    "r_squared_value = RegressionMetrics.r_squared(y_test, y_pred)\n",
    "\n",
    "print(f\"Mean Squared Error (MSE): {mse_value}\")\n",
    "print(f\"Root Mean Squared Error (RMSE): {rmse_value}\")\n",
    "print(f\"R-squared (Coefficient of Determination): {r_squared_value}\")"
   ]
  },
  {
   "cell_type": "markdown",
   "id": "c79a88ca",
   "metadata": {
    "papermill": {
     "duration": 0.006652,
     "end_time": "2023-09-29T06:12:59.436584",
     "exception": false,
     "start_time": "2023-09-29T06:12:59.429932",
     "status": "completed"
    },
    "tags": []
   },
   "source": [
    "<a id=\"7\"></a>\n",
    "<h1 style='background:#00EFFF;border:0; color:black;\n",
    "    box-shadow: 10px 10px 5px 0px rgba(0,0,0,0.75);\n",
    "    transform: rotateX(10deg);\n",
    "    '><center style='color: #000000;'>Thank You</center></h1>\n",
    "    \n",
    "    \n",
    "    \n",
    "\n",
    "# Thank You\n",
    "\n",
    "**Thank you for going through the notebook if you haev any feedback please let me know**\n",
    "\n",
    "**Now that we know how to implement Linear Regression from scratch let's check [sklearn implementation](https://www.kaggle.com/code/fareselmenshawii/linear-regression)**\n",
    "\n"
   ]
  },
  {
   "cell_type": "markdown",
   "id": "919d3fc0",
   "metadata": {
    "papermill": {
     "duration": 0.00672,
     "end_time": "2023-09-29T06:12:59.450369",
     "exception": false,
     "start_time": "2023-09-29T06:12:59.443649",
     "status": "completed"
    },
    "tags": []
   },
   "source": [
    "<div style=\"padding:10px; \n",
    "            color:#333333;\n",
    "            margin:10px;\n",
    "            font-size:150%;\n",
    "            display:fill;\n",
    "            border-radius:1px;\n",
    "            border-style:solid;\n",
    "            border-color:#666666;\n",
    "            background-color:#F9F9F9;\n",
    "            overflow:hidden;\">\n",
    "    <center>\n",
    "        <a id='top'></a>\n",
    "        <b>Machine Learning From Scratch Series</b>\n",
    "    </center>\n",
    "    <br>\n",
    "    <ul>\n",
    "        <li>\n",
    "            <a href=\"https://www.kaggle.com/code/fareselmenshawii/linear-regression-from-scratch\" style=\"color:#0072B2\">1 - Linear Regression</a>\n",
    "        </li>\n",
    "        <li>\n",
    "            <a href=\"https://www.kaggle.com/code/fareselmenshawii/logistic-regression-from-scratch\" style=\"color:#0072B2\">2 -  Logistic Regression</a>\n",
    "        </li>\n",
    "        <li>\n",
    "            <a href=\"https://www.kaggle.com/code/fareselmenshawii/kmeans-from-scratch\" style=\"color:#0072B2\">3 - KMeans</a>\n",
    "        </li>\n",
    "        <li>\n",
    "            <a href=\"https://www.kaggle.com/code/fareselmenshawii/decision-tree-classifier-from-scratch\" style=\"color:#0072B2\">4 - Decision Trees</a>\n",
    "        </li> \n",
    "        <li>\n",
    "            <a href=\"https://www.kaggle.com/code/fareselmenshawii/random-forest-classifier-from-scratch\" style=\"color:#0072B2\">5 -  Random Forest</a>\n",
    "        </li>\n",
    "        <li>\n",
    "            <a href=\"https://www.kaggle.com/code/fareselmenshawii/knn-from-scratch\" style=\"color:#0072B2\">6 - KNearestNeighbor</a>\n",
    "        </li>\n",
    "        <li>\n",
    "            <a href=\"https://www.kaggle.com/code/fareselmenshawii/pca-from-scratch?scriptVersionId=121402593\" style=\"color:#0072B2\">7 - PCA</a>\n",
    "        </li>\n",
    "        <li>\n",
    "            <a href=\"https://www.kaggle.com/code/fareselmenshawii/svm-from-scratch\" style=\"color:#0072B2\">8 - SVM</a>\n",
    "        </li>\n",
    "        <li>\n",
    "            <a href=\"https://www.kaggle.com/code/fareselmenshawii/naive-bayes-from-scratch\" style=\"color:#0072B2\">9 - Naive Baye</a>\n",
    "        </li>\n",
    "        <li>\n",
    "            <a href=\"https://www.kaggle.com/code/fareselmenshawii/optimized-neural-network-from-scratch\" style=\"color:#0072B2\">10 - Optimized Neural Network</a>\n",
    "        </li>\n",
    "        <li>\n",
    "            <a href=\"https://www.kaggle.com/code/fareselmenshawii/neural-network-from-scratch\" style=\"color:#0072B2\">11 - Neural Network</a>\n",
    "        </li>\n",
    "        <li>\n",
    "            <a href=\"https://www.kaggle.com/code/fareselmenshawii/cnn-from-scratch\" style=\"color:#0072B2\">12 - CNN</a>\n",
    "        </li>\n",
    "        <li>\n",
    "            <a href=\"https://www.kaggle.com/code/fareselmenshawii/rnn-from-scratch\" style=\"color:#0072B2\">13 - RNN</a>\n",
    "        </li>\n",
    "        <li>\n",
    "            <a href=\"https://www.kaggle.com/code/fareselmenshawii/lstm-from-scratch\" style=\"color:#0072B2\">14 - LSTM</a>\n",
    "        </li>\n",
    "        <li>\n",
    "            <a href=\"https://www.kaggle.com/code/fareselmenshawii/gru-from-scratch\" style=\"color:#0072B2\">15 - GRU</a>\n",
    "        </li>\n",
    "    </ul>\n",
    "</div>"
   ]
  }
 ],
 "metadata": {
  "kernelspec": {
   "display_name": "base",
   "language": "python",
   "name": "python3"
  },
  "language_info": {
   "codemirror_mode": {
    "name": "ipython",
    "version": 3
   },
   "file_extension": ".py",
   "mimetype": "text/x-python",
   "name": "python",
   "nbconvert_exporter": "python",
   "pygments_lexer": "ipython3",
   "version": "3.12.7"
  },
  "papermill": {
   "default_parameters": {},
   "duration": 16.874252,
   "end_time": "2023-09-29T06:13:00.684184",
   "environment_variables": {},
   "exception": null,
   "input_path": "__notebook__.ipynb",
   "output_path": "__notebook__.ipynb",
   "parameters": {},
   "start_time": "2023-09-29T06:12:43.809932",
   "version": "2.3.4"
  }
 },
 "nbformat": 4,
 "nbformat_minor": 5
}
