{
 "cells": [
  {
   "cell_type": "code",
   "execution_count": 12,
   "metadata": {},
   "outputs": [],
   "source": [
    "import math\n",
    "import numpy as np\n",
    "import pandas as pd\n",
    "import matplotlib.pyplot as plt\n",
    "import seaborn as sns\n",
    "import plotly.express as px\n",
    "from sklearn.tree import DecisionTreeClassifier\n",
    "m = DecisionTreeClassifier()"
   ]
  },
  {
   "cell_type": "code",
   "execution_count": 13,
   "metadata": {},
   "outputs": [],
   "source": [
    "iris = pd.read_csv(\"../iris.csv\")\n",
    "iris.drop('Id', inplace=True,axis=1)"
   ]
  },
  {
   "cell_type": "code",
   "execution_count": 14,
   "metadata": {},
   "outputs": [],
   "source": [
    "def train_test_split(X, y, test_size):\n",
    "    np.random.seed(42)\n",
    "    n_samples = X.shape[0]\n",
    "    shuffled_index = np.random.permutation(np.arange(n_samples))\n",
    "\n",
    "    test_size = int(n_samples * test_size)\n",
    "\n",
    "    test_indices = shuffled_index[:test_size]\n",
    "    train_indices = shuffled_index[test_size:]\n",
    "\n",
    "    X_train, X_test = X[train_indices], X[test_indices]\n",
    "    y_train, y_test = y[train_indices], y[test_indices]\n",
    "\n",
    "    return X_train, X_test, y_train, y_test\n"
   ]
  },
  {
   "cell_type": "code",
   "execution_count": 15,
   "metadata": {},
   "outputs": [],
   "source": [
    "X = iris.iloc[:, :-1].values\n",
    "y = iris.iloc[:, -1].values.reshape(-1,1)\n",
    "X_train, X_test, y_train, y_test = train_test_split(X, y, test_size=.2)"
   ]
  },
  {
   "cell_type": "code",
   "execution_count": 16,
   "metadata": {},
   "outputs": [],
   "source": [
    "class RandomForest:\n",
    "    def __init__(self, n_trees=7, max_depth=7, min_samples=2):\n",
    "        self.n_trees = n_trees\n",
    "        self.max_depth = max_depth\n",
    "        self.min_samples = min_samples\n",
    "        self.trees = []\n",
    "    def fit(self, X,y):\n",
    "        self.trees = []\n",
    "        dataset = np.concatenate((X,y), axis = 1)\n",
    "        for _ in range(self.n_trees):\n",
    "            tree = DecisionTreeClassifier(max_depth=self.max_depth, min_samples_split=self.min_samples)\n",
    "            dataset_sample = self.bootstrap_samples(dataset)\n",
    "            # Get the X and y samples from the dataset sample.\n",
    "            X_sample, y_sample = dataset_sample[:, :-1], dataset_sample[:, -1]\n",
    "            # Fit the tree to the X and y samples.\n",
    "            tree.fit(X_sample, y_sample)\n",
    "            # Store the tree in the list of trees.\n",
    "            self.trees.append(tree)\n",
    "        return self\n",
    "\n",
    "    def bootstrap_samples(self, dataset):\n",
    "        n_samples = dataset.shape[0]\n",
    "        np.random.seed(1)\n",
    "        indices = np.random.choice(n_samples, n_samples, replace=True)\n",
    "        dataset_sample = dataset[indices]\n",
    "        return dataset_sample\n",
    "\n",
    "    def most_common_label(self, y):\n",
    "        y = list(y)\n",
    "        # get the highest present class in the array\n",
    "        most_occuring_value = max(y, key=y.count)\n",
    "        return most_occuring_value\n",
    "    \n",
    "    def predict(self, X):\n",
    "        \"\"\"\n",
    "        Predict class for X.\n",
    "\n",
    "        Parameters\n",
    "        ----------\n",
    "        X : array-like of shape (n_samples, n_features)\n",
    "            The input samples.\n",
    "\n",
    "        Returns\n",
    "        -------\n",
    "        majority_predictions : array-like of shape (n_samples,)\n",
    "            The predicted classes.\n",
    "        \"\"\"\n",
    "        # get prediction from each tree in the tree list on the test data\n",
    "        predictions = np.array([tree.predict(X) for tree in self.trees])\n",
    "        # get prediction for the same sample from all trees for each sample in the test data\n",
    "        preds = np.swapaxes(predictions, 0, 1)\n",
    "        #get the most voted value by the trees and store it in the final predictions array\n",
    "        majority_predictions = np.array([self.most_common_label(pred) for pred in preds])\n",
    "        return majority_predictions\n",
    "    "
   ]
  },
  {
   "cell_type": "code",
   "execution_count": 17,
   "metadata": {},
   "outputs": [],
   "source": [
    "def accuracy(y_true, y_pred):\n",
    "    \"\"\"\n",
    "    Computes the accuracy of a classification model.\n",
    "\n",
    "    Parameters:\n",
    "    y_true (numpy array): A numpy array of true labels for each data point.\n",
    "    y_pred (numpy array): A numpy array of predicted labels for each data point.\n",
    "\n",
    "    Returns:\n",
    "    float: The accuracy of the model, expressed as a percentage.\n",
    "    \"\"\"\n",
    "    y_true = y_true\n",
    "    total_samples = len(y_true)\n",
    "    correct_predictions = np.sum(y_true == y_pred)\n",
    "    return (correct_predictions / total_samples)"
   ]
  },
  {
   "cell_type": "code",
   "execution_count": 19,
   "metadata": {},
   "outputs": [
    {
     "data": {
      "text/plain": [
       "10.066666666666666"
      ]
     },
     "execution_count": 19,
     "metadata": {},
     "output_type": "execute_result"
    }
   ],
   "source": [
    "model = RandomForest(10,10,2)\n",
    "model.fit(X_train, y_train)\n",
    "\n",
    "predictions = model.predict(X_test) #evaluate the model on the test data\n",
    "accuracy(y_test, predictions)"
   ]
  }
 ],
 "metadata": {
  "kernelspec": {
   "display_name": "Python 3",
   "language": "python",
   "name": "python3"
  },
  "language_info": {
   "codemirror_mode": {
    "name": "ipython",
    "version": 3
   },
   "file_extension": ".py",
   "mimetype": "text/x-python",
   "name": "python",
   "nbconvert_exporter": "python",
   "pygments_lexer": "ipython3",
   "version": "3.11.11"
  }
 },
 "nbformat": 4,
 "nbformat_minor": 2
}
